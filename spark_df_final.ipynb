{
  "nbformat": 4,
  "nbformat_minor": 0,
  "metadata": {
    "colab": {
      "name": "spark_df_final.ipynb",
      "provenance": [],
      "authorship_tag": "ABX9TyPz7WIhN/MuhmYZhnM4vmkE",
      "include_colab_link": true
    },
    "kernelspec": {
      "name": "python3",
      "display_name": "Python 3"
    },
    "language_info": {
      "name": "python"
    }
  },
  "cells": [
    {
      "cell_type": "markdown",
      "metadata": {
        "id": "view-in-github",
        "colab_type": "text"
      },
      "source": [
        "<a href=\"https://colab.research.google.com/github/MarianaDuartee/ProjetoFinal/blob/main/spark_df_final.ipynb\" target=\"_parent\"><img src=\"https://colab.research.google.com/assets/colab-badge.svg\" alt=\"Open In Colab\"/></a>"
      ]
    },
    {
      "cell_type": "code",
      "metadata": {
        "id": "Kh189wIHhLIw"
      },
      "source": [
        "!pip install pyspark"
      ],
      "execution_count": null,
      "outputs": []
    },
    {
      "cell_type": "code",
      "metadata": {
        "id": "Yz3HJiIHhTIj"
      },
      "source": [
        "!pip install gcsfs"
      ],
      "execution_count": null,
      "outputs": []
    },
    {
      "cell_type": "code",
      "metadata": {
        "id": "5yuJBJZBhWxm"
      },
      "source": [
        "!pip install pandera"
      ],
      "execution_count": null,
      "outputs": []
    },
    {
      "cell_type": "code",
      "metadata": {
        "id": "cYpzY6J1h098"
      },
      "source": [
        "from pyspark.sql import SparkSession\n",
        "from pyspark.sql.types import *\n",
        "\n",
        "from google.cloud import storage\n",
        "from pyspark.sql.window import Window as W\n",
        "\n",
        "\n",
        "import pyspark\n",
        "import pyspark.sql.functions as F\n",
        "import pandas as pd\n",
        "import pandera as pa\n",
        "import os\n",
        "import gcsfs"
      ],
      "execution_count": null,
      "outputs": []
    },
    {
      "cell_type": "code",
      "metadata": {
        "colab": {
          "base_uri": "https://localhost:8080/",
          "height": 219
        },
        "id": "qBmNsseIh5jE",
        "outputId": "1d2dcdce-aaeb-4654-eae0-ce995197c2fd"
      },
      "source": [
        "spark = SparkSession.builder\\\n",
        ".master('local')\\\n",
        ".appName('Projeto_Final')\\\n",
        ".config('spark.ui.enable', 'true')\\\n",
        ".config('spark.ui.port', '4050')\\\n",
        ".getOrCreate()\n",
        "\n",
        "spark\n",
        "\n",
        "serviceaccount = '/content/soulcode-projeto-final-4b88bea6e07a.json'\n",
        "os.environ[\"GOOGLE_APPLICATION_CREDENTIALS\"] = serviceaccount\n",
        "\n",
        "spark"
      ],
      "execution_count": null,
      "outputs": [
        {
          "output_type": "execute_result",
          "data": {
            "text/html": [
              "\n",
              "            <div>\n",
              "                <p><b>SparkSession - in-memory</b></p>\n",
              "                \n",
              "        <div>\n",
              "            <p><b>SparkContext</b></p>\n",
              "\n",
              "            <p><a href=\"http://5559fea0777d:4050\">Spark UI</a></p>\n",
              "\n",
              "            <dl>\n",
              "              <dt>Version</dt>\n",
              "                <dd><code>v3.2.0</code></dd>\n",
              "              <dt>Master</dt>\n",
              "                <dd><code>local</code></dd>\n",
              "              <dt>AppName</dt>\n",
              "                <dd><code>Projeto_Final</code></dd>\n",
              "            </dl>\n",
              "        </div>\n",
              "        \n",
              "            </div>\n",
              "        "
            ],
            "text/plain": [
              "<pyspark.sql.session.SparkSession at 0x7f494b93fa10>"
            ]
          },
          "metadata": {},
          "execution_count": 3
        }
      ]
    },
    {
      "cell_type": "code",
      "metadata": {
        "colab": {
          "base_uri": "https://localhost:8080/"
        },
        "id": "BnZnIqDLiVUq",
        "outputId": "9f20b195-4690-4a3b-8e70-a1fb6d8434df"
      },
      "source": [
        "file_path = 'gs://data_lake_ingest_data/3_output/df_final_categorizado'\n",
        "\n",
        "fs = gcsfs.GCSFileSystem(project='soulcode-projeto-final', token=serviceaccount)\n",
        "with fs.open(file_path):\n",
        "    data = pd.read_csv(file_path, sep=',', encoding='UTF-8', header=0, index_col=False)\n",
        "\n",
        "    # Validando esquema, coluna e tipo de dado\n",
        "    schema = pa.DataFrameSchema(columns={\"UF\": pa.Column(str, pa.Check(str)),\n",
        "                                         \"Ano\": pa.Column(int, nullable=True),\n",
        "                                         \"populacao_estimada\": pa.Column(int,nullable=True),\n",
        "                                         \"Total_Ocorrencias\": pa.Column(int, nullable=True),\n",
        "                                         \"Total_Vitimas\": pa.Column(int, nullable=True),\n",
        "                                         \"Taxa_Analfabetismo\": pa.Column(float, nullable=True),\n",
        "                                         \"Investimentos\": pa.Column(float, nullable=True),\n",
        "                                         \"TotalOcorrencias_Roubos\": pa.Column(int, nullable=True),\n",
        "                                         \"Media_Freq_Escolar\": pa.Column(float, nullable=True),\n",
        "                                         \"TaxaDesemprego\": pa.Column(float, nullable=True),\n",
        "                                         \"categoria_populacao\": pa.Column(str, pa.Check(str)),\n",
        "                                         \"categoria_desemprego\": pa.Column(str, pa.Check(str)),\n",
        "                                         \"categoria_ocorrencias\": pa.Column(str, pa.Check(str)),\n",
        "                                         \"categoria_roubos\": pa.Column(str, pa.Check(str)),                           \n",
        "                                         })\n",
        "    \n",
        "    schema.validate(data)\n",
        "\n",
        "df = spark.createDataFrame(data)\n",
        "df.dtypes\n",
        "df.show(10, truncate=False)"
      ],
      "execution_count": null,
      "outputs": [
        {
          "output_type": "stream",
          "name": "stdout",
          "text": [
            "+----------+------------------+----+------------------+-----------------+-------------+------------------+-----------------+-----------------------+------------------+--------------+-------------------+--------------------+---------------------+----------------+\n",
            "|Unnamed: 0|UF                |Ano |populacao_estimada|Total_Ocorrencias|Total_Vitimas|Taxa_Analfabetismo|Investimentos    |TotalOcorrencias_Roubos|Media_Freq_Escolar|TaxaDesemprego|categoria_populacao|categoria_desemprego|categoria_ocorrencias|categoria_roubos|\n",
            "+----------+------------------+----+------------------+-----------------+-------------+------------------+-----------------+-----------------------+------------------+--------------+-------------------+--------------------+---------------------+----------------+\n",
            "|0         |Piauí             |2016|3212180           |704              |704          |17.2              |8.0442947803E8   |5726                   |10.5              |9.43          |Pouco_populoso     |Medio_desemprego    |Pouco_perigoso       |Pouco_roubo     |\n",
            "|1         |Pernambuco        |2016|9410336           |4314             |4481         |12.8              |2.6575977696E9   |20537                  |10.5              |14.55         |Medio_populoso     |Alto_desemprego     |Perigoso             |Muito_roubo     |\n",
            "|2         |Amazonas          |2016|4001667           |1150             |1154         |6.9               |1.60473221563E9  |6285                   |10.5              |13.58         |Pouco_populoso     |Alto_desemprego     |Meio_perigoso        |Pouco_roubo     |\n",
            "|3         |Mato Grosso do Sul|2016|2682386           |609              |639          |6.3               |1.45952544927E9  |4779                   |11.0              |7.68          |Pouco_populoso     |Baixo_desemprego    |Pouco_perigoso       |Pouco_roubo     |\n",
            "|4         |Roraima           |2016|514229            |136              |145          |6.6               |4.0893419687E8   |1516                   |11.0              |8.8           |Pouco_populoso     |Medio_desemprego    |Pouco_perigoso       |Pouco_roubo     |\n",
            "|5         |São Paulo         |2016|44749699          |3885             |397          |2.8               |1.262311825911E10|198824                 |12.0              |12.35         |Muito_populoso     |Alto_desemprego     |Perigoso             |Muito_roubo     |\n",
            "|6         |Acre              |2016|816687            |425              |354          |13.1              |4.9853469586E8   |0                      |10.6              |10.88         |Pouco_populoso     |Medio_desemprego    |Pouco_perigoso       |Pouco_roubo     |\n",
            "|7         |Ceará             |2016|8963663           |3285             |3407         |15.2              |2.18831524988E9  |15287                  |10.6              |11.95         |Medio_populoso     |Medio_desemprego    |Perigoso             |Meio_roubo      |\n",
            "|8         |Amapá             |2016|782295            |292              |300          |5.0               |4.7532329175E8   |1012                   |11.1              |15.45         |Pouco_populoso     |Alto_desemprego     |Pouco_perigoso       |Pouco_roubo     |\n",
            "|9         |Santa Catarina    |2016|6910553           |937              |976          |2.8               |2.50461835626E9  |18019                  |11.6              |6.32          |Medio_populoso     |Baixo_desemprego    |Pouco_perigoso       |Meio_roubo      |\n",
            "+----------+------------------+----+------------------+-----------------+-------------+------------------+-----------------+-----------------------+------------------+--------------+-------------------+--------------------+---------------------+----------------+\n",
            "only showing top 10 rows\n",
            "\n"
          ]
        }
      ]
    },
    {
      "cell_type": "code",
      "metadata": {
        "colab": {
          "base_uri": "https://localhost:8080/"
        },
        "id": "s4_uVN79lA-N",
        "outputId": "54e5804c-0214-40b1-b192-fcc7bc59b3b8"
      },
      "source": [
        "df.select(\"UF\", \"Ano\").filter(F.col(\"categoria_desemprego\") == 'Baixo_desemprego').show()"
      ],
      "execution_count": null,
      "outputs": [
        {
          "output_type": "stream",
          "name": "stdout",
          "text": [
            "+------------------+----+\n",
            "|                UF| Ano|\n",
            "+------------------+----+\n",
            "|Mato Grosso do Sul|2016|\n",
            "|    Santa Catarina|2016|\n",
            "|          Rondônia|2016|\n",
            "|    Santa Catarina|2017|\n",
            "|    Santa Catarina|2018|\n",
            "|Mato Grosso do Sul|2018|\n",
            "|    Santa Catarina|2019|\n",
            "|Mato Grosso do Sul|2019|\n",
            "|          Rondônia|2019|\n",
            "+------------------+----+\n",
            "\n"
          ]
        }
      ]
    },
    {
      "cell_type": "code",
      "metadata": {
        "colab": {
          "base_uri": "https://localhost:8080/"
        },
        "id": "yThAwoXflXWS",
        "outputId": "ba049b2a-2aec-4bbf-a47a-218c96172e2b"
      },
      "source": [
        "df.select(\"UF\", \"Ano\").filter(F.col(\"categoria_ocorrencias\") == 'Pouco_perigoso').show()"
      ],
      "execution_count": null,
      "outputs": [
        {
          "output_type": "stream",
          "name": "stdout",
          "text": [
            "+------------------+----+\n",
            "|                UF| Ano|\n",
            "+------------------+----+\n",
            "|             Piauí|2016|\n",
            "|Mato Grosso do Sul|2016|\n",
            "|           Roraima|2016|\n",
            "|              Acre|2016|\n",
            "|             Amapá|2016|\n",
            "|    Santa Catarina|2016|\n",
            "|         Tocantins|2016|\n",
            "|          Rondônia|2016|\n",
            "|  Distrito Federal|2016|\n",
            "|           Roraima|2017|\n",
            "|             Piauí|2017|\n",
            "|             Amapá|2017|\n",
            "|          Rondônia|2017|\n",
            "|              Acre|2017|\n",
            "|Mato Grosso do Sul|2017|\n",
            "|         Tocantins|2017|\n",
            "|  Distrito Federal|2017|\n",
            "|          Rondônia|2018|\n",
            "|    Santa Catarina|2018|\n",
            "|           Roraima|2018|\n",
            "+------------------+----+\n",
            "only showing top 20 rows\n",
            "\n"
          ]
        }
      ]
    },
    {
      "cell_type": "code",
      "metadata": {
        "colab": {
          "base_uri": "https://localhost:8080/"
        },
        "id": "5ZOkh5KLlf1z",
        "outputId": "d3f0a223-2e24-4e9a-bfd0-1e325c40abe6"
      },
      "source": [
        "df.select(\"UF\", \"Ano\", \"TaxaDesemprego\").orderBy(\"TaxaDesemprego\").show()"
      ],
      "execution_count": null,
      "outputs": [
        {
          "output_type": "stream",
          "name": "stdout",
          "text": [
            "+------------------+----+--------------+\n",
            "|                UF| Ano|TaxaDesemprego|\n",
            "+------------------+----+--------------+\n",
            "|    Santa Catarina|2019|          6.08|\n",
            "|    Santa Catarina|2016|          6.32|\n",
            "|    Santa Catarina|2018|           6.4|\n",
            "|    Santa Catarina|2017|           7.1|\n",
            "|Mato Grosso do Sul|2018|          7.55|\n",
            "|Mato Grosso do Sul|2016|          7.68|\n",
            "|          Rondônia|2016|          7.93|\n",
            "|          Rondônia|2019|          7.95|\n",
            "|Mato Grosso do Sul|2019|          7.95|\n",
            "| Rio Grande do Sul|2019|          8.02|\n",
            "| Rio Grande do Sul|2018|           8.1|\n",
            "| Rio Grande do Sul|2016|          8.18|\n",
            "|            Paraná|2016|          8.22|\n",
            "|          Rondônia|2017|          8.23|\n",
            "| Rio Grande do Sul|2017|           8.4|\n",
            "|Mato Grosso do Sul|2017|          8.48|\n",
            "|            Paraná|2019|          8.52|\n",
            "|            Paraná|2018|          8.77|\n",
            "|           Roraima|2016|           8.8|\n",
            "|            Paraná|2017|           9.0|\n",
            "+------------------+----+--------------+\n",
            "only showing top 20 rows\n",
            "\n"
          ]
        }
      ]
    },
    {
      "cell_type": "code",
      "metadata": {
        "colab": {
          "base_uri": "https://localhost:8080/"
        },
        "id": "ui6bEwHgnNy3",
        "outputId": "0e20556f-7655-4bfc-b7e8-26a2339ccedc"
      },
      "source": [
        "df.select(\"UF\", \"Ano\", \"Total_Ocorrencias\").orderBy(\"Total_Ocorrencias\").show()"
      ],
      "execution_count": null,
      "outputs": [
        {
          "output_type": "stream",
          "name": "stdout",
          "text": [
            "+------------------+----+-----------------+\n",
            "|                UF| Ano|Total_Ocorrencias|\n",
            "+------------------+----+-----------------+\n",
            "|           Roraima|2016|              136|\n",
            "|           Roraima|2017|              173|\n",
            "|           Roraima|2019|              224|\n",
            "|              Acre|2017|              231|\n",
            "|             Amapá|2019|              270|\n",
            "|             Amapá|2016|              292|\n",
            "|              Acre|2019|              308|\n",
            "|             Amapá|2017|              310|\n",
            "|         Tocantins|2019|              326|\n",
            "|           Roraima|2018|              350|\n",
            "|             Amapá|2018|              352|\n",
            "|         Tocantins|2017|              355|\n",
            "|         Tocantins|2018|              386|\n",
            "|  Distrito Federal|2019|              400|\n",
            "|          Rondônia|2019|              401|\n",
            "|              Acre|2018|              416|\n",
            "|          Rondônia|2018|              424|\n",
            "|              Acre|2016|              425|\n",
            "|Mato Grosso do Sul|2019|              432|\n",
            "|         Tocantins|2016|              436|\n",
            "+------------------+----+-----------------+\n",
            "only showing top 20 rows\n",
            "\n"
          ]
        }
      ]
    },
    {
      "cell_type": "code",
      "metadata": {
        "id": "t8efqldwnRK5",
        "colab": {
          "base_uri": "https://localhost:8080/"
        },
        "outputId": "4cafd828-88d4-4413-f1a7-844cf65eadd0"
      },
      "source": [
        "df.select(F.col('UF'), F.col('Ano')).filter(F.col('Ano') > 2017).show()"
      ],
      "execution_count": null,
      "outputs": [
        {
          "output_type": "stream",
          "name": "stdout",
          "text": [
            "+------------------+----+\n",
            "|                UF| Ano|\n",
            "+------------------+----+\n",
            "|              Pará|2018|\n",
            "|          Rondônia|2018|\n",
            "|        Pernambuco|2018|\n",
            "|      Minas Gerais|2018|\n",
            "|    Santa Catarina|2018|\n",
            "|           Paraíba|2018|\n",
            "|             Ceará|2018|\n",
            "|           Roraima|2018|\n",
            "|    Espírito Santo|2018|\n",
            "| Rio Grande do Sul|2018|\n",
            "|  Distrito Federal|2018|\n",
            "|            Paraná|2018|\n",
            "|         São Paulo|2018|\n",
            "|           Sergipe|2018|\n",
            "|             Amapá|2018|\n",
            "|Mato Grosso do Sul|2018|\n",
            "|    Rio de Janeiro|2018|\n",
            "|             Goiás|2018|\n",
            "|           Alagoas|2018|\n",
            "|             Bahia|2018|\n",
            "+------------------+----+\n",
            "only showing top 20 rows\n",
            "\n"
          ]
        }
      ]
    },
    {
      "cell_type": "code",
      "metadata": {
        "colab": {
          "base_uri": "https://localhost:8080/"
        },
        "id": "RKh5zU3UxFi5",
        "outputId": "9952e407-eecc-403d-ac8b-71736d45693e"
      },
      "source": [
        "df.filter(df['UF'].rlike('C')).show()"
      ],
      "execution_count": null,
      "outputs": [
        {
          "output_type": "stream",
          "name": "stdout",
          "text": [
            "+----------+--------------+----+------------------+-----------------+-------------+------------------+---------------+-----------------------+------------------+--------------+-------------------+--------------------+---------------------+----------------+\n",
            "|Unnamed: 0|            UF| Ano|populacao_estimada|Total_Ocorrencias|Total_Vitimas|Taxa_Analfabetismo|  Investimentos|TotalOcorrencias_Roubos|Media_Freq_Escolar|TaxaDesemprego|categoria_populacao|categoria_desemprego|categoria_ocorrencias|categoria_roubos|\n",
            "+----------+--------------+----+------------------+-----------------+-------------+------------------+---------------+-----------------------+------------------+--------------+-------------------+--------------------+---------------------+----------------+\n",
            "|         7|         Ceará|2016|           8963663|             3285|         3407|              15.2|2.18831524988E9|                  15287|              10.6|         11.95|     Medio_populoso|    Medio_desemprego|             Perigoso|      Meio_roubo|\n",
            "|         9|Santa Catarina|2016|           6910553|              937|          976|               2.8|2.50461835626E9|                  18019|              11.6|          6.32|     Medio_populoso|    Baixo_desemprego|       Pouco_perigoso|      Meio_roubo|\n",
            "|        42|         Ceará|2017|           9020460|             4873|         5133|              14.2|2.40023478733E9|                  16440|              10.8|         12.58|     Medio_populoso|     Alto_desemprego|             Perigoso|      Meio_roubo|\n",
            "|        49|Santa Catarina|2017|           7001161|             1031|         1077|               2.6|2.49920265529E9|                  15196|              11.9|           7.1|     Medio_populoso|    Baixo_desemprego|        Meio_perigoso|      Meio_roubo|\n",
            "|        54|Santa Catarina|2018|           7075494|              806|          840|               2.5|2.48483633372E9|                  11503|              12.0|           6.4|     Medio_populoso|    Baixo_desemprego|       Pouco_perigoso|      Meio_roubo|\n",
            "|        56|         Ceará|2018|           9075649|             4262|         4518|              13.3| 2.7633394225E9|                  13747|              11.1|          11.3|     Medio_populoso|    Medio_desemprego|             Perigoso|      Meio_roubo|\n",
            "|        79|Santa Catarina|2019|           7164788|              699|          737|               2.3|2.39613328801E9|                  10620|              12.0|          6.08|     Medio_populoso|    Baixo_desemprego|       Pouco_perigoso|      Meio_roubo|\n",
            "|        88|         Ceará|2019|           9132078|             2153|         2257|              13.6|2.84235979374E9|                   9820|              11.2|         10.92|     Medio_populoso|    Medio_desemprego|             Perigoso|      Meio_roubo|\n",
            "+----------+--------------+----+------------------+-----------------+-------------+------------------+---------------+-----------------------+------------------+--------------+-------------------+--------------------+---------------------+----------------+\n",
            "\n"
          ]
        }
      ]
    },
    {
      "cell_type": "code",
      "metadata": {
        "colab": {
          "base_uri": "https://localhost:8080/"
        },
        "id": "WHhmn5XaxLRI",
        "outputId": "01c91dff-35fb-4b3b-cf49-4f510559fea7"
      },
      "source": [
        "w1 = W.orderBy(F.col('Investimentos').desc())\n",
        "df.withColumn(\"rank\", F.rank().over(w1)).show()"
      ],
      "execution_count": null,
      "outputs": [
        {
          "output_type": "stream",
          "name": "stdout",
          "text": [
            "+----------+-----------------+----+------------------+-----------------+-------------+------------------+-----------------+-----------------------+------------------+--------------+-------------------+--------------------+---------------------+----------------+----+\n",
            "|Unnamed: 0|               UF| Ano|populacao_estimada|Total_Ocorrencias|Total_Vitimas|Taxa_Analfabetismo|    Investimentos|TotalOcorrencias_Roubos|Media_Freq_Escolar|TaxaDesemprego|categoria_populacao|categoria_desemprego|categoria_ocorrencias|categoria_roubos|rank|\n",
            "+----------+-----------------+----+------------------+-----------------+-------------+------------------+-----------------+-----------------------+------------------+--------------+-------------------+--------------------+---------------------+----------------+----+\n",
            "|        34|        São Paulo|2017|          45094866|             3677|         3894|               2.6|1.283378852809E10|                 183377|              12.1|          13.4|     Muito_populoso|     Alto_desemprego|             Perigoso|     Muito_roubo|   1|\n",
            "|         5|        São Paulo|2016|          44749699|             3885|          397|               2.8|1.262311825911E10|                 198824|              12.0|         12.35|     Muito_populoso|     Alto_desemprego|             Perigoso|     Muito_roubo|   2|\n",
            "|        96|        São Paulo|2019|          45919049|             3068|         3200|               2.6|1.232196397253E10|                 137937|              12.3|         12.45|     Muito_populoso|     Alto_desemprego|             Perigoso|     Muito_roubo|   3|\n",
            "|        62|        São Paulo|2018|          45538936|             3299|         3464|               2.6|1.225980026165E10|                 164746|              12.2|         13.28|     Muito_populoso|     Alto_desemprego|             Perigoso|     Muito_roubo|   4|\n",
            "|        23|   Rio de Janeiro|2016|          16635996|             4921|         5337|               2.7|1.051667972136E10|                  68329|              11.4|         11.72|     Muito_populoso|    Medio_desemprego|             Perigoso|     Muito_roubo|   5|\n",
            "|        66|   Rio de Janeiro|2018|          17159960|             4774|         5180|               2.4|1.022245487987E10|                  77073|              11.8|         14.95|     Muito_populoso|     Alto_desemprego|             Perigoso|     Muito_roubo|   6|\n",
            "|        22|     Minas Gerais|2016|          20997560|             4207|         4361|               6.2|1.020057871984E10|                  43622|              11.4|         11.08|     Muito_populoso|    Medio_desemprego|             Perigoso|     Muito_roubo|   7|\n",
            "|        48|     Minas Gerais|2017|          21119536|             3981|         4126|               6.0|1.018439551822E10|                  39302|              11.4|          12.2|     Muito_populoso|     Alto_desemprego|             Perigoso|     Muito_roubo|   8|\n",
            "|        99|   Rio de Janeiro|2019|          17264943|             3816|         4155|               2.1|1.003527102247E10|                  62799|              11.9|         14.65|     Muito_populoso|     Alto_desemprego|             Perigoso|     Muito_roubo|   9|\n",
            "|        53|     Minas Gerais|2018|          21040662|             3087|         3222|               5.8|  9.90597493353E9|                  31448|              11.5|          10.7|     Muito_populoso|    Medio_desemprego|             Perigoso|     Muito_roubo|  10|\n",
            "|        28|   Rio de Janeiro|2017|          16718956|             5179|         5622|               2.5|  9.51764387401E9|                  80673|              11.5|         14.92|     Muito_populoso|     Alto_desemprego|             Perigoso|     Muito_roubo|  11|\n",
            "|        84|     Minas Gerais|2019|          21168791|             2756|         2833|               5.5|  9.30871390069E9|                  26915|              11.6|         10.05|     Muito_populoso|    Medio_desemprego|             Perigoso|     Muito_roubo|  12|\n",
            "|        90|Rio Grande do Sul|2019|          11377239|             1790|         1914|               2.6|  5.03874781509E9|                  24536|              11.7|          8.02|     Muito_populoso|    Medio_desemprego|        Meio_perigoso|     Muito_roubo|  13|\n",
            "|        59|Rio Grande do Sul|2018|          11329605|             2269|         2458|               3.0|  4.83582340877E9|                  30924|              11.6|           8.1|     Muito_populoso|    Medio_desemprego|             Perigoso|     Muito_roubo|  14|\n",
            "|        26|           Paraná|2017|          11320892|             2212|         2290|               4.6|  4.83239541764E9|                  31658|              11.5|           9.0|     Muito_populoso|    Medio_desemprego|             Perigoso|     Muito_roubo|  15|\n",
            "|        17|            Bahia|2016|          15276566|             6449|         6803|              13.0|  4.76059110341E9|                  21307|              10.4|         15.85|     Muito_populoso|     Alto_desemprego|             Perigoso|     Muito_roubo|  16|\n",
            "|        86|            Bahia|2019|          14873064|             4964|         5219|              12.9|  4.68240335577E9|                  16967|              10.7|          17.2|     Muito_populoso|     Alto_desemprego|             Perigoso|      Meio_roubo|  17|\n",
            "|        69|            Bahia|2018|          14812617|             5406|         5730|              12.7|  4.60102722773E9|                  18984|              10.4|          17.0|     Muito_populoso|     Alto_desemprego|             Perigoso|      Meio_roubo|  18|\n",
            "|        38|            Bahia|2017|          15344447|             6083|         6449|              12.7|  4.56907640713E9|                  19461|              10.3|         16.95|     Muito_populoso|     Alto_desemprego|             Perigoso|      Meio_roubo|  19|\n",
            "|        19|           Paraná|2016|          11242720|             1566|         2675|               4.5|  4.37822699702E9|                  33833|              11.4|          8.22|     Muito_populoso|    Medio_desemprego|        Meio_perigoso|     Muito_roubo|  20|\n",
            "+----------+-----------------+----+------------------+-----------------+-------------+------------------+-----------------+-----------------------+------------------+--------------+-------------------+--------------------+---------------------+----------------+----+\n",
            "only showing top 20 rows\n",
            "\n"
          ]
        }
      ]
    },
    {
      "cell_type": "code",
      "metadata": {
        "colab": {
          "base_uri": "https://localhost:8080/"
        },
        "id": "Zf_uSt2Rx5TQ",
        "outputId": "459b0a94-5015-40f0-e2ad-92bb55b399c1"
      },
      "source": [
        "w2 = W.orderBy(F.col('Total_Ocorrencias').desc())\n",
        "df.withColumn(\"rank\", F.rank().over(w2)).show()"
      ],
      "execution_count": null,
      "outputs": [
        {
          "output_type": "stream",
          "name": "stdout",
          "text": [
            "+----------+--------------+----+------------------+-----------------+-------------+------------------+-----------------+-----------------------+------------------+--------------+-------------------+--------------------+---------------------+----------------+----+\n",
            "|Unnamed: 0|            UF| Ano|populacao_estimada|Total_Ocorrencias|Total_Vitimas|Taxa_Analfabetismo|    Investimentos|TotalOcorrencias_Roubos|Media_Freq_Escolar|TaxaDesemprego|categoria_populacao|categoria_desemprego|categoria_ocorrencias|categoria_roubos|rank|\n",
            "+----------+--------------+----+------------------+-----------------+-------------+------------------+-----------------+-----------------------+------------------+--------------+-------------------+--------------------+---------------------+----------------+----+\n",
            "|        17|         Bahia|2016|          15276566|             6449|         6803|              13.0|  4.76059110341E9|                  21307|              10.4|         15.85|     Muito_populoso|     Alto_desemprego|             Perigoso|     Muito_roubo|   1|\n",
            "|        38|         Bahia|2017|          15344447|             6083|         6449|              12.7|  4.56907640713E9|                  19461|              10.3|         16.95|     Muito_populoso|     Alto_desemprego|             Perigoso|      Meio_roubo|   2|\n",
            "|        69|         Bahia|2018|          14812617|             5406|         5730|              12.7|  4.60102722773E9|                  18984|              10.4|          17.0|     Muito_populoso|     Alto_desemprego|             Perigoso|      Meio_roubo|   3|\n",
            "|        28|Rio de Janeiro|2017|          16718956|             5179|         5622|               2.5|  9.51764387401E9|                  80673|              11.5|         14.92|     Muito_populoso|     Alto_desemprego|             Perigoso|     Muito_roubo|   4|\n",
            "|        35|    Pernambuco|2017|           9473266|             5174|         5427|              13.4|  2.80787364653E9|                  26687|              10.7|         17.65|     Medio_populoso|     Alto_desemprego|             Perigoso|     Muito_roubo|   5|\n",
            "|        86|         Bahia|2019|          14873064|             4964|         5219|              12.9|  4.68240335577E9|                  16967|              10.7|          17.2|     Muito_populoso|     Alto_desemprego|             Perigoso|      Meio_roubo|   6|\n",
            "|        23|Rio de Janeiro|2016|          16635996|             4921|         5337|               2.7|1.051667972136E10|                  68329|              11.4|         11.72|     Muito_populoso|    Medio_desemprego|             Perigoso|     Muito_roubo|   7|\n",
            "|        42|         Ceará|2017|           9020460|             4873|         5133|              14.2|  2.40023478733E9|                  16440|              10.8|         12.58|     Medio_populoso|     Alto_desemprego|             Perigoso|      Meio_roubo|   8|\n",
            "|        66|Rio de Janeiro|2018|          17159960|             4774|         5180|               2.4|1.022245487987E10|                  77073|              11.8|         14.95|     Muito_populoso|     Alto_desemprego|             Perigoso|     Muito_roubo|   9|\n",
            "|         1|    Pernambuco|2016|           9410336|             4314|         4481|              12.8|   2.6575977696E9|                  20537|              10.5|         14.55|     Medio_populoso|     Alto_desemprego|             Perigoso|     Muito_roubo|  10|\n",
            "|        56|         Ceará|2018|           9075649|             4262|         4518|              13.3|   2.7633394225E9|                  13747|              11.1|          11.3|     Medio_populoso|    Medio_desemprego|             Perigoso|      Meio_roubo|  11|\n",
            "|        22|  Minas Gerais|2016|          20997560|             4207|         4361|               6.2|1.020057871984E10|                  43622|              11.4|         11.08|     Muito_populoso|    Medio_desemprego|             Perigoso|     Muito_roubo|  12|\n",
            "|        39|          Pará|2017|           8366628|             3981|         4152|               8.6|  2.57991598234E9|                  13792|              10.3|         11.75|     Medio_populoso|    Medio_desemprego|             Perigoso|      Meio_roubo|  13|\n",
            "|        48|  Minas Gerais|2017|          21119536|             3981|         4126|               6.0|1.018439551822E10|                  39302|              11.4|          12.2|     Muito_populoso|     Alto_desemprego|             Perigoso|     Muito_roubo|  13|\n",
            "|        52|    Pernambuco|2018|           9496294|             3949|         4171|              11.9|  2.97123151483E9|                  21280|              11.0|          16.7|     Medio_populoso|     Alto_desemprego|             Perigoso|     Muito_roubo|  15|\n",
            "|         5|     São Paulo|2016|          44749699|             3885|          397|               2.8|1.262311825911E10|                 198824|              12.0|         12.35|     Muito_populoso|     Alto_desemprego|             Perigoso|     Muito_roubo|  16|\n",
            "|        12|          Pará|2016|           8305359|             3820|         3927|               9.2|  2.55174076992E9|                  10977|              10.2|         11.15|     Medio_populoso|    Medio_desemprego|             Perigoso|      Meio_roubo|  17|\n",
            "|        99|Rio de Janeiro|2019|          17264943|             3816|         4155|               2.1|1.003527102247E10|                  62799|              11.9|         14.65|     Muito_populoso|     Alto_desemprego|             Perigoso|     Muito_roubo|  18|\n",
            "|        50|          Pará|2018|           8513497|             3760|         3976|               8.8|  2.90320019444E9|                  10905|              10.5|         11.12|     Medio_populoso|    Medio_desemprego|             Perigoso|      Meio_roubo|  19|\n",
            "|        34|     São Paulo|2017|          45094866|             3677|         3894|               2.6|1.283378852809E10|                 183377|              12.1|          13.4|     Muito_populoso|     Alto_desemprego|             Perigoso|     Muito_roubo|  20|\n",
            "+----------+--------------+----+------------------+-----------------+-------------+------------------+-----------------+-----------------------+------------------+--------------+-------------------+--------------------+---------------------+----------------+----+\n",
            "only showing top 20 rows\n",
            "\n"
          ]
        }
      ]
    },
    {
      "cell_type": "code",
      "metadata": {
        "colab": {
          "base_uri": "https://localhost:8080/"
        },
        "id": "CtwSYGv3x8fB",
        "outputId": "eddacd72-7443-4baf-a3ca-663584f224fb"
      },
      "source": [
        "w3 = W.orderBy(F.col('populacao_estimada').desc())\n",
        "df.withColumn(\"rank\", F.rank().over(w3)).show()"
      ],
      "execution_count": null,
      "outputs": [
        {
          "output_type": "stream",
          "name": "stdout",
          "text": [
            "+----------+-----------------+----+------------------+-----------------+-------------+------------------+-----------------+-----------------------+------------------+--------------+-------------------+--------------------+---------------------+----------------+----+\n",
            "|Unnamed: 0|               UF| Ano|populacao_estimada|Total_Ocorrencias|Total_Vitimas|Taxa_Analfabetismo|    Investimentos|TotalOcorrencias_Roubos|Media_Freq_Escolar|TaxaDesemprego|categoria_populacao|categoria_desemprego|categoria_ocorrencias|categoria_roubos|rank|\n",
            "+----------+-----------------+----+------------------+-----------------+-------------+------------------+-----------------+-----------------------+------------------+--------------+-------------------+--------------------+---------------------+----------------+----+\n",
            "|        96|        São Paulo|2019|          45919049|             3068|         3200|               2.6|1.232196397253E10|                 137937|              12.3|         12.45|     Muito_populoso|     Alto_desemprego|             Perigoso|     Muito_roubo|   1|\n",
            "|        62|        São Paulo|2018|          45538936|             3299|         3464|               2.6|1.225980026165E10|                 164746|              12.2|         13.28|     Muito_populoso|     Alto_desemprego|             Perigoso|     Muito_roubo|   2|\n",
            "|        34|        São Paulo|2017|          45094866|             3677|         3894|               2.6|1.283378852809E10|                 183377|              12.1|          13.4|     Muito_populoso|     Alto_desemprego|             Perigoso|     Muito_roubo|   3|\n",
            "|         5|        São Paulo|2016|          44749699|             3885|          397|               2.8|1.262311825911E10|                 198824|              12.0|         12.35|     Muito_populoso|     Alto_desemprego|             Perigoso|     Muito_roubo|   4|\n",
            "|        84|     Minas Gerais|2019|          21168791|             2756|         2833|               5.5|  9.30871390069E9|                  26915|              11.6|         10.05|     Muito_populoso|    Medio_desemprego|             Perigoso|     Muito_roubo|   5|\n",
            "|        48|     Minas Gerais|2017|          21119536|             3981|         4126|               6.0|1.018439551822E10|                  39302|              11.4|          12.2|     Muito_populoso|     Alto_desemprego|             Perigoso|     Muito_roubo|   6|\n",
            "|        53|     Minas Gerais|2018|          21040662|             3087|         3222|               5.8|  9.90597493353E9|                  31448|              11.5|          10.7|     Muito_populoso|    Medio_desemprego|             Perigoso|     Muito_roubo|   7|\n",
            "|        22|     Minas Gerais|2016|          20997560|             4207|         4361|               6.2|1.020057871984E10|                  43622|              11.4|         11.08|     Muito_populoso|    Medio_desemprego|             Perigoso|     Muito_roubo|   8|\n",
            "|        99|   Rio de Janeiro|2019|          17264943|             3816|         4155|               2.1|1.003527102247E10|                  62799|              11.9|         14.65|     Muito_populoso|     Alto_desemprego|             Perigoso|     Muito_roubo|   9|\n",
            "|        66|   Rio de Janeiro|2018|          17159960|             4774|         5180|               2.4|1.022245487987E10|                  77073|              11.8|         14.95|     Muito_populoso|     Alto_desemprego|             Perigoso|     Muito_roubo|  10|\n",
            "|        28|   Rio de Janeiro|2017|          16718956|             5179|         5622|               2.5|  9.51764387401E9|                  80673|              11.5|         14.92|     Muito_populoso|     Alto_desemprego|             Perigoso|     Muito_roubo|  11|\n",
            "|        23|   Rio de Janeiro|2016|          16635996|             4921|         5337|               2.7|1.051667972136E10|                  68329|              11.4|         11.72|     Muito_populoso|    Medio_desemprego|             Perigoso|     Muito_roubo|  12|\n",
            "|        38|            Bahia|2017|          15344447|             6083|         6449|              12.7|  4.56907640713E9|                  19461|              10.3|         16.95|     Muito_populoso|     Alto_desemprego|             Perigoso|      Meio_roubo|  13|\n",
            "|        17|            Bahia|2016|          15276566|             6449|         6803|              13.0|  4.76059110341E9|                  21307|              10.4|         15.85|     Muito_populoso|     Alto_desemprego|             Perigoso|     Muito_roubo|  14|\n",
            "|        86|            Bahia|2019|          14873064|             4964|         5219|              12.9|  4.68240335577E9|                  16967|              10.7|          17.2|     Muito_populoso|     Alto_desemprego|             Perigoso|      Meio_roubo|  15|\n",
            "|        69|            Bahia|2018|          14812617|             5406|         5730|              12.7|  4.60102722773E9|                  18984|              10.4|          17.0|     Muito_populoso|     Alto_desemprego|             Perigoso|      Meio_roubo|  16|\n",
            "|        94|           Paraná|2019|          11433957|             1815|         1931|               4.6|  3.98605460275E9|                  22382|              11.8|          8.52|     Muito_populoso|    Medio_desemprego|        Meio_perigoso|     Muito_roubo|  17|\n",
            "|        90|Rio Grande do Sul|2019|          11377239|             1790|         1914|               2.6|  5.03874781509E9|                  24536|              11.7|          8.02|     Muito_populoso|    Medio_desemprego|        Meio_perigoso|     Muito_roubo|  18|\n",
            "|        61|           Paraná|2018|          11348937|             1554|         2088|               5.0|  4.15968690416E9|                  26185|              11.7|          8.77|     Muito_populoso|    Medio_desemprego|        Meio_perigoso|     Muito_roubo|  19|\n",
            "|        59|Rio Grande do Sul|2018|          11329605|             2269|         2458|               3.0|  4.83582340877E9|                  30924|              11.6|           8.1|     Muito_populoso|    Medio_desemprego|             Perigoso|     Muito_roubo|  20|\n",
            "+----------+-----------------+----+------------------+-----------------+-------------+------------------+-----------------+-----------------------+------------------+--------------+-------------------+--------------------+---------------------+----------------+----+\n",
            "only showing top 20 rows\n",
            "\n"
          ]
        }
      ]
    },
    {
      "cell_type": "code",
      "metadata": {
        "colab": {
          "base_uri": "https://localhost:8080/"
        },
        "id": "zQ1axoYeyEEd",
        "outputId": "0e2fb0fa-f15f-44ec-b370-12bca0bcd700"
      },
      "source": [
        "#df.select(F.sum(F.col('Total_Ocorrencias'))).display()\n",
        "df_temp = df.select(F.col('Total_Ocorrencias')).filter(F.col('Ano') == 2016)\n",
        "\n",
        "df_temp = df_temp.withColumnRenamed('Total_Ocorrencias', 'Total_Ocorrencias_2016')\n",
        "\n",
        "df_temp.select(F.sum(F.col('Total_Ocorrencias_2016'))).show()"
      ],
      "execution_count": null,
      "outputs": [
        {
          "output_type": "stream",
          "name": "stdout",
          "text": [
            "+---------------------------+\n",
            "|sum(Total_Ocorrencias_2016)|\n",
            "+---------------------------+\n",
            "|                      51441|\n",
            "+---------------------------+\n",
            "\n"
          ]
        }
      ]
    },
    {
      "cell_type": "code",
      "metadata": {
        "colab": {
          "base_uri": "https://localhost:8080/"
        },
        "id": "v5jjRqaFy9aB",
        "outputId": "6f09cc1d-f155-4b0e-c6e7-d69fb5b7396c"
      },
      "source": [
        "df_temp_2 = df.select(F.col('Total_Ocorrencias')).filter(F.col('Ano') == 2017)\n",
        "\n",
        "df_temp_2 = df_temp_2.withColumnRenamed('Total_Ocorrencias', 'Total_Ocorrencias_2017')\n",
        "\n",
        "df_temp_2.select(F.sum(F.col('Total_Ocorrencias_2017'))).show()"
      ],
      "execution_count": null,
      "outputs": [
        {
          "output_type": "stream",
          "name": "stdout",
          "text": [
            "+---------------------------+\n",
            "|sum(Total_Ocorrencias_2017)|\n",
            "+---------------------------+\n",
            "|                      53759|\n",
            "+---------------------------+\n",
            "\n"
          ]
        }
      ]
    },
    {
      "cell_type": "code",
      "metadata": {
        "colab": {
          "base_uri": "https://localhost:8080/"
        },
        "id": "P9qF235C2au3",
        "outputId": "17bd4231-3633-4051-b001-cb7ef8263d6c"
      },
      "source": [
        "df_temp_3 = df.select(F.col('Total_Ocorrencias')).filter(F.col('Ano') == 2018)\n",
        "\n",
        "df_temp_3 = df_temp_3.withColumnRenamed('Total_Ocorrencias', 'Total_Ocorrencias_2018')\n",
        "\n",
        "df_temp_3.select(F.sum(F.col('Total_Ocorrencias_2018'))).show()"
      ],
      "execution_count": null,
      "outputs": [
        {
          "output_type": "stream",
          "name": "stdout",
          "text": [
            "+---------------------------+\n",
            "|sum(Total_Ocorrencias_2018)|\n",
            "+---------------------------+\n",
            "|                      46421|\n",
            "+---------------------------+\n",
            "\n"
          ]
        }
      ]
    },
    {
      "cell_type": "code",
      "metadata": {
        "colab": {
          "base_uri": "https://localhost:8080/"
        },
        "id": "Q7ikge2u2e-H",
        "outputId": "53328b3a-91b9-4ad2-e4ca-ffb7c5e2d4d8"
      },
      "source": [
        "df_temp_4 = df.select(F.col('Total_Ocorrencias')).filter(F.col('Ano') == 2019)\n",
        "\n",
        "df_temp_4 = df_temp_4.withColumnRenamed('Total_Ocorrencias', 'Total_Ocorrencias_2019')\n",
        "\n",
        "df_temp_4.select(F.sum(F.col('Total_Ocorrencias_2019'))).show()"
      ],
      "execution_count": null,
      "outputs": [
        {
          "output_type": "stream",
          "name": "stdout",
          "text": [
            "+---------------------------+\n",
            "|sum(Total_Ocorrencias_2019)|\n",
            "+---------------------------+\n",
            "|                      37866|\n",
            "+---------------------------+\n",
            "\n"
          ]
        }
      ]
    },
    {
      "cell_type": "code",
      "metadata": {
        "colab": {
          "base_uri": "https://localhost:8080/"
        },
        "id": "Z8fNzxpg3Bm9",
        "outputId": "9b4648d4-4a70-4510-a443-e8e2b0698812"
      },
      "source": [
        "df_temp_5 = df.select(F.col('Total_Ocorrencias')).filter(F.col('Ano') == 2016).filter(F.col('UF') == 'São Paulo')\n",
        "\n",
        "df_temp_5 = df_temp_5.withColumnRenamed('Total_Ocorrencias', 'Total_Ocorrencias_2016_SP')\n",
        "\n",
        "df_temp_5.select(F.sum(F.col('Total_Ocorrencias_2016_SP'))).show()"
      ],
      "execution_count": null,
      "outputs": [
        {
          "output_type": "stream",
          "name": "stdout",
          "text": [
            "+------------------------------+\n",
            "|sum(Total_Ocorrencias_2016_SP)|\n",
            "+------------------------------+\n",
            "|                          3885|\n",
            "+------------------------------+\n",
            "\n"
          ]
        }
      ]
    },
    {
      "cell_type": "code",
      "metadata": {
        "colab": {
          "base_uri": "https://localhost:8080/"
        },
        "id": "COq7-dgo3Y9S",
        "outputId": "c914217f-82f4-4a7f-8a99-2608e7ea2cb6"
      },
      "source": [
        "df_temp_6 = df.select(F.col('Total_Ocorrencias')).filter(F.col('Ano') == 2017).filter(F.col('UF') == 'São Paulo')\n",
        "\n",
        "df_temp_6 = df_temp_6.withColumnRenamed('Total_Ocorrencias', 'Total_Ocorrencias_2017_SP')\n",
        "\n",
        "df_temp_6.select(F.sum(F.col('Total_Ocorrencias_2017_SP'))).show()"
      ],
      "execution_count": null,
      "outputs": [
        {
          "output_type": "stream",
          "name": "stdout",
          "text": [
            "+------------------------------+\n",
            "|sum(Total_Ocorrencias_2017_SP)|\n",
            "+------------------------------+\n",
            "|                          3677|\n",
            "+------------------------------+\n",
            "\n"
          ]
        }
      ]
    },
    {
      "cell_type": "code",
      "metadata": {
        "colab": {
          "base_uri": "https://localhost:8080/"
        },
        "id": "U5LvflH73dkq",
        "outputId": "c06c92f8-f5d2-49fa-a523-d56bb3832500"
      },
      "source": [
        "df_temp_7 = df.select(F.col('Total_Ocorrencias')).filter(F.col('Ano') == 2018).filter(F.col('UF') == 'São Paulo')\n",
        "\n",
        "df_temp_7 = df_temp_7.withColumnRenamed('Total_Ocorrencias', 'Total_Ocorrencias_2018_SP')\n",
        "\n",
        "df_temp_7.select(F.sum(F.col('Total_Ocorrencias_2018_SP'))).show()"
      ],
      "execution_count": null,
      "outputs": [
        {
          "output_type": "stream",
          "name": "stdout",
          "text": [
            "+------------------------------+\n",
            "|sum(Total_Ocorrencias_2018_SP)|\n",
            "+------------------------------+\n",
            "|                          3299|\n",
            "+------------------------------+\n",
            "\n"
          ]
        }
      ]
    },
    {
      "cell_type": "code",
      "metadata": {
        "colab": {
          "base_uri": "https://localhost:8080/"
        },
        "id": "HQaZPRDh3jvf",
        "outputId": "7f7f3a1a-3418-4efc-b0f6-dc7ce7dd6fca"
      },
      "source": [
        "df_temp_8 = df.select(F.col('Total_Ocorrencias')).filter(F.col('Ano') == 2019).filter(F.col('UF') == 'São Paulo')\n",
        "\n",
        "df_temp_8 = df_temp_8.withColumnRenamed('Total_Ocorrencias', 'Total_Ocorrencias_2019_SP')\n",
        "\n",
        "df_temp_8.select(F.sum(F.col('Total_Ocorrencias_2019_SP'))).show()"
      ],
      "execution_count": null,
      "outputs": [
        {
          "output_type": "stream",
          "name": "stdout",
          "text": [
            "+------------------------------+\n",
            "|sum(Total_Ocorrencias_2019_SP)|\n",
            "+------------------------------+\n",
            "|                          3068|\n",
            "+------------------------------+\n",
            "\n"
          ]
        }
      ]
    }
  ]
}