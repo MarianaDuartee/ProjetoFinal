{
  "nbformat": 4,
  "nbformat_minor": 0,
  "metadata": {
    "colab": {
      "name": "4_pubSub_final.ipynb",
      "provenance": [],
      "collapsed_sections": [
        "Ws_n_2r8v1u-",
        "fYVBdRBLv8Os",
        "KprSvRYxwCs6",
        "JMthvlL0wHyd"
      ],
      "include_colab_link": true
    },
    "kernelspec": {
      "display_name": "Python 3",
      "name": "python3"
    },
    "language_info": {
      "name": "python"
    }
  },
  "cells": [
    {
      "cell_type": "markdown",
      "metadata": {
        "id": "view-in-github",
        "colab_type": "text"
      },
      "source": [
        "<a href=\"https://colab.research.google.com/github/MarianaDuartee/ProjetoFinal/blob/main/4_pubSub_final.ipynb\" target=\"_parent\"><img src=\"https://colab.research.google.com/assets/colab-badge.svg\" alt=\"Open In Colab\"/></a>"
      ]
    },
    {
      "cell_type": "markdown",
      "metadata": {
        "id": "Ws_n_2r8v1u-"
      },
      "source": [
        "### INSTALANDO DEPENDENCIAS"
      ]
    },
    {
      "cell_type": "code",
      "metadata": {
        "id": "r2yUfbpxHmMR"
      },
      "source": [
        "!pip install google-cloud-pubsub\n",
        "!pip install fsspec\n",
        "!pip install gcsfs\n",
        "!pip install apache_beam[gcp]\n",
        "!pip install google-cloud-bigquery"
      ],
      "execution_count": null,
      "outputs": []
    },
    {
      "cell_type": "markdown",
      "metadata": {
        "id": "fYVBdRBLv8Os"
      },
      "source": [
        "### IMPORTANDO BIBLIOTECAS"
      ]
    },
    {
      "cell_type": "code",
      "metadata": {
        "id": "FEGAPAFZP8TJ"
      },
      "source": [
        "import csv\n",
        "import time\n",
        "import os\n",
        "\n",
        "import fsspec\n",
        "import gcsfs\n",
        "import pandas as pd\n",
        "\n",
        "import apache_beam as beam\n",
        "from apache_beam import window\n",
        "from apache_beam.options.pipeline_options import PipelineOptions\n",
        "from apache_beam import coders\n",
        "\n",
        "from google.cloud import pubsub_v1\n",
        "from google.cloud import storage\n",
        "from google.cloud import bigquery\n",
        "\n",
        "# Configurando conta de serviço\n",
        "service_account_key = r\"/content/soulcode-projeto-final-4b88bea6e07a.json\"\n",
        "os.environ[\"GOOGLE_APPLICATION_CREDENTIALS\"] = service_account_key"
      ],
      "execution_count": 2,
      "outputs": []
    },
    {
      "cell_type": "markdown",
      "metadata": {
        "id": "KprSvRYxwCs6"
      },
      "source": [
        "### PUB AND SUB (PUBLICANDO E CONSUMINDO DADOS)"
      ]
    },
    {
      "cell_type": "markdown",
      "metadata": {
        "id": "H7GsFGaVR9D_"
      },
      "source": [
        "Produtor"
      ]
    },
    {
      "cell_type": "code",
      "metadata": {
        "id": "52f8-cY-IeaR"
      },
      "source": [
        "# Setando o tópico de entrada (ingestão)\n",
        "topico = 'projects/soulcode-projeto-final/topics/ingestor_dados'\n",
        "publisher = pubsub_v1.PublisherClient()\n",
        "\n",
        "entrada = r\"/content/2_temp_temp_pandas_total_pop_ano_uf.csv\"\n",
        "\n",
        "# Visualizando entrada dos dados\n",
        "with open(entrada, 'rb') as file:\n",
        "    for row in file:\n",
        "        print('Publicando no topico: ', topico)\n",
        "        publisher.publish(topico,row)\n",
        "        time.sleep(2)"
      ],
      "execution_count": null,
      "outputs": []
    },
    {
      "cell_type": "markdown",
      "metadata": {
        "id": "H8vIScqvR-8w"
      },
      "source": [
        "Consumidor"
      ]
    },
    {
      "cell_type": "code",
      "metadata": {
        "id": "WfZBtyqySAzq"
      },
      "source": [
        "# Função de ACK (Aceite)\n",
        "def monstrar_msg(mensagem):\n",
        "  print(('Mensagem: {}'.format(mensagem)))\n",
        "  mensagem.ack()\n",
        "\n",
        "# Setando a subscrição de saída\n",
        "subscription = 'projects/soulcode-projeto-final/subscriptions/consumidor_dados_violencia'\n",
        "subscriber = pubsub_v1.SubscriberClient()\n",
        "\n",
        "subscriber.subscribe(subscription,callback=monstrar_msg)\n",
        "\n",
        "while True:\n",
        "  time.sleep(2)"
      ],
      "execution_count": null,
      "outputs": []
    },
    {
      "cell_type": "markdown",
      "metadata": {
        "id": "JMthvlL0wHyd"
      },
      "source": [
        "### PIPELINE TO GOOGLE CLOUD STORAGE (STREAMING)"
      ]
    },
    {
      "cell_type": "code",
      "metadata": {
        "id": "W5dfP6BR36BD",
        "colab": {
          "base_uri": "https://localhost:8080/"
        },
        "outputId": "1e89367c-3222-4aeb-b65e-d8ca122e2eb0"
      },
      "source": [
        "# Definindo opções da Pipeline\n",
        "pipeline_args=['--runner=DataflowRunner',\n",
        "               '--job_name=bq-load',\n",
        "               '--project=soulcode-projeto-final',\n",
        "               '--region=southamerica-east1',\n",
        "               '--temp_location=gs://data_lake_ingest_data/temp_process',\n",
        "               '--staging_location=gs://data_lake_ingest_data/temp_process',\n",
        "               '--template_location=gs://data_lake_ingest_data/4_templates/data_streaming',\n",
        "               '--streaming'\n",
        "               ]\n",
        "\n",
        "# Atribuindo opções ao pipeline\n",
        "options = PipelineOptions(pipeline_args)\n",
        "p1 = beam.Pipeline(options=options)\n",
        "\n",
        "# Modelo de Pipeline\n",
        "rows = (\n",
        "    p1\n",
        "    |'Extrair os dados' >> beam.io.ReadFromText('gs://data_lake_ingest_data/1_input/OcorrenciasUF.json', skip_header_lines=False, coder=coders.StrUtf8Coder())\n",
        "    |'Separador' >> beam.Map(lambda record: record.split(','))\n",
        "    |'Window' >> beam.WindowInto(window.SlidingWindows(10,5))\n",
        "    |'Saida de dados' >> beam.FlatMap(print)\n",
        "    |'Gravar resultado' >> beam.io.WriteToText('gs://data_lake_ingest_data/temp/TEST_', header=True)\n",
        ")\n",
        "\n",
        "p1.run()"
      ],
      "execution_count": 72,
      "outputs": [
        {
          "output_type": "stream",
          "name": "stderr",
          "text": [
            "WARNING:root:Make sure that locally built Python SDK docker image has Python 3.7 interpreter.\n"
          ]
        },
        {
          "output_type": "execute_result",
          "data": {
            "text/plain": [
              "<DataflowPipelineResult None at 0x7f7ce6685050>"
            ]
          },
          "metadata": {},
          "execution_count": 72
        }
      ]
    },
    {
      "cell_type": "markdown",
      "metadata": {
        "id": "N6tPyPsiwbkm"
      },
      "source": [
        "### PIPELINE TO BIG QUERY (BATCH)"
      ]
    },
    {
      "cell_type": "code",
      "metadata": {
        "id": "w82P1OAcXA68"
      },
      "source": [
        "pipeline_args=['--runner=DataflowRunner',\n",
        "               '--job_name=bq-load',\n",
        "               '--project=soulcode-projeto-final',\n",
        "               '--region=southamerica-east1',\n",
        "               '--temp_location=gs://data_lake_ingest_data/temp_process',\n",
        "               '--staging_location=gs://data_lake_ingest_data/temp_process',\n",
        "               '--template_location=gs://data_lake_ingest_data/4_templates/data_batch'\n",
        "               ]\n",
        "\n",
        "options = PipelineOptions(pipeline_args)\n",
        "p1 = beam.Pipeline(options=options)\n",
        "\n",
        "path_file = 'gs://data_lake_ingest_data/1_input/estimativa_pop_2016_2021.csv'\n",
        "\n",
        "esquema = {'UF':str, \n",
        "           'COD. UF':int, \n",
        "           'COD. MUN':int,\n",
        "           'NOME DO MUNICÍPIO':str,\n",
        "           'POPULAÇÃO ESTIMADA':int,\n",
        "           'ANO':int}\n",
        "\n",
        "rows = (\n",
        "        p1 \n",
        "        \n",
        "        |\"Extraindo_Dados\" >> beam.io.ReadFromText(\n",
        "                        file_pattern=path_file, \n",
        "                        coder=coders.BytesCoder(),\n",
        "                        skip_header_lines=0)\n",
        "        |\"Saida_Dados\" >> beam.Map(print)\n",
        "        |\"Gravar_Resultado\" >> beam.io.WriteToBigQuery(\n",
        "                                   table='Teste_Beam_Apache',\n",
        "                                   dataset='Teste',\n",
        "                                   project='soulcode-projeto-final',\n",
        "                                   custom_gcs_temp_location='gs://data_lake_ingest_data/temp_process',\n",
        "                                   method='FILE_LOADS',\n",
        "                                   schema=esquema,\n",
        "                                   create_disposition=bigquery.CreateDisposition.CREATE_IF_NEEDED,\n",
        "                                   write_disposition=bigquery.WriteDisposition.WRITE_APPEND)\n",
        "        )\n",
        "\n",
        "p1.run()"
      ],
      "execution_count": null,
      "outputs": []
    }
  ]
}