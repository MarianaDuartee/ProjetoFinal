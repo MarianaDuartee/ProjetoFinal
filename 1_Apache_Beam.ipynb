{
  "nbformat": 4,
  "nbformat_minor": 0,
  "metadata": {
    "colab": {
      "name": "1_Apache_Beam.ipynb",
      "provenance": [],
      "collapsed_sections": [
        "Ws_n_2r8v1u-",
        "fYVBdRBLv8Os",
        "JMthvlL0wHyd",
        "N6tPyPsiwbkm"
      ],
      "include_colab_link": true
    },
    "kernelspec": {
      "display_name": "Python 3",
      "name": "python3"
    },
    "language_info": {
      "name": "python"
    }
  },
  "cells": [
    {
      "cell_type": "markdown",
      "metadata": {
        "id": "view-in-github",
        "colab_type": "text"
      },
      "source": [
        "<a href=\"https://colab.research.google.com/github/MarianaDuartee/ProjetoFinal/blob/main/1_Apache_Beam.ipynb\" target=\"_parent\"><img src=\"https://colab.research.google.com/assets/colab-badge.svg\" alt=\"Open In Colab\"/></a>"
      ]
    },
    {
      "cell_type": "markdown",
      "metadata": {
        "id": "Ws_n_2r8v1u-"
      },
      "source": [
        "### INSTALANDO DEPENDENCIAS"
      ]
    },
    {
      "cell_type": "code",
      "metadata": {
        "id": "r2yUfbpxHmMR",
        "colab": {
          "base_uri": "https://localhost:8080/"
        },
        "outputId": "d6003f8b-e1fd-42a1-e02a-0ff84c4e6620"
      },
      "source": [
        "!pip install google-cloud-pubsub\n",
        "!pip install fsspec\n",
        "!pip install gcsfs\n",
        "!pip install apache-beam[interactive]\n",
        "!pip install apache_beam[gcp]\n",
        "!pip install google-cloud-bigquery"
      ],
      "execution_count": 15,
      "outputs": [
        {
          "output_type": "stream",
          "name": "stdout",
          "text": [
            "Requirement already satisfied: google-cloud-pubsub in /usr/local/lib/python3.7/dist-packages (1.7.0)\n",
            "Requirement already satisfied: grpc-google-iam-v1<0.13dev,>=0.12.3 in /usr/local/lib/python3.7/dist-packages (from google-cloud-pubsub) (0.12.3)\n",
            "Requirement already satisfied: google-api-core[grpc]!=1.17.*,!=1.18.*,!=1.19.*,>=1.14.0 in /usr/local/lib/python3.7/dist-packages (from google-cloud-pubsub) (1.31.4)\n",
            "Requirement already satisfied: six>=1.13.0 in /usr/local/lib/python3.7/dist-packages (from google-api-core[grpc]!=1.17.*,!=1.18.*,!=1.19.*,>=1.14.0->google-cloud-pubsub) (1.15.0)\n",
            "Requirement already satisfied: setuptools>=40.3.0 in /usr/local/lib/python3.7/dist-packages (from google-api-core[grpc]!=1.17.*,!=1.18.*,!=1.19.*,>=1.14.0->google-cloud-pubsub) (57.4.0)\n",
            "Requirement already satisfied: packaging>=14.3 in /usr/local/lib/python3.7/dist-packages (from google-api-core[grpc]!=1.17.*,!=1.18.*,!=1.19.*,>=1.14.0->google-cloud-pubsub) (21.3)\n",
            "Requirement already satisfied: protobuf>=3.12.0 in /usr/local/lib/python3.7/dist-packages (from google-api-core[grpc]!=1.17.*,!=1.18.*,!=1.19.*,>=1.14.0->google-cloud-pubsub) (3.19.1)\n",
            "Requirement already satisfied: pytz in /usr/local/lib/python3.7/dist-packages (from google-api-core[grpc]!=1.17.*,!=1.18.*,!=1.19.*,>=1.14.0->google-cloud-pubsub) (2018.9)\n",
            "Requirement already satisfied: google-auth<2.0dev,>=1.25.0 in /usr/local/lib/python3.7/dist-packages (from google-api-core[grpc]!=1.17.*,!=1.18.*,!=1.19.*,>=1.14.0->google-cloud-pubsub) (1.35.0)\n",
            "Requirement already satisfied: requests<3.0.0dev,>=2.18.0 in /usr/local/lib/python3.7/dist-packages (from google-api-core[grpc]!=1.17.*,!=1.18.*,!=1.19.*,>=1.14.0->google-cloud-pubsub) (2.26.0)\n",
            "Requirement already satisfied: googleapis-common-protos<2.0dev,>=1.6.0 in /usr/local/lib/python3.7/dist-packages (from google-api-core[grpc]!=1.17.*,!=1.18.*,!=1.19.*,>=1.14.0->google-cloud-pubsub) (1.53.0)\n",
            "Requirement already satisfied: grpcio<2.0dev,>=1.29.0 in /usr/local/lib/python3.7/dist-packages (from google-api-core[grpc]!=1.17.*,!=1.18.*,!=1.19.*,>=1.14.0->google-cloud-pubsub) (1.42.0)\n",
            "Requirement already satisfied: rsa<5,>=3.1.4 in /usr/local/lib/python3.7/dist-packages (from google-auth<2.0dev,>=1.25.0->google-api-core[grpc]!=1.17.*,!=1.18.*,!=1.19.*,>=1.14.0->google-cloud-pubsub) (4.7.2)\n",
            "Requirement already satisfied: pyasn1-modules>=0.2.1 in /usr/local/lib/python3.7/dist-packages (from google-auth<2.0dev,>=1.25.0->google-api-core[grpc]!=1.17.*,!=1.18.*,!=1.19.*,>=1.14.0->google-cloud-pubsub) (0.2.8)\n",
            "Requirement already satisfied: cachetools<5.0,>=2.0.0 in /usr/local/lib/python3.7/dist-packages (from google-auth<2.0dev,>=1.25.0->google-api-core[grpc]!=1.17.*,!=1.18.*,!=1.19.*,>=1.14.0->google-cloud-pubsub) (4.2.4)\n",
            "Requirement already satisfied: pyparsing!=3.0.5,>=2.0.2 in /usr/local/lib/python3.7/dist-packages (from packaging>=14.3->google-api-core[grpc]!=1.17.*,!=1.18.*,!=1.19.*,>=1.14.0->google-cloud-pubsub) (3.0.6)\n",
            "Requirement already satisfied: pyasn1<0.5.0,>=0.4.6 in /usr/local/lib/python3.7/dist-packages (from pyasn1-modules>=0.2.1->google-auth<2.0dev,>=1.25.0->google-api-core[grpc]!=1.17.*,!=1.18.*,!=1.19.*,>=1.14.0->google-cloud-pubsub) (0.4.8)\n",
            "Requirement already satisfied: idna<4,>=2.5 in /usr/local/lib/python3.7/dist-packages (from requests<3.0.0dev,>=2.18.0->google-api-core[grpc]!=1.17.*,!=1.18.*,!=1.19.*,>=1.14.0->google-cloud-pubsub) (2.10)\n",
            "Requirement already satisfied: certifi>=2017.4.17 in /usr/local/lib/python3.7/dist-packages (from requests<3.0.0dev,>=2.18.0->google-api-core[grpc]!=1.17.*,!=1.18.*,!=1.19.*,>=1.14.0->google-cloud-pubsub) (2021.10.8)\n",
            "Requirement already satisfied: urllib3<1.27,>=1.21.1 in /usr/local/lib/python3.7/dist-packages (from requests<3.0.0dev,>=2.18.0->google-api-core[grpc]!=1.17.*,!=1.18.*,!=1.19.*,>=1.14.0->google-cloud-pubsub) (1.24.3)\n",
            "Requirement already satisfied: charset-normalizer~=2.0.0 in /usr/local/lib/python3.7/dist-packages (from requests<3.0.0dev,>=2.18.0->google-api-core[grpc]!=1.17.*,!=1.18.*,!=1.19.*,>=1.14.0->google-cloud-pubsub) (2.0.7)\n",
            "Requirement already satisfied: fsspec in /usr/local/lib/python3.7/dist-packages (2021.11.1)\n",
            "Requirement already satisfied: gcsfs in /usr/local/lib/python3.7/dist-packages (2021.11.1)\n",
            "Requirement already satisfied: decorator>4.1.2 in /usr/local/lib/python3.7/dist-packages (from gcsfs) (4.4.2)\n",
            "Requirement already satisfied: fsspec==2021.11.1 in /usr/local/lib/python3.7/dist-packages (from gcsfs) (2021.11.1)\n",
            "Requirement already satisfied: google-auth>=1.2 in /usr/local/lib/python3.7/dist-packages (from gcsfs) (1.35.0)\n",
            "Requirement already satisfied: aiohttp<4 in /usr/local/lib/python3.7/dist-packages (from gcsfs) (3.8.1)\n",
            "Requirement already satisfied: google-cloud-storage in /usr/local/lib/python3.7/dist-packages (from gcsfs) (1.18.1)\n",
            "Requirement already satisfied: google-auth-oauthlib in /usr/local/lib/python3.7/dist-packages (from gcsfs) (0.4.6)\n",
            "Requirement already satisfied: requests in /usr/local/lib/python3.7/dist-packages (from gcsfs) (2.26.0)\n",
            "Requirement already satisfied: frozenlist>=1.1.1 in /usr/local/lib/python3.7/dist-packages (from aiohttp<4->gcsfs) (1.2.0)\n",
            "Requirement already satisfied: yarl<2.0,>=1.0 in /usr/local/lib/python3.7/dist-packages (from aiohttp<4->gcsfs) (1.7.2)\n",
            "Requirement already satisfied: typing-extensions>=3.7.4 in /usr/local/lib/python3.7/dist-packages (from aiohttp<4->gcsfs) (3.10.0.2)\n",
            "Requirement already satisfied: async-timeout<5.0,>=4.0.0a3 in /usr/local/lib/python3.7/dist-packages (from aiohttp<4->gcsfs) (4.0.1)\n",
            "Requirement already satisfied: asynctest==0.13.0 in /usr/local/lib/python3.7/dist-packages (from aiohttp<4->gcsfs) (0.13.0)\n",
            "Requirement already satisfied: attrs>=17.3.0 in /usr/local/lib/python3.7/dist-packages (from aiohttp<4->gcsfs) (21.2.0)\n",
            "Requirement already satisfied: aiosignal>=1.1.2 in /usr/local/lib/python3.7/dist-packages (from aiohttp<4->gcsfs) (1.2.0)\n",
            "Requirement already satisfied: charset-normalizer<3.0,>=2.0 in /usr/local/lib/python3.7/dist-packages (from aiohttp<4->gcsfs) (2.0.7)\n",
            "Requirement already satisfied: multidict<7.0,>=4.5 in /usr/local/lib/python3.7/dist-packages (from aiohttp<4->gcsfs) (5.2.0)\n",
            "Requirement already satisfied: pyasn1-modules>=0.2.1 in /usr/local/lib/python3.7/dist-packages (from google-auth>=1.2->gcsfs) (0.2.8)\n",
            "Requirement already satisfied: rsa<5,>=3.1.4 in /usr/local/lib/python3.7/dist-packages (from google-auth>=1.2->gcsfs) (4.7.2)\n",
            "Requirement already satisfied: cachetools<5.0,>=2.0.0 in /usr/local/lib/python3.7/dist-packages (from google-auth>=1.2->gcsfs) (4.2.4)\n",
            "Requirement already satisfied: six>=1.9.0 in /usr/local/lib/python3.7/dist-packages (from google-auth>=1.2->gcsfs) (1.15.0)\n",
            "Requirement already satisfied: setuptools>=40.3.0 in /usr/local/lib/python3.7/dist-packages (from google-auth>=1.2->gcsfs) (57.4.0)\n",
            "Requirement already satisfied: pyasn1<0.5.0,>=0.4.6 in /usr/local/lib/python3.7/dist-packages (from pyasn1-modules>=0.2.1->google-auth>=1.2->gcsfs) (0.4.8)\n",
            "Requirement already satisfied: idna>=2.0 in /usr/local/lib/python3.7/dist-packages (from yarl<2.0,>=1.0->aiohttp<4->gcsfs) (2.10)\n",
            "Requirement already satisfied: requests-oauthlib>=0.7.0 in /usr/local/lib/python3.7/dist-packages (from google-auth-oauthlib->gcsfs) (1.3.0)\n",
            "Requirement already satisfied: oauthlib>=3.0.0 in /usr/local/lib/python3.7/dist-packages (from requests-oauthlib>=0.7.0->google-auth-oauthlib->gcsfs) (3.1.1)\n",
            "Requirement already satisfied: urllib3<1.27,>=1.21.1 in /usr/local/lib/python3.7/dist-packages (from requests->gcsfs) (1.24.3)\n",
            "Requirement already satisfied: certifi>=2017.4.17 in /usr/local/lib/python3.7/dist-packages (from requests->gcsfs) (2021.10.8)\n",
            "Requirement already satisfied: google-cloud-core<2.0dev,>=1.0.0 in /usr/local/lib/python3.7/dist-packages (from google-cloud-storage->gcsfs) (1.7.2)\n",
            "Requirement already satisfied: google-resumable-media<0.5.0dev,>=0.3.1 in /usr/local/lib/python3.7/dist-packages (from google-cloud-storage->gcsfs) (0.4.1)\n",
            "Requirement already satisfied: google-api-core<2.0.0dev,>=1.21.0 in /usr/local/lib/python3.7/dist-packages (from google-cloud-core<2.0dev,>=1.0.0->google-cloud-storage->gcsfs) (1.31.4)\n",
            "Requirement already satisfied: packaging>=14.3 in /usr/local/lib/python3.7/dist-packages (from google-api-core<2.0.0dev,>=1.21.0->google-cloud-core<2.0dev,>=1.0.0->google-cloud-storage->gcsfs) (21.3)\n",
            "Requirement already satisfied: protobuf>=3.12.0 in /usr/local/lib/python3.7/dist-packages (from google-api-core<2.0.0dev,>=1.21.0->google-cloud-core<2.0dev,>=1.0.0->google-cloud-storage->gcsfs) (3.19.1)\n",
            "Requirement already satisfied: googleapis-common-protos<2.0dev,>=1.6.0 in /usr/local/lib/python3.7/dist-packages (from google-api-core<2.0.0dev,>=1.21.0->google-cloud-core<2.0dev,>=1.0.0->google-cloud-storage->gcsfs) (1.53.0)\n",
            "Requirement already satisfied: pytz in /usr/local/lib/python3.7/dist-packages (from google-api-core<2.0.0dev,>=1.21.0->google-cloud-core<2.0dev,>=1.0.0->google-cloud-storage->gcsfs) (2018.9)\n",
            "Requirement already satisfied: pyparsing!=3.0.5,>=2.0.2 in /usr/local/lib/python3.7/dist-packages (from packaging>=14.3->google-api-core<2.0.0dev,>=1.21.0->google-cloud-core<2.0dev,>=1.0.0->google-cloud-storage->gcsfs) (3.0.6)\n",
            "Requirement already satisfied: apache-beam[interactive] in /usr/local/lib/python3.7/dist-packages (2.34.0)\n",
            "Requirement already satisfied: pydot<2,>=1.2.0 in /usr/local/lib/python3.7/dist-packages (from apache-beam[interactive]) (1.3.0)\n",
            "Requirement already satisfied: crcmod<2.0,>=1.7 in /usr/local/lib/python3.7/dist-packages (from apache-beam[interactive]) (1.7)\n",
            "Requirement already satisfied: dill<0.3.2,>=0.3.1.1 in /usr/local/lib/python3.7/dist-packages (from apache-beam[interactive]) (0.3.1.1)\n",
            "Requirement already satisfied: grpcio<2,>=1.29.0 in /usr/local/lib/python3.7/dist-packages (from apache-beam[interactive]) (1.42.0)\n",
            "Requirement already satisfied: hdfs<3.0.0,>=2.1.0 in /usr/local/lib/python3.7/dist-packages (from apache-beam[interactive]) (2.6.0)\n",
            "Requirement already satisfied: oauth2client<5,>=2.0.1 in /usr/local/lib/python3.7/dist-packages (from apache-beam[interactive]) (4.1.3)\n",
            "Requirement already satisfied: protobuf<4,>=3.12.2 in /usr/local/lib/python3.7/dist-packages (from apache-beam[interactive]) (3.19.1)\n",
            "Requirement already satisfied: orjson<4.0 in /usr/local/lib/python3.7/dist-packages (from apache-beam[interactive]) (3.6.4)\n",
            "Requirement already satisfied: numpy<1.21.0,>=1.14.3 in /usr/local/lib/python3.7/dist-packages (from apache-beam[interactive]) (1.19.5)\n",
            "Requirement already satisfied: typing-extensions<4,>=3.7.0 in /usr/local/lib/python3.7/dist-packages (from apache-beam[interactive]) (3.10.0.2)\n",
            "Requirement already satisfied: python-dateutil<3,>=2.8.0 in /usr/local/lib/python3.7/dist-packages (from apache-beam[interactive]) (2.8.2)\n",
            "Requirement already satisfied: fastavro<2,>=0.21.4 in /usr/local/lib/python3.7/dist-packages (from apache-beam[interactive]) (1.4.7)\n",
            "Requirement already satisfied: avro-python3!=1.9.2,<1.10.0,>=1.8.1 in /usr/local/lib/python3.7/dist-packages (from apache-beam[interactive]) (1.9.2.1)\n",
            "Requirement already satisfied: future<1.0.0,>=0.18.2 in /usr/local/lib/python3.7/dist-packages (from apache-beam[interactive]) (0.18.2)\n",
            "Requirement already satisfied: pyarrow<6.0.0,>=0.15.1 in /usr/local/lib/python3.7/dist-packages (from apache-beam[interactive]) (3.0.0)\n",
            "Requirement already satisfied: pytz>=2018.3 in /usr/local/lib/python3.7/dist-packages (from apache-beam[interactive]) (2018.9)\n",
            "Requirement already satisfied: pymongo<4.0.0,>=3.8.0 in /usr/local/lib/python3.7/dist-packages (from apache-beam[interactive]) (3.12.1)\n",
            "Requirement already satisfied: httplib2<0.20.0,>=0.8 in /usr/local/lib/python3.7/dist-packages (from apache-beam[interactive]) (0.17.4)\n",
            "Requirement already satisfied: requests<3.0.0,>=2.24.0 in /usr/local/lib/python3.7/dist-packages (from apache-beam[interactive]) (2.26.0)\n",
            "Requirement already satisfied: ipywidgets<8,>=7.6.5 in /usr/local/lib/python3.7/dist-packages (from apache-beam[interactive]) (7.6.5)\n",
            "Requirement already satisfied: timeloop<2,>=1.0.2 in /usr/local/lib/python3.7/dist-packages (from apache-beam[interactive]) (1.0.2)\n",
            "Requirement already satisfied: ipykernel<6,>=5.2.0 in /usr/local/lib/python3.7/dist-packages (from apache-beam[interactive]) (5.5.6)\n",
            "Requirement already satisfied: facets-overview<2,>=1.0.0 in /usr/local/lib/python3.7/dist-packages (from apache-beam[interactive]) (1.0.0)\n",
            "Requirement already satisfied: ipython<8,>=7 in /usr/local/lib/python3.7/dist-packages (from apache-beam[interactive]) (7.30.0)\n",
            "Requirement already satisfied: jupyter-client<6.1.13,>=6.1.11 in /usr/local/lib/python3.7/dist-packages (from apache-beam[interactive]) (6.1.12)\n",
            "Requirement already satisfied: pandas>=0.22.0 in /usr/local/lib/python3.7/dist-packages (from facets-overview<2,>=1.0.0->apache-beam[interactive]) (1.1.5)\n",
            "Requirement already satisfied: six>=1.5.2 in /usr/local/lib/python3.7/dist-packages (from grpcio<2,>=1.29.0->apache-beam[interactive]) (1.15.0)\n",
            "Requirement already satisfied: docopt in /usr/local/lib/python3.7/dist-packages (from hdfs<3.0.0,>=2.1.0->apache-beam[interactive]) (0.6.2)\n",
            "Requirement already satisfied: tornado>=4.2 in /usr/local/lib/python3.7/dist-packages (from ipykernel<6,>=5.2.0->apache-beam[interactive]) (5.1.1)\n",
            "Requirement already satisfied: ipython-genutils in /usr/local/lib/python3.7/dist-packages (from ipykernel<6,>=5.2.0->apache-beam[interactive]) (0.2.0)\n",
            "Requirement already satisfied: traitlets>=4.1.0 in /usr/local/lib/python3.7/dist-packages (from ipykernel<6,>=5.2.0->apache-beam[interactive]) (5.1.1)\n",
            "Requirement already satisfied: matplotlib-inline in /usr/local/lib/python3.7/dist-packages (from ipython<8,>=7->apache-beam[interactive]) (0.1.3)\n",
            "Requirement already satisfied: prompt-toolkit!=3.0.0,!=3.0.1,<3.1.0,>=2.0.0 in /usr/local/lib/python3.7/dist-packages (from ipython<8,>=7->apache-beam[interactive]) (3.0.23)\n",
            "Requirement already satisfied: decorator in /usr/local/lib/python3.7/dist-packages (from ipython<8,>=7->apache-beam[interactive]) (4.4.2)\n",
            "Requirement already satisfied: pickleshare in /usr/local/lib/python3.7/dist-packages (from ipython<8,>=7->apache-beam[interactive]) (0.7.5)\n",
            "Requirement already satisfied: backcall in /usr/local/lib/python3.7/dist-packages (from ipython<8,>=7->apache-beam[interactive]) (0.2.0)\n",
            "Requirement already satisfied: setuptools>=18.5 in /usr/local/lib/python3.7/dist-packages (from ipython<8,>=7->apache-beam[interactive]) (57.4.0)\n",
            "Requirement already satisfied: pexpect>4.3 in /usr/local/lib/python3.7/dist-packages (from ipython<8,>=7->apache-beam[interactive]) (4.8.0)\n",
            "Requirement already satisfied: pygments in /usr/local/lib/python3.7/dist-packages (from ipython<8,>=7->apache-beam[interactive]) (2.6.1)\n",
            "Requirement already satisfied: jedi>=0.16 in /usr/local/lib/python3.7/dist-packages (from ipython<8,>=7->apache-beam[interactive]) (0.18.1)\n",
            "Requirement already satisfied: jupyterlab-widgets>=1.0.0 in /usr/local/lib/python3.7/dist-packages (from ipywidgets<8,>=7.6.5->apache-beam[interactive]) (1.0.2)\n",
            "Requirement already satisfied: widgetsnbextension~=3.5.0 in /usr/local/lib/python3.7/dist-packages (from ipywidgets<8,>=7.6.5->apache-beam[interactive]) (3.5.2)\n",
            "Requirement already satisfied: nbformat>=4.2.0 in /usr/local/lib/python3.7/dist-packages (from ipywidgets<8,>=7.6.5->apache-beam[interactive]) (5.1.3)\n",
            "Requirement already satisfied: parso<0.9.0,>=0.8.0 in /usr/local/lib/python3.7/dist-packages (from jedi>=0.16->ipython<8,>=7->apache-beam[interactive]) (0.8.2)\n",
            "Requirement already satisfied: jupyter-core>=4.6.0 in /usr/local/lib/python3.7/dist-packages (from jupyter-client<6.1.13,>=6.1.11->apache-beam[interactive]) (4.9.1)\n",
            "Requirement already satisfied: pyzmq>=13 in /usr/local/lib/python3.7/dist-packages (from jupyter-client<6.1.13,>=6.1.11->apache-beam[interactive]) (22.3.0)\n",
            "Requirement already satisfied: jsonschema!=2.5.0,>=2.4 in /usr/local/lib/python3.7/dist-packages (from nbformat>=4.2.0->ipywidgets<8,>=7.6.5->apache-beam[interactive]) (2.6.0)\n",
            "Requirement already satisfied: pyasn1-modules>=0.0.5 in /usr/local/lib/python3.7/dist-packages (from oauth2client<5,>=2.0.1->apache-beam[interactive]) (0.2.8)\n",
            "Requirement already satisfied: rsa>=3.1.4 in /usr/local/lib/python3.7/dist-packages (from oauth2client<5,>=2.0.1->apache-beam[interactive]) (4.7.2)\n",
            "Requirement already satisfied: pyasn1>=0.1.7 in /usr/local/lib/python3.7/dist-packages (from oauth2client<5,>=2.0.1->apache-beam[interactive]) (0.4.8)\n",
            "Requirement already satisfied: ptyprocess>=0.5 in /usr/local/lib/python3.7/dist-packages (from pexpect>4.3->ipython<8,>=7->apache-beam[interactive]) (0.7.0)\n",
            "Requirement already satisfied: wcwidth in /usr/local/lib/python3.7/dist-packages (from prompt-toolkit!=3.0.0,!=3.0.1,<3.1.0,>=2.0.0->ipython<8,>=7->apache-beam[interactive]) (0.2.5)\n",
            "Requirement already satisfied: pyparsing>=2.1.4 in /usr/local/lib/python3.7/dist-packages (from pydot<2,>=1.2.0->apache-beam[interactive]) (3.0.6)\n",
            "Requirement already satisfied: urllib3<1.27,>=1.21.1 in /usr/local/lib/python3.7/dist-packages (from requests<3.0.0,>=2.24.0->apache-beam[interactive]) (1.24.3)\n",
            "Requirement already satisfied: idna<4,>=2.5 in /usr/local/lib/python3.7/dist-packages (from requests<3.0.0,>=2.24.0->apache-beam[interactive]) (2.10)\n",
            "Requirement already satisfied: charset-normalizer~=2.0.0 in /usr/local/lib/python3.7/dist-packages (from requests<3.0.0,>=2.24.0->apache-beam[interactive]) (2.0.7)\n",
            "Requirement already satisfied: certifi>=2017.4.17 in /usr/local/lib/python3.7/dist-packages (from requests<3.0.0,>=2.24.0->apache-beam[interactive]) (2021.10.8)\n",
            "Requirement already satisfied: notebook>=4.4.1 in /usr/local/lib/python3.7/dist-packages (from widgetsnbextension~=3.5.0->ipywidgets<8,>=7.6.5->apache-beam[interactive]) (5.3.1)\n",
            "Requirement already satisfied: jinja2 in /usr/local/lib/python3.7/dist-packages (from notebook>=4.4.1->widgetsnbextension~=3.5.0->ipywidgets<8,>=7.6.5->apache-beam[interactive]) (2.11.3)\n",
            "Requirement already satisfied: terminado>=0.8.1 in /usr/local/lib/python3.7/dist-packages (from notebook>=4.4.1->widgetsnbextension~=3.5.0->ipywidgets<8,>=7.6.5->apache-beam[interactive]) (0.12.1)\n",
            "Requirement already satisfied: Send2Trash in /usr/local/lib/python3.7/dist-packages (from notebook>=4.4.1->widgetsnbextension~=3.5.0->ipywidgets<8,>=7.6.5->apache-beam[interactive]) (1.8.0)\n",
            "Requirement already satisfied: nbconvert in /usr/local/lib/python3.7/dist-packages (from notebook>=4.4.1->widgetsnbextension~=3.5.0->ipywidgets<8,>=7.6.5->apache-beam[interactive]) (5.6.1)\n",
            "Requirement already satisfied: MarkupSafe>=0.23 in /usr/local/lib/python3.7/dist-packages (from jinja2->notebook>=4.4.1->widgetsnbextension~=3.5.0->ipywidgets<8,>=7.6.5->apache-beam[interactive]) (2.0.1)\n",
            "Requirement already satisfied: bleach in /usr/local/lib/python3.7/dist-packages (from nbconvert->notebook>=4.4.1->widgetsnbextension~=3.5.0->ipywidgets<8,>=7.6.5->apache-beam[interactive]) (4.1.0)\n",
            "Requirement already satisfied: testpath in /usr/local/lib/python3.7/dist-packages (from nbconvert->notebook>=4.4.1->widgetsnbextension~=3.5.0->ipywidgets<8,>=7.6.5->apache-beam[interactive]) (0.5.0)\n",
            "Requirement already satisfied: entrypoints>=0.2.2 in /usr/local/lib/python3.7/dist-packages (from nbconvert->notebook>=4.4.1->widgetsnbextension~=3.5.0->ipywidgets<8,>=7.6.5->apache-beam[interactive]) (0.3)\n",
            "Requirement already satisfied: mistune<2,>=0.8.1 in /usr/local/lib/python3.7/dist-packages (from nbconvert->notebook>=4.4.1->widgetsnbextension~=3.5.0->ipywidgets<8,>=7.6.5->apache-beam[interactive]) (0.8.4)\n",
            "Requirement already satisfied: pandocfilters>=1.4.1 in /usr/local/lib/python3.7/dist-packages (from nbconvert->notebook>=4.4.1->widgetsnbextension~=3.5.0->ipywidgets<8,>=7.6.5->apache-beam[interactive]) (1.5.0)\n",
            "Requirement already satisfied: defusedxml in /usr/local/lib/python3.7/dist-packages (from nbconvert->notebook>=4.4.1->widgetsnbextension~=3.5.0->ipywidgets<8,>=7.6.5->apache-beam[interactive]) (0.7.1)\n",
            "Requirement already satisfied: packaging in /usr/local/lib/python3.7/dist-packages (from bleach->nbconvert->notebook>=4.4.1->widgetsnbextension~=3.5.0->ipywidgets<8,>=7.6.5->apache-beam[interactive]) (21.3)\n",
            "Requirement already satisfied: webencodings in /usr/local/lib/python3.7/dist-packages (from bleach->nbconvert->notebook>=4.4.1->widgetsnbextension~=3.5.0->ipywidgets<8,>=7.6.5->apache-beam[interactive]) (0.5.1)\n",
            "Requirement already satisfied: apache_beam[gcp] in /usr/local/lib/python3.7/dist-packages (2.34.0)\n",
            "Requirement already satisfied: grpcio<2,>=1.29.0 in /usr/local/lib/python3.7/dist-packages (from apache_beam[gcp]) (1.42.0)\n",
            "Requirement already satisfied: protobuf<4,>=3.12.2 in /usr/local/lib/python3.7/dist-packages (from apache_beam[gcp]) (3.19.1)\n",
            "Requirement already satisfied: crcmod<2.0,>=1.7 in /usr/local/lib/python3.7/dist-packages (from apache_beam[gcp]) (1.7)\n",
            "Requirement already satisfied: requests<3.0.0,>=2.24.0 in /usr/local/lib/python3.7/dist-packages (from apache_beam[gcp]) (2.26.0)\n",
            "Requirement already satisfied: numpy<1.21.0,>=1.14.3 in /usr/local/lib/python3.7/dist-packages (from apache_beam[gcp]) (1.19.5)\n",
            "Requirement already satisfied: typing-extensions<4,>=3.7.0 in /usr/local/lib/python3.7/dist-packages (from apache_beam[gcp]) (3.10.0.2)\n",
            "Requirement already satisfied: pyarrow<6.0.0,>=0.15.1 in /usr/local/lib/python3.7/dist-packages (from apache_beam[gcp]) (3.0.0)\n",
            "Requirement already satisfied: orjson<4.0 in /usr/local/lib/python3.7/dist-packages (from apache_beam[gcp]) (3.6.4)\n",
            "Requirement already satisfied: fastavro<2,>=0.21.4 in /usr/local/lib/python3.7/dist-packages (from apache_beam[gcp]) (1.4.7)\n",
            "Requirement already satisfied: pydot<2,>=1.2.0 in /usr/local/lib/python3.7/dist-packages (from apache_beam[gcp]) (1.3.0)\n",
            "Requirement already satisfied: httplib2<0.20.0,>=0.8 in /usr/local/lib/python3.7/dist-packages (from apache_beam[gcp]) (0.17.4)\n",
            "Requirement already satisfied: dill<0.3.2,>=0.3.1.1 in /usr/local/lib/python3.7/dist-packages (from apache_beam[gcp]) (0.3.1.1)\n",
            "Requirement already satisfied: pymongo<4.0.0,>=3.8.0 in /usr/local/lib/python3.7/dist-packages (from apache_beam[gcp]) (3.12.1)\n",
            "Requirement already satisfied: future<1.0.0,>=0.18.2 in /usr/local/lib/python3.7/dist-packages (from apache_beam[gcp]) (0.18.2)\n",
            "Requirement already satisfied: pytz>=2018.3 in /usr/local/lib/python3.7/dist-packages (from apache_beam[gcp]) (2018.9)\n",
            "Requirement already satisfied: hdfs<3.0.0,>=2.1.0 in /usr/local/lib/python3.7/dist-packages (from apache_beam[gcp]) (2.6.0)\n",
            "Requirement already satisfied: avro-python3!=1.9.2,<1.10.0,>=1.8.1 in /usr/local/lib/python3.7/dist-packages (from apache_beam[gcp]) (1.9.2.1)\n",
            "Requirement already satisfied: oauth2client<5,>=2.0.1 in /usr/local/lib/python3.7/dist-packages (from apache_beam[gcp]) (4.1.3)\n",
            "Requirement already satisfied: python-dateutil<3,>=2.8.0 in /usr/local/lib/python3.7/dist-packages (from apache_beam[gcp]) (2.8.2)\n",
            "Requirement already satisfied: google-cloud-pubsub<2,>=0.39.0 in /usr/local/lib/python3.7/dist-packages (from apache_beam[gcp]) (1.7.0)\n",
            "Requirement already satisfied: google-cloud-bigquery-storage>=2.6.3 in /usr/local/lib/python3.7/dist-packages (from apache_beam[gcp]) (2.10.1)\n",
            "Requirement already satisfied: google-apitools<0.5.32,>=0.5.31 in /usr/local/lib/python3.7/dist-packages (from apache_beam[gcp]) (0.5.31)\n",
            "Requirement already satisfied: grpcio-gcp<1,>=0.2.2 in /usr/local/lib/python3.7/dist-packages (from apache_beam[gcp]) (0.2.2)\n",
            "Requirement already satisfied: google-cloud-recommendations-ai<=0.2.0,>=0.1.0 in /usr/local/lib/python3.7/dist-packages (from apache_beam[gcp]) (0.2.0)\n",
            "Requirement already satisfied: google-cloud-core<2,>=0.28.1 in /usr/local/lib/python3.7/dist-packages (from apache_beam[gcp]) (1.7.2)\n",
            "Requirement already satisfied: google-cloud-videointelligence<2,>=1.8.0 in /usr/local/lib/python3.7/dist-packages (from apache_beam[gcp]) (1.16.1)\n",
            "Requirement already satisfied: google-cloud-bigtable<2,>=0.31.1 in /usr/local/lib/python3.7/dist-packages (from apache_beam[gcp]) (1.7.0)\n",
            "Requirement already satisfied: cachetools<5,>=3.1.0 in /usr/local/lib/python3.7/dist-packages (from apache_beam[gcp]) (4.2.4)\n",
            "Requirement already satisfied: google-cloud-datastore<2,>=1.8.0 in /usr/local/lib/python3.7/dist-packages (from apache_beam[gcp]) (1.8.0)\n",
            "Requirement already satisfied: google-cloud-bigquery<3,>=1.6.0 in /usr/local/lib/python3.7/dist-packages (from apache_beam[gcp]) (1.21.0)\n",
            "Requirement already satisfied: google-auth<3,>=1.18.0 in /usr/local/lib/python3.7/dist-packages (from apache_beam[gcp]) (1.35.0)\n",
            "Requirement already satisfied: google-cloud-spanner<2,>=1.13.0 in /usr/local/lib/python3.7/dist-packages (from apache_beam[gcp]) (1.19.1)\n",
            "Requirement already satisfied: google-cloud-vision<2,>=0.38.0 in /usr/local/lib/python3.7/dist-packages (from apache_beam[gcp]) (1.0.0)\n",
            "Requirement already satisfied: google-cloud-dlp<2,>=0.12.0 in /usr/local/lib/python3.7/dist-packages (from apache_beam[gcp]) (1.0.0)\n",
            "Requirement already satisfied: google-cloud-language<2,>=1.3.0 in /usr/local/lib/python3.7/dist-packages (from apache_beam[gcp]) (1.3.0)\n",
            "Requirement already satisfied: six>=1.12.0 in /usr/local/lib/python3.7/dist-packages (from google-apitools<0.5.32,>=0.5.31->apache_beam[gcp]) (1.15.0)\n",
            "Requirement already satisfied: fasteners>=0.14 in /usr/local/lib/python3.7/dist-packages (from google-apitools<0.5.32,>=0.5.31->apache_beam[gcp]) (0.16.3)\n",
            "Requirement already satisfied: pyasn1-modules>=0.2.1 in /usr/local/lib/python3.7/dist-packages (from google-auth<3,>=1.18.0->apache_beam[gcp]) (0.2.8)\n",
            "Requirement already satisfied: setuptools>=40.3.0 in /usr/local/lib/python3.7/dist-packages (from google-auth<3,>=1.18.0->apache_beam[gcp]) (57.4.0)\n",
            "Requirement already satisfied: rsa<5,>=3.1.4 in /usr/local/lib/python3.7/dist-packages (from google-auth<3,>=1.18.0->apache_beam[gcp]) (4.7.2)\n",
            "Requirement already satisfied: google-resumable-media!=0.4.0,<0.5.0dev,>=0.3.1 in /usr/local/lib/python3.7/dist-packages (from google-cloud-bigquery<3,>=1.6.0->apache_beam[gcp]) (0.4.1)\n",
            "Requirement already satisfied: libcst>=0.2.5 in /usr/local/lib/python3.7/dist-packages (from google-cloud-bigquery-storage>=2.6.3->apache_beam[gcp]) (0.3.23)\n",
            "Requirement already satisfied: proto-plus>=1.18.0 in /usr/local/lib/python3.7/dist-packages (from google-cloud-bigquery-storage>=2.6.3->apache_beam[gcp]) (1.19.8)\n",
            "Requirement already satisfied: google-api-core[grpc]<3.0.0dev,>=1.28.0 in /usr/local/lib/python3.7/dist-packages (from google-cloud-bigquery-storage>=2.6.3->apache_beam[gcp]) (1.31.4)\n",
            "Requirement already satisfied: packaging>=14.3 in /usr/local/lib/python3.7/dist-packages (from google-api-core[grpc]<3.0.0dev,>=1.28.0->google-cloud-bigquery-storage>=2.6.3->apache_beam[gcp]) (21.3)\n",
            "Requirement already satisfied: googleapis-common-protos<2.0dev,>=1.6.0 in /usr/local/lib/python3.7/dist-packages (from google-api-core[grpc]<3.0.0dev,>=1.28.0->google-cloud-bigquery-storage>=2.6.3->apache_beam[gcp]) (1.53.0)\n",
            "Requirement already satisfied: grpc-google-iam-v1<0.13dev,>=0.12.3 in /usr/local/lib/python3.7/dist-packages (from google-cloud-bigtable<2,>=0.31.1->apache_beam[gcp]) (0.12.3)\n",
            "Requirement already satisfied: docopt in /usr/local/lib/python3.7/dist-packages (from hdfs<3.0.0,>=2.1.0->apache_beam[gcp]) (0.6.2)\n",
            "Requirement already satisfied: pyyaml>=5.2 in /usr/local/lib/python3.7/dist-packages (from libcst>=0.2.5->google-cloud-bigquery-storage>=2.6.3->apache_beam[gcp]) (6.0)\n",
            "Requirement already satisfied: typing-inspect>=0.4.0 in /usr/local/lib/python3.7/dist-packages (from libcst>=0.2.5->google-cloud-bigquery-storage>=2.6.3->apache_beam[gcp]) (0.7.1)\n",
            "Requirement already satisfied: pyasn1>=0.1.7 in /usr/local/lib/python3.7/dist-packages (from oauth2client<5,>=2.0.1->apache_beam[gcp]) (0.4.8)\n",
            "Requirement already satisfied: pyparsing!=3.0.5,>=2.0.2 in /usr/local/lib/python3.7/dist-packages (from packaging>=14.3->google-api-core[grpc]<3.0.0dev,>=1.28.0->google-cloud-bigquery-storage>=2.6.3->apache_beam[gcp]) (3.0.6)\n",
            "Requirement already satisfied: idna<4,>=2.5 in /usr/local/lib/python3.7/dist-packages (from requests<3.0.0,>=2.24.0->apache_beam[gcp]) (2.10)\n",
            "Requirement already satisfied: certifi>=2017.4.17 in /usr/local/lib/python3.7/dist-packages (from requests<3.0.0,>=2.24.0->apache_beam[gcp]) (2021.10.8)\n",
            "Requirement already satisfied: charset-normalizer~=2.0.0 in /usr/local/lib/python3.7/dist-packages (from requests<3.0.0,>=2.24.0->apache_beam[gcp]) (2.0.7)\n",
            "Requirement already satisfied: urllib3<1.27,>=1.21.1 in /usr/local/lib/python3.7/dist-packages (from requests<3.0.0,>=2.24.0->apache_beam[gcp]) (1.24.3)\n",
            "Requirement already satisfied: mypy-extensions>=0.3.0 in /usr/local/lib/python3.7/dist-packages (from typing-inspect>=0.4.0->libcst>=0.2.5->google-cloud-bigquery-storage>=2.6.3->apache_beam[gcp]) (0.4.3)\n",
            "Requirement already satisfied: google-cloud-bigquery in /usr/local/lib/python3.7/dist-packages (1.21.0)\n",
            "Requirement already satisfied: google-cloud-core<2.0dev,>=1.0.3 in /usr/local/lib/python3.7/dist-packages (from google-cloud-bigquery) (1.7.2)\n",
            "Requirement already satisfied: protobuf>=3.6.0 in /usr/local/lib/python3.7/dist-packages (from google-cloud-bigquery) (3.19.1)\n",
            "Requirement already satisfied: google-resumable-media!=0.4.0,<0.5.0dev,>=0.3.1 in /usr/local/lib/python3.7/dist-packages (from google-cloud-bigquery) (0.4.1)\n",
            "Requirement already satisfied: google-api-core<2.0.0dev,>=1.21.0 in /usr/local/lib/python3.7/dist-packages (from google-cloud-core<2.0dev,>=1.0.3->google-cloud-bigquery) (1.31.4)\n",
            "Requirement already satisfied: google-auth<2.0dev,>=1.24.0 in /usr/local/lib/python3.7/dist-packages (from google-cloud-core<2.0dev,>=1.0.3->google-cloud-bigquery) (1.35.0)\n",
            "Requirement already satisfied: six>=1.12.0 in /usr/local/lib/python3.7/dist-packages (from google-cloud-core<2.0dev,>=1.0.3->google-cloud-bigquery) (1.15.0)\n",
            "Requirement already satisfied: googleapis-common-protos<2.0dev,>=1.6.0 in /usr/local/lib/python3.7/dist-packages (from google-api-core<2.0.0dev,>=1.21.0->google-cloud-core<2.0dev,>=1.0.3->google-cloud-bigquery) (1.53.0)\n",
            "Requirement already satisfied: packaging>=14.3 in /usr/local/lib/python3.7/dist-packages (from google-api-core<2.0.0dev,>=1.21.0->google-cloud-core<2.0dev,>=1.0.3->google-cloud-bigquery) (21.3)\n",
            "Requirement already satisfied: requests<3.0.0dev,>=2.18.0 in /usr/local/lib/python3.7/dist-packages (from google-api-core<2.0.0dev,>=1.21.0->google-cloud-core<2.0dev,>=1.0.3->google-cloud-bigquery) (2.26.0)\n",
            "Requirement already satisfied: pytz in /usr/local/lib/python3.7/dist-packages (from google-api-core<2.0.0dev,>=1.21.0->google-cloud-core<2.0dev,>=1.0.3->google-cloud-bigquery) (2018.9)\n",
            "Requirement already satisfied: setuptools>=40.3.0 in /usr/local/lib/python3.7/dist-packages (from google-api-core<2.0.0dev,>=1.21.0->google-cloud-core<2.0dev,>=1.0.3->google-cloud-bigquery) (57.4.0)\n",
            "Requirement already satisfied: cachetools<5.0,>=2.0.0 in /usr/local/lib/python3.7/dist-packages (from google-auth<2.0dev,>=1.24.0->google-cloud-core<2.0dev,>=1.0.3->google-cloud-bigquery) (4.2.4)\n",
            "Requirement already satisfied: rsa<5,>=3.1.4 in /usr/local/lib/python3.7/dist-packages (from google-auth<2.0dev,>=1.24.0->google-cloud-core<2.0dev,>=1.0.3->google-cloud-bigquery) (4.7.2)\n",
            "Requirement already satisfied: pyasn1-modules>=0.2.1 in /usr/local/lib/python3.7/dist-packages (from google-auth<2.0dev,>=1.24.0->google-cloud-core<2.0dev,>=1.0.3->google-cloud-bigquery) (0.2.8)\n",
            "Requirement already satisfied: pyparsing!=3.0.5,>=2.0.2 in /usr/local/lib/python3.7/dist-packages (from packaging>=14.3->google-api-core<2.0.0dev,>=1.21.0->google-cloud-core<2.0dev,>=1.0.3->google-cloud-bigquery) (3.0.6)\n",
            "Requirement already satisfied: pyasn1<0.5.0,>=0.4.6 in /usr/local/lib/python3.7/dist-packages (from pyasn1-modules>=0.2.1->google-auth<2.0dev,>=1.24.0->google-cloud-core<2.0dev,>=1.0.3->google-cloud-bigquery) (0.4.8)\n",
            "Requirement already satisfied: certifi>=2017.4.17 in /usr/local/lib/python3.7/dist-packages (from requests<3.0.0dev,>=2.18.0->google-api-core<2.0.0dev,>=1.21.0->google-cloud-core<2.0dev,>=1.0.3->google-cloud-bigquery) (2021.10.8)\n",
            "Requirement already satisfied: charset-normalizer~=2.0.0 in /usr/local/lib/python3.7/dist-packages (from requests<3.0.0dev,>=2.18.0->google-api-core<2.0.0dev,>=1.21.0->google-cloud-core<2.0dev,>=1.0.3->google-cloud-bigquery) (2.0.7)\n",
            "Requirement already satisfied: urllib3<1.27,>=1.21.1 in /usr/local/lib/python3.7/dist-packages (from requests<3.0.0dev,>=2.18.0->google-api-core<2.0.0dev,>=1.21.0->google-cloud-core<2.0dev,>=1.0.3->google-cloud-bigquery) (1.24.3)\n",
            "Requirement already satisfied: idna<4,>=2.5 in /usr/local/lib/python3.7/dist-packages (from requests<3.0.0dev,>=2.18.0->google-api-core<2.0.0dev,>=1.21.0->google-cloud-core<2.0dev,>=1.0.3->google-cloud-bigquery) (2.10)\n"
          ]
        }
      ]
    },
    {
      "cell_type": "markdown",
      "metadata": {
        "id": "fYVBdRBLv8Os"
      },
      "source": [
        "### IMPORTANDO BIBLIOTECAS"
      ]
    },
    {
      "cell_type": "code",
      "metadata": {
        "id": "FEGAPAFZP8TJ",
        "colab": {
          "base_uri": "https://localhost:8080/"
        },
        "outputId": "70d26295-eef7-4e73-f4bb-83d1d6d38e17"
      },
      "source": [
        "import csv\n",
        "import time\n",
        "import os\n",
        "import json\n",
        "\n",
        "import fsspec\n",
        "import gcsfs\n",
        "import pandas as pd\n",
        "\n",
        "import apache_beam as beam\n",
        "from apache_beam import window\n",
        "from apache_beam import coders\n",
        "from apache_beam.io.gcp.bigquery import parse_table_schema_from_json\n",
        "from apache_beam.io.gcp.internal.clients import bigquery\n",
        "from apache_beam.options.pipeline_options import GoogleCloudOptions\n",
        "from apache_beam.options.pipeline_options import PipelineOptions\n",
        "from apache_beam.options.pipeline_options import SetupOptions\n",
        "from apache_beam.options.pipeline_options import StandardOptions\n",
        "\n",
        "from google.cloud import pubsub_v1\n",
        "from google.cloud import storage\n",
        "from google.cloud import bigquery\n",
        "from google.colab import drive\n",
        "\n",
        "drive.mount('/content/drive')\n",
        "\n",
        "# Configurando conta de serviço\n",
        "service_account_key = r\"/content/soulcode-projeto-final-4b88bea6e07a.json\"\n",
        "os.environ[\"GOOGLE_APPLICATION_CREDENTIALS\"] = service_account_key"
      ],
      "execution_count": 16,
      "outputs": [
        {
          "output_type": "stream",
          "name": "stdout",
          "text": [
            "Drive already mounted at /content/drive; to attempt to forcibly remount, call drive.mount(\"/content/drive\", force_remount=True).\n"
          ]
        }
      ]
    },
    {
      "cell_type": "code",
      "metadata": {
        "id": "HsL9GtpZzmZq"
      },
      "source": [
        ""
      ],
      "execution_count": null,
      "outputs": []
    },
    {
      "cell_type": "markdown",
      "metadata": {
        "id": "W8wzeZmeP0WU"
      },
      "source": [
        "# PIPELINE BATCH"
      ]
    },
    {
      "cell_type": "markdown",
      "metadata": {
        "id": "JMthvlL0wHyd"
      },
      "source": [
        "### PIPELINE LOCAL PARA GCS"
      ]
    },
    {
      "cell_type": "code",
      "metadata": {
        "id": "W5dfP6BR36BD",
        "colab": {
          "base_uri": "https://localhost:8080/"
        },
        "outputId": "5b8a955f-5575-4a30-8ccf-b8c8dcf4619b"
      },
      "source": [
        "# Criando pipeline\n",
        "p1 = beam.Pipeline()\n",
        "\n",
        "# Modelo de Pipeline. Ingerindo arquivos locais\n",
        "\n",
        "path_file = r'/content/drive/MyDrive/Projeto Final/OcorrenciasUF.json'\n",
        "\n",
        "rows = (\n",
        "    p1\n",
        "    |'Extrair_Dados' >> beam.io.ReadFromText(path_file, skip_header_lines=0, coder=coders.StrUtf8Coder())\n",
        "    |'Ler_Elementos' >> beam.Map(lambda element: element)\n",
        "    # |'Separar_Elementos' >> beam.Map(lambda element: element.split(','))\n",
        "    |'Gravar_resultado' >> beam.io.WriteToText('gs://data_lake_ingest_data/1_input/converter/OcorrenciasUF', file_name_suffix='.json')\n",
        "   )\n",
        "\n",
        "p1.run()\n",
        "\n",
        "df_test = pd.read_json('gs://data_lake_ingest_data/1_input/converter/OcorrenciasUF-00000-of-00001.json')\n",
        "print(df_test)\n",
        "print(df_test.dtypes)"
      ],
      "execution_count": 17,
      "outputs": [
        {
          "output_type": "stream",
          "name": "stderr",
          "text": [
            "WARNING:root:Make sure that locally built Python SDK docker image has Python 3.7 interpreter.\n",
            "WARNING:apache_beam.io.filebasedsink:Deleting 1 existing files in target path matching: -*-of-%(num_shards)05d\n"
          ]
        },
        {
          "output_type": "stream",
          "name": "stdout",
          "text": [
            "              UF                           Tipo Crime  ...       Mês Ocorrências\n",
            "0           Acre                              Estupro  ...   janeiro          39\n",
            "1           Acre                     Furto de veículo  ...   janeiro          55\n",
            "2           Acre                     Homicídio doloso  ...   janeiro          14\n",
            "3           Acre      Lesão corporal seguida de morte  ...   janeiro           0\n",
            "4           Acre       Roubo a instituição financeira  ...   janeiro           0\n",
            "...          ...                                  ...  ...       ...         ...\n",
            "18769  Tocantins       Roubo a instituição financeira  ...  dezembro           6\n",
            "18770  Tocantins                       Roubo de carga  ...  dezembro           1\n",
            "18771  Tocantins                     Roubo de veículo  ...  dezembro          55\n",
            "18772  Tocantins  Roubo seguido de morte (latrocínio)  ...  dezembro           2\n",
            "18773  Tocantins               Tentativa de homicídio  ...  dezembro          42\n",
            "\n",
            "[18774 rows x 5 columns]\n",
            "UF             object\n",
            "Tipo Crime     object\n",
            "Ano             int64\n",
            "Mês            object\n",
            "Ocorrências     int64\n",
            "dtype: object\n"
          ]
        }
      ]
    },
    {
      "cell_type": "markdown",
      "metadata": {
        "id": "N6tPyPsiwbkm"
      },
      "source": [
        "### PIPELINE GCS PARA BIGQUERY (BATCH)"
      ]
    },
    {
      "cell_type": "code",
      "metadata": {
        "colab": {
          "base_uri": "https://localhost:8080/",
          "height": 91
        },
        "id": "UZjFWi3hPqRB",
        "outputId": "86d28d12-a128-42f3-fc6d-22754e26e06c"
      },
      "source": [
        "# CONTINUANDO PIPELINE \n",
        "def print_row(element):\n",
        "    return print(element)\n",
        "    \n",
        "pipeline_args=['--runner=DataflowRunner',\n",
        "               '--job_name=bq-load',\n",
        "               '--project=soulcode-projeto-final',\n",
        "               '--region=southamerica-east1',\n",
        "               '--temp_location=gs://data_lake_ingest_data/temp_process',\n",
        "               '--staging_location=gs://data_lake_ingest_data/temp_process',\n",
        "               '--template_location=gs://data_lake_ingest_data/4_templates/template_model_batch',\n",
        "               '-–save_main_session'\n",
        "               ]\n",
        "\n",
        "options = PipelineOptions(pipeline_args)\n",
        "p1 = beam.Pipeline(options=options)\n",
        "\n",
        "path_file = 'gs://data_lake_ingest_data/2_temp/temp_pandas_total_pop_ano_uf.csv'\n",
        "\n",
        "table_schema = {\n",
        "    \"fields\": [\n",
        "                {\"name\":\"UF\", \"type\":\"STRING\", \"mode\":\"NULLABLE\"},\n",
        "                {\"name\":\"populacao_estimada\", \"type\":\"FLOAT\", \"mode\":\"NULLABLE\"}, \n",
        "                {\"name\":\"Ano\", \"type\":\"INTEGER\", \"mode\":\"NULLABLE\"},\n",
        "            ]\n",
        "        }\n",
        "\n",
        "# https://medium.com/datamindedbe/how-to-build-a-cleaning-pipeline-with-bigquery-and-dataflow-on-gcp-3d2f288d4e1b\n",
        "# https://stackoverflow.com/questions/48741327/writing-nested-schema-to-bigquery-from-dataflow-python\n",
        "# https://stackoverflow.com/questions/53784829/how-to-get-table-schema-from-json-file-parse-table-schema-from-json\n",
        "# https://stackoverflow.com/questions/59217700/dataflow-apache-beam-cant-write-on-bigquery\n",
        "\n",
        "rows = (\n",
        "        p1 \n",
        "        \n",
        "        |'Extraindo_Dados' >> beam.io.ReadFromText(path_file, skip_header_lines=0)\n",
        "        # |'Separar_Elementos' >> beam.Map(lambda element: element.split(','))\n",
        "        |'Print' >> beam.Map(lambda element: print_row(element)).with_output_types(Transaction)\n",
        "        |'Gravar_Resultado' >> beam.io.gcp.bigquery.WriteToBigQuery(\n",
        "                                    table='TesteBeamApache',\n",
        "                                    dataset='Teste',\n",
        "                                    project='soulcode-projeto-final',\n",
        "                                    custom_gcs_temp_location='gs://data_lake_ingest_data/temp_process',\n",
        "                                    schema=table_schema,\n",
        "                                    write_disposition=bigquery.WriteDisposition.WRITE_APPEND,\n",
        "                                    create_disposition=bigquery.CreateDisposition.CREATE_IF_NEEDED)\n",
        "        )\n",
        "\n",
        "p1.run().wait_until_finish()"
      ],
      "execution_count": null,
      "outputs": [
        {
          "output_type": "stream",
          "name": "stderr",
          "text": [
            "WARNING:root:Make sure that locally built Python SDK docker image has Python 3.7 interpreter.\n",
            "WARNING:apache_beam.options.pipeline_options:Discarding unparseable args: ['-–save_main_session=True']\n",
            "WARNING:apache_beam.options.pipeline_options:Discarding unparseable args: ['-–save_main_session=True']\n"
          ]
        },
        {
          "output_type": "execute_result",
          "data": {
            "application/vnd.google.colaboratory.intrinsic+json": {
              "type": "string"
            },
            "text/plain": [
              "'UNKNOWN'"
            ]
          },
          "metadata": {},
          "execution_count": 186
        }
      ]
    }
  ]
}