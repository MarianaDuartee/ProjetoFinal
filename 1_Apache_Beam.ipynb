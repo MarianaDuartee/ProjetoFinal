{
  "nbformat": 4,
  "nbformat_minor": 0,
  "metadata": {
    "colab": {
      "name": "1_Apache_Beam.ipynb",
      "provenance": [],
      "collapsed_sections": [
        "JMthvlL0wHyd"
      ],
      "include_colab_link": true
    },
    "kernelspec": {
      "display_name": "Python 3",
      "name": "python3"
    },
    "language_info": {
      "name": "python"
    }
  },
  "cells": [
    {
      "cell_type": "markdown",
      "metadata": {
        "id": "view-in-github",
        "colab_type": "text"
      },
      "source": [
        "<a href=\"https://colab.research.google.com/github/MarianaDuartee/ProjetoFinal/blob/main/1_Apache_Beam.ipynb\" target=\"_parent\"><img src=\"https://colab.research.google.com/assets/colab-badge.svg\" alt=\"Open In Colab\"/></a>"
      ]
    },
    {
      "cell_type": "markdown",
      "metadata": {
        "id": "Ws_n_2r8v1u-"
      },
      "source": [
        "### INSTALANDO DEPENDENCIAS"
      ]
    },
    {
      "cell_type": "code",
      "metadata": {
        "colab": {
          "base_uri": "https://localhost:8080/"
        },
        "id": "ZvWsPm-RaLzT",
        "outputId": "e4665e35-9011-4b67-c1e5-f05138aecfc8"
      },
      "source": [
        "!pip install google-cloud-pubsub\n",
        "!pip install fsspec\n",
        "!pip install gcsfs\n",
        "!pip install apache-beam[interactive]\n",
        "!pip install apache_beam[gcp]\n",
        "!pip install oauth2client"
      ],
      "execution_count": 213,
      "outputs": [
        {
          "output_type": "stream",
          "name": "stdout",
          "text": [
            "Requirement already satisfied: oauth2client in /usr/local/lib/python3.7/dist-packages (4.1.3)\n",
            "Requirement already satisfied: pyasn1>=0.1.7 in /usr/local/lib/python3.7/dist-packages (from oauth2client) (0.4.8)\n",
            "Requirement already satisfied: pyasn1-modules>=0.0.5 in /usr/local/lib/python3.7/dist-packages (from oauth2client) (0.2.8)\n",
            "Requirement already satisfied: six>=1.6.1 in /usr/local/lib/python3.7/dist-packages (from oauth2client) (1.15.0)\n",
            "Requirement already satisfied: rsa>=3.1.4 in /usr/local/lib/python3.7/dist-packages (from oauth2client) (4.7.2)\n",
            "Requirement already satisfied: httplib2>=0.9.1 in /usr/local/lib/python3.7/dist-packages (from oauth2client) (0.17.4)\n"
          ]
        }
      ]
    },
    {
      "cell_type": "markdown",
      "metadata": {
        "id": "fYVBdRBLv8Os"
      },
      "source": [
        "### IMPORTANDO BIBLIOTECAS"
      ]
    },
    {
      "cell_type": "code",
      "metadata": {
        "id": "FEGAPAFZP8TJ"
      },
      "source": [
        "import csv\n",
        "import time\n",
        "import os\n",
        "import json\n",
        "import argparse\n",
        "import logging\n",
        "\n",
        "import fsspec\n",
        "import gcsfs\n",
        "import pandas as pd\n",
        "\n",
        "import apache_beam as beam\n",
        "from apache_beam import coders\n",
        "from apache_beam.io.gcp.internal.clients import bigquery\n",
        "from apache_beam.options.pipeline_options import GoogleCloudOptions\n",
        "from apache_beam.options.pipeline_options import PipelineOptions\n",
        "\n",
        "from google.cloud import storage\n",
        "from oauth2client.client import Storage, Credentials\n",
        "\n",
        "# Configurando conta de serviço\n",
        "service_account_key = r\"/content/soulcode-projeto-final-4b88bea6e07a.json\"\n",
        "os.environ[\"GOOGLE_APPLICATION_CREDENTIALS\"] = service_account_key\n"
      ],
      "execution_count": null,
      "outputs": []
    },
    {
      "cell_type": "markdown",
      "metadata": {
        "id": "W8wzeZmeP0WU"
      },
      "source": [
        "# PIPELINE BATCH"
      ]
    },
    {
      "cell_type": "markdown",
      "metadata": {
        "id": "JMthvlL0wHyd"
      },
      "source": [
        "### PIPELINE LOCAL PARA GCS"
      ]
    },
    {
      "cell_type": "code",
      "metadata": {
        "id": "W5dfP6BR36BD"
      },
      "source": [
        "# Criando pipeline\n",
        "p1 = beam.Pipeline()\n",
        "\n",
        "# Modelo de Pipeline. Ingerindo arquivos locais\n",
        "\n",
        "path_file = r'/content/drive/MyDrive/Projeto Final/OcorrenciasUF.json'\n",
        "\n",
        "rows = (\n",
        "    p1\n",
        "    |'Extrair_Dados' >> beam.io.Read(path_file, skip_header_lines=0, coder=coders.StrUtf8Coder())\n",
        "    |'Ler_Elementos' >> beam.Map(lambda element: element)\n",
        "    # |'Separar_Elementos' >> beam.Map(lambda element: element.split(','))\n",
        "    |'Gravar_resultado' >> beam.io.WriteToText('gs://data_lake_ingest_data/1_input/converter/OcorrenciasUF', file_name_suffix='.json')\n",
        "   )\n",
        "\n",
        "p1.run()\n",
        "\n",
        "df_test = pd.read_json('gs://data_lake_ingest_data/1_input/converter/OcorrenciasUF-00000-of-00001.json')\n",
        "print(df_test)\n",
        "print(df_test.dtypes)"
      ],
      "execution_count": null,
      "outputs": []
    },
    {
      "cell_type": "markdown",
      "metadata": {
        "id": "N6tPyPsiwbkm"
      },
      "source": [
        "### PIPELINE GCS PARA BIGQUERY (BATCH)"
      ]
    },
    {
      "cell_type": "code",
      "metadata": {
        "id": "CzMW001Dtmdo"
      },
      "source": [
        "def create_table(element):\n",
        "    dict_ = {} \n",
        "    dict_['UF'] = str(element[1])\n",
        "    dict_['populacao_estimada'] = int(element[2])\n",
        "    dict_['Ano'] = int(element[3])\n",
        "    return(dict_)\n",
        "\n",
        "def run(argv=None):\n",
        "    \"\"\"Run the workflow.\"\"\"\n",
        "    parser = argparse.ArgumentParser()\n",
        "\n",
        "    parser.add_argument('--output', required=True,\n",
        "    help=(\n",
        "          'Output BigQuery table for results specified as: '\n",
        "          'PROJECT:DATASET.TABLE or DATASET.TABLE.'))\n",
        "    known_args, pipeline_args = parser.parse_known_args(argv)\n",
        "\n",
        "    with beam.Pipeline(argv=pipeline_args) as p1:\n",
        "        table_schema = bigquery.TableSchema()\n",
        "\n",
        "        UF = bigquery.TableFieldSchema()\n",
        "        UF.name = 'UF'\n",
        "        UF.type = 'string'\n",
        "        UF.mode = 'nullable'\n",
        "        table_schema.fields.append(UF)\n",
        "\n",
        "        populacao_estimada = bigquery.TableFieldSchema()\n",
        "        populacao_estimada.name = 'populacao_estimada'\n",
        "        populacao_estimada.type = 'integer'\n",
        "        populacao_estimada.mode = 'nullable'\n",
        "        table_schema.fields.append(populacao_estimada)\n",
        "\n",
        "        Ano = bigquery.TableFieldSchema()\n",
        "        Ano.name = 'populacao_estimada'\n",
        "        Ano.type = 'integer'\n",
        "        Ano.mode = 'nullable'\n",
        "        table_schema.fields.append(Ano)\n",
        "\n",
        "\n",
        "# class FileStorage(Storage):\n",
        "#     def __init__(self, filepath):\n",
        "#         self._filepath = filepath\n",
        "\n",
        "#     def locked_get(self):\n",
        "#         with open(self._filepath, 'r') as f:\n",
        "#             json = f.read()\n",
        "#         credentials = Credentials.new_from_json(json)\n",
        "#         return credentials\n",
        "\n",
        "# if not os.environ.get('SERVER_SOFTWARE', '').startswith('Development'):\n",
        "#     credentials = AppAssertionCredentials(scope='https://www.googleapis.com/auth/bigquery')\n",
        "# else:\n",
        "#     filepath = service_account_key\n",
        "#     storage = FileStorage(filepath)\n",
        "#     credentials = storage.get()\n",
        "\n",
        "pipeline_args={'runner':'DataflowRunner',\n",
        "               'job_name':'bq-load',\n",
        "               'project':'soulcode-projeto-final',\n",
        "               'region':'southamerica-east1',\n",
        "               'temp_location':'gs://data_lake_ingest_data/temp_process',\n",
        "               'staging_location':'gs://data_lake_ingest_data/temp_process',\n",
        "               'template_location':'gs://data_lake_ingest_data/4_templates/template_model_batch',\n",
        "               'save_main_session':True,\n",
        "               'enable_streaming_engine':True,\n",
        "            #    'Experiments enabled for project:[enable_streaming_engine, enable_windmill_service, shuffle_mode=service], experiments requested for job: [use_runner_v2]',\n",
        "               }\n",
        "\n",
        "options = PipelineOptions.from_dictionary(pipeline_args)\n",
        "p1 = beam.Pipeline(options=options)\n",
        "\n",
        "p1 = beam.Pipeline()\n",
        "\n",
        "path_file_input = 'gs://data_lake_ingest_data/2_temp/temp_pandas_total_pop_ano_uf.csv'\n",
        "path_file_output = 'gs://data_lake_ingest_data/temp/temp_pandas_total_pop_ano_uf'\n",
        "\n",
        "table_schema =[\n",
        "                {\n",
        "                    \"mode\":\"NULLABLE\",\n",
        "                    \"name\":\"UF\",\n",
        "                    \"type\":\"STRING\"\n",
        "                },\n",
        "                {\n",
        "                    \"mode\":\"NULLABLE\",\n",
        "                    \"name\":\"populacao_estimada\",\n",
        "                    \"type\":\"INTEGER\"\n",
        "                },\n",
        "                {\n",
        "                    \"mode\":\"NULLABLE\",\n",
        "                    \"name\":\"Ano\",\n",
        "                    \"type\":\"INTEGER\"\n",
        "                }\n",
        "            ]\n",
        "\n",
        "schema = json.dumps(table_schema)\n",
        "\n",
        "pass_to_table = (\n",
        "        p1 \n",
        "\n",
        "        |'Extraindo_Dados' >> beam.io.ReadFromText(path_file_input, skip_header_lines=1)\n",
        "        |'Separar_Elementos' >> beam.Map(lambda element: element.split(','))\n",
        "        |'Criar_Tabela' >> beam.Map(lambda element: create_table(element))\n",
        "        |'Print' >> beam.Map(lambda element: print(element))\n",
        "        |'Gravar_resultado' >> beam.io.WriteToText(path_file_output, file_name_suffix='.csv', header=True)\n",
        "        |'Gravar_Resultado' >> beam.io.WriteToBigQuery(\n",
        "                                    table='Teste.TesteBeamApache',\n",
        "                                    dataset='Teste',\n",
        "                                    project='soulcode-projeto-final',\n",
        "                                    custom_gcs_temp_location='gs://data_lake_ingest_data/temp_process',\n",
        "                                    schema=schema,\n",
        "                                    create_disposition=beam.io.BigQueryDisposition.CREATE_IF_NEEDED,\n",
        "                                    write_disposition=beam.io.BigQueryDisposition.WRITE_TRUNCATE)\n",
        "        )\n",
        "\n",
        "p1.run().wait_until_finish()"
      ],
      "execution_count": null,
      "outputs": []
    }
  ]
}