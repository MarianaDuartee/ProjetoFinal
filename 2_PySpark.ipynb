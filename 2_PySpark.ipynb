{
  "nbformat": 4,
  "nbformat_minor": 0,
  "metadata": {
    "colab": {
      "name": "2_PySpark",
      "provenance": [],
      "collapsed_sections": [
        "2lKRbV4QOa8e",
        "wox7CNOGJGrF",
        "QVW92KejMHoY",
        "E7EKwiUaOZ7N",
        "lsZ927gDOKDx",
        "Z-SnL3GEesv8",
        "Zk-3mAb5hp6o",
        "LGSrFAzXOmCC",
        "Ng3u8XetO1jC",
        "5Bzw7Z2_PR4v",
        "_g1vWxfrPgy-",
        "RbIvpF6xB2Ge"
      ],
      "include_colab_link": true
    },
    "kernelspec": {
      "display_name": "Python 3",
      "name": "python3"
    }
  },
  "cells": [
    {
      "cell_type": "markdown",
      "metadata": {
        "id": "view-in-github",
        "colab_type": "text"
      },
      "source": [
        "<a href=\"https://colab.research.google.com/github/MarianaDuartee/ProjetoFinal/blob/main/2_PySpark.ipynb\" target=\"_parent\"><img src=\"https://colab.research.google.com/assets/colab-badge.svg\" alt=\"Open In Colab\"/></a>"
      ]
    },
    {
      "cell_type": "markdown",
      "metadata": {
        "id": "2lKRbV4QOa8e"
      },
      "source": [
        "# PYSPARK"
      ]
    },
    {
      "cell_type": "markdown",
      "metadata": {
        "id": "wox7CNOGJGrF"
      },
      "source": [
        "### INSTALANDO DEPENDECIAS"
      ]
    },
    {
      "cell_type": "code",
      "metadata": {
        "id": "AG4awT5LJEmS",
        "colab": {
          "base_uri": "https://localhost:8080/"
        },
        "outputId": "850cf08a-5ffe-4828-b5ca-7f4f7aac981c"
      },
      "source": [
        "!pip install pyspark\n",
        "!pip install gcsfs\n",
        "!pip install pandas\n",
        "!pip install pandera"
      ],
      "execution_count": null,
      "outputs": [
        {
          "output_type": "stream",
          "name": "stdout",
          "text": [
            "Requirement already satisfied: pyspark in /usr/local/lib/python3.7/dist-packages (3.2.0)\n",
            "Requirement already satisfied: py4j==0.10.9.2 in /usr/local/lib/python3.7/dist-packages (from pyspark) (0.10.9.2)\n",
            "Requirement already satisfied: gcsfs in /usr/local/lib/python3.7/dist-packages (2021.11.0)\n",
            "Requirement already satisfied: google-cloud-storage in /usr/local/lib/python3.7/dist-packages (from gcsfs) (1.18.1)\n",
            "Requirement already satisfied: google-auth>=1.2 in /usr/local/lib/python3.7/dist-packages (from gcsfs) (1.35.0)\n",
            "Requirement already satisfied: fsspec==2021.11.0 in /usr/local/lib/python3.7/dist-packages (from gcsfs) (2021.11.0)\n",
            "Requirement already satisfied: decorator>4.1.2 in /usr/local/lib/python3.7/dist-packages (from gcsfs) (4.4.2)\n",
            "Requirement already satisfied: aiohttp in /usr/local/lib/python3.7/dist-packages (from gcsfs) (3.8.1)\n",
            "Requirement already satisfied: requests in /usr/local/lib/python3.7/dist-packages (from gcsfs) (2.23.0)\n",
            "Requirement already satisfied: google-auth-oauthlib in /usr/local/lib/python3.7/dist-packages (from gcsfs) (0.4.6)\n",
            "Requirement already satisfied: pyasn1-modules>=0.2.1 in /usr/local/lib/python3.7/dist-packages (from google-auth>=1.2->gcsfs) (0.2.8)\n",
            "Requirement already satisfied: setuptools>=40.3.0 in /usr/local/lib/python3.7/dist-packages (from google-auth>=1.2->gcsfs) (57.4.0)\n",
            "Requirement already satisfied: cachetools<5.0,>=2.0.0 in /usr/local/lib/python3.7/dist-packages (from google-auth>=1.2->gcsfs) (4.2.4)\n",
            "Requirement already satisfied: rsa<5,>=3.1.4 in /usr/local/lib/python3.7/dist-packages (from google-auth>=1.2->gcsfs) (4.7.2)\n",
            "Requirement already satisfied: six>=1.9.0 in /usr/local/lib/python3.7/dist-packages (from google-auth>=1.2->gcsfs) (1.15.0)\n",
            "Requirement already satisfied: pyasn1<0.5.0,>=0.4.6 in /usr/local/lib/python3.7/dist-packages (from pyasn1-modules>=0.2.1->google-auth>=1.2->gcsfs) (0.4.8)\n",
            "Requirement already satisfied: async-timeout<5.0,>=4.0.0a3 in /usr/local/lib/python3.7/dist-packages (from aiohttp->gcsfs) (4.0.1)\n",
            "Requirement already satisfied: yarl<2.0,>=1.0 in /usr/local/lib/python3.7/dist-packages (from aiohttp->gcsfs) (1.7.2)\n",
            "Requirement already satisfied: asynctest==0.13.0 in /usr/local/lib/python3.7/dist-packages (from aiohttp->gcsfs) (0.13.0)\n",
            "Requirement already satisfied: attrs>=17.3.0 in /usr/local/lib/python3.7/dist-packages (from aiohttp->gcsfs) (21.2.0)\n",
            "Requirement already satisfied: charset-normalizer<3.0,>=2.0 in /usr/local/lib/python3.7/dist-packages (from aiohttp->gcsfs) (2.0.7)\n",
            "Requirement already satisfied: aiosignal>=1.1.2 in /usr/local/lib/python3.7/dist-packages (from aiohttp->gcsfs) (1.2.0)\n",
            "Requirement already satisfied: frozenlist>=1.1.1 in /usr/local/lib/python3.7/dist-packages (from aiohttp->gcsfs) (1.2.0)\n",
            "Requirement already satisfied: multidict<7.0,>=4.5 in /usr/local/lib/python3.7/dist-packages (from aiohttp->gcsfs) (5.2.0)\n",
            "Requirement already satisfied: typing-extensions>=3.7.4 in /usr/local/lib/python3.7/dist-packages (from aiohttp->gcsfs) (3.10.0.2)\n",
            "Requirement already satisfied: idna>=2.0 in /usr/local/lib/python3.7/dist-packages (from yarl<2.0,>=1.0->aiohttp->gcsfs) (2.10)\n",
            "Requirement already satisfied: requests-oauthlib>=0.7.0 in /usr/local/lib/python3.7/dist-packages (from google-auth-oauthlib->gcsfs) (1.3.0)\n",
            "Requirement already satisfied: oauthlib>=3.0.0 in /usr/local/lib/python3.7/dist-packages (from requests-oauthlib>=0.7.0->google-auth-oauthlib->gcsfs) (3.1.1)\n",
            "Requirement already satisfied: chardet<4,>=3.0.2 in /usr/local/lib/python3.7/dist-packages (from requests->gcsfs) (3.0.4)\n",
            "Requirement already satisfied: certifi>=2017.4.17 in /usr/local/lib/python3.7/dist-packages (from requests->gcsfs) (2021.10.8)\n",
            "Requirement already satisfied: urllib3!=1.25.0,!=1.25.1,<1.26,>=1.21.1 in /usr/local/lib/python3.7/dist-packages (from requests->gcsfs) (1.24.3)\n",
            "Requirement already satisfied: google-cloud-core<2.0dev,>=1.0.0 in /usr/local/lib/python3.7/dist-packages (from google-cloud-storage->gcsfs) (1.0.3)\n",
            "Requirement already satisfied: google-resumable-media<0.5.0dev,>=0.3.1 in /usr/local/lib/python3.7/dist-packages (from google-cloud-storage->gcsfs) (0.4.1)\n",
            "Requirement already satisfied: google-api-core<2.0.0dev,>=1.14.0 in /usr/local/lib/python3.7/dist-packages (from google-cloud-core<2.0dev,>=1.0.0->google-cloud-storage->gcsfs) (1.26.3)\n",
            "Requirement already satisfied: protobuf>=3.12.0 in /usr/local/lib/python3.7/dist-packages (from google-api-core<2.0.0dev,>=1.14.0->google-cloud-core<2.0dev,>=1.0.0->google-cloud-storage->gcsfs) (3.17.3)\n",
            "Requirement already satisfied: googleapis-common-protos<2.0dev,>=1.6.0 in /usr/local/lib/python3.7/dist-packages (from google-api-core<2.0.0dev,>=1.14.0->google-cloud-core<2.0dev,>=1.0.0->google-cloud-storage->gcsfs) (1.53.0)\n",
            "Requirement already satisfied: packaging>=14.3 in /usr/local/lib/python3.7/dist-packages (from google-api-core<2.0.0dev,>=1.14.0->google-cloud-core<2.0dev,>=1.0.0->google-cloud-storage->gcsfs) (21.3)\n",
            "Requirement already satisfied: pytz in /usr/local/lib/python3.7/dist-packages (from google-api-core<2.0.0dev,>=1.14.0->google-cloud-core<2.0dev,>=1.0.0->google-cloud-storage->gcsfs) (2018.9)\n",
            "Requirement already satisfied: pyparsing!=3.0.5,>=2.0.2 in /usr/local/lib/python3.7/dist-packages (from packaging>=14.3->google-api-core<2.0.0dev,>=1.14.0->google-cloud-core<2.0dev,>=1.0.0->google-cloud-storage->gcsfs) (3.0.6)\n",
            "Requirement already satisfied: pandas in /usr/local/lib/python3.7/dist-packages (1.1.5)\n",
            "Requirement already satisfied: pytz>=2017.2 in /usr/local/lib/python3.7/dist-packages (from pandas) (2018.9)\n",
            "Requirement already satisfied: python-dateutil>=2.7.3 in /usr/local/lib/python3.7/dist-packages (from pandas) (2.8.2)\n",
            "Requirement already satisfied: numpy>=1.15.4 in /usr/local/lib/python3.7/dist-packages (from pandas) (1.19.5)\n",
            "Requirement already satisfied: six>=1.5 in /usr/local/lib/python3.7/dist-packages (from python-dateutil>=2.7.3->pandas) (1.15.0)\n",
            "Requirement already satisfied: pandera in /usr/local/lib/python3.7/dist-packages (0.8.0)\n",
            "Requirement already satisfied: wrapt in /usr/local/lib/python3.7/dist-packages (from pandera) (1.13.3)\n",
            "Requirement already satisfied: numpy>=1.9.0 in /usr/local/lib/python3.7/dist-packages (from pandera) (1.19.5)\n",
            "Requirement already satisfied: pandas>=1.0 in /usr/local/lib/python3.7/dist-packages (from pandera) (1.1.5)\n",
            "Requirement already satisfied: typing-inspect>=0.6.0 in /usr/local/lib/python3.7/dist-packages (from pandera) (0.7.1)\n",
            "Requirement already satisfied: pyarrow in /usr/local/lib/python3.7/dist-packages (from pandera) (3.0.0)\n",
            "Requirement already satisfied: typing-extensions>=3.7.4.3 in /usr/local/lib/python3.7/dist-packages (from pandera) (3.10.0.2)\n",
            "Requirement already satisfied: pandas-stubs in /usr/local/lib/python3.7/dist-packages (from pandera) (1.2.0.39)\n",
            "Requirement already satisfied: packaging>=20.0 in /usr/local/lib/python3.7/dist-packages (from pandera) (21.3)\n",
            "Requirement already satisfied: pyparsing!=3.0.5,>=2.0.2 in /usr/local/lib/python3.7/dist-packages (from packaging>=20.0->pandera) (3.0.6)\n",
            "Requirement already satisfied: python-dateutil>=2.7.3 in /usr/local/lib/python3.7/dist-packages (from pandas>=1.0->pandera) (2.8.2)\n",
            "Requirement already satisfied: pytz>=2017.2 in /usr/local/lib/python3.7/dist-packages (from pandas>=1.0->pandera) (2018.9)\n",
            "Requirement already satisfied: six>=1.5 in /usr/local/lib/python3.7/dist-packages (from python-dateutil>=2.7.3->pandas>=1.0->pandera) (1.15.0)\n",
            "Requirement already satisfied: mypy-extensions>=0.3.0 in /usr/local/lib/python3.7/dist-packages (from typing-inspect>=0.6.0->pandera) (0.4.3)\n"
          ]
        }
      ]
    },
    {
      "cell_type": "markdown",
      "metadata": {
        "id": "QVW92KejMHoY"
      },
      "source": [
        "### IMPORTANDO BIBLIOTECAS, ABRINDO SPARKSESSION E CONFIGURANDO CHAVE DE SERVIÇO"
      ]
    },
    {
      "cell_type": "code",
      "metadata": {
        "id": "WA3IQkKCL2sI"
      },
      "source": [
        "from pyspark.sql import SparkSession\n",
        "from pyspark.sql.types import *\n",
        "from pyspark.sql import Window\n",
        "from google.cloud import storage\n",
        "\n",
        "import pyspark\n",
        "import pyspark.sql.functions as F\n",
        "import pandas as pd\n",
        "import pandera as pa\n",
        "import os\n",
        "import gcsfs"
      ],
      "execution_count": null,
      "outputs": []
    },
    {
      "cell_type": "code",
      "metadata": {
        "colab": {
          "base_uri": "https://localhost:8080/"
        },
        "id": "gO9olZPDMpxb",
        "outputId": "8fba5570-911d-444e-e9a7-def4b0880428"
      },
      "source": [
        "spark = SparkSession.builder\\\n",
        ".master('local')\\\n",
        ".appName('Projeto_Final')\\\n",
        ".config('spark.ui.enable', 'true')\\\n",
        ".config('spark.ui.port', '4050')\\\n",
        ".getOrCreate()\n",
        "\n",
        "spark\n",
        "\n",
        "serviceaccount = '/content/soulcode-projeto-final-4b88bea6e07a.json'\n",
        "os.environ[\"GOOGLE_APPLICATION_CREDENTIALS\"] = serviceaccount\n",
        "\n",
        "spark"
      ],
      "execution_count": null,
      "outputs": [
        {
          "output_type": "execute_result",
          "data": {
            "text/html": [
              "\n",
              "            <div>\n",
              "                <p><b>SparkSession - in-memory</b></p>\n",
              "                \n",
              "        <div>\n",
              "            <p><b>SparkContext</b></p>\n",
              "\n",
              "            <p><a href=\"http://fdd9840039dd:4050\">Spark UI</a></p>\n",
              "\n",
              "            <dl>\n",
              "              <dt>Version</dt>\n",
              "                <dd><code>v3.2.0</code></dd>\n",
              "              <dt>Master</dt>\n",
              "                <dd><code>local</code></dd>\n",
              "              <dt>AppName</dt>\n",
              "                <dd><code>Projeto_Final</code></dd>\n",
              "            </dl>\n",
              "        </div>\n",
              "        \n",
              "            </div>\n",
              "        "
            ],
            "text/plain": [
              "<pyspark.sql.session.SparkSession at 0x7f3308bc7990>"
            ]
          },
          "metadata": {},
          "execution_count": 3
        }
      ]
    },
    {
      "cell_type": "markdown",
      "metadata": {
        "id": "E7EKwiUaOZ7N"
      },
      "source": [
        "### IMPORTANDO, VALIDANDO, EXTRAINDO INFORMAÇÕES E ANALISANDO DATAFRAMES"
      ]
    },
    {
      "cell_type": "markdown",
      "metadata": {
        "id": "UVyVPmLFa9DR"
      },
      "source": [
        "DATAFRAME 1"
      ]
    },
    {
      "cell_type": "code",
      "metadata": {
        "id": "t4GbGTFTbBWl",
        "colab": {
          "base_uri": "https://localhost:8080/"
        },
        "outputId": "0898cd8f-0cad-4eed-efbd-ae659ca25c7c"
      },
      "source": [
        "# ARQUIVO 1 - Lendo e validando importanção\n",
        "file_path_1 = 'gs://data_lake_ingest_data/2_temp/temp_pandas_despesas_normalizado.csv'\n",
        "\n",
        "fs = gcsfs.GCSFileSystem(project='soulcode-projeto-final', token=serviceaccount)\n",
        "with fs.open(file_path_1):\n",
        "    data = pd.read_csv(file_path_1, sep=',', encoding='UTF-8', header=0, index_col=False)\n",
        "\n",
        "    # Validando esquema, coluna e tipo de dado\n",
        "    schema = pa.DataFrameSchema(columns={\"UF\": pa.Column(str, pa.Check(str)),\n",
        "                                         \"Despesas2016\": pa.Column(float, pa.Check(lambda s: s > 100.000), nullable=True),\n",
        "                                         \"Despesas2017\": pa.Column(float, pa.Check(lambda s: s > 100.000), nullable=True),\n",
        "                                         \"Despesas2018\": pa.Column(float, pa.Check(lambda s: s > 100.000), nullable=True),\n",
        "                                         \"Despesas2019\": pa.Column(float, pa.Check(lambda s: s > 100.000), nullable=True),\n",
        "                                         \"Despesas2020\": pa.Column(float, pa.Check(lambda s: s > 100.000), nullable=True),\n",
        "                                         \"Variacao%\": pa.Column(float, pa.Check(lambda s: s != 0), nullable=True),\n",
        "                                         \"Previsao2021|Media\": pa.Column(float, pa.Check(lambda s: s > 100.000), nullable=True)                               \n",
        "                                         })\n",
        "    \n",
        "    schema.validate(data)\n",
        "\n",
        "df_1 = spark.createDataFrame(data)\n",
        "df_1.dtypes\n",
        "df_1.show(10, truncate=False)"
      ],
      "execution_count": null,
      "outputs": [
        {
          "output_type": "stream",
          "name": "stdout",
          "text": [
            "+---------+------------------+-----------------+------------------+------------------+------------------+---------+------------------+\n",
            "|UF       |Despesas2016      |Despesas2017     |Despesas2018      |Despesas2019      |Despesas2020      |Variacao%|Previsao2021|Media|\n",
            "+---------+------------------+-----------------+------------------+------------------+------------------+---------+------------------+\n",
            "|Acre     |498.535           |568.361          |627.351           |692.57            |493.75300000000004|8.5      |576.114           |\n",
            "|Amapá    |475.32300000000004|500.227          |489.228           |606.366           |752.252           |52.3     |564.6792          |\n",
            "|Amazonas |1604.7320000000002|1578.957         |1862.6689999999999|2108.46           |2101.447          |60.4     |1851.253          |\n",
            "|Pará     |2551.741          |2579.916         |2903.2            |2943.448          |2966.553          |58.0     |2788.9716         |\n",
            "|Rondônia |874.8739999999999 |895.868          |903.2539999999999 |853.971           |999.044           |-14.7    |905.4022          |\n",
            "|Roraima  |408.934           |440.124          |405.44599999999997|288.198           |391.17800000000005|65.8     |386.776           |\n",
            "|Tocantins|839.882           |898.6519999999999|939.627           |1119.19           |1059.726          |24.6     |971.4154          |\n",
            "|Alagoas  |1196.641          |1244.52          |1251.229          |1159.1589999999999|1354.986          |17.1     |1241.3070000000002|\n",
            "|Bahia    |4760.590999999999 |4569.076         |4601.027          |4682.403          |4321.663          |3.9      |4586.952          |\n",
            "|Ceará    |2188.315          |2400.235         |2763.3390000000004|2842.36           |3045.583          |95.0     |2647.9664         |\n",
            "+---------+------------------+-----------------+------------------+------------------+------------------+---------+------------------+\n",
            "only showing top 10 rows\n",
            "\n"
          ]
        }
      ]
    },
    {
      "cell_type": "markdown",
      "metadata": {
        "id": "UIE2jX8tbCx8"
      },
      "source": [
        "DATAFRAME 2"
      ]
    },
    {
      "cell_type": "code",
      "metadata": {
        "id": "JL-EyhYxbEmw",
        "colab": {
          "base_uri": "https://localhost:8080/"
        },
        "outputId": "99575fb7-779b-4cc1-b430-b3b6519173e4"
      },
      "source": [
        "file_path_2 = 'gs://data_lake_ingest_data/2_temp/temp_pandas_ocorrencias_normalizado.json'\n",
        "\n",
        "fs = gcsfs.GCSFileSystem(project='soulcode-projeto-final', token=serviceaccount)\n",
        "with fs.open(file_path_2):\n",
        "    data = pd.read_json(file_path_2, encoding='UTF-8')\n",
        "\n",
        "# Validando esquema, coluna e tipo de dado\n",
        "    schema = pa.DataFrameSchema(columns={\"UF\": pa.Column(str, pa.Check(str)),\n",
        "                                         \"TipoCrime\": pa.Column(str, pa.Check(str), nullable=True),\n",
        "                                         \"Ano\": pa.Column(int, pa.Check(lambda s: s >= 2015), nullable=True),\n",
        "                                         \"Mes\": pa.Column(str, pa.Check(str), nullable=True),\n",
        "                                         \"Ocorrencias\": pa.Column(int, pa.Check(lambda s: s >= 0), nullable=True),                          \n",
        "                                         })\n",
        "    \n",
        "    schema.validate(data)\n",
        "    \n",
        "df_2 = spark.createDataFrame(data)\n",
        "df_2.dtypes\n",
        "df_2.show(10, truncate=False)"
      ],
      "execution_count": null,
      "outputs": [
        {
          "output_type": "stream",
          "name": "stdout",
          "text": [
            "+----+-----------------------------------+----+---------+-----------+\n",
            "|UF  |TipoCrime                          |Ano |Mes      |Ocorrencias|\n",
            "+----+-----------------------------------+----+---------+-----------+\n",
            "|Acre|Estupro                            |2021|janeiro  |39         |\n",
            "|Acre|Furto de veículo                   |2021|janeiro  |55         |\n",
            "|Acre|Homicídio doloso                   |2021|janeiro  |14         |\n",
            "|Acre|Lesão corporal seguida de morte    |2021|janeiro  |0          |\n",
            "|Acre|Roubo a instituição financeira     |2021|janeiro  |0          |\n",
            "|Acre|Roubo de carga                     |2021|janeiro  |0          |\n",
            "|Acre|Roubo de veículo                   |2021|janeiro  |99         |\n",
            "|Acre|Roubo seguido de morte (latrocínio)|2021|janeiro  |1          |\n",
            "|Acre|Tentativa de homicídio             |2021|janeiro  |10         |\n",
            "|Acre|Estupro                            |2021|fevereiro|23         |\n",
            "+----+-----------------------------------+----+---------+-----------+\n",
            "only showing top 10 rows\n",
            "\n"
          ]
        }
      ]
    },
    {
      "cell_type": "markdown",
      "metadata": {
        "id": "dLz_ne7HbJm3"
      },
      "source": [
        "DATAFRAME 3"
      ]
    },
    {
      "cell_type": "code",
      "metadata": {
        "id": "4AGa-r1ObPX6",
        "colab": {
          "base_uri": "https://localhost:8080/"
        },
        "outputId": "b8816587-89f2-4c9a-f04a-3042f19ef90f"
      },
      "source": [
        "file_path_3 = 'gs://data_lake_ingest_data/2_temp/temp_pandas_vitimas_normalizado.json'\n",
        "\n",
        "fs = gcsfs.GCSFileSystem(project='soulcode-projeto-final', token=serviceaccount)\n",
        "with fs.open(file_path_3):\n",
        "    data = pd.read_json(file_path_3, encoding='UTF-8')\n",
        "\n",
        "    # Validando esquema, coluna e tipo de dado\n",
        "    schema = pa.DataFrameSchema(columns={\"UF\": pa.Column(str, pa.Check(str)),\n",
        "                                     \"TipoCrime\": pa.Column(str, pa.Check(str), nullable=True),\n",
        "                                     \"Ano\": pa.Column(int, pa.Check(lambda s: s >= 2015), nullable=True),\n",
        "                                     \"Mes\": pa.Column(str, pa.Check(str), nullable=True),\n",
        "                                     \"SexoVitima\": pa.Column(str, pa.Check(str), nullable=True),\n",
        "                                     \"Vitimas\": pa.Column(int, pa.Check(lambda s: s >= 0), nullable=True),                      \n",
        "                                    })\n",
        "    \n",
        "    schema.validate(data)\n",
        "\n",
        "df_3 = spark.createDataFrame(data)\n",
        "df_3.dtypes\n",
        "df_3.show(10, truncate=False)"
      ],
      "execution_count": null,
      "outputs": [
        {
          "output_type": "stream",
          "name": "stdout",
          "text": [
            "+----+----------------+----+---------+----------+-------+\n",
            "|UF  |TipoCrime       |Ano |Mes      |SexoVitima|Vitimas|\n",
            "+----+----------------+----+---------+----------+-------+\n",
            "|Acre|Homicídio doloso|2021|janeiro  |Feminino  |1      |\n",
            "|Acre|Homicídio doloso|2021|janeiro  |Masculino |13     |\n",
            "|Acre|Homicídio doloso|2021|janeiro  |Sexo NI   |0      |\n",
            "|Acre|Homicídio doloso|2021|fevereiro|Feminino  |4      |\n",
            "|Acre|Homicídio doloso|2021|fevereiro|Masculino |12     |\n",
            "|Acre|Homicídio doloso|2021|fevereiro|Sexo NI   |0      |\n",
            "|Acre|Homicídio doloso|2021|março    |Feminino  |2      |\n",
            "|Acre|Homicídio doloso|2021|março    |Masculino |24     |\n",
            "|Acre|Homicídio doloso|2021|março    |Sexo NI   |0      |\n",
            "|Acre|Homicídio doloso|2021|abril    |Feminino  |2      |\n",
            "+----+----------------+----+---------+----------+-------+\n",
            "only showing top 10 rows\n",
            "\n"
          ]
        }
      ]
    },
    {
      "cell_type": "markdown",
      "metadata": {
        "id": "f9OKmuC20Dgp"
      },
      "source": [
        "DATAFRAME 4"
      ]
    },
    {
      "cell_type": "code",
      "metadata": {
        "colab": {
          "base_uri": "https://localhost:8080/"
        },
        "id": "Sm4TYaIS0Cp-",
        "outputId": "8dcaf4d5-ff68-4645-fc9f-dd2c50c77192"
      },
      "source": [
        "file_path_4 = 'gs://data_lake_ingest_data/1_input/Frequencia_escolar_UF.csv'\n",
        "\n",
        "fs = gcsfs.GCSFileSystem(project='soulcode-projeto-final', token=serviceaccount)\n",
        "with fs.open(file_path_4):\n",
        "    data = pd.read_csv(file_path_4, encoding='UTF-8')\n",
        "\n",
        "    data['Média'] = data['Média'].str.replace(',', '.')\n",
        "    data['Média'] = data['Média'].astype(float)\n",
        "\n",
        "    # Validando esquema, coluna e tipo de dado\n",
        "    schema = pa.DataFrameSchema(columns={\"UF\": pa.Column(str, pa.Check(str)),\n",
        "                                        \"Média\": pa.Column(float, pa.Check(lambda s: s <= 100.0), nullable=True),\n",
        "                                        \"CV (%)\": pa.Column(str, pa.Check(str), nullable=True),\n",
        "                                        \"Ano\": pa.Column(int, pa.Check(lambda s: s >= 2016), nullable=True),                      \n",
        "                                        })\n",
        "    \n",
        "    schema.validate(data)\n",
        "\n",
        "df_4 = spark.createDataFrame(data)\n",
        "df_4.dtypes\n",
        "df_4.show(10, truncate=False)"
      ],
      "execution_count": null,
      "outputs": [
        {
          "output_type": "stream",
          "name": "stdout",
          "text": [
            "+---------+-----+-------+----+\n",
            "|UF       |Média|CV (%) |Ano |\n",
            "+---------+-----+-------+----+\n",
            "|Rondônia |11.3 |   0,9 |2019|\n",
            "|Acre     |11.1 |   1,0 |2019|\n",
            "|Amazonas |11.2 |   0,9 |2019|\n",
            "|Roraima  |11.7 |   1,0 |2019|\n",
            "|Pará     |10.5 |   0,8 |2019|\n",
            "|Amapá    |11.5 |   1,3 |2019|\n",
            "|Tocantins|11.4 |   0,9 |2019|\n",
            "|Maranhão |10.8 |   0,5 |2019|\n",
            "|Piauí    |11.1 |   1,0 |2019|\n",
            "|Ceará    |11.2 |   0,5 |2019|\n",
            "+---------+-----+-------+----+\n",
            "only showing top 10 rows\n",
            "\n"
          ]
        }
      ]
    },
    {
      "cell_type": "markdown",
      "metadata": {
        "id": "09FIUn_5bR23"
      },
      "source": [
        "DATAFRAME 5"
      ]
    },
    {
      "cell_type": "code",
      "metadata": {
        "id": "E7btSKU-bVGq",
        "colab": {
          "base_uri": "https://localhost:8080/"
        },
        "outputId": "34bc90ba-2a3a-430e-e563-bb5678b50025"
      },
      "source": [
        "file_path_5 = 'gs://data_lake_ingest_data/2_temp/temp_pandas_ocorrencia_vitimas_porAnoEstado.csv'\n",
        "\n",
        "fs = gcsfs.GCSFileSystem(project='soulcode-projeto-final', token=serviceaccount)\n",
        "with fs.open(file_path_5):\n",
        "    data = pd.read_csv(file_path_5, sep=',', encoding='UTF-8')\n",
        "\n",
        "    # Validando esquema, coluna e tipo de dado\n",
        "    schema = pa.DataFrameSchema(columns={\"UF\": pa.Column(str, pa.Check(str)),\n",
        "                                         \"Ano\": pa.Column(int, pa.Check(lambda s: s >= 2015), nullable=True),\n",
        "                                         \"TipoCrime\": pa.Column(str, pa.Check(str), nullable=True),\n",
        "                                         \"Ocorrencias\": pa.Column(int, pa.Check(lambda s: s >= 0), nullable=True),\n",
        "                                         \"Vitimas\": pa.Column(int, pa.Check(lambda s: s >= 0), nullable=True),                      \n",
        "                                        })\n",
        "    \n",
        "    schema.validate(data)\n",
        "\n",
        "df_5 = spark.createDataFrame(data)\n",
        "df_5.dtypes\n",
        "df_5.show(10, truncate=False)"
      ],
      "execution_count": null,
      "outputs": [
        {
          "output_type": "stream",
          "name": "stdout",
          "text": [
            "+----+----+-----------------------------------+-----------+-------+\n",
            "|UF  |Ano |TipoCrime                          |Ocorrencias|Vitimas|\n",
            "+----+----+-----------------------------------+-----------+-------+\n",
            "|Acre|2016|Homicídio doloso                   |425        |354    |\n",
            "|Acre|2017|Homicídio doloso                   |221        |232    |\n",
            "|Acre|2017|Lesão corporal seguida de morte    |0          |3      |\n",
            "|Acre|2017|Roubo seguido de morte (latrocínio)|10         |15     |\n",
            "|Acre|2018|Homicídio doloso                   |396        |394    |\n",
            "|Acre|2018|Roubo seguido de morte (latrocínio)|20         |20     |\n",
            "|Acre|2019|Homicídio doloso                   |292        |298    |\n",
            "|Acre|2019|Lesão corporal seguida de morte    |2          |3      |\n",
            "|Acre|2019|Roubo seguido de morte (latrocínio)|14         |12     |\n",
            "|Acre|2020|Homicídio doloso                   |271        |273    |\n",
            "+----+----+-----------------------------------+-----------+-------+\n",
            "only showing top 10 rows\n",
            "\n"
          ]
        }
      ]
    },
    {
      "cell_type": "markdown",
      "metadata": {
        "id": "yLIPZ0zNbYbq"
      },
      "source": [
        "DATAFRAME 6"
      ]
    },
    {
      "cell_type": "code",
      "metadata": {
        "id": "fG9GtHhibbu6",
        "colab": {
          "base_uri": "https://localhost:8080/"
        },
        "outputId": "b9bafc7d-535c-4733-8943-070b5e9d03c7"
      },
      "source": [
        "file_path_6 = 'gs://data_lake_ingest_data/1_input/Tabela_frequencia_escolar.xlsx'\n",
        "\n",
        "fs = gcsfs.GCSFileSystem(project='soulcode-projeto-final', token=serviceaccount)\n",
        "with fs.open(file_path_6):\n",
        "    data = pd.read_excel(file_path_6, header=0)\n",
        "\n",
        "    # Validando esquema, coluna e tipo de dado\n",
        "    schema = pa.DataFrameSchema(columns={\"Grandes Regiões, Unidades da Federação e Municípios das Capitais\": pa.Column(str, pa.Check(str)),\n",
        "                                         \"15 a 17 anos - 2019\": pa.Column(float, pa.Check(lambda s: s <= 100.0), nullable=True),\n",
        "                                         \"15 a 17 anos - 2018\": pa.Column(float, pa.Check(lambda s: s <= 100.0), nullable=True),\n",
        "                                         \"15 a 17 anos - 2017\": pa.Column(float, pa.Check(lambda s: s <= 100.0), nullable=True),\n",
        "                                         \"15 a 17 anos - 2016\": pa.Column(float, pa.Check(lambda s: s <= 100.0), nullable=True),                      \n",
        "                                         \"Media 15 a 17 anos\": pa.Column(float, pa.Check(lambda s: s <= 100.0), nullable=True),\n",
        "                                         \"18 a 24 anos - 2019\": pa.Column(float, pa.Check(lambda s: s <= 100.0), nullable=True),\n",
        "                                         \"18 a 24 anos - 2018\": pa.Column(float, pa.Check(lambda s: s <= 100.0), nullable=True),\n",
        "                                         \"18 a 24 anos - 2017\": pa.Column(float, pa.Check(lambda s: s <= 100.0), nullable=True),\n",
        "                                         \"18 a 24 anos - 2016\": pa.Column(float, pa.Check(lambda s: s <= 100.0), nullable=True),\n",
        "                                         \"média 18 a 24 anos\": pa.Column(float, pa.Check(lambda s: s <= 100.0), nullable=True),\n",
        "                                         \"25 anos ou mais - 2019\": pa.Column(float, pa.Check(lambda s: s <= 100.0), nullable=True),\n",
        "                                         \"25 anos ou mais - 2018\": pa.Column(float, pa.Check(lambda s: s <= 100.0), nullable=True),\n",
        "                                         \"25 anos ou mais - 2017\": pa.Column(float, pa.Check(lambda s: s <= 100.0), nullable=True),\n",
        "                                         \"25 anos ou mais - 2016\":  pa.Column(float, pa.Check(lambda s: s <= 100.0), nullable=True),\n",
        "                                         \"média 25 anos ou mais\": pa.Column(float, pa.Check(lambda s: s <= 100.0), nullable=True)\n",
        "                                        })\n",
        "    \n",
        "    schema.validate(data)\n",
        "    \n",
        "df_6 = spark.createDataFrame(data)\n",
        "df_6.dtypes\n",
        "df_6.show(10, truncate=False)"
      ],
      "execution_count": null,
      "outputs": [
        {
          "output_type": "stream",
          "name": "stdout",
          "text": [
            "+----------------------------------------------------------------+-------------------+-------------------+-------------------+-------------------+------------------+-------------------+-------------------+-------------------+-------------------+------------------+----------------------+----------------------+----------------------+----------------------+---------------------+\n",
            "|Grandes Regiões, Unidades da Federação e Municípios das Capitais|15 a 17 anos - 2019|15 a 17 anos - 2018|15 a 17 anos - 2017|15 a 17 anos - 2016|Media 15 a 17 anos|18 a 24 anos - 2019|18 a 24 anos - 2018|18 a 24 anos - 2017|18 a 24 anos - 2016|média 18 a 24 anos|25 anos ou mais - 2019|25 anos ou mais - 2018|25 anos ou mais - 2017|25 anos ou mais - 2016|média 25 anos ou mais|\n",
            "+----------------------------------------------------------------+-------------------+-------------------+-------------------+-------------------+------------------+-------------------+-------------------+-------------------+-------------------+------------------+----------------------+----------------------+----------------------+----------------------+---------------------+\n",
            "|Brasil                                                          |89.17198948374096  |88.2426144204458   |86.56451335197876  |87.5617260467917   |87.8852108257393  |32.41407932745226  |34.53417795470805  |33.360253247817255 |34.17581270855951  |33.62108080963427 |4.504817075471089     |5.675049480395514     |5.8222092845937174    |6.05481441288333      |5.514222563335913    |\n",
            "|Norte                                                           |88.74982729136596  |87.13363699314166  |86.18634784748102  |86.23343843334908  |87.07581264133444 |33.277336088584065 |30.55755225551167  |31.889367675874244 |31.40075605450034  |31.781253018617576|5.300311202284845     |4.738200441644607     |4.829205200490404     |6.316555051054046     |5.2960679738684755   |\n",
            "|Rondônia                                                        |88.5758890715434   |87.61083310627495  |88.09353317895633  |86.80829519027922  |87.77213763676347 |31.917363776805303 |36.46044648717471  |42.381697360736936 |39.412875441641646 |37.543095766589644|5.696628237780432     |6.806092080969176     |8.094231628524204     |10.102827665601428    |7.67494490321881     |\n",
            "|Porto Velho                                                     |88.95162805125744  |82.5532772565588   |84.18183233290323  |86.43959488451544  |85.53158313130872 |38.26167802729192  |33.024090303693306 |35.08011605454825  |39.44302117520716  |36.45222639018516 |7.482369141571613     |8.496009939035124     |7.956949796455643     |10.15315072431738     |8.52211990034494     |\n",
            "|Acre                                                            |84.98448999182288  |87.17335055657942  |86.65851673769289  |86.68539677641571  |86.37543851562772 |33.834860833327035 |38.86751169841704  |42.36043012159184  |42.89214761645621  |39.488737567448034|6.9339672958134075    |10.321757609195592    |9.98524514543419      |10.493120889846796    |9.433522735072497    |\n",
            "|Rio Branco                                                      |89.48700493888884  |89.02443607460954  |88.65514377773752  |86.78655326192381  |88.48828451328993 |40.953092757007354 |35.33161594135511  |33.85527254656891  |37.52815436528177  |36.917033902553285|8.58802554333409      |6.065361513449571     |6.653244872336479     |7.2649711685479685    |7.142900774417027    |\n",
            "|Amazonas                                                        |89.76547201880656  |91.06624696075257  |89.65565625461282  |89.90948922869819  |90.09921611571754 |34.04713258673785  |39.777655049741256 |38.94960799636123  |43.309978882767055 |39.02109362890185 |5.863539597454009     |6.987240156830028     |7.74484294823958      |8.733538583447492     |7.332290321492778    |\n",
            "|Manaus                                                          |93.4987402962228   |88.23885635226223  |90.9353958471525   |89.61554496380046  |90.57213436485951 |41.619322253129916 |33.89560518017068  |35.50393057050049  |29.908410153855606 |35.231817039414175|6.806570271755239     |6.859381315725736     |7.801114826327577     |8.218642191160063     |7.421427151242154    |\n",
            "|Roraima                                                         |89.1004526688127   |88.37059144299052  |93.40389167840941  |89.97504279162725  |90.21249464545997 |33.567167131760826 |35.32500881762907  |38.389963345534085 |31.273686767894077 |34.638956515704514|7.144315842776105     |7.602230886099983     |9.025257516326919     |8.849161454321955     |8.15524142488124     |\n",
            "|Boa Vista                                                       |88.81605787744006  |88.16305243690425  |85.38031938726431  |88.54678096636826  |87.72655266699422 |35.76648127271526  |34.315334880080016 |32.11974886723801  |33.12867335823409  |33.832559594566845|7.992154471609433     |5.431108670511762     |5.3741899711590895    |5.192409319722039     |5.997465608250581    |\n",
            "+----------------------------------------------------------------+-------------------+-------------------+-------------------+-------------------+------------------+-------------------+-------------------+-------------------+-------------------+------------------+----------------------+----------------------+----------------------+----------------------+---------------------+\n",
            "only showing top 10 rows\n",
            "\n"
          ]
        }
      ]
    },
    {
      "cell_type": "markdown",
      "metadata": {
        "id": "q41tilhLbcwu"
      },
      "source": [
        "DATAFRAME 7"
      ]
    },
    {
      "cell_type": "code",
      "metadata": {
        "id": "zDjuvk6qbeVR",
        "colab": {
          "base_uri": "https://localhost:8080/"
        },
        "outputId": "6475eeb3-1031-46c4-df40-092bf582c2a5"
      },
      "source": [
        "file_path_7 = 'gs://data_lake_ingest_data/2_temp/temp_pandas_taxa_analfabetismo_normalizado.csv'\n",
        "\n",
        "fs = gcsfs.GCSFileSystem(project='soulcode-projeto-final', token=serviceaccount)\n",
        "with fs.open(file_path_7):\n",
        "    data = pd.read_csv(file_path_7, header=0)\n",
        "\n",
        "    # Validando esquema, coluna e tipo de dado\n",
        "    schema = pa.DataFrameSchema(columns={\"Unnamed: 0\": pa.Column(int, pa.Check(lambda s: s >= 0)),\n",
        "                                         \"UF\": pa.Column(str, pa.Check(str), nullable=True),\n",
        "                                         \"Grupo_idade\": pa.Column(str, pa.Check(str), nullable=True),\n",
        "                                         \"TaxaAnalfabetismo2016\": pa.Column(float, pa.Check(lambda s: s <= 100.0), nullable=True),\n",
        "                                         \"TaxaAnalfabetismo2017\": pa.Column(float, pa.Check(lambda s: s <= 100.0), nullable=True),                      \n",
        "                                         \"TaxaAnalfabetismo2018\": pa.Column(float, pa.Check(lambda s: s <= 100.0), nullable=True),\n",
        "                                         \"TaxaAnalfabetismo2019\": pa.Column(float, pa.Check(lambda s: s <= 100.0), nullable=True),\n",
        "                                        })\n",
        "    \n",
        "    schema.validate(data)\n",
        "\n",
        "df_7 = spark.createDataFrame(data)\n",
        "df_7.dtypes\n",
        "df_7.show(10, truncate=False)"
      ],
      "execution_count": null,
      "outputs": [
        {
          "output_type": "stream",
          "name": "stdout",
          "text": [
            "+----------+---------+---------------+---------------------+---------------------+---------------------+---------------------+\n",
            "|Unnamed: 0|UF       |Grupo_idade    |TaxaAnalfabetismo2016|TaxaAnalfabetismo2017|TaxaAnalfabetismo2018|TaxaAnalfabetismo2019|\n",
            "+----------+---------+---------------+---------------------+---------------------+---------------------+---------------------+\n",
            "|0         |Rondônia |15 anos ou mais|6.6                  |7.2                  |6.5                  |6.4                  |\n",
            "|1         |Acre     |15 anos ou mais|13.1                 |12.1                 |12.1                 |11.7                 |\n",
            "|2         |Amazonas |15 anos ou mais|6.9                  |6.1                  |5.8                  |5.4                  |\n",
            "|3         |Roraima  |15 anos ou mais|6.6                  |6.0                  |6.0                  |5.0                  |\n",
            "|4         |Pará     |15 anos ou mais|9.2                  |8.6                  |8.8                  |8.4                  |\n",
            "|5         |Amapá    |15 anos ou mais|5.0                  |5.0                  |6.1                  |5.5                  |\n",
            "|6         |Tocantins|15 anos ou mais|10.4                 |10.2                 |10.0                 |9.7                  |\n",
            "|7         |Maranhão |15 anos ou mais|16.7                 |16.8                 |16.3                 |15.6                 |\n",
            "|8         |Piauí    |15 anos ou mais|17.2                 |16.6                 |16.6                 |16.0                 |\n",
            "|9         |Ceará    |15 anos ou mais|15.2                 |14.2                 |13.3                 |13.6                 |\n",
            "+----------+---------+---------------+---------------------+---------------------+---------------------+---------------------+\n",
            "only showing top 10 rows\n",
            "\n"
          ]
        }
      ]
    },
    {
      "cell_type": "markdown",
      "metadata": {
        "id": "lsZ927gDOKDx"
      },
      "source": [
        "### NORMALIZANDO DATAFRAMES\n"
      ]
    },
    {
      "cell_type": "markdown",
      "metadata": {
        "id": "dLjq07hvfqKL"
      },
      "source": [
        "DATAFRAME 1"
      ]
    },
    {
      "cell_type": "code",
      "metadata": {
        "colab": {
          "base_uri": "https://localhost:8080/"
        },
        "id": "bAPe60SHVbP6",
        "outputId": "adfce12f-09b5-44c5-e01f-cd02b4d594ee"
      },
      "source": [
        "df_1 = df_1.drop('Estimativa_2021', 'Previsao2021Media')\n",
        "df_1 = df_1.withColumnRenamed('Media Anual', 'Estimativa_Despesa_2021')\n",
        "df_1 = df_1.withColumnRenamed('Previsao2021|Media', 'Previsao2021_Media')\n",
        "\n",
        "df_1 = df_1.withColumn(\"Despesas2017\", F.round(df_1.Despesas2016.cast(FloatType()), 3))\n",
        "df_1 = df_1.withColumn(\"Despesas2017\", F.round(df_1.Despesas2017.cast(FloatType()), 3))\n",
        "df_1 = df_1.withColumn(\"Despesas2018\", F.round(df_1.Despesas2018.cast(FloatType()), 3))\n",
        "df_1 = df_1.withColumn(\"Despesas2019\", F.round(df_1.Despesas2019.cast(FloatType()), 3))\n",
        "df_1 = df_1.withColumn(\"Despesas2020\", F.round(df_1.Despesas2020.cast(FloatType()), 3))\n",
        "df_1 = df_1.withColumn(\"Previsao2021_Media\", F.round(df_1.Previsao2021_Media.cast(FloatType()), 3))\n",
        "\n",
        "df_1.show()\n",
        "df_1.dtypes"
      ],
      "execution_count": null,
      "outputs": [
        {
          "output_type": "stream",
          "name": "stdout",
          "text": [
            "+-------------------+------------------+------------+------------+------------+------------+---------+------------------+\n",
            "|                 UF|      Despesas2016|Despesas2017|Despesas2018|Despesas2019|Despesas2020|Variacao%|Previsao2021_Media|\n",
            "+-------------------+------------------+------------+------------+------------+------------+---------+------------------+\n",
            "|               Acre|           498.535|     498.535|     627.351|      692.57|     493.753|      8.5|           576.114|\n",
            "|              Amapá|475.32300000000004|     475.323|     489.228|     606.366|     752.252|     52.3|           564.679|\n",
            "|           Amazonas|1604.7320000000002|    1604.732|    1862.669|     2108.46|    2101.447|     60.4|          1851.253|\n",
            "|               Pará|          2551.741|    2551.741|      2903.2|    2943.448|    2966.553|     58.0|          2788.972|\n",
            "|           Rondônia| 874.8739999999999|     874.874|     903.254|     853.971|     999.044|    -14.7|           905.402|\n",
            "|            Roraima|           408.934|     408.934|     405.446|     288.198|     391.178|     65.8|           386.776|\n",
            "|          Tocantins|           839.882|     839.882|     939.627|     1119.19|    1059.726|     24.6|           971.415|\n",
            "|            Alagoas|          1196.641|    1196.641|    1251.229|    1159.159|    1354.986|     17.1|          1241.307|\n",
            "|              Bahia| 4760.590999999999|    4760.591|    4601.027|    4682.403|    4321.663|      3.9|          4586.952|\n",
            "|              Ceará|          2188.315|    2188.315|    2763.339|     2842.36|    3045.583|     95.0|          2647.966|\n",
            "|           Maranhão|1593.4720000000002|    1593.472|    1980.318|     2003.66|    1954.384|     69.0|          1859.324|\n",
            "|            Paraíba|           1286.81|     1286.81|    1352.972|     1386.24|    1417.592|     37.1|          1347.764|\n",
            "|         Pernambuco|          2657.598|    2657.598|    2971.232|    2985.145|    2880.151|    -10.1|            2860.4|\n",
            "|              Piauí|           804.429|     804.429|       799.0|     893.296|     785.832|    102.3|           815.107|\n",
            "|Rio Grande do Norte|          1215.257|    1215.257|    1045.736|    1203.684|    1038.218|      9.7|          1097.242|\n",
            "|            Sergipe|            942.15|      942.15|     956.072|     989.128|     956.784|    -12.9|           956.527|\n",
            "|              Goiás|           3455.91|     3455.91|    3643.161|     3839.27|    3191.756|     50.1|          3442.968|\n",
            "|        Mato Grosso|          2085.541|    2085.541|    2204.075|    2486.876|     2577.01|     49.0|          2294.431|\n",
            "| Mato Grosso do Sul|          1459.525|    1459.525|    1233.864|    1259.369|    1240.098|    -12.8|          1336.016|\n",
            "|   Distrito Federal|           812.247|     812.247|     905.006|     931.987|     976.513|     92.4|           907.109|\n",
            "+-------------------+------------------+------------+------------+------------+------------+---------+------------------+\n",
            "only showing top 20 rows\n",
            "\n"
          ]
        },
        {
          "output_type": "execute_result",
          "data": {
            "text/plain": [
              "[('UF', 'string'),\n",
              " ('Despesas2016', 'double'),\n",
              " ('Despesas2017', 'float'),\n",
              " ('Despesas2018', 'float'),\n",
              " ('Despesas2019', 'float'),\n",
              " ('Despesas2020', 'float'),\n",
              " ('Variacao%', 'double'),\n",
              " ('Previsao2021_Media', 'float')]"
            ]
          },
          "metadata": {},
          "execution_count": 11
        }
      ]
    },
    {
      "cell_type": "markdown",
      "metadata": {
        "id": "sv-IuSN46z40"
      },
      "source": [
        "DATAFRAME 4"
      ]
    },
    {
      "cell_type": "code",
      "metadata": {
        "colab": {
          "base_uri": "https://localhost:8080/"
        },
        "id": "SqMoqVUD6y2N",
        "outputId": "6c6466ed-61f8-4505-aab5-4d9f0f2052a2"
      },
      "source": [
        "df_4 = df_4.drop(\"CV (%)\")\n",
        "df_4 = df_4.withColumnRenamed(\"Média\", 'Media_Freq_Escolar')\n",
        "\n",
        "df_4.show(100, truncate=False)\n",
        "df_4.dtypes"
      ],
      "execution_count": null,
      "outputs": [
        {
          "output_type": "stream",
          "name": "stdout",
          "text": [
            "+-------------------+------------------+----+\n",
            "|UF                 |Media_Freq_Escolar|Ano |\n",
            "+-------------------+------------------+----+\n",
            "|Rondônia           |11.3              |2019|\n",
            "|Acre               |11.1              |2019|\n",
            "|Amazonas           |11.2              |2019|\n",
            "|Roraima            |11.7              |2019|\n",
            "|Pará               |10.5              |2019|\n",
            "|Amapá              |11.5              |2019|\n",
            "|Tocantins          |11.4              |2019|\n",
            "|Maranhão           |10.8              |2019|\n",
            "|Piauí              |11.1              |2019|\n",
            "|Ceará              |11.2              |2019|\n",
            "|Rio Grande do Norte|11.0              |2019|\n",
            "|Paraíba            |10.8              |2019|\n",
            "|Pernambuco         |11.1              |2019|\n",
            "|Alagoas            |10.4              |2019|\n",
            "|Sergipe            |10.5              |2019|\n",
            "|Bahia              |10.7              |2019|\n",
            "|Minas Gerais       |11.6              |2019|\n",
            "|Espírito Santo     |11.6              |2019|\n",
            "|Rio de Janeiro     |11.9              |2019|\n",
            "|São Paulo          |12.3              |2019|\n",
            "|Paraná             |11.8              |2019|\n",
            "|Santa Catarina     |12.0              |2019|\n",
            "|Rio Grande do Sul  |11.7              |2019|\n",
            "|Mato Grosso do Sul |11.3              |2019|\n",
            "|Mato Grosso        |11.7              |2019|\n",
            "|Goiás              |11.8              |2019|\n",
            "|Distrito Federal   |12.6              |2019|\n",
            "|Rondônia           |11.0              |2018|\n",
            "|Acre               |10.9              |2018|\n",
            "|Amazonas           |10.9              |2018|\n",
            "|Roraima            |11.6              |2018|\n",
            "|Pará               |10.5              |2018|\n",
            "|Amapá              |11.3              |2018|\n",
            "|Tocantins          |11.4              |2018|\n",
            "|Maranhão           |10.6              |2018|\n",
            "|Piauí              |10.9              |2018|\n",
            "|Ceará              |11.1              |2018|\n",
            "|Rio Grande do Norte|10.9              |2018|\n",
            "|Paraíba            |10.6              |2018|\n",
            "|Pernambuco         |11.0              |2018|\n",
            "|Alagoas            |10.4              |2018|\n",
            "|Sergipe            |10.3              |2018|\n",
            "|Bahia              |10.4              |2018|\n",
            "|Minas Gerais       |11.5              |2018|\n",
            "|Espírito Santo     |11.6              |2018|\n",
            "|Rio de Janeiro     |11.8              |2018|\n",
            "|São Paulo          |12.2              |2018|\n",
            "|Paraná             |11.7              |2018|\n",
            "|Santa Catarina     |12.0              |2018|\n",
            "|Rio Grande do Sul  |11.6              |2018|\n",
            "|Mato Grosso do Sul |11.3              |2018|\n",
            "|Mato Grosso        |11.5              |2018|\n",
            "|Goiás              |11.8              |2018|\n",
            "|Distrito Federal   |12.6              |2018|\n",
            "|Rondônia           |10.8              |2017|\n",
            "|Acre               |10.8              |2017|\n",
            "|Amazonas           |10.8              |2017|\n",
            "|Roraima            |11.5              |2017|\n",
            "|Pará               |10.3              |2017|\n",
            "|Amapá              |11.2              |2017|\n",
            "|Tocantins          |11.3              |2017|\n",
            "|Maranhão           |10.5              |2017|\n",
            "|Piauí              |10.7              |2017|\n",
            "|Ceará              |10.8              |2017|\n",
            "|Rio Grande do Norte|10.9              |2017|\n",
            "|Paraíba            |10.6              |2017|\n",
            "|Pernambuco         |10.7              |2017|\n",
            "|Alagoas            |10.0              |2017|\n",
            "|Sergipe            |10.6              |2017|\n",
            "|Bahia              |10.3              |2017|\n",
            "|Minas Gerais       |11.4              |2017|\n",
            "|Espírito Santo     |11.6              |2017|\n",
            "|Rio de Janeiro     |11.5              |2017|\n",
            "|São Paulo          |12.1              |2017|\n",
            "|Paraná             |11.5              |2017|\n",
            "|Santa Catarina     |11.9              |2017|\n",
            "|Rio Grande do Sul  |11.5              |2017|\n",
            "|Mato Grosso do Sul |11.3              |2017|\n",
            "|Mato Grosso        |11.3              |2017|\n",
            "|Goiás              |11.6              |2017|\n",
            "|Distrito Federal   |12.3              |2017|\n",
            "|Rondônia           |10.4              |2016|\n",
            "|Acre               |10.6              |2016|\n",
            "|Amazonas           |10.5              |2016|\n",
            "|Roraima            |11.0              |2016|\n",
            "|Pará               |10.2              |2016|\n",
            "|Amapá              |11.1              |2016|\n",
            "|Tocantins          |10.8              |2016|\n",
            "|Maranhão           |10.2              |2016|\n",
            "|Piauí              |10.5              |2016|\n",
            "|Ceará              |10.6              |2016|\n",
            "|Rio Grande do Norte|10.8              |2016|\n",
            "|Paraíba            |10.4              |2016|\n",
            "|Pernambuco         |10.5              |2016|\n",
            "|Alagoas            |9.7               |2016|\n",
            "|Sergipe            |10.2              |2016|\n",
            "|Bahia              |10.4              |2016|\n",
            "|Minas Gerais       |11.4              |2016|\n",
            "|Espírito Santo     |11.4              |2016|\n",
            "|Rio de Janeiro     |11.4              |2016|\n",
            "+-------------------+------------------+----+\n",
            "only showing top 100 rows\n",
            "\n"
          ]
        },
        {
          "output_type": "execute_result",
          "data": {
            "text/plain": [
              "[('UF', 'string'), ('Media_Freq_Escolar', 'double'), ('Ano', 'bigint')]"
            ]
          },
          "metadata": {},
          "execution_count": 12
        }
      ]
    },
    {
      "cell_type": "markdown",
      "metadata": {
        "id": "5V-KKecgfw6R"
      },
      "source": [
        "DATAFRAME 6"
      ]
    },
    {
      "cell_type": "code",
      "metadata": {
        "colab": {
          "base_uri": "https://localhost:8080/"
        },
        "id": "jfQ55azXerU3",
        "outputId": "f3d961b8-ce6c-466e-a58d-7825c2cbecbc"
      },
      "source": [
        "# DROPANDO COLUNAS\n",
        "df_6 = df_6.drop('15 a 17 anos - 2019', \n",
        "                 '15 a 17 anos - 2018',\n",
        "                 '15 a 17 anos - 2017',\n",
        "                 '15 a 17 anos - 2016',\n",
        "                 '18 a 24 anos - 2019',\n",
        "                 '18 a 24 anos - 2018',\n",
        "                 '18 a 24 anos - 2017',\n",
        "                 '18 a 24 anos - 2016',\n",
        "                 '25 anos ou mais - 2019',\n",
        "                 '25 anos ou mais - 2018',\n",
        "                 '25 anos ou mais - 2017',\n",
        "                 '25 anos ou mais - 2016')\n",
        "\n",
        "# RENOMEANDO COLUNAS FAIXA DE IDADE\n",
        "df_6 = df_6.withColumnRenamed('Grandes Regiões, Unidades da Federação e Municípios das Capitais', 'UF')\n",
        "df_6 = df_6.withColumnRenamed('Media 15 a 17 anos', 'Media_Freq_15_a_17_anos')\n",
        "df_6 = df_6.withColumnRenamed('média 18 a 24 anos', 'Media_Freq_18_a_24_anos')\n",
        "df_6 = df_6.withColumnRenamed('média 25 anos ou mais', 'Media_Freq_25_anos_ou_mais')\n",
        "\n",
        "# df_6.show(1000, truncate=False)\n",
        "\n",
        "# FILTRO PARA REMOVER REGIÕES E CAPITAIS\n",
        "df_6 = df_6.filter(\n",
        "            (df_6.UF != \"Brasil\") & \n",
        "            (df_6.UF != \"Norte\") & \n",
        "            (df_6.UF != \"Nordeste\") &\n",
        "            (df_6.UF != \"Sudeste\") & \n",
        "            (df_6.UF != \"Sul\") &\n",
        "            (df_6.UF != \"Centro-Oeste\") &\n",
        "            (df_6.UF != \"Porto Velho\") &\n",
        "            (df_6.UF != \"Rio Branco\") &\n",
        "            (df_6.UF != \"Manaus\") &\n",
        "            (df_6.UF != \"Boa Vista\") &\n",
        "            (df_6.UF != \"Macapá\") &\n",
        "            (df_6.UF != \"Palmas\") &\n",
        "            (df_6.UF != \"São Luiz\") &\n",
        "            (df_6.UF != \"Teresina\") &\n",
        "            (df_6.UF != \"Fortaleza\") &\n",
        "            (df_6.UF != \"Natal\") &\n",
        "            (df_6.UF != \"joão Pessoa\") &\n",
        "            (df_6.UF != \"Recife\") &\n",
        "            (df_6.UF != \"Maceió\") &\n",
        "            (df_6.UF != \"Aracaju\") &\n",
        "            (df_6.UF != \"Salvador\") &\n",
        "            (df_6.UF != \"Belo Horizonte\") &\n",
        "            (df_6.UF != \"Vitória\") &\n",
        "            (df_6.UF != \"Curitiba\") &\n",
        "            (df_6.UF != \"Florianópolis\") &\n",
        "            (df_6.UF != \"Porto Alegre\") &\n",
        "            (df_6.UF != \"Campo Grande\") &\n",
        "            (df_6.UF != \"Cuiabá\") &\n",
        "            (df_6.UF != \"Goiânia\") &\n",
        "            (df_6.UF != \"Brasilia\") &\n",
        "            (df_6.Media_Freq_15_a_17_anos != 89.58849285882357) & # Rio de Janeiro\n",
        "            (df_6.Media_Freq_15_a_17_anos != 86.56596333926969) # São Paulo\n",
        "            )\\\n",
        "            .orderBy('UF', ascending=True)\n",
        "\n",
        "# # INCREMENTANDO TAXA DE EVASÃO\n",
        "# df_6 = df_6.withColumn('Evasao_11_a_14_anos', (df_5.Freq_11_a_14_anos - 100)) \n",
        "# df_6 = df_6.withColumn('Evasao_15_a_17_anos', (df_5.Freq_11_a_14_anos - 100))\n",
        "# df_6 = df_6.withColumn('Evasao_18_a_24_anos', (df_5.Freq_11_a_14_anos - 100))\n",
        "# df_6 = df_6.withColumn('Evasao_25_anos_ou_mais', (df_5.Freq_11_a_14_anos - 100))\n",
        "\n",
        "# CONVERTENDO VALORES EM PORCENTAGEM\n",
        "'''https://stackoverflow.com/questions/60673912/how-to-convert-number-into-percentage'''\n",
        "\n",
        "df_6 = df_6\\\n",
        ".withColumn(\"Media_Freq_15_a_17_anos\", F.concat((F.col(\"Media_Freq_15_a_17_anos\") * 1).cast(\"int\"), F.lit(' %')))\\\n",
        ".withColumn(\"Media_Freq_18_a_24_anos\", F.concat((F.col(\"Media_Freq_18_a_24_anos\") * 1).cast(\"int\"), F.lit(' %')))\\\n",
        ".withColumn(\"Media_Freq_25_anos_ou_mais\", F.concat((F.col(\"Media_Freq_25_anos_ou_mais\") * 1).cast(\"int\"), F.lit(' %')))\n",
        "# .withColumn(\"Media_Freq_Escolar\", F.concat((F.col(\"Media_Freq_Escolar\") * 1).cast(\"int\"), F.lit(' %')))\\\n",
        "# .withColumn(\"Evasao_11_a_14_anos\", F.concat((F.col(\"Evasao_11_a_14_anos\") * 1).cast(\"int\"), F.lit(' %')))\\\n",
        "# .withColumn(\"Evasao_15_a_17_anos\", F.concat((F.col(\"Evasao_15_a_17_anos\") * 1).cast(\"int\"), F.lit(' %')))\\\n",
        "# .withColumn(\"Evasao_18_a_24_anos\", F.concat((F.col(\"Evasao_18_a_24_anos\") * 1).cast(\"int\"), F.lit(' %')))\\\n",
        "# .withColumn(\"Evasao_25_anos_ou_mais\", F.concat((F.col(\"Evasao_25_anos_ou_mais\") * 1).cast(\"int\"), F.lit(' %')))\n",
        "\n",
        "# AJUSTANDO EXIBIÇÃO DO DATAFRAME\n",
        "df_6 = df_6.select('UF', \n",
        "                   'Media_Freq_15_a_17_anos', \n",
        "                #    'Evasao_11_a_14_anos',\n",
        "                   'Media_Freq_18_a_24_anos',\n",
        "                #    'Evasao_15_a_17_anos',\n",
        "                   'Media_Freq_25_anos_ou_mais',\n",
        "                #    'Evasao_18_a_24_anos',\n",
        "                #    'Freq_25_anos_ou_mais',\n",
        "                #    'Evasao_25_anos_ou_mais',\n",
        "                #    'Media_Freq_Escolar'\n",
        "               )\n",
        "\n",
        "df_6.show(1000)"
      ],
      "execution_count": null,
      "outputs": [
        {
          "output_type": "stream",
          "name": "stdout",
          "text": [
            "+-------------------+-----------------------+-----------------------+--------------------------+\n",
            "|                 UF|Media_Freq_15_a_17_anos|Media_Freq_18_a_24_anos|Media_Freq_25_anos_ou_mais|\n",
            "+-------------------+-----------------------+-----------------------+--------------------------+\n",
            "|               Acre|                   86 %|                   39 %|                       9 %|\n",
            "|            Alagoas|                   85 %|                   35 %|                       4 %|\n",
            "|              Amapá|                   88 %|                   42 %|                       7 %|\n",
            "|           Amazonas|                   90 %|                   39 %|                       7 %|\n",
            "|              Bahia|                   90 %|                   43 %|                       7 %|\n",
            "|              Belém|                   89 %|                   40 %|                       6 %|\n",
            "|           Brasília|                   91 %|                   44 %|                       6 %|\n",
            "|              Ceará|                   88 %|                   33 %|                       5 %|\n",
            "|   Distrito Federal|                   91 %|                   44 %|                       6 %|\n",
            "|     Espírito Santo|                   92 %|                   47 %|                       6 %|\n",
            "|              Goiás|                   87 %|                   39 %|                       5 %|\n",
            "|        João Pessoa|                   84 %|                   32 %|                       4 %|\n",
            "|           Maranhão|                   87 %|                   35 %|                       6 %|\n",
            "|        Mato Grosso|                   90 %|                   39 %|                       7 %|\n",
            "| Mato Grosso do Sul|                   90 %|                   39 %|                       6 %|\n",
            "|       Minas Gerais|                   92 %|                   37 %|                       6 %|\n",
            "|             Paraná|                   87 %|                   41 %|                       5 %|\n",
            "|            Paraíba|                   90 %|                   44 %|                       6 %|\n",
            "|               Pará|                   90 %|                   39 %|                       6 %|\n",
            "|         Pernambuco|                   88 %|                   33 %|                       5 %|\n",
            "|              Piauí|                   94 %|                   42 %|                       6 %|\n",
            "|Rio Grande do Norte|                   92 %|                   41 %|                       5 %|\n",
            "|  Rio Grande do Sul|                   89 %|                   43 %|                       7 %|\n",
            "|     Rio de Janeiro|                   93 %|                   40 %|                       4 %|\n",
            "|           Rondônia|                   87 %|                   37 %|                       7 %|\n",
            "|            Roraima|                   90 %|                   34 %|                       8 %|\n",
            "|     Santa Catarina|                   92 %|                   44 %|                       6 %|\n",
            "|            Sergipe|                   91 %|                   41 %|                       5 %|\n",
            "|           São Luís|                   89 %|                   37 %|                       5 %|\n",
            "|          São Paulo|                   88 %|                   34 %|                       4 %|\n",
            "|          Tocantins|                   91 %|                   40 %|                       7 %|\n",
            "+-------------------+-----------------------+-----------------------+--------------------------+\n",
            "\n"
          ]
        }
      ]
    },
    {
      "cell_type": "markdown",
      "metadata": {
        "id": "SEWvGtHlf3eZ"
      },
      "source": [
        "DATAFRAME 7"
      ]
    },
    {
      "cell_type": "code",
      "metadata": {
        "colab": {
          "base_uri": "https://localhost:8080/"
        },
        "id": "S4Flsf5qzGHp",
        "outputId": "2ae0e414-67ac-4510-af65-e1a4527fc61f"
      },
      "source": [
        "# DATAFRAME 7\n",
        "df_7 = df_7.drop('Grupo_idade')\n",
        "df_7 = df_7.drop('Unnamed: 0')\n",
        "\n",
        "df_7 = df_7\\\n",
        ".withColumn(\"TaxaAnalfabetismo2016\", F.concat((F.col(\"TaxaAnalfabetismo2016\") * 1).cast(\"int\"), F.lit(' %')))\\\n",
        ".withColumn(\"TaxaAnalfabetismo2017\", F.concat((F.col(\"TaxaAnalfabetismo2017\") * 1).cast(\"int\"), F.lit(' %')))\\\n",
        ".withColumn(\"TaxaAnalfabetismo2018\", F.concat((F.col(\"TaxaAnalfabetismo2018\") * 1).cast(\"int\"), F.lit(' %')))\\\n",
        ".withColumn(\"TaxaAnalfabetismo2019\", F.concat((F.col(\"TaxaAnalfabetismo2019\") * 1).cast(\"int\"), F.lit(' %')))\n",
        "\n",
        "df_7.show()"
      ],
      "execution_count": null,
      "outputs": [
        {
          "output_type": "stream",
          "name": "stdout",
          "text": [
            "+-------------------+---------------------+---------------------+---------------------+---------------------+\n",
            "|                 UF|TaxaAnalfabetismo2016|TaxaAnalfabetismo2017|TaxaAnalfabetismo2018|TaxaAnalfabetismo2019|\n",
            "+-------------------+---------------------+---------------------+---------------------+---------------------+\n",
            "|           Rondônia|                  6 %|                  7 %|                  6 %|                  6 %|\n",
            "|               Acre|                 13 %|                 12 %|                 12 %|                 11 %|\n",
            "|           Amazonas|                  6 %|                  6 %|                  5 %|                  5 %|\n",
            "|            Roraima|                  6 %|                  6 %|                  6 %|                  5 %|\n",
            "|               Pará|                  9 %|                  8 %|                  8 %|                  8 %|\n",
            "|              Amapá|                  5 %|                  5 %|                  6 %|                  5 %|\n",
            "|          Tocantins|                 10 %|                 10 %|                 10 %|                  9 %|\n",
            "|           Maranhão|                 16 %|                 16 %|                 16 %|                 15 %|\n",
            "|              Piauí|                 17 %|                 16 %|                 16 %|                 16 %|\n",
            "|              Ceará|                 15 %|                 14 %|                 13 %|                 13 %|\n",
            "|Rio Grande do Norte|                 14 %|                 13 %|                 12 %|                 13 %|\n",
            "|            Paraíba|                 16 %|                 16 %|                 16 %|                 16 %|\n",
            "|         Pernambuco|                 12 %|                 13 %|                 11 %|                 11 %|\n",
            "|            Alagoas|                 19 %|                 18 %|                 17 %|                 17 %|\n",
            "|            Sergipe|                 14 %|                 14 %|                 13 %|                 13 %|\n",
            "|              Bahia|                 13 %|                 12 %|                 12 %|                 12 %|\n",
            "|       Minas Gerais|                  6 %|                  6 %|                  5 %|                  5 %|\n",
            "|     Espírito Santo|                  6 %|                  5 %|                  5 %|                  5 %|\n",
            "|     Rio de Janeiro|                  2 %|                  2 %|                  2 %|                  2 %|\n",
            "|          São Paulo|                  2 %|                  2 %|                  2 %|                  2 %|\n",
            "+-------------------+---------------------+---------------------+---------------------+---------------------+\n",
            "only showing top 20 rows\n",
            "\n"
          ]
        }
      ]
    },
    {
      "cell_type": "markdown",
      "metadata": {
        "id": "Z-SnL3GEesv8"
      },
      "source": [
        "### CONSULTAS / AGREGANDO DADOS"
      ]
    },
    {
      "cell_type": "code",
      "metadata": {
        "id": "w2bgQFezOJDR",
        "colab": {
          "base_uri": "https://localhost:8080/"
        },
        "outputId": "843176ae-951b-40b0-82ad-3c7d9cfec06d"
      },
      "source": [
        "# VISUALIZAR DATAFRAMES TRATADOS\n",
        "df_1.show(5, truncate=False)\n",
        "df_2.show(5, truncate=False)\n",
        "df_3.show(5, truncate=False)\n",
        "df_4.show(5, truncate=False)\n",
        "df_5.show(5, truncate=False)\n",
        "df_6.show(5, truncate=False)\n",
        "df_7.show(5, truncate=False)"
      ],
      "execution_count": null,
      "outputs": [
        {
          "output_type": "stream",
          "name": "stdout",
          "text": [
            "+--------+------------------+------------+------------+------------+------------+---------+------------------+\n",
            "|UF      |Despesas2016      |Despesas2017|Despesas2018|Despesas2019|Despesas2020|Variacao%|Previsao2021_Media|\n",
            "+--------+------------------+------------+------------+------------+------------+---------+------------------+\n",
            "|Acre    |498.535           |498.535     |627.351     |692.57      |493.753     |8.5      |576.114           |\n",
            "|Amapá   |475.32300000000004|475.323     |489.228     |606.366     |752.252     |52.3     |564.679           |\n",
            "|Amazonas|1604.7320000000002|1604.732    |1862.669    |2108.46     |2101.447    |60.4     |1851.253          |\n",
            "|Pará    |2551.741          |2551.741    |2903.2      |2943.448    |2966.553    |58.0     |2788.972          |\n",
            "|Rondônia|874.8739999999999 |874.874     |903.254     |853.971     |999.044     |-14.7    |905.402           |\n",
            "+--------+------------------+------------+------------+------------+------------+---------+------------------+\n",
            "only showing top 5 rows\n",
            "\n",
            "+----+-------------------------------+----+-------+-----------+\n",
            "|UF  |TipoCrime                      |Ano |Mes    |Ocorrencias|\n",
            "+----+-------------------------------+----+-------+-----------+\n",
            "|Acre|Estupro                        |2021|janeiro|39         |\n",
            "|Acre|Furto de veículo               |2021|janeiro|55         |\n",
            "|Acre|Homicídio doloso               |2021|janeiro|14         |\n",
            "|Acre|Lesão corporal seguida de morte|2021|janeiro|0          |\n",
            "|Acre|Roubo a instituição financeira |2021|janeiro|0          |\n",
            "+----+-------------------------------+----+-------+-----------+\n",
            "only showing top 5 rows\n",
            "\n",
            "+----+----------------+----+---------+----------+-------+\n",
            "|UF  |TipoCrime       |Ano |Mes      |SexoVitima|Vitimas|\n",
            "+----+----------------+----+---------+----------+-------+\n",
            "|Acre|Homicídio doloso|2021|janeiro  |Feminino  |1      |\n",
            "|Acre|Homicídio doloso|2021|janeiro  |Masculino |13     |\n",
            "|Acre|Homicídio doloso|2021|janeiro  |Sexo NI   |0      |\n",
            "|Acre|Homicídio doloso|2021|fevereiro|Feminino  |4      |\n",
            "|Acre|Homicídio doloso|2021|fevereiro|Masculino |12     |\n",
            "+----+----------------+----+---------+----------+-------+\n",
            "only showing top 5 rows\n",
            "\n",
            "+--------+------------------+----+\n",
            "|UF      |Media_Freq_Escolar|Ano |\n",
            "+--------+------------------+----+\n",
            "|Rondônia|11.3              |2019|\n",
            "|Acre    |11.1              |2019|\n",
            "|Amazonas|11.2              |2019|\n",
            "|Roraima |11.7              |2019|\n",
            "|Pará    |10.5              |2019|\n",
            "+--------+------------------+----+\n",
            "only showing top 5 rows\n",
            "\n",
            "+----+----+-----------------------------------+-----------+-------+\n",
            "|UF  |Ano |TipoCrime                          |Ocorrencias|Vitimas|\n",
            "+----+----+-----------------------------------+-----------+-------+\n",
            "|Acre|2016|Homicídio doloso                   |425        |354    |\n",
            "|Acre|2017|Homicídio doloso                   |221        |232    |\n",
            "|Acre|2017|Lesão corporal seguida de morte    |0          |3      |\n",
            "|Acre|2017|Roubo seguido de morte (latrocínio)|10         |15     |\n",
            "|Acre|2018|Homicídio doloso                   |396        |394    |\n",
            "+----+----+-----------------------------------+-----------+-------+\n",
            "only showing top 5 rows\n",
            "\n",
            "+--------+-----------------------+-----------------------+--------------------------+\n",
            "|UF      |Media_Freq_15_a_17_anos|Media_Freq_18_a_24_anos|Media_Freq_25_anos_ou_mais|\n",
            "+--------+-----------------------+-----------------------+--------------------------+\n",
            "|Acre    |86 %                   |39 %                   |9 %                       |\n",
            "|Alagoas |85 %                   |35 %                   |4 %                       |\n",
            "|Amapá   |88 %                   |42 %                   |7 %                       |\n",
            "|Amazonas|90 %                   |39 %                   |7 %                       |\n",
            "|Bahia   |90 %                   |43 %                   |7 %                       |\n",
            "+--------+-----------------------+-----------------------+--------------------------+\n",
            "only showing top 5 rows\n",
            "\n",
            "+--------+---------------------+---------------------+---------------------+---------------------+\n",
            "|UF      |TaxaAnalfabetismo2016|TaxaAnalfabetismo2017|TaxaAnalfabetismo2018|TaxaAnalfabetismo2019|\n",
            "+--------+---------------------+---------------------+---------------------+---------------------+\n",
            "|Rondônia|6 %                  |7 %                  |6 %                  |6 %                  |\n",
            "|Acre    |13 %                 |12 %                 |12 %                 |11 %                 |\n",
            "|Amazonas|6 %                  |6 %                  |5 %                  |5 %                  |\n",
            "|Roraima |6 %                  |6 %                  |6 %                  |5 %                  |\n",
            "|Pará    |9 %                  |8 %                  |8 %                  |8 %                  |\n",
            "+--------+---------------------+---------------------+---------------------+---------------------+\n",
            "only showing top 5 rows\n",
            "\n"
          ]
        }
      ]
    },
    {
      "cell_type": "markdown",
      "metadata": {
        "id": "nHFqf-0VAulA"
      },
      "source": [
        "JOINS"
      ]
    },
    {
      "cell_type": "code",
      "metadata": {
        "id": "vsswAo5erQl-",
        "colab": {
          "base_uri": "https://localhost:8080/"
        },
        "outputId": "dde1333d-a780-4432-8dc2-6b74c526f094"
      },
      "source": [
        "# AGREGAÇÃO 1 (JOIN 1, 2, 3)\n",
        "\n",
        "#AGRUPANDO VALORES DOS DATAFRAMES\n",
        "df_ins2 = df_2.groupBy('UF').sum('Ocorrencias').orderBy('UF')\n",
        "df_ins2.show(50, truncate=False)\n",
        "\n",
        "df_ins3 = df_3.groupBy('UF').sum('Vitimas').orderBy('UF')\n",
        "df_ins3.show(50, truncate=False)\n",
        "\n",
        "# ------------------------------------------------------------\n",
        "\n",
        "# JOIN 1\n",
        "# AGREGA OS VALORES TOTAIS DE OCORRENCIAS E VITIMAS\n",
        "\n",
        "df_join_1 = df_ins2.join(df_ins3, on=['UF'], how='inner')\\\n",
        ".select('UF', 'sum(Ocorrencias)', 'sum(Vitimas)')\\\n",
        ".orderBy(F.asc('UF'))\n",
        "\n",
        "df_join_1.show(50, False)\n",
        "\n",
        "# ------------------------------------------------------------\n",
        "\n",
        "# JOIN 2\n",
        "# AGREGA OS VALORES TOTAIS DE OCORRENCIAS, VITIMAS, MEDIA DE FREQ ESCOLAR\n",
        "\n",
        "df_join_2 = df_join_1.join(df_6, on=['UF'], how='inner')\\\n",
        ".select('UF', 'sum(Ocorrencias)', 'sum(Vitimas)', 'Media_Freq_25_anos_ou_mais')\\\n",
        ".orderBy('UF', ascending=True)\n",
        "\n",
        "df_join_2.show(50, False)\n",
        "\n",
        "# ------------------------------------------------------------\n",
        "\n",
        "# JOIN 3\n",
        "# AGREGA OS VALORES TOTAIS DE DESPESAS GOVERNAMENTAIS, OCORRENCIAS, VITIMAS, MEDIA DE FREQ. ESCOLAR\n",
        "\n",
        "df_join_3 = df_join_2.join(df_1, on=['UF'], how='inner')\\\n",
        ".select('UF', 'Despesas2020', 'sum(Ocorrencias)', 'sum(Vitimas)', 'Media_Freq_25_anos_ou_mais')\\\n",
        ".orderBy(F.asc('UF'))\n",
        "\n",
        "df_join_3\\\n",
        ".orderBy(\"Despesas2020\", ascending=False)\\\n",
        ".show(50, False)\n",
        "\n",
        "df_join_3.dtypes"
      ],
      "execution_count": null,
      "outputs": [
        {
          "output_type": "stream",
          "name": "stdout",
          "text": [
            "+-------------------+----------------+\n",
            "|UF                 |sum(Ocorrencias)|\n",
            "+-------------------+----------------+\n",
            "|Acre               |10569           |\n",
            "|Alagoas            |36240           |\n",
            "|Amapá              |9594            |\n",
            "|Amazonas           |42023           |\n",
            "|Bahia              |159173          |\n",
            "|Ceará              |109815          |\n",
            "|Distrito Federal   |60852           |\n",
            "|Espírito Santo     |71950           |\n",
            "|Goiás              |124737          |\n",
            "|Maranhão           |59384           |\n",
            "|Mato Grosso        |46055           |\n",
            "|Mato Grosso do Sul |38831           |\n",
            "|Minas Gerais       |216193          |\n",
            "|Paraná             |182637          |\n",
            "|Paraíba            |23523           |\n",
            "|Pará               |94224           |\n",
            "|Pernambuco         |161713          |\n",
            "|Piauí              |45802           |\n",
            "|Rio Grande do Norte|50289           |\n",
            "|Rio Grande do Sul  |208516          |\n",
            "|Rio de Janeiro     |422633          |\n",
            "|Rondônia           |33431           |\n",
            "|Roraima            |10191           |\n",
            "|Santa Catarina     |87944           |\n",
            "|Sergipe            |30428           |\n",
            "|São Paulo          |943818          |\n",
            "|Tocantins          |20532           |\n",
            "+-------------------+----------------+\n",
            "\n",
            "+-------------------+------------+\n",
            "|UF                 |sum(Vitimas)|\n",
            "+-------------------+------------+\n",
            "|Acre               |1731        |\n",
            "|Alagoas            |7800        |\n",
            "|Amapá              |1662        |\n",
            "|Amazonas           |6342        |\n",
            "|Bahia              |32769       |\n",
            "|Ceará              |20942       |\n",
            "|Distrito Federal   |2797        |\n",
            "|Espírito Santo     |6613        |\n",
            "|Goiás              |11286       |\n",
            "|Maranhão           |10281       |\n",
            "|Mato Grosso        |5332        |\n",
            "|Mato Grosso do Sul |2987        |\n",
            "|Minas Gerais       |18494       |\n",
            "|Paraná             |12076       |\n",
            "|Paraíba            |6499        |\n",
            "|Pará               |18439       |\n",
            "|Pernambuco         |22856       |\n",
            "|Piauí              |3617        |\n",
            "|Rio Grande do Norte|9258        |\n",
            "|Rio Grande do Sul  |13273       |\n",
            "|Rio de Janeiro     |25739       |\n",
            "|Rondônia           |2620        |\n",
            "|Roraima            |1228        |\n",
            "|Santa Catarina     |4689        |\n",
            "|Sergipe            |5431        |\n",
            "|São Paulo          |15909       |\n",
            "|Tocantins          |2194        |\n",
            "+-------------------+------------+\n",
            "\n",
            "+-------------------+----------------+------------+\n",
            "|UF                 |sum(Ocorrencias)|sum(Vitimas)|\n",
            "+-------------------+----------------+------------+\n",
            "|Acre               |10569           |1731        |\n",
            "|Alagoas            |36240           |7800        |\n",
            "|Amapá              |9594            |1662        |\n",
            "|Amazonas           |42023           |6342        |\n",
            "|Bahia              |159173          |32769       |\n",
            "|Ceará              |109815          |20942       |\n",
            "|Distrito Federal   |60852           |2797        |\n",
            "|Espírito Santo     |71950           |6613        |\n",
            "|Goiás              |124737          |11286       |\n",
            "|Maranhão           |59384           |10281       |\n",
            "|Mato Grosso        |46055           |5332        |\n",
            "|Mato Grosso do Sul |38831           |2987        |\n",
            "|Minas Gerais       |216193          |18494       |\n",
            "|Paraná             |182637          |12076       |\n",
            "|Paraíba            |23523           |6499        |\n",
            "|Pará               |94224           |18439       |\n",
            "|Pernambuco         |161713          |22856       |\n",
            "|Piauí              |45802           |3617        |\n",
            "|Rio Grande do Norte|50289           |9258        |\n",
            "|Rio Grande do Sul  |208516          |13273       |\n",
            "|Rio de Janeiro     |422633          |25739       |\n",
            "|Rondônia           |33431           |2620        |\n",
            "|Roraima            |10191           |1228        |\n",
            "|Santa Catarina     |87944           |4689        |\n",
            "|Sergipe            |30428           |5431        |\n",
            "|São Paulo          |943818          |15909       |\n",
            "|Tocantins          |20532           |2194        |\n",
            "+-------------------+----------------+------------+\n",
            "\n",
            "+-------------------+----------------+------------+--------------------------+\n",
            "|UF                 |sum(Ocorrencias)|sum(Vitimas)|Media_Freq_25_anos_ou_mais|\n",
            "+-------------------+----------------+------------+--------------------------+\n",
            "|Acre               |10569           |1731        |9 %                       |\n",
            "|Alagoas            |36240           |7800        |4 %                       |\n",
            "|Amapá              |9594            |1662        |7 %                       |\n",
            "|Amazonas           |42023           |6342        |7 %                       |\n",
            "|Bahia              |159173          |32769       |7 %                       |\n",
            "|Ceará              |109815          |20942       |5 %                       |\n",
            "|Distrito Federal   |60852           |2797        |6 %                       |\n",
            "|Espírito Santo     |71950           |6613        |6 %                       |\n",
            "|Goiás              |124737          |11286       |5 %                       |\n",
            "|Maranhão           |59384           |10281       |6 %                       |\n",
            "|Mato Grosso        |46055           |5332        |7 %                       |\n",
            "|Mato Grosso do Sul |38831           |2987        |6 %                       |\n",
            "|Minas Gerais       |216193          |18494       |6 %                       |\n",
            "|Paraná             |182637          |12076       |5 %                       |\n",
            "|Paraíba            |23523           |6499        |6 %                       |\n",
            "|Pará               |94224           |18439       |6 %                       |\n",
            "|Pernambuco         |161713          |22856       |5 %                       |\n",
            "|Piauí              |45802           |3617        |6 %                       |\n",
            "|Rio Grande do Norte|50289           |9258        |5 %                       |\n",
            "|Rio Grande do Sul  |208516          |13273       |7 %                       |\n",
            "|Rio de Janeiro     |422633          |25739       |4 %                       |\n",
            "|Rondônia           |33431           |2620        |7 %                       |\n",
            "|Roraima            |10191           |1228        |8 %                       |\n",
            "|Santa Catarina     |87944           |4689        |6 %                       |\n",
            "|Sergipe            |30428           |5431        |5 %                       |\n",
            "|São Paulo          |943818          |15909       |4 %                       |\n",
            "|Tocantins          |20532           |2194        |7 %                       |\n",
            "+-------------------+----------------+------------+--------------------------+\n",
            "\n",
            "+-------------------+------------+----------------+------------+--------------------------+\n",
            "|UF                 |Despesas2020|sum(Ocorrencias)|sum(Vitimas)|Media_Freq_25_anos_ou_mais|\n",
            "+-------------------+------------+----------------+------------+--------------------------+\n",
            "|São Paulo          |11935.652   |943818          |15909       |4 %                       |\n",
            "|Rio de Janeiro     |9450.563    |422633          |25739       |4 %                       |\n",
            "|Minas Gerais       |8987.254    |216193          |18494       |6 %                       |\n",
            "|Rio Grande do Sul  |5530.742    |208516          |13273       |7 %                       |\n",
            "|Bahia              |4321.663    |159173          |32769       |7 %                       |\n",
            "|Paraná             |3687.002    |182637          |12076       |5 %                       |\n",
            "|Goiás              |3191.756    |124737          |11286       |5 %                       |\n",
            "|Ceará              |3045.583    |109815          |20942       |5 %                       |\n",
            "|Pará               |2966.553    |94224           |18439       |6 %                       |\n",
            "|Pernambuco         |2880.151    |161713          |22856       |5 %                       |\n",
            "|Mato Grosso        |2577.01     |46055           |5332        |7 %                       |\n",
            "|Santa Catarina     |2406.364    |87944           |4689        |6 %                       |\n",
            "|Amazonas           |2101.447    |42023           |6342        |7 %                       |\n",
            "|Maranhão           |1954.384    |59384           |10281       |6 %                       |\n",
            "|Paraíba            |1417.592    |23523           |6499        |6 %                       |\n",
            "|Espírito Santo     |1408.398    |71950           |6613        |6 %                       |\n",
            "|Alagoas            |1354.986    |36240           |7800        |4 %                       |\n",
            "|Mato Grosso do Sul |1240.098    |38831           |2987        |6 %                       |\n",
            "|Tocantins          |1059.726    |20532           |2194        |7 %                       |\n",
            "|Rio Grande do Norte|1038.218    |50289           |9258        |5 %                       |\n",
            "|Rondônia           |999.044     |33431           |2620        |7 %                       |\n",
            "|Distrito Federal   |976.513     |60852           |2797        |6 %                       |\n",
            "|Sergipe            |956.784     |30428           |5431        |5 %                       |\n",
            "|Piauí              |785.832     |45802           |3617        |6 %                       |\n",
            "|Amapá              |752.252     |9594            |1662        |7 %                       |\n",
            "|Acre               |493.753     |10569           |1731        |9 %                       |\n",
            "|Roraima            |391.178     |10191           |1228        |8 %                       |\n",
            "+-------------------+------------+----------------+------------+--------------------------+\n",
            "\n"
          ]
        },
        {
          "output_type": "execute_result",
          "data": {
            "text/plain": [
              "[('UF', 'string'),\n",
              " ('Despesas2020', 'float'),\n",
              " ('sum(Ocorrencias)', 'bigint'),\n",
              " ('sum(Vitimas)', 'bigint'),\n",
              " ('Media_Freq_25_anos_ou_mais', 'string')]"
            ]
          },
          "metadata": {},
          "execution_count": 16
        }
      ]
    },
    {
      "cell_type": "code",
      "metadata": {
        "id": "TofPZBof0Npu",
        "colab": {
          "base_uri": "https://localhost:8080/"
        },
        "outputId": "85a6b494-5579-4184-acff-1781e31bf34c"
      },
      "source": [
        "# AGREGAÇÃO 2 (JOIN 4)\n",
        "\n",
        "# JOIN 2\n",
        "# AGREGA OS VALORES TOTAIS DE OCORRENCIAS E VITIMAS POR ESTADO \n",
        "\n",
        "# ------------------------------------------------------------\n",
        "\n",
        "df_join_4 = df_6.join(df_7, on=['UF'], how='inner')\\\n",
        ".select('UF', \n",
        "        'Media_Freq_15_a_17_anos', \n",
        "        'Media_Freq_18_a_24_anos', \n",
        "        'Media_Freq_25_anos_ou_mais', \n",
        "        'TaxaAnalfabetismo2016', \n",
        "        'TaxaAnalfabetismo2017', \n",
        "        'TaxaAnalfabetismo2018', \n",
        "        'TaxaAnalfabetismo2019')\\\n",
        ".orderBy(F.asc('UF'))\n",
        "\n",
        "df_join_4.show()"
      ],
      "execution_count": null,
      "outputs": [
        {
          "output_type": "stream",
          "name": "stdout",
          "text": [
            "+-------------------+-----------------------+-----------------------+--------------------------+---------------------+---------------------+---------------------+---------------------+\n",
            "|                 UF|Media_Freq_15_a_17_anos|Media_Freq_18_a_24_anos|Media_Freq_25_anos_ou_mais|TaxaAnalfabetismo2016|TaxaAnalfabetismo2017|TaxaAnalfabetismo2018|TaxaAnalfabetismo2019|\n",
            "+-------------------+-----------------------+-----------------------+--------------------------+---------------------+---------------------+---------------------+---------------------+\n",
            "|               Acre|                   86 %|                   39 %|                       9 %|                 13 %|                 12 %|                 12 %|                 11 %|\n",
            "|            Alagoas|                   85 %|                   35 %|                       4 %|                 19 %|                 18 %|                 17 %|                 17 %|\n",
            "|              Amapá|                   88 %|                   42 %|                       7 %|                  5 %|                  5 %|                  6 %|                  5 %|\n",
            "|           Amazonas|                   90 %|                   39 %|                       7 %|                  6 %|                  6 %|                  5 %|                  5 %|\n",
            "|              Bahia|                   90 %|                   43 %|                       7 %|                 13 %|                 12 %|                 12 %|                 12 %|\n",
            "|              Ceará|                   88 %|                   33 %|                       5 %|                 15 %|                 14 %|                 13 %|                 13 %|\n",
            "|   Distrito Federal|                   91 %|                   44 %|                       6 %|                  2 %|                  2 %|                  3 %|                  2 %|\n",
            "|     Espírito Santo|                   92 %|                   47 %|                       6 %|                  6 %|                  5 %|                  5 %|                  5 %|\n",
            "|              Goiás|                   87 %|                   39 %|                       5 %|                  6 %|                  5 %|                  5 %|                  5 %|\n",
            "|           Maranhão|                   87 %|                   35 %|                       6 %|                 16 %|                 16 %|                 16 %|                 15 %|\n",
            "|        Mato Grosso|                   90 %|                   39 %|                       7 %|                  6 %|                  6 %|                  7 %|                  6 %|\n",
            "| Mato Grosso do Sul|                   90 %|                   39 %|                       6 %|                  6 %|                  5 %|                  5 %|                  5 %|\n",
            "|       Minas Gerais|                   92 %|                   37 %|                       6 %|                  6 %|                  6 %|                  5 %|                  5 %|\n",
            "|             Paraná|                   87 %|                   41 %|                       5 %|                  4 %|                  4 %|                  5 %|                  4 %|\n",
            "|            Paraíba|                   90 %|                   44 %|                       6 %|                 16 %|                 16 %|                 16 %|                 16 %|\n",
            "|               Pará|                   90 %|                   39 %|                       6 %|                  9 %|                  8 %|                  8 %|                  8 %|\n",
            "|         Pernambuco|                   88 %|                   33 %|                       5 %|                 12 %|                 13 %|                 11 %|                 11 %|\n",
            "|              Piauí|                   94 %|                   42 %|                       6 %|                 17 %|                 16 %|                 16 %|                 16 %|\n",
            "|Rio Grande do Norte|                   92 %|                   41 %|                       5 %|                 14 %|                 13 %|                 12 %|                 13 %|\n",
            "|  Rio Grande do Sul|                   89 %|                   43 %|                       7 %|                  3 %|                  3 %|                  3 %|                  2 %|\n",
            "+-------------------+-----------------------+-----------------------+--------------------------+---------------------+---------------------+---------------------+---------------------+\n",
            "only showing top 20 rows\n",
            "\n"
          ]
        }
      ]
    },
    {
      "cell_type": "code",
      "metadata": {
        "id": "aWfPjmVJkZTR",
        "colab": {
          "base_uri": "https://localhost:8080/"
        },
        "outputId": "6d8d4aa4-6240-400a-a425-f297baaf6a50"
      },
      "source": [
        "# AGREGAÇÃO 3 (JOIN 5)\n",
        "\n",
        "# AGRUPANDO VALORES DOS DATAFRAMES\n",
        "df_agg_1 = df_2.filter(df_2.Ano == 2020)\\\n",
        ".groupBy('UF').sum('Ocorrencias').alias('Ocorrencias_2020').orderBy('UF')\n",
        "\n",
        "df_agg_1.show()\n",
        "\n",
        "# ------------------------------------------------------------\n",
        "\n",
        "df_agg_2 = df_3.filter(df_3.Ano == 2020)\\\n",
        ".groupBy('UF').sum('Vitimas').alias('Vitimas_2020').orderBy('UF')\n",
        "\n",
        "df_agg_2.show()\n",
        "\n",
        "# ------------------------------------------------------------\n",
        "\n",
        "# AGREGANDO OS VALORES PELO ANO DE 2020\n",
        "\n",
        "df_join_5 = df_agg_1.join(df_agg_2, on=['UF'], how='inner')\\\n",
        ".select('UF', 'sum(Ocorrencias)', 'sum(Vitimas)')\\\n",
        ".orderBy('UF', ascending=True)\n",
        "\n",
        "df_join_5.show()\n",
        "\n",
        "# ------------------------------------------------------------\n",
        "\n",
        "df_join_2 = df_1.select('UF', 'Despesas2020')\n",
        "\n",
        "df_join_5 = df_join_5.join(df_join_2, on=['UF'], how='inner')\\\n",
        ".select('UF', \n",
        "        'sum(Ocorrencias)', \n",
        "        'sum(Vitimas)', \n",
        "        'Despesas2020')\n",
        "\n",
        "df_join_5 = df_join_5\\\n",
        ".withColumnRenamed('sum(Ocorrencias)', 'Ocorrencias_2020')\\\n",
        ".withColumnRenamed('sum(Vitimas)', 'Vitimas_2020')\\\n",
        ".withColumnRenamed('Despesas2020', 'Despesas_Gov_2020')\\\n",
        "\n",
        "df_join_5.show()"
      ],
      "execution_count": null,
      "outputs": [
        {
          "output_type": "stream",
          "name": "stdout",
          "text": [
            "+-------------------+----------------+\n",
            "|                 UF|sum(Ocorrencias)|\n",
            "+-------------------+----------------+\n",
            "|               Acre|            1850|\n",
            "|            Alagoas|            5404|\n",
            "|              Amapá|             860|\n",
            "|           Amazonas|            5717|\n",
            "|              Bahia|           24392|\n",
            "|              Ceará|           19402|\n",
            "|   Distrito Federal|            8269|\n",
            "|     Espírito Santo|           13224|\n",
            "|              Goiás|           11868|\n",
            "|           Maranhão|            8356|\n",
            "|        Mato Grosso|            6466|\n",
            "| Mato Grosso do Sul|            5937|\n",
            "|       Minas Gerais|           27002|\n",
            "|             Paraná|           24872|\n",
            "|            Paraíba|            4822|\n",
            "|               Pará|           11824|\n",
            "|         Pernambuco|           23832|\n",
            "|              Piauí|            8015|\n",
            "|Rio Grande do Norte|            7976|\n",
            "|  Rio Grande do Sul|           25810|\n",
            "+-------------------+----------------+\n",
            "only showing top 20 rows\n",
            "\n",
            "+-------------------+------------+\n",
            "|                 UF|sum(Vitimas)|\n",
            "+-------------------+------------+\n",
            "|               Acre|         285|\n",
            "|            Alagoas|        1237|\n",
            "|              Amapá|         253|\n",
            "|           Amazonas|         985|\n",
            "|              Bahia|        5535|\n",
            "|              Ceará|        4039|\n",
            "|   Distrito Federal|         390|\n",
            "|     Espírito Santo|        1156|\n",
            "|              Goiás|        1574|\n",
            "|           Maranhão|        1950|\n",
            "|        Mato Grosso|         859|\n",
            "| Mato Grosso do Sul|         488|\n",
            "|       Minas Gerais|        2695|\n",
            "|             Paraná|        2090|\n",
            "|            Paraíba|        1159|\n",
            "|               Pará|        2333|\n",
            "|         Pernambuco|        3686|\n",
            "|              Piauí|         708|\n",
            "|Rio Grande do Norte|        1386|\n",
            "|  Rio Grande do Sul|        1906|\n",
            "+-------------------+------------+\n",
            "only showing top 20 rows\n",
            "\n",
            "+-------------------+----------------+------------+\n",
            "|                 UF|sum(Ocorrencias)|sum(Vitimas)|\n",
            "+-------------------+----------------+------------+\n",
            "|               Acre|            1850|         285|\n",
            "|            Alagoas|            5404|        1237|\n",
            "|              Amapá|             860|         253|\n",
            "|           Amazonas|            5717|         985|\n",
            "|              Bahia|           24392|        5535|\n",
            "|              Ceará|           19402|        4039|\n",
            "|   Distrito Federal|            8269|         390|\n",
            "|     Espírito Santo|           13224|        1156|\n",
            "|              Goiás|           11868|        1574|\n",
            "|           Maranhão|            8356|        1950|\n",
            "|        Mato Grosso|            6466|         859|\n",
            "| Mato Grosso do Sul|            5937|         488|\n",
            "|       Minas Gerais|           27002|        2695|\n",
            "|             Paraná|           24872|        2090|\n",
            "|            Paraíba|            4822|        1159|\n",
            "|               Pará|           11824|        2333|\n",
            "|         Pernambuco|           23832|        3686|\n",
            "|              Piauí|            8015|         708|\n",
            "|Rio Grande do Norte|            7976|        1386|\n",
            "|  Rio Grande do Sul|           25810|        1906|\n",
            "+-------------------+----------------+------------+\n",
            "only showing top 20 rows\n",
            "\n",
            "+-------------------+----------------+------------+-----------------+\n",
            "|                 UF|Ocorrencias_2020|Vitimas_2020|Despesas_Gov_2020|\n",
            "+-------------------+----------------+------------+-----------------+\n",
            "|               Acre|            1850|         285|          493.753|\n",
            "|            Alagoas|            5404|        1237|         1354.986|\n",
            "|              Amapá|             860|         253|          752.252|\n",
            "|           Amazonas|            5717|         985|         2101.447|\n",
            "|              Bahia|           24392|        5535|         4321.663|\n",
            "|              Ceará|           19402|        4039|         3045.583|\n",
            "|   Distrito Federal|            8269|         390|          976.513|\n",
            "|     Espírito Santo|           13224|        1156|         1408.398|\n",
            "|              Goiás|           11868|        1574|         3191.756|\n",
            "|           Maranhão|            8356|        1950|         1954.384|\n",
            "|        Mato Grosso|            6466|         859|          2577.01|\n",
            "| Mato Grosso do Sul|            5937|         488|         1240.098|\n",
            "|       Minas Gerais|           27002|        2695|         8987.254|\n",
            "|             Paraná|           24872|        2090|         3687.002|\n",
            "|            Paraíba|            4822|        1159|         1417.592|\n",
            "|               Pará|           11824|        2333|         2966.553|\n",
            "|         Pernambuco|           23832|        3686|         2880.151|\n",
            "|              Piauí|            8015|         708|          785.832|\n",
            "|Rio Grande do Norte|            7976|        1386|         1038.218|\n",
            "|  Rio Grande do Sul|           25810|        1906|         5530.742|\n",
            "+-------------------+----------------+------------+-----------------+\n",
            "only showing top 20 rows\n",
            "\n"
          ]
        }
      ]
    },
    {
      "cell_type": "code",
      "metadata": {
        "colab": {
          "base_uri": "https://localhost:8080/"
        },
        "id": "Ma36Mq8uEbxC",
        "outputId": "7109b2e0-cf60-4a96-a15c-bdac02044869"
      },
      "source": [
        "# AGREGAÇÃO 4\n",
        "\n",
        "df_agg_4 = df_4\\\n",
        ".groupBy('UF', 'Ano').avg('Media_Freq_Escolar')\\\n",
        ".alias('Media_Freq_Escolar')\\\n",
        ".orderBy('UF', 'Ano')\n",
        "\n",
        "df_agg_4.show()"
      ],
      "execution_count": null,
      "outputs": [
        {
          "output_type": "stream",
          "name": "stdout",
          "text": [
            "+--------+----+-----------------------+\n",
            "|      UF| Ano|avg(Media_Freq_Escolar)|\n",
            "+--------+----+-----------------------+\n",
            "|    Acre|2016|                   10.6|\n",
            "|    Acre|2017|                   10.8|\n",
            "|    Acre|2018|                   10.9|\n",
            "|    Acre|2019|                   11.1|\n",
            "| Alagoas|2016|                    9.7|\n",
            "| Alagoas|2017|                   10.0|\n",
            "| Alagoas|2018|                   10.4|\n",
            "| Alagoas|2019|                   10.4|\n",
            "|   Amapá|2016|                   11.1|\n",
            "|   Amapá|2017|                   11.2|\n",
            "|   Amapá|2018|                   11.3|\n",
            "|   Amapá|2019|                   11.5|\n",
            "|Amazonas|2016|                   10.5|\n",
            "|Amazonas|2017|                   10.8|\n",
            "|Amazonas|2018|                   10.9|\n",
            "|Amazonas|2019|                   11.2|\n",
            "|   Bahia|2016|                   10.4|\n",
            "|   Bahia|2017|                   10.3|\n",
            "|   Bahia|2018|                   10.4|\n",
            "|   Bahia|2019|                   10.7|\n",
            "+--------+----+-----------------------+\n",
            "only showing top 20 rows\n",
            "\n"
          ]
        }
      ]
    },
    {
      "cell_type": "markdown",
      "metadata": {
        "id": "8894hv-Gpfam"
      },
      "source": [
        "WINDOW FUNCTIONS RANKING"
      ]
    },
    {
      "cell_type": "code",
      "metadata": {
        "colab": {
          "base_uri": "https://localhost:8080/"
        },
        "id": "lpk-tMEv6sP7",
        "outputId": "8838a3ab-5e4a-4aeb-84a6-ab5e168a53cf"
      },
      "source": [
        "# ANALISANDO AS OCORRENCIAS DO ESTADO SP EM 2019\n",
        "\n",
        "df_2_consulta = df_2.groupby('UF', 'TipoCrime', 'Ano')\\\n",
        ".sum('Ocorrencias')\\\n",
        ".filter(\n",
        "    (df_2.UF == \"São Paulo\") & \n",
        "    (df_2.Ano == 2019))\\\n",
        ".orderBy('TipoCrime')\n",
        "\n",
        "# --------------------------------------------\n",
        "\n",
        "# RANKING DAS OCORRENCIAS\n",
        "w0 = Window.partitionBy(F.col('UF')).orderBy(F.desc('sum(Ocorrencias)'))\n",
        "\n",
        "df_2_consulta.withColumn('Ranking', F.row_number().over(w0))\\\n",
        ".show(truncate=False)"
      ],
      "execution_count": null,
      "outputs": [
        {
          "output_type": "stream",
          "name": "stdout",
          "text": [
            "+---------+-----------------------------------+----+----------------+-------+\n",
            "|UF       |TipoCrime                          |Ano |sum(Ocorrencias)|Ranking|\n",
            "+---------+-----------------------------------+----+----------------+-------+\n",
            "|São Paulo|Furto de veículo                   |2019|84099           |1      |\n",
            "|São Paulo|Roubo de veículo                   |2019|46513           |2      |\n",
            "|São Paulo|Estupro                            |2019|11614           |3      |\n",
            "|São Paulo|Roubo de carga                     |2019|7325            |4      |\n",
            "|São Paulo|Tentativa de homicídio             |2019|3390            |5      |\n",
            "|São Paulo|Homicídio doloso                   |2019|2778            |6      |\n",
            "|São Paulo|Roubo seguido de morte (latrocínio)|2019|191             |7      |\n",
            "|São Paulo|Lesão corporal seguida de morte    |2019|99              |8      |\n",
            "|São Paulo|Roubo a instituição financeira     |2019|21              |9      |\n",
            "+---------+-----------------------------------+----+----------------+-------+\n",
            "\n"
          ]
        }
      ]
    },
    {
      "cell_type": "markdown",
      "metadata": {
        "id": "lYSQUkOqpkkm"
      },
      "source": [
        "STRUCT TYPE | UNION BY NAME"
      ]
    },
    {
      "cell_type": "code",
      "metadata": {
        "colab": {
          "base_uri": "https://localhost:8080/"
        },
        "id": "7ySur1R_FzeF",
        "outputId": "67421865-be18-485e-b594-bb9907ac5bee"
      },
      "source": [
        "# CRIANDO DATAFRAME VAZIO\n",
        "\n",
        "esquema = (StructType([\n",
        "        StructField('UF', StringType(), True),\n",
        "        StructField('TipoCrime', StringType(), True),\n",
        "        StructField('Ano', IntegerType(), True),\n",
        "        StructField('Mes', StringType(), True),\n",
        "        StructField('SexoVitima', StringType(), True),\n",
        "        StructField('Vitimas', IntegerType(), True)\n",
        "    ])\n",
        ")\n",
        "\n",
        "df_3_consulta = spark.createDataFrame(data='', schema=esquema)\n",
        "df_3_consulta.printSchema()\n",
        "df_3_consulta.show()\n",
        "\n",
        "# UNINDO DF\n",
        "\n",
        "df_3_consulta.unionByName(df_3)\\\n",
        ".orderBy('Ano', ascending=False)\\\n",
        ".show(5, truncate=False)\n",
        "\n",
        "# --------------------------------------------\n",
        "\n",
        "# EXIBINDO AS QTD. DE VITIMAS DE CRIMES DO ESTADO RJ EM 2020 POR SEXO\n",
        "\n",
        "df_3_consulta = df_3.groupby('UF', 'TipoCrime', 'Ano', 'SexoVitima')\\\n",
        ".sum('Vitimas')\\\n",
        ".filter(\n",
        "    (df_3.UF == \"Rio de Janeiro\") &\n",
        "    (df_3.Ano == 2020) &\n",
        "    (df_3.SexoVitima == \"Feminino\"))\\\n",
        ".orderBy('TipoCrime')\n",
        "\n",
        "df_3_consulta.show(truncate=False)\n",
        "\n",
        "df_3_consulta = df_3.groupby('UF', 'TipoCrime', 'Ano', 'SexoVitima')\\\n",
        ".sum('Vitimas')\\\n",
        ".filter(\n",
        "    (df_3.UF == \"Rio de Janeiro\") &\n",
        "    (df_3.Ano == 2020) &\n",
        "    (df_3.SexoVitima == \"Masculino\"))\\\n",
        ".orderBy('TipoCrime')\n",
        "\n",
        "df_3_consulta.show(truncate=False)\n",
        "\n",
        "df_3_consulta = df_3.groupby('UF', 'TipoCrime', 'Ano', 'SexoVitima')\\\n",
        ".sum('Vitimas')\\\n",
        ".filter(\n",
        "    (df_3.UF == \"Rio de Janeiro\") &\n",
        "    (df_3.Ano == 2020) &\n",
        "    (df_3.SexoVitima == \"Sexo NI\"))\\\n",
        ".orderBy('TipoCrime')\n",
        "\n",
        "df_3_consulta.show(truncate=False)"
      ],
      "execution_count": null,
      "outputs": [
        {
          "output_type": "stream",
          "name": "stdout",
          "text": [
            "root\n",
            " |-- UF: string (nullable = true)\n",
            " |-- TipoCrime: string (nullable = true)\n",
            " |-- Ano: integer (nullable = true)\n",
            " |-- Mes: string (nullable = true)\n",
            " |-- SexoVitima: string (nullable = true)\n",
            " |-- Vitimas: integer (nullable = true)\n",
            "\n",
            "+---+---------+---+---+----------+-------+\n",
            "| UF|TipoCrime|Ano|Mes|SexoVitima|Vitimas|\n",
            "+---+---------+---+---+----------+-------+\n",
            "+---+---------+---+---+----------+-------+\n",
            "\n",
            "+----+----------------+----+---------+----------+-------+\n",
            "|UF  |TipoCrime       |Ano |Mes      |SexoVitima|Vitimas|\n",
            "+----+----------------+----+---------+----------+-------+\n",
            "|Acre|Homicídio doloso|2021|janeiro  |Feminino  |1      |\n",
            "|Acre|Homicídio doloso|2021|janeiro  |Masculino |13     |\n",
            "|Acre|Homicídio doloso|2021|janeiro  |Sexo NI   |0      |\n",
            "|Acre|Homicídio doloso|2021|fevereiro|Feminino  |4      |\n",
            "|Acre|Homicídio doloso|2021|fevereiro|Masculino |12     |\n",
            "+----+----------------+----+---------+----------+-------+\n",
            "only showing top 5 rows\n",
            "\n",
            "+--------------+-----------------------------------+----+----------+------------+\n",
            "|UF            |TipoCrime                          |Ano |SexoVitima|sum(Vitimas)|\n",
            "+--------------+-----------------------------------+----+----------+------------+\n",
            "|Rio de Janeiro|Homicídio doloso                   |2020|Feminino  |274         |\n",
            "|Rio de Janeiro|Lesão corporal seguida de morte    |2020|Feminino  |6           |\n",
            "|Rio de Janeiro|Roubo seguido de morte (latrocínio)|2020|Feminino  |6           |\n",
            "+--------------+-----------------------------------+----+----------+------------+\n",
            "\n",
            "+--------------+-----------------------------------+----+----------+------------+\n",
            "|UF            |TipoCrime                          |Ano |SexoVitima|sum(Vitimas)|\n",
            "+--------------+-----------------------------------+----+----------+------------+\n",
            "|Rio de Janeiro|Homicídio doloso                   |2020|Masculino |3076        |\n",
            "|Rio de Janeiro|Lesão corporal seguida de morte    |2020|Masculino |25          |\n",
            "|Rio de Janeiro|Roubo seguido de morte (latrocínio)|2020|Masculino |80          |\n",
            "+--------------+-----------------------------------+----+----------+------------+\n",
            "\n",
            "+--------------+-----------------------------------+----+----------+------------+\n",
            "|UF            |TipoCrime                          |Ano |SexoVitima|sum(Vitimas)|\n",
            "+--------------+-----------------------------------+----+----------+------------+\n",
            "|Rio de Janeiro|Homicídio doloso                   |2020|Sexo NI   |182         |\n",
            "|Rio de Janeiro|Lesão corporal seguida de morte    |2020|Sexo NI   |0           |\n",
            "|Rio de Janeiro|Roubo seguido de morte (latrocínio)|2020|Sexo NI   |0           |\n",
            "+--------------+-----------------------------------+----+----------+------------+\n",
            "\n"
          ]
        }
      ]
    },
    {
      "cell_type": "markdown",
      "metadata": {
        "id": "JZQVT_sss3Rf"
      },
      "source": [
        "HEADER | AGGREGATE | SUM"
      ]
    },
    {
      "cell_type": "code",
      "metadata": {
        "colab": {
          "base_uri": "https://localhost:8080/"
        },
        "id": "cyui-5cpTgOT",
        "outputId": "27f4c98f-7fd7-4738-a4fa-cffb9032b8f8"
      },
      "source": [
        "# ALTERANDO CABEÇALHO\n",
        "\n",
        "file_path_1 = 'gs://data_lake_ingest_data/2_temp/temp_pandas_despesas_normalizado.csv'\n",
        "\n",
        "fs = gcsfs.GCSFileSystem(project='soulcode-projeto-final', token=serviceaccount)\n",
        "with fs.open(file_path_1):\n",
        "    data = pd.read_csv(file_path_1,\n",
        "                       sep=',', \n",
        "                       encoding='UTF-8',\n",
        "                       header=None)\n",
        "\n",
        "esquema=['UF', \n",
        "         'Desp_2016', \n",
        "         'Desp_2017', \n",
        "         'Desp_2018', \n",
        "         'Desp_2019', \n",
        "         'Desp_2020', \n",
        "         'Variacao_%', \n",
        "         'Previsao_2021_Media']\n",
        "\n",
        "df_1_consulta = spark.createDataFrame(data, schema=esquema)\n",
        "\n",
        "df_1_consulta.show(5, truncate=False)\n",
        "\n",
        "# --------------------------------------------\n",
        "\n",
        "# AGREGANDO O TOTAL DE DESPESAS GOVERNAMENTAIS DO PARANA REFERENTES AOS ULTIMOS 3 ANOS\n",
        "\n",
        "df_1_consulta.select('UF', 'Desp_2018', 'Desp_2019', 'Desp_2020')\\\n",
        ".filter((df_1_consulta.UF == 'Paraná'))\\\n",
        ".groupBy('UF', 'Desp_2018', 'Desp_2019', 'Desp_2020')\\\n",
        ".agg(F.sum(df_1_consulta.Desp_2018 + \n",
        "           df_1_consulta.Desp_2019 + \n",
        "           df_1_consulta.Desp_2020).alias('PR_Despesas_Totais_Milhoes'))\\\n",
        ".show()"
      ],
      "execution_count": null,
      "outputs": [
        {
          "output_type": "stream",
          "name": "stdout",
          "text": [
            "+--------+------------+------------+------------+------------+------------+----------+-------------------+\n",
            "|UF      |Desp_2016   |Desp_2017   |Desp_2018   |Desp_2019   |Desp_2020   |Variacao_%|Previsao_2021_Media|\n",
            "+--------+------------+------------+------------+------------+------------+----------+-------------------+\n",
            "|UF      |Despesas2016|Despesas2017|Despesas2018|Despesas2019|Despesas2020|Variacao% |Previsao2021|Media |\n",
            "|Acre    |498.535     |568.361     |627.351     |692.57      |493.753     |8.5       |576.114            |\n",
            "|Amapá   |475.323     |500.227     |489.228     |606.366     |752.252     |52.3      |564.6792           |\n",
            "|Amazonas|1604.732    |1578.957    |1862.669    |2108.46     |2101.447    |60.4      |1851.253           |\n",
            "|Pará    |2551.741    |2579.916    |2903.2      |2943.448    |2966.553    |58.0      |2788.9716          |\n",
            "+--------+------------+------------+------------+------------+------------+----------+-------------------+\n",
            "only showing top 5 rows\n",
            "\n",
            "+------+---------+---------+---------+--------------------------+\n",
            "|    UF|Desp_2018|Desp_2019|Desp_2020|PR_Despesas_Totais_Milhoes|\n",
            "+------+---------+---------+---------+--------------------------+\n",
            "|Paraná| 4159.687| 3986.055| 3687.002|                 11832.744|\n",
            "+------+---------+---------+---------+--------------------------+\n",
            "\n"
          ]
        }
      ]
    },
    {
      "cell_type": "markdown",
      "metadata": {
        "id": "DeID-8LSEBLn"
      },
      "source": [
        "FILTERS"
      ]
    },
    {
      "cell_type": "code",
      "metadata": {
        "colab": {
          "base_uri": "https://localhost:8080/"
        },
        "id": "UdnQjVNVDTjd",
        "outputId": "4fd13fc2-e58c-4f6d-c0d0-89fc2c63762a"
      },
      "source": [
        "# FILTRANDO INTERVALOS\n",
        "\n",
        "# IGUAL A 90% E MAIOR QUE 20 %\n",
        "df_6.filter(\n",
        "    (df_6.Media_Freq_15_a_17_anos == '90 %') & \n",
        "    (df_6.Media_Freq_15_a_17_anos > '20 %'))\\\n",
        ".select('UF', 'Media_Freq_15_a_17_anos')\\\n",
        ".orderBy(F.desc('Media_Freq_15_a_17_anos'))\\\n",
        ".show(5, truncate=False)\n",
        "\n",
        "# IGUAL E MENOR A 40 % OU IGUAL E MAIOR QUE 20 %\n",
        "df_6.filter(\n",
        "    (df_6.Media_Freq_18_a_24_anos <= '40 %') |\n",
        "    (df_6.Media_Freq_18_a_24_anos >= '20 %'))\\\n",
        ".select('UF', 'Media_Freq_18_a_24_anos')\\\n",
        ".orderBy(F.desc('Media_Freq_18_a_24_anos'))\\\n",
        ".show(5, truncate=False)\n",
        "\n",
        "# IGUAL E MENOR QUE 20 % OU MAIOR QUE 8 %\n",
        "df_6.filter(\n",
        "    (df_6.Media_Freq_25_anos_ou_mais <= '20 %') |\n",
        "    (df_6.Media_Freq_25_anos_ou_mais > '8 %'))\\\n",
        ".select('UF', 'Media_Freq_25_anos_ou_mais')\\\n",
        ".orderBy(F.desc('Media_Freq_25_anos_ou_mais'))\\\n",
        ".show(5, truncate=False)"
      ],
      "execution_count": null,
      "outputs": [
        {
          "output_type": "stream",
          "name": "stdout",
          "text": [
            "+--------+-----------------------+\n",
            "|UF      |Media_Freq_15_a_17_anos|\n",
            "+--------+-----------------------+\n",
            "|Amazonas|90 %                   |\n",
            "|Roraima |90 %                   |\n",
            "|Pará    |90 %                   |\n",
            "|Paraíba |90 %                   |\n",
            "|Bahia   |90 %                   |\n",
            "+--------+-----------------------+\n",
            "only showing top 5 rows\n",
            "\n",
            "+----------------+-----------------------+\n",
            "|UF              |Media_Freq_18_a_24_anos|\n",
            "+----------------+-----------------------+\n",
            "|Espírito Santo  |47 %                   |\n",
            "|Distrito Federal|44 %                   |\n",
            "|Paraíba         |44 %                   |\n",
            "|Brasília        |44 %                   |\n",
            "|Santa Catarina  |44 %                   |\n",
            "+----------------+-----------------------+\n",
            "only showing top 5 rows\n",
            "\n",
            "+----+--------------------------+\n",
            "|UF  |Media_Freq_25_anos_ou_mais|\n",
            "+----+--------------------------+\n",
            "|Acre|9 %                       |\n",
            "+----+--------------------------+\n",
            "\n"
          ]
        }
      ]
    },
    {
      "cell_type": "markdown",
      "metadata": {
        "id": "Zk-3mAb5hp6o"
      },
      "source": [
        "### EXPORTANDO DATAFRAMES"
      ]
    },
    {
      "cell_type": "markdown",
      "metadata": {
        "id": "-IDFVq6-ELQZ"
      },
      "source": [
        "DATAFRAME 1"
      ]
    },
    {
      "cell_type": "code",
      "metadata": {
        "id": "HCSOjqKkEKF8"
      },
      "source": [
        "# TRANSFORMARDO DATAFRAME PYSPAK EM PANDAS\n",
        "df_1 = df_1.toPandas()\n",
        "df_1.to_csv('temp_pyspark_tabela_despesas_gov_uf.csv')\n",
        "\n",
        "BUCKET_NAME= \"data_lake_ingest_data\"\n",
        "storage_client = storage.Client()\n",
        "bucket = storage_client.get_bucket(BUCKET_NAME)\n",
        "\n",
        "fileout = \"2_temp/temp_pyspark_tabela_despesas_gov_uf.csv\"\n",
        "destination_blob = bucket.blob(fileout)\n",
        "destination_blob.upload_from_filename('/content/temp_pyspark_tabela_despesas_gov_uf.csv')"
      ],
      "execution_count": null,
      "outputs": []
    },
    {
      "cell_type": "markdown",
      "metadata": {
        "id": "G7dTr_PIh-__"
      },
      "source": [
        "DATAFRAME 3"
      ]
    },
    {
      "cell_type": "code",
      "metadata": {
        "id": "08dEuHD7hWZj"
      },
      "source": [
        "# TRANSFORMARDO DATAFRAME PYSPAK EM PANDAS\n",
        "df_3 = df_3.toPandas()\n",
        "df_3.to_csv('temp_pyspark_tabela_vitimas_sexo.csv')\n",
        "\n",
        "BUCKET_NAME= \"data_lake_ingest_data\"\n",
        "storage_client = storage.Client()\n",
        "bucket = storage_client.get_bucket(BUCKET_NAME)\n",
        "\n",
        "fileout = \"2_temp/temp_pyspark_tabela_vitimas_sexo.csv\"\n",
        "destination_blob = bucket.blob(fileout)\n",
        "destination_blob.upload_from_filename('/content/temp_pyspark_tabela_vitimas_sexo.csv')"
      ],
      "execution_count": null,
      "outputs": []
    },
    {
      "cell_type": "markdown",
      "metadata": {
        "id": "PHuM1fvQiTTd"
      },
      "source": [
        "DATAFRAME 6"
      ]
    },
    {
      "cell_type": "code",
      "metadata": {
        "id": "jwYiwX7siSPl"
      },
      "source": [
        "# TRANSFORMARDO DATAFRAME PYSPAK EM PANDAS\n",
        "df_6 = df_6.toPandas()\n",
        "df_6.to_csv('temp_pyspark_tabela_frequencia_escolar_normalizado.csv')\n",
        "\n",
        "BUCKET_NAME= \"data_lake_ingest_data\"\n",
        "storage_client = storage.Client()\n",
        "bucket = storage_client.get_bucket(BUCKET_NAME)\n",
        "\n",
        "fileout = \"2_temp/temp_pyspark_tabela_frequencia_escolar_normalizado.csv\"\n",
        "destination_blob = bucket.blob(fileout)\n",
        "destination_blob.upload_from_filename('/content/temp_pyspark_tabela_frequencia_escolar_normalizado.csv')"
      ],
      "execution_count": null,
      "outputs": []
    },
    {
      "cell_type": "markdown",
      "metadata": {
        "id": "L169p36gifZV"
      },
      "source": [
        "DATAFRAME 7"
      ]
    },
    {
      "cell_type": "code",
      "metadata": {
        "id": "_upJye6Lieu7"
      },
      "source": [
        "# TRANSFORMARDO DATAFRAME PYSPAK EM PANDAS\n",
        "df_7 = df_7.toPandas()\n",
        "df_7.to_csv('temp_pyspark_tabela_TaxaAnalfabetismo_normalizado.csv')\n",
        "\n",
        "BUCKET_NAME= \"data_lake_ingest_data\"\n",
        "storage_client = storage.Client()\n",
        "bucket = storage_client.get_bucket(BUCKET_NAME)\n",
        "\n",
        "fileout = \"2_temp/temp_pyspark_tabela_TaxaAnalfabetismo_normalizado.csv\"\n",
        "destination_blob = bucket.blob(fileout)\n",
        "destination_blob.upload_from_filename('/content/temp_pyspark_tabela_TaxaAnalfabetismo_normalizado.csv')"
      ],
      "execution_count": null,
      "outputs": []
    },
    {
      "cell_type": "markdown",
      "metadata": {
        "id": "fAegpIHvioLe"
      },
      "source": [
        "JOINT AGREGAÇÃO 1"
      ]
    },
    {
      "cell_type": "code",
      "metadata": {
        "id": "m1TtKyZkipo4"
      },
      "source": [
        "# TRANSFORMARDO DATAFRAME PYSPAK EM PANDAS\n",
        "df_join_1 = df_join_1.toPandas()\n",
        "df_join_1.to_csv('temp_pyspark_agg_1_General_Data.csv')\n",
        "\n",
        "BUCKET_NAME= \"data_lake_ingest_data\"\n",
        "storage_client = storage.Client()\n",
        "bucket = storage_client.get_bucket(BUCKET_NAME)\n",
        "\n",
        "fileout = \"2_temp/temp_pyspark_agg_1_General_Data.csv\"\n",
        "destination_blob = bucket.blob(fileout)\n",
        "destination_blob.upload_from_filename('/content/temp_pyspark_agg_1_General_Data.csv')"
      ],
      "execution_count": null,
      "outputs": []
    },
    {
      "cell_type": "markdown",
      "metadata": {
        "id": "dz2889XdiqDt"
      },
      "source": [
        "JOIN AGREGAÇÃO 2"
      ]
    },
    {
      "cell_type": "code",
      "metadata": {
        "id": "wYM5a6rPirXq"
      },
      "source": [
        "# TRANSFORMARDO DATAFRAME PYSPAK EM PANDAS\n",
        "df_join_4 = df_join_4.toPandas()\n",
        "df_join_4.to_csv('temp_pyspark_agg_2_Freq_Escolar_Taxa_Analfa.csv')\n",
        "\n",
        "BUCKET_NAME= \"data_lake_ingest_data\"\n",
        "storage_client = storage.Client()\n",
        "bucket = storage_client.get_bucket(BUCKET_NAME)\n",
        "\n",
        "fileout = \"2_temp/temp_pyspark_agg_2_Freq_Escolar_Taxa_Analfa.csv\"\n",
        "destination_blob = bucket.blob(fileout)\n",
        "destination_blob.upload_from_filename('/content/temp_pyspark_agg_2_Freq_Escolar_Taxa_Analfa.csv')"
      ],
      "execution_count": null,
      "outputs": []
    },
    {
      "cell_type": "markdown",
      "metadata": {
        "id": "uojErZpTiAo7"
      },
      "source": [
        "JOIN AGREGAÇÃO 3"
      ]
    },
    {
      "cell_type": "code",
      "metadata": {
        "id": "7HoZBjiRiCz2"
      },
      "source": [
        "# TRANSFORMARDO DATAFRAME PYSPAK EM PANDAS\n",
        "df_join_5 = df_join_5.toPandas()\n",
        "df_join_5.to_csv('temp_pyspark_agg_3_general_data_2020.csv')\n",
        "\n",
        "BUCKET_NAME= \"data_lake_ingest_data\"\n",
        "storage_client = storage.Client()\n",
        "bucket = storage_client.get_bucket(BUCKET_NAME)\n",
        "\n",
        "fileout = \"2_temp/temp_pyspark_agg_3_general_data_2020.csv\"\n",
        "destination_blob = bucket.blob(fileout)\n",
        "destination_blob.upload_from_filename('/content/temp_pyspark_agg_3_general_data_2020.csv')"
      ],
      "execution_count": null,
      "outputs": []
    },
    {
      "cell_type": "markdown",
      "metadata": {
        "id": "YEVe1o-RD02J"
      },
      "source": [
        "AGREGAÇÃO 4 (DATAFRAME 4)"
      ]
    },
    {
      "cell_type": "code",
      "metadata": {
        "id": "PBao-L4uD0sv"
      },
      "source": [
        "# TRANSFORMARDO DATAFRAME PYSPAK EM PANDAS\n",
        "df_agg_4 = df_agg_4.toPandas()\n",
        "df_agg_4.to_csv('temp_pyspark_agg_4_freq_escolar_normalizada.csv')\n",
        "\n",
        "BUCKET_NAME= \"data_lake_ingest_data\"\n",
        "storage_client = storage.Client()\n",
        "bucket = storage_client.get_bucket(BUCKET_NAME)\n",
        "\n",
        "fileout = \"2_temp/temp_pyspark_agg_4_freq_escolar_normalizada.csv\"\n",
        "destination_blob = bucket.blob(fileout)\n",
        "destination_blob.upload_from_filename('/content/temp_pyspark_agg_4_freq_escolar_normalizada.csv')"
      ],
      "execution_count": null,
      "outputs": []
    },
    {
      "cell_type": "code",
      "metadata": {
        "id": "-4KXpZykOuyA",
        "colab": {
          "base_uri": "https://localhost:8080/"
        },
        "outputId": "d734c4b0-5773-4f71-ed98-0535c25b89cc"
      },
      "source": [
        "!pip install pyspark\n",
        "!pip install gcsfs\n",
        "!pip install pandas"
      ],
      "execution_count": null,
      "outputs": [
        {
          "output_type": "stream",
          "name": "stdout",
          "text": [
            "Requirement already satisfied: pyspark in /usr/local/lib/python3.7/dist-packages (3.2.0)\n",
            "Requirement already satisfied: py4j==0.10.9.2 in /usr/local/lib/python3.7/dist-packages (from pyspark) (0.10.9.2)\n",
            "Requirement already satisfied: gcsfs in /usr/local/lib/python3.7/dist-packages (2021.11.0)\n",
            "Requirement already satisfied: google-cloud-storage in /usr/local/lib/python3.7/dist-packages (from gcsfs) (1.18.1)\n",
            "Requirement already satisfied: decorator>4.1.2 in /usr/local/lib/python3.7/dist-packages (from gcsfs) (4.4.2)\n",
            "Requirement already satisfied: google-auth-oauthlib in /usr/local/lib/python3.7/dist-packages (from gcsfs) (0.4.6)\n",
            "Requirement already satisfied: fsspec==2021.11.0 in /usr/local/lib/python3.7/dist-packages (from gcsfs) (2021.11.0)\n",
            "Requirement already satisfied: aiohttp in /usr/local/lib/python3.7/dist-packages (from gcsfs) (3.8.1)\n",
            "Requirement already satisfied: google-auth>=1.2 in /usr/local/lib/python3.7/dist-packages (from gcsfs) (1.35.0)\n",
            "Requirement already satisfied: requests in /usr/local/lib/python3.7/dist-packages (from gcsfs) (2.23.0)\n",
            "Requirement already satisfied: pyasn1-modules>=0.2.1 in /usr/local/lib/python3.7/dist-packages (from google-auth>=1.2->gcsfs) (0.2.8)\n",
            "Requirement already satisfied: six>=1.9.0 in /usr/local/lib/python3.7/dist-packages (from google-auth>=1.2->gcsfs) (1.15.0)\n",
            "Requirement already satisfied: cachetools<5.0,>=2.0.0 in /usr/local/lib/python3.7/dist-packages (from google-auth>=1.2->gcsfs) (4.2.4)\n",
            "Requirement already satisfied: setuptools>=40.3.0 in /usr/local/lib/python3.7/dist-packages (from google-auth>=1.2->gcsfs) (57.4.0)\n",
            "Requirement already satisfied: rsa<5,>=3.1.4 in /usr/local/lib/python3.7/dist-packages (from google-auth>=1.2->gcsfs) (4.7.2)\n",
            "Requirement already satisfied: pyasn1<0.5.0,>=0.4.6 in /usr/local/lib/python3.7/dist-packages (from pyasn1-modules>=0.2.1->google-auth>=1.2->gcsfs) (0.4.8)\n",
            "Requirement already satisfied: async-timeout<5.0,>=4.0.0a3 in /usr/local/lib/python3.7/dist-packages (from aiohttp->gcsfs) (4.0.1)\n",
            "Requirement already satisfied: charset-normalizer<3.0,>=2.0 in /usr/local/lib/python3.7/dist-packages (from aiohttp->gcsfs) (2.0.7)\n",
            "Requirement already satisfied: multidict<7.0,>=4.5 in /usr/local/lib/python3.7/dist-packages (from aiohttp->gcsfs) (5.2.0)\n",
            "Requirement already satisfied: frozenlist>=1.1.1 in /usr/local/lib/python3.7/dist-packages (from aiohttp->gcsfs) (1.2.0)\n",
            "Requirement already satisfied: asynctest==0.13.0 in /usr/local/lib/python3.7/dist-packages (from aiohttp->gcsfs) (0.13.0)\n",
            "Requirement already satisfied: attrs>=17.3.0 in /usr/local/lib/python3.7/dist-packages (from aiohttp->gcsfs) (21.2.0)\n",
            "Requirement already satisfied: aiosignal>=1.1.2 in /usr/local/lib/python3.7/dist-packages (from aiohttp->gcsfs) (1.2.0)\n",
            "Requirement already satisfied: yarl<2.0,>=1.0 in /usr/local/lib/python3.7/dist-packages (from aiohttp->gcsfs) (1.7.2)\n",
            "Requirement already satisfied: typing-extensions>=3.7.4 in /usr/local/lib/python3.7/dist-packages (from aiohttp->gcsfs) (3.10.0.2)\n",
            "Requirement already satisfied: idna>=2.0 in /usr/local/lib/python3.7/dist-packages (from yarl<2.0,>=1.0->aiohttp->gcsfs) (2.10)\n",
            "Requirement already satisfied: requests-oauthlib>=0.7.0 in /usr/local/lib/python3.7/dist-packages (from google-auth-oauthlib->gcsfs) (1.3.0)\n",
            "Requirement already satisfied: oauthlib>=3.0.0 in /usr/local/lib/python3.7/dist-packages (from requests-oauthlib>=0.7.0->google-auth-oauthlib->gcsfs) (3.1.1)\n",
            "Requirement already satisfied: chardet<4,>=3.0.2 in /usr/local/lib/python3.7/dist-packages (from requests->gcsfs) (3.0.4)\n",
            "Requirement already satisfied: urllib3!=1.25.0,!=1.25.1,<1.26,>=1.21.1 in /usr/local/lib/python3.7/dist-packages (from requests->gcsfs) (1.24.3)\n",
            "Requirement already satisfied: certifi>=2017.4.17 in /usr/local/lib/python3.7/dist-packages (from requests->gcsfs) (2021.10.8)\n",
            "Requirement already satisfied: google-cloud-core<2.0dev,>=1.0.0 in /usr/local/lib/python3.7/dist-packages (from google-cloud-storage->gcsfs) (1.0.3)\n",
            "Requirement already satisfied: google-resumable-media<0.5.0dev,>=0.3.1 in /usr/local/lib/python3.7/dist-packages (from google-cloud-storage->gcsfs) (0.4.1)\n",
            "Requirement already satisfied: google-api-core<2.0.0dev,>=1.14.0 in /usr/local/lib/python3.7/dist-packages (from google-cloud-core<2.0dev,>=1.0.0->google-cloud-storage->gcsfs) (1.26.3)\n",
            "Requirement already satisfied: protobuf>=3.12.0 in /usr/local/lib/python3.7/dist-packages (from google-api-core<2.0.0dev,>=1.14.0->google-cloud-core<2.0dev,>=1.0.0->google-cloud-storage->gcsfs) (3.17.3)\n",
            "Requirement already satisfied: packaging>=14.3 in /usr/local/lib/python3.7/dist-packages (from google-api-core<2.0.0dev,>=1.14.0->google-cloud-core<2.0dev,>=1.0.0->google-cloud-storage->gcsfs) (21.3)\n",
            "Requirement already satisfied: googleapis-common-protos<2.0dev,>=1.6.0 in /usr/local/lib/python3.7/dist-packages (from google-api-core<2.0.0dev,>=1.14.0->google-cloud-core<2.0dev,>=1.0.0->google-cloud-storage->gcsfs) (1.53.0)\n",
            "Requirement already satisfied: pytz in /usr/local/lib/python3.7/dist-packages (from google-api-core<2.0.0dev,>=1.14.0->google-cloud-core<2.0dev,>=1.0.0->google-cloud-storage->gcsfs) (2018.9)\n",
            "Requirement already satisfied: pyparsing!=3.0.5,>=2.0.2 in /usr/local/lib/python3.7/dist-packages (from packaging>=14.3->google-api-core<2.0.0dev,>=1.14.0->google-cloud-core<2.0dev,>=1.0.0->google-cloud-storage->gcsfs) (3.0.6)\n",
            "Requirement already satisfied: pandas in /usr/local/lib/python3.7/dist-packages (1.1.5)\n",
            "Requirement already satisfied: pytz>=2017.2 in /usr/local/lib/python3.7/dist-packages (from pandas) (2018.9)\n",
            "Requirement already satisfied: numpy>=1.15.4 in /usr/local/lib/python3.7/dist-packages (from pandas) (1.19.5)\n",
            "Requirement already satisfied: python-dateutil>=2.7.3 in /usr/local/lib/python3.7/dist-packages (from pandas) (2.8.2)\n",
            "Requirement already satisfied: six>=1.5 in /usr/local/lib/python3.7/dist-packages (from python-dateutil>=2.7.3->pandas) (1.15.0)\n"
          ]
        }
      ]
    },
    {
      "cell_type": "markdown",
      "metadata": {
        "id": "LGSrFAzXOmCC"
      },
      "source": [
        "# SPARKSQL"
      ]
    },
    {
      "cell_type": "markdown",
      "metadata": {
        "id": "Ng3u8XetO1jC"
      },
      "source": [
        "### INSTALANDO DEPENDECIAS"
      ]
    },
    {
      "cell_type": "code",
      "metadata": {
        "id": "VsfSMAAJPNjo"
      },
      "source": [
        "!pip install pyspark\n",
        "!pip install gcsfs\n",
        "!pip install pandas"
      ],
      "execution_count": null,
      "outputs": []
    },
    {
      "cell_type": "markdown",
      "metadata": {
        "id": "5Bzw7Z2_PR4v"
      },
      "source": [
        "### IMPORTANDO BIBLIOTECAS, ABRINDO SPARKSESSION E CONFIGURANDO CHAVE DE SERVIÇO"
      ]
    },
    {
      "cell_type": "code",
      "metadata": {
        "id": "mdRAuDKhPR4w"
      },
      "source": [
        "from pyspark.sql import SparkSession\n",
        "from pyspark.sql.types import *\n",
        "from google.cloud import storage\n",
        "\n",
        "import pyspark\n",
        "import pyspark.sql.functions as F\n",
        "import gcsfs"
      ],
      "execution_count": null,
      "outputs": []
    },
    {
      "cell_type": "code",
      "metadata": {
        "colab": {
          "base_uri": "https://localhost:8080/"
        },
        "id": "lw702M39PR4x",
        "outputId": "1d7fc326-32d3-4ece-83f1-a1bb9a081297"
      },
      "source": [
        "spark = SparkSession.builder\\\n",
        ".master('local')\\\n",
        ".appName('Projeto_Final')\\\n",
        ".config('spark.ui.enable', 'true')\\\n",
        ".config('spark.ui.port', '4050')\\\n",
        ".getOrCreate()\n",
        "\n",
        "spark\n",
        "\n",
        "serviceaccount = '/content/soulcode-projeto-final-4b88bea6e07a.json'\n",
        "os.environ[\"GOOGLE_APPLICATION_CREDENTIALS\"] = serviceaccount\n",
        "\n",
        "spark"
      ],
      "execution_count": null,
      "outputs": [
        {
          "output_type": "execute_result",
          "data": {
            "text/html": [
              "\n",
              "            <div>\n",
              "                <p><b>SparkSession - in-memory</b></p>\n",
              "                \n",
              "        <div>\n",
              "            <p><b>SparkContext</b></p>\n",
              "\n",
              "            <p><a href=\"http://fdd9840039dd:4050\">Spark UI</a></p>\n",
              "\n",
              "            <dl>\n",
              "              <dt>Version</dt>\n",
              "                <dd><code>v3.2.0</code></dd>\n",
              "              <dt>Master</dt>\n",
              "                <dd><code>local</code></dd>\n",
              "              <dt>AppName</dt>\n",
              "                <dd><code>Projeto_Final</code></dd>\n",
              "            </dl>\n",
              "        </div>\n",
              "        \n",
              "            </div>\n",
              "        "
            ],
            "text/plain": [
              "<pyspark.sql.session.SparkSession at 0x7f3308bc7990>"
            ]
          },
          "metadata": {},
          "execution_count": 35
        }
      ]
    },
    {
      "cell_type": "markdown",
      "metadata": {
        "id": "_g1vWxfrPgy-"
      },
      "source": [
        "### LENDO DATAFRAME, CRIANDO VISUALIZAÇÃO TEMPORARIA E ANALISANDO DADOS"
      ]
    },
    {
      "cell_type": "markdown",
      "metadata": {
        "id": "ff21kUTXTt39"
      },
      "source": [
        "DATAFRAME 1"
      ]
    },
    {
      "cell_type": "code",
      "metadata": {
        "id": "W-oNo0BaPeYE",
        "colab": {
          "base_uri": "https://localhost:8080/",
          "height": 885
        },
        "outputId": "06396269-1bec-4cf8-a2d4-0e725024f69e"
      },
      "source": [
        "file_path = ['gs://data_lake_ingest_data/2_temp/temp_pandas_ocorrencia_vitimas_porAnoEstado.csv',\n",
        "             'gs://data_lake_ingest_data/2_temp/temp_pandas_vitimas_normalizado.json',\n",
        "             'gs://data_lake_ingest_data/2_temp/temp_pyspark_agg_2_Freq_Escolar_Taxa_Analfa.csv']\n",
        "\n",
        "# Lendo dataframes dinâmicamente\n",
        "for i in range(len(file_path)):\n",
        "\n",
        "    fs = gcsfs.GCSFileSystem(project='soulcode-projeto-final', token=serviceaccount)\n",
        "\n",
        "    if i != 0:\n",
        "        if \".csv\" in file_path[i]:\n",
        "            with fs.open(file_path[i]):\n",
        "                data = pd.read_csv(file_path[i], sep=',', encoding='UTF-8', header=0)\n",
        "\n",
        "            # Criando visualização temporária SparkSQL\n",
        "            spark.createDataFrame(data).createOrReplaceTempView('df_'+str(i))\n",
        "        \n",
        "        if \".json\" in file_path[i]:\n",
        "            with fs.open(file_path[i]):\n",
        "                data = pd.read_json(file_path[i], encoding='UTF-8')\n",
        "\n",
        "            # Criando visualização temporária SparkSQL\n",
        "            spark.createDataFrame(data).createOrReplaceTempView('df_'+str(i))\n",
        "\n",
        "    else:\n",
        "        continue\n",
        "\n",
        "# Verificando tipos de dados vindos do PySpark\n",
        "spark.sql(''' DESCRIBE df_1 ''').show()\n",
        "spark.sql(''' DESCRIBE df_2 ''').show()\n",
        "spark.sql(''' DESCRIBE df_3 ''').show()\n",
        "\n",
        "# Visualizando tabelas\n",
        "spark.sql('''\n",
        "        SELECT *\n",
        "        FROM df_1\n",
        "        LIMIT 10\n",
        "        '''    \n",
        "        ).show()\n",
        "\n",
        "spark.sql('''\n",
        "        SELECT *\n",
        "        FROM df_2\n",
        "        LIMIT 10\n",
        "        '''    \n",
        "        ).show()"
      ],
      "execution_count": null,
      "outputs": [
        {
          "output_type": "stream",
          "name": "stdout",
          "text": [
            "+----------+---------+-------+\n",
            "|  col_name|data_type|comment|\n",
            "+----------+---------+-------+\n",
            "|        UF|   string|   null|\n",
            "| TipoCrime|   string|   null|\n",
            "|       Ano|   bigint|   null|\n",
            "|       Mes|   string|   null|\n",
            "|SexoVitima|   string|   null|\n",
            "|   Vitimas|   bigint|   null|\n",
            "+----------+---------+-------+\n",
            "\n",
            "+--------------------+---------+-------+\n",
            "|            col_name|data_type|comment|\n",
            "+--------------------+---------+-------+\n",
            "|          Unnamed: 0|   bigint|   null|\n",
            "|                  UF|   string|   null|\n",
            "|Media_Freq_15_a_1...|   string|   null|\n",
            "|Media_Freq_18_a_2...|   string|   null|\n",
            "|Media_Freq_25_ano...|   string|   null|\n",
            "|TaxaAnalfabetismo...|   string|   null|\n",
            "|TaxaAnalfabetismo...|   string|   null|\n",
            "|TaxaAnalfabetismo...|   string|   null|\n",
            "|TaxaAnalfabetismo...|   string|   null|\n",
            "+--------------------+---------+-------+\n",
            "\n"
          ]
        },
        {
          "output_type": "error",
          "ename": "AnalysisException",
          "evalue": "ignored",
          "traceback": [
            "\u001b[0;31m---------------------------------------------------------------------------\u001b[0m",
            "\u001b[0;31mAnalysisException\u001b[0m                         Traceback (most recent call last)",
            "\u001b[0;32m<ipython-input-52-358da93e458e>\u001b[0m in \u001b[0;36m<module>\u001b[0;34m()\u001b[0m\n\u001b[1;32m     29\u001b[0m \u001b[0mspark\u001b[0m\u001b[0;34m.\u001b[0m\u001b[0msql\u001b[0m\u001b[0;34m(\u001b[0m\u001b[0;34m''' DESCRIBE df_1 '''\u001b[0m\u001b[0;34m)\u001b[0m\u001b[0;34m.\u001b[0m\u001b[0mshow\u001b[0m\u001b[0;34m(\u001b[0m\u001b[0;34m)\u001b[0m\u001b[0;34m\u001b[0m\u001b[0;34m\u001b[0m\u001b[0m\n\u001b[1;32m     30\u001b[0m \u001b[0mspark\u001b[0m\u001b[0;34m.\u001b[0m\u001b[0msql\u001b[0m\u001b[0;34m(\u001b[0m\u001b[0;34m''' DESCRIBE df_2 '''\u001b[0m\u001b[0;34m)\u001b[0m\u001b[0;34m.\u001b[0m\u001b[0mshow\u001b[0m\u001b[0;34m(\u001b[0m\u001b[0;34m)\u001b[0m\u001b[0;34m\u001b[0m\u001b[0;34m\u001b[0m\u001b[0m\n\u001b[0;32m---> 31\u001b[0;31m \u001b[0mspark\u001b[0m\u001b[0;34m.\u001b[0m\u001b[0msql\u001b[0m\u001b[0;34m(\u001b[0m\u001b[0;34m''' DESCRIBE df_3 '''\u001b[0m\u001b[0;34m)\u001b[0m\u001b[0;34m.\u001b[0m\u001b[0mshow\u001b[0m\u001b[0;34m(\u001b[0m\u001b[0;34m)\u001b[0m\u001b[0;34m\u001b[0m\u001b[0;34m\u001b[0m\u001b[0m\n\u001b[0m\u001b[1;32m     32\u001b[0m \u001b[0;34m\u001b[0m\u001b[0m\n\u001b[1;32m     33\u001b[0m \u001b[0;31m# Visualizando tabelas\u001b[0m\u001b[0;34m\u001b[0m\u001b[0;34m\u001b[0m\u001b[0;34m\u001b[0m\u001b[0m\n",
            "\u001b[0;32m/usr/local/lib/python3.7/dist-packages/pyspark/sql/session.py\u001b[0m in \u001b[0;36msql\u001b[0;34m(self, sqlQuery)\u001b[0m\n\u001b[1;32m    721\u001b[0m         \u001b[0;34m[\u001b[0m\u001b[0mRow\u001b[0m\u001b[0;34m(\u001b[0m\u001b[0mf1\u001b[0m\u001b[0;34m=\u001b[0m\u001b[0;36m1\u001b[0m\u001b[0;34m,\u001b[0m \u001b[0mf2\u001b[0m\u001b[0;34m=\u001b[0m\u001b[0;34m'row1'\u001b[0m\u001b[0;34m)\u001b[0m\u001b[0;34m,\u001b[0m \u001b[0mRow\u001b[0m\u001b[0;34m(\u001b[0m\u001b[0mf1\u001b[0m\u001b[0;34m=\u001b[0m\u001b[0;36m2\u001b[0m\u001b[0;34m,\u001b[0m \u001b[0mf2\u001b[0m\u001b[0;34m=\u001b[0m\u001b[0;34m'row2'\u001b[0m\u001b[0;34m)\u001b[0m\u001b[0;34m,\u001b[0m \u001b[0mRow\u001b[0m\u001b[0;34m(\u001b[0m\u001b[0mf1\u001b[0m\u001b[0;34m=\u001b[0m\u001b[0;36m3\u001b[0m\u001b[0;34m,\u001b[0m \u001b[0mf2\u001b[0m\u001b[0;34m=\u001b[0m\u001b[0;34m'row3'\u001b[0m\u001b[0;34m)\u001b[0m\u001b[0;34m]\u001b[0m\u001b[0;34m\u001b[0m\u001b[0;34m\u001b[0m\u001b[0m\n\u001b[1;32m    722\u001b[0m         \"\"\"\n\u001b[0;32m--> 723\u001b[0;31m         \u001b[0;32mreturn\u001b[0m \u001b[0mDataFrame\u001b[0m\u001b[0;34m(\u001b[0m\u001b[0mself\u001b[0m\u001b[0;34m.\u001b[0m\u001b[0m_jsparkSession\u001b[0m\u001b[0;34m.\u001b[0m\u001b[0msql\u001b[0m\u001b[0;34m(\u001b[0m\u001b[0msqlQuery\u001b[0m\u001b[0;34m)\u001b[0m\u001b[0;34m,\u001b[0m \u001b[0mself\u001b[0m\u001b[0;34m.\u001b[0m\u001b[0m_wrapped\u001b[0m\u001b[0;34m)\u001b[0m\u001b[0;34m\u001b[0m\u001b[0;34m\u001b[0m\u001b[0m\n\u001b[0m\u001b[1;32m    724\u001b[0m \u001b[0;34m\u001b[0m\u001b[0m\n\u001b[1;32m    725\u001b[0m     \u001b[0;32mdef\u001b[0m \u001b[0mtable\u001b[0m\u001b[0;34m(\u001b[0m\u001b[0mself\u001b[0m\u001b[0;34m,\u001b[0m \u001b[0mtableName\u001b[0m\u001b[0;34m)\u001b[0m\u001b[0;34m:\u001b[0m\u001b[0;34m\u001b[0m\u001b[0;34m\u001b[0m\u001b[0m\n",
            "\u001b[0;32m/usr/local/lib/python3.7/dist-packages/py4j/java_gateway.py\u001b[0m in \u001b[0;36m__call__\u001b[0;34m(self, *args)\u001b[0m\n\u001b[1;32m   1308\u001b[0m         \u001b[0manswer\u001b[0m \u001b[0;34m=\u001b[0m \u001b[0mself\u001b[0m\u001b[0;34m.\u001b[0m\u001b[0mgateway_client\u001b[0m\u001b[0;34m.\u001b[0m\u001b[0msend_command\u001b[0m\u001b[0;34m(\u001b[0m\u001b[0mcommand\u001b[0m\u001b[0;34m)\u001b[0m\u001b[0;34m\u001b[0m\u001b[0;34m\u001b[0m\u001b[0m\n\u001b[1;32m   1309\u001b[0m         return_value = get_return_value(\n\u001b[0;32m-> 1310\u001b[0;31m             answer, self.gateway_client, self.target_id, self.name)\n\u001b[0m\u001b[1;32m   1311\u001b[0m \u001b[0;34m\u001b[0m\u001b[0m\n\u001b[1;32m   1312\u001b[0m         \u001b[0;32mfor\u001b[0m \u001b[0mtemp_arg\u001b[0m \u001b[0;32min\u001b[0m \u001b[0mtemp_args\u001b[0m\u001b[0;34m:\u001b[0m\u001b[0;34m\u001b[0m\u001b[0;34m\u001b[0m\u001b[0m\n",
            "\u001b[0;32m/usr/local/lib/python3.7/dist-packages/pyspark/sql/utils.py\u001b[0m in \u001b[0;36mdeco\u001b[0;34m(*a, **kw)\u001b[0m\n\u001b[1;32m    115\u001b[0m                 \u001b[0;31m# Hide where the exception came from that shows a non-Pythonic\u001b[0m\u001b[0;34m\u001b[0m\u001b[0;34m\u001b[0m\u001b[0;34m\u001b[0m\u001b[0m\n\u001b[1;32m    116\u001b[0m                 \u001b[0;31m# JVM exception message.\u001b[0m\u001b[0;34m\u001b[0m\u001b[0;34m\u001b[0m\u001b[0;34m\u001b[0m\u001b[0m\n\u001b[0;32m--> 117\u001b[0;31m                 \u001b[0;32mraise\u001b[0m \u001b[0mconverted\u001b[0m \u001b[0;32mfrom\u001b[0m \u001b[0;32mNone\u001b[0m\u001b[0;34m\u001b[0m\u001b[0;34m\u001b[0m\u001b[0m\n\u001b[0m\u001b[1;32m    118\u001b[0m             \u001b[0;32melse\u001b[0m\u001b[0;34m:\u001b[0m\u001b[0;34m\u001b[0m\u001b[0;34m\u001b[0m\u001b[0m\n\u001b[1;32m    119\u001b[0m                 \u001b[0;32mraise\u001b[0m\u001b[0;34m\u001b[0m\u001b[0;34m\u001b[0m\u001b[0m\n",
            "\u001b[0;31mAnalysisException\u001b[0m: Table or view not found: df_3; line 1 pos 10;\n'DescribeRelation false, [col_name#2309, data_type#2310, comment#2311]\n+- 'UnresolvedTableOrView [df_3], DESCRIBE TABLE, true\n"
          ]
        }
      ]
    },
    {
      "cell_type": "markdown",
      "metadata": {
        "id": "RbIvpF6xB2Ge"
      },
      "source": [
        "### CONSULTAS"
      ]
    },
    {
      "cell_type": "markdown",
      "metadata": {
        "id": "nZd-S3c5ATU1"
      },
      "source": [
        "Total de ocorrencias criminais por Estado (nos anos de 2016 a 2021)\n",
        "\n"
      ]
    },
    {
      "cell_type": "code",
      "metadata": {
        "id": "XOO3m1BjAGM1"
      },
      "source": [
        "spark.sql(\n",
        "'''\n",
        "SELECT UF, SUM(Ocorrencias) AS Total_Ocorrencias_por_estado\n",
        "FROM df_1\n",
        "GROUP BY UF\n",
        "ORDER BY UF ASC\n",
        "'''\n",
        ").show()"
      ],
      "execution_count": null,
      "outputs": []
    },
    {
      "cell_type": "markdown",
      "metadata": {
        "id": "nqygmYawA829"
      },
      "source": [
        ""
      ]
    },
    {
      "cell_type": "code",
      "metadata": {
        "id": "sPZ0J5KFA8jG"
      },
      "source": [
        "spark.sql(\n",
        "  \n",
        "'''\n",
        "SELECT TipoCrime, SexoVitima, SUM(Vitimas) AS SomaVitimas\n",
        "FROM df_3\n",
        "GROUP BY TipoCrime,SexoVitima\n",
        "ORDER BY TipoCrime\n",
        "'''\n",
        "\n",
        ").show(10)"
      ],
      "execution_count": null,
      "outputs": []
    }
  ]
}