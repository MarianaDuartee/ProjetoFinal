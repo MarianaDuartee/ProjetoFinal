{
  "nbformat": 4,
  "nbformat_minor": 0,
  "metadata": {
    "colab": {
      "name": "2_PySpark",
      "provenance": [],
      "collapsed_sections": [],
      "include_colab_link": true
    },
    "kernelspec": {
      "display_name": "Python 3",
      "name": "python3"
    }
  },
  "cells": [
    {
      "cell_type": "markdown",
      "metadata": {
        "id": "view-in-github",
        "colab_type": "text"
      },
      "source": [
        "<a href=\"https://colab.research.google.com/github/MarianaDuartee/ProjetoFinal/blob/main/2_PySpark.ipynb\" target=\"_parent\"><img src=\"https://colab.research.google.com/assets/colab-badge.svg\" alt=\"Open In Colab\"/></a>"
      ]
    },
    {
      "cell_type": "markdown",
      "metadata": {
        "id": "2lKRbV4QOa8e"
      },
      "source": [
        "# PYSPARK"
      ]
    },
    {
      "cell_type": "markdown",
      "metadata": {
        "id": "wox7CNOGJGrF"
      },
      "source": [
        "### INSTALANDO DEPENDECIAS"
      ]
    },
    {
      "cell_type": "code",
      "metadata": {
        "id": "AG4awT5LJEmS"
      },
      "source": [
        "!pip install pyspark\n",
        "!pip install gcsfs\n",
        "!pip install pandas\n",
        "!pip install pandera"
      ],
      "execution_count": null,
      "outputs": []
    },
    {
      "cell_type": "markdown",
      "metadata": {
        "id": "QVW92KejMHoY"
      },
      "source": [
        "### IMPORTANDO BIBLIOTECAS, ABRINDO SPARKSESSION E CONFIGURANDO CHAVE DE SERVIÇO"
      ]
    },
    {
      "cell_type": "code",
      "metadata": {
        "id": "WA3IQkKCL2sI"
      },
      "source": [
        "from pyspark.sql import SparkSession\n",
        "from pyspark.sql.types import *\n",
        "from pyspark.sql import Window\n",
        "from google.cloud import storage\n",
        "\n",
        "import pyspark\n",
        "import pyspark.sql.functions as F\n",
        "import pandas as pd\n",
        "import pandera as pa\n",
        "import os\n",
        "import gcsfs"
      ],
      "execution_count": 40,
      "outputs": []
    },
    {
      "cell_type": "code",
      "metadata": {
        "colab": {
          "base_uri": "https://localhost:8080/",
          "height": 222
        },
        "id": "gO9olZPDMpxb",
        "outputId": "b0d565d2-7b75-4c6e-80a3-c60366d05d83"
      },
      "source": [
        "spark = SparkSession.builder\\\n",
        ".master('local')\\\n",
        ".appName('Projeto_Final')\\\n",
        ".config('spark.ui.enable', 'true')\\\n",
        ".config('spark.ui.port', '4050')\\\n",
        ".getOrCreate()\n",
        "\n",
        "spark\n",
        "\n",
        "serviceaccount = '/content/soulcode-projeto-final-4b88bea6e07a.json'\n",
        "os.environ[\"GOOGLE_APPLICATION_CREDENTIALS\"] = serviceaccount\n",
        "\n",
        "spark"
      ],
      "execution_count": 41,
      "outputs": [
        {
          "output_type": "execute_result",
          "data": {
            "text/html": [
              "\n",
              "            <div>\n",
              "                <p><b>SparkSession - in-memory</b></p>\n",
              "                \n",
              "        <div>\n",
              "            <p><b>SparkContext</b></p>\n",
              "\n",
              "            <p><a href=\"http://5f2b4dac64c9:4050\">Spark UI</a></p>\n",
              "\n",
              "            <dl>\n",
              "              <dt>Version</dt>\n",
              "                <dd><code>v3.2.0</code></dd>\n",
              "              <dt>Master</dt>\n",
              "                <dd><code>local</code></dd>\n",
              "              <dt>AppName</dt>\n",
              "                <dd><code>Projeto_Final</code></dd>\n",
              "            </dl>\n",
              "        </div>\n",
              "        \n",
              "            </div>\n",
              "        "
            ],
            "text/plain": [
              "<pyspark.sql.session.SparkSession at 0x7fa1aa269290>"
            ]
          },
          "metadata": {},
          "execution_count": 41
        }
      ]
    },
    {
      "cell_type": "markdown",
      "metadata": {
        "id": "E7EKwiUaOZ7N"
      },
      "source": [
        "### IMPORTANDO, VALIDANDO, EXTRAINDO INFORMAÇÕES E ANALISANDO DATAFRAMES"
      ]
    },
    {
      "cell_type": "markdown",
      "metadata": {
        "id": "UVyVPmLFa9DR"
      },
      "source": [
        "DATAFRAME 1"
      ]
    },
    {
      "cell_type": "code",
      "metadata": {
        "id": "t4GbGTFTbBWl",
        "colab": {
          "base_uri": "https://localhost:8080/"
        },
        "outputId": "2b4abd1c-22d5-4b17-b411-4cd62b579763"
      },
      "source": [
        "# ARQUIVO 1 - Lendo e validando importanção\n",
        "file_path_1 = 'gs://data_lake_ingest_data/2_temp/temp_pandas_despesas_normalizado.csv'\n",
        "\n",
        "fs = gcsfs.GCSFileSystem(project='soulcode-projeto-final', token=serviceaccount)\n",
        "with fs.open(file_path_1):\n",
        "    data = pd.read_csv(file_path_1, sep=',', encoding='UTF-8', header=0, index_col=False)\n",
        "\n",
        "    # Validando esquema, coluna e tipo de dado\n",
        "    schema = pa.DataFrameSchema(columns={\"UF\": pa.Column(str, pa.Check(str)),\n",
        "                                         \"Despesas2016\": pa.Column(float, pa.Check(lambda s: s > 100.000), nullable=True),\n",
        "                                         \"Despesas2017\": pa.Column(float, pa.Check(lambda s: s > 100.000), nullable=True),\n",
        "                                         \"Despesas2018\": pa.Column(float, pa.Check(lambda s: s > 100.000), nullable=True),\n",
        "                                         \"Despesas2019\": pa.Column(float, pa.Check(lambda s: s > 100.000), nullable=True),\n",
        "                                         \"Despesas2020\": pa.Column(float, pa.Check(lambda s: s > 100.000), nullable=True),\n",
        "                                         \"Variacao%\": pa.Column(float, pa.Check(lambda s: s != 0), nullable=True),\n",
        "                                         \"Previsao2021|Media\": pa.Column(float, pa.Check(lambda s: s > 100.000), nullable=True)                               \n",
        "                                         })\n",
        "    \n",
        "    schema.validate(data)\n",
        "\n",
        "df_1 = spark.createDataFrame(data)\n",
        "df_1.dtypes\n",
        "df_1.show(10, truncate=False)"
      ],
      "execution_count": 168,
      "outputs": [
        {
          "output_type": "stream",
          "name": "stdout",
          "text": [
            "+---------+---------------+---------------+---------------+---------------+---------------+---------+--------------------+\n",
            "|UF       |Despesas2016   |Despesas2017   |Despesas2018   |Despesas2019   |Despesas2020   |Variacao%|Previsao2021|Media  |\n",
            "+---------+---------------+---------------+---------------+---------------+---------------+---------+--------------------+\n",
            "|Acre     |4.9853469586E8 |5.6836139244E8 |6.273508495E8  |6.9257020034E8 |4.9375329505E8 |8.5      |5.761140866380001E8 |\n",
            "|Amapá    |4.7532329175E8 |5.0022689486E8 |4.8922797864E8 |6.0636632529E8 |7.5225249884E8 |52.3     |5.646793978759999E8 |\n",
            "|Amazonas |1.60473221563E9|1.57895665667E9|1.86266890656E9|2.10845995454E9|2.10144665649E9|60.4     |1.851252877978E9    |\n",
            "|Pará     |2.55174076992E9|2.57991598234E9|2.90320019444E9|2.94344753592E9|2.96655339806E9|58.0     |2.7889715761359997E9|\n",
            "|Rondônia |8.7487402427E8 |8.9586766443E8 |9.0325385747E8 |8.5397099952E8 |9.9904393587E8 |-14.7    |9.054020963119999E8 |\n",
            "|Roraima  |4.0893419687E8 |4.4012392317E8 |4.0544580472E8 |2.8819794222E8 |3.9117839882E8 |65.8     |3.8677605316E8      |\n",
            "|Tocantins|8.3988238046E8 |8.9865165969E8 |9.3962672371E8 |1.11919008567E9|1.05972641165E9|24.6     |9.71415452236E8     |\n",
            "|Alagoas  |1.1966407622E9 |1.24451957097E9|1.25122876611E9|1.15915881929E9|1.3549862711E9 |17.1     |1.241306837934E9    |\n",
            "|Bahia    |4.76059110341E9|4.56907640713E9|4.60102722773E9|4.68240335577E9|4.32166332723E9|3.9      |4.586952284254001E9 |\n",
            "|Ceará    |2.18831524988E9|2.40023478733E9|2.7633394225E9 |2.84235979374E9|3.04558266899E9|95.0     |2.647966384488E9    |\n",
            "+---------+---------------+---------------+---------------+---------------+---------------+---------+--------------------+\n",
            "only showing top 10 rows\n",
            "\n"
          ]
        }
      ]
    },
    {
      "cell_type": "markdown",
      "metadata": {
        "id": "UIE2jX8tbCx8"
      },
      "source": [
        "DATAFRAME 2"
      ]
    },
    {
      "cell_type": "code",
      "metadata": {
        "id": "JL-EyhYxbEmw",
        "colab": {
          "base_uri": "https://localhost:8080/"
        },
        "outputId": "2117005b-33d4-4298-e7e1-0b09d8685dcf"
      },
      "source": [
        "file_path_2 = 'gs://data_lake_ingest_data/2_temp/temp_pandas_ocorrencias_normalizado.json'\n",
        "\n",
        "fs = gcsfs.GCSFileSystem(project='soulcode-projeto-final', token=serviceaccount)\n",
        "with fs.open(file_path_2):\n",
        "    data = pd.read_json(file_path_2, encoding='UTF-8')\n",
        "\n",
        "# Validando esquema, coluna e tipo de dado\n",
        "    schema = pa.DataFrameSchema(columns={\"UF\": pa.Column(str, pa.Check(str)),\n",
        "                                         \"TipoCrime\": pa.Column(str, pa.Check(str), nullable=True),\n",
        "                                         \"Ano\": pa.Column(int, pa.Check(lambda s: s >= 2015), nullable=True),\n",
        "                                         \"Mes\": pa.Column(str, pa.Check(str), nullable=True),\n",
        "                                         \"Ocorrencias\": pa.Column(int, pa.Check(lambda s: s >= 0), nullable=True),                          \n",
        "                                         })\n",
        "    \n",
        "    schema.validate(data)\n",
        "    \n",
        "df_2 = spark.createDataFrame(data)\n",
        "df_2.dtypes\n",
        "df_2.show(10, truncate=False)"
      ],
      "execution_count": 169,
      "outputs": [
        {
          "output_type": "stream",
          "name": "stdout",
          "text": [
            "+----+-----------------------------------+----+---------+-----------+\n",
            "|UF  |TipoCrime                          |Ano |Mes      |Ocorrencias|\n",
            "+----+-----------------------------------+----+---------+-----------+\n",
            "|Acre|Estupro                            |2021|janeiro  |39         |\n",
            "|Acre|Furto de veículo                   |2021|janeiro  |55         |\n",
            "|Acre|Homicídio doloso                   |2021|janeiro  |14         |\n",
            "|Acre|Lesão corporal seguida de morte    |2021|janeiro  |0          |\n",
            "|Acre|Roubo a instituição financeira     |2021|janeiro  |0          |\n",
            "|Acre|Roubo de carga                     |2021|janeiro  |0          |\n",
            "|Acre|Roubo de veículo                   |2021|janeiro  |99         |\n",
            "|Acre|Roubo seguido de morte (latrocínio)|2021|janeiro  |1          |\n",
            "|Acre|Tentativa de homicídio             |2021|janeiro  |10         |\n",
            "|Acre|Estupro                            |2021|fevereiro|23         |\n",
            "+----+-----------------------------------+----+---------+-----------+\n",
            "only showing top 10 rows\n",
            "\n"
          ]
        }
      ]
    },
    {
      "cell_type": "markdown",
      "metadata": {
        "id": "dLz_ne7HbJm3"
      },
      "source": [
        "DATAFRAME 3"
      ]
    },
    {
      "cell_type": "code",
      "metadata": {
        "id": "4AGa-r1ObPX6",
        "colab": {
          "base_uri": "https://localhost:8080/"
        },
        "outputId": "6dc86c99-e1e6-4edb-e70b-e50e25a7ccce"
      },
      "source": [
        "file_path_3 = 'gs://data_lake_ingest_data/2_temp/temp_pandas_vitimas_normalizado.json'\n",
        "\n",
        "fs = gcsfs.GCSFileSystem(project='soulcode-projeto-final', token=serviceaccount)\n",
        "with fs.open(file_path_3):\n",
        "    data = pd.read_json(file_path_3, encoding='UTF-8')\n",
        "\n",
        "    # Validando esquema, coluna e tipo de dado\n",
        "    schema = pa.DataFrameSchema(columns={\"UF\": pa.Column(str, pa.Check(str)),\n",
        "                                     \"TipoCrime\": pa.Column(str, pa.Check(str), nullable=True),\n",
        "                                     \"Ano\": pa.Column(int, pa.Check(lambda s: s >= 2015), nullable=True),\n",
        "                                     \"Mes\": pa.Column(str, pa.Check(str), nullable=True),\n",
        "                                     \"SexoVitima\": pa.Column(str, pa.Check(str), nullable=True),\n",
        "                                     \"Vitimas\": pa.Column(int, pa.Check(lambda s: s >= 0), nullable=True),                      \n",
        "                                    })\n",
        "    \n",
        "    schema.validate(data)\n",
        "\n",
        "df_3 = spark.createDataFrame(data)\n",
        "df_3.dtypes\n",
        "df_3.show(10, truncate=False)"
      ],
      "execution_count": 170,
      "outputs": [
        {
          "output_type": "stream",
          "name": "stdout",
          "text": [
            "+----+----------------+----+---------+----------+-------+\n",
            "|UF  |TipoCrime       |Ano |Mes      |SexoVitima|Vitimas|\n",
            "+----+----------------+----+---------+----------+-------+\n",
            "|Acre|Homicídio doloso|2021|janeiro  |Feminino  |1      |\n",
            "|Acre|Homicídio doloso|2021|janeiro  |Masculino |13     |\n",
            "|Acre|Homicídio doloso|2021|janeiro  |Sexo NI   |0      |\n",
            "|Acre|Homicídio doloso|2021|fevereiro|Feminino  |4      |\n",
            "|Acre|Homicídio doloso|2021|fevereiro|Masculino |12     |\n",
            "|Acre|Homicídio doloso|2021|fevereiro|Sexo NI   |0      |\n",
            "|Acre|Homicídio doloso|2021|março    |Feminino  |2      |\n",
            "|Acre|Homicídio doloso|2021|março    |Masculino |24     |\n",
            "|Acre|Homicídio doloso|2021|março    |Sexo NI   |0      |\n",
            "|Acre|Homicídio doloso|2021|abril    |Feminino  |2      |\n",
            "+----+----------------+----+---------+----------+-------+\n",
            "only showing top 10 rows\n",
            "\n"
          ]
        }
      ]
    },
    {
      "cell_type": "markdown",
      "metadata": {
        "id": "f9OKmuC20Dgp"
      },
      "source": [
        "DATAFRAME 4"
      ]
    },
    {
      "cell_type": "code",
      "metadata": {
        "colab": {
          "base_uri": "https://localhost:8080/"
        },
        "id": "Sm4TYaIS0Cp-",
        "outputId": "f8b41da6-f546-4134-f493-de370316bd69"
      },
      "source": [
        "file_path_4 = 'gs://data_lake_ingest_data/1_input/Frequencia_escolar_UF.csv'\n",
        "\n",
        "fs = gcsfs.GCSFileSystem(project='soulcode-projeto-final', token=serviceaccount)\n",
        "with fs.open(file_path_4):\n",
        "    data = pd.read_csv(file_path_4, encoding='UTF-8')\n",
        "\n",
        "    data['Média'] = data['Média'].str.replace(',', '.')\n",
        "    data['Média'] = data['Média'].astype(float)\n",
        "\n",
        "    # Validando esquema, coluna e tipo de dado\n",
        "    schema = pa.DataFrameSchema(columns={\"UF\": pa.Column(str, pa.Check(str)),\n",
        "                                        \"Média\": pa.Column(float, pa.Check(lambda s: s <= 100.0), nullable=True),\n",
        "                                        \"CV (%)\": pa.Column(str, pa.Check(str), nullable=True),\n",
        "                                        \"Ano\": pa.Column(int, pa.Check(lambda s: s >= 2016), nullable=True),                      \n",
        "                                        })\n",
        "    \n",
        "    schema.validate(data)\n",
        "\n",
        "df_4 = spark.createDataFrame(data)\n",
        "df_4.dtypes\n",
        "df_4.show(10, truncate=False)"
      ],
      "execution_count": 171,
      "outputs": [
        {
          "output_type": "stream",
          "name": "stdout",
          "text": [
            "+---------+-----+-------+----+\n",
            "|UF       |Média|CV (%) |Ano |\n",
            "+---------+-----+-------+----+\n",
            "|Rondônia |11.3 |   0,9 |2019|\n",
            "|Acre     |11.1 |   1,0 |2019|\n",
            "|Amazonas |11.2 |   0,9 |2019|\n",
            "|Roraima  |11.7 |   1,0 |2019|\n",
            "|Pará     |10.5 |   0,8 |2019|\n",
            "|Amapá    |11.5 |   1,3 |2019|\n",
            "|Tocantins|11.4 |   0,9 |2019|\n",
            "|Maranhão |10.8 |   0,5 |2019|\n",
            "|Piauí    |11.1 |   1,0 |2019|\n",
            "|Ceará    |11.2 |   0,5 |2019|\n",
            "+---------+-----+-------+----+\n",
            "only showing top 10 rows\n",
            "\n"
          ]
        }
      ]
    },
    {
      "cell_type": "markdown",
      "metadata": {
        "id": "09FIUn_5bR23"
      },
      "source": [
        "DATAFRAME 5"
      ]
    },
    {
      "cell_type": "code",
      "metadata": {
        "id": "E7btSKU-bVGq",
        "colab": {
          "base_uri": "https://localhost:8080/"
        },
        "outputId": "dd03ae5d-33b4-4a65-b9a5-2643013d3a11"
      },
      "source": [
        "file_path_5 = 'gs://data_lake_ingest_data/2_temp/temp_pandas_ocorrencia_vitimas_porAnoEstado.csv'\n",
        "\n",
        "fs = gcsfs.GCSFileSystem(project='soulcode-projeto-final', token=serviceaccount)\n",
        "with fs.open(file_path_5):\n",
        "    data = pd.read_csv(file_path_5, sep=',', encoding='UTF-8')\n",
        "\n",
        "    # Validando esquema, coluna e tipo de dado\n",
        "    schema = pa.DataFrameSchema(columns={\"UF\": pa.Column(str, pa.Check(str)),\n",
        "                                         \"Ano\": pa.Column(int, pa.Check(lambda s: s >= 2015), nullable=True),\n",
        "                                         \"TipoCrime\": pa.Column(str, pa.Check(str), nullable=True),\n",
        "                                         \"Ocorrencias\": pa.Column(int, pa.Check(lambda s: s >= 0), nullable=True),\n",
        "                                         \"Vitimas\": pa.Column(int, pa.Check(lambda s: s >= 0), nullable=True),                      \n",
        "                                        })\n",
        "    \n",
        "    schema.validate(data)\n",
        "\n",
        "df_5 = spark.createDataFrame(data)\n",
        "df_5.dtypes\n",
        "df_5.show(10, truncate=False)"
      ],
      "execution_count": 172,
      "outputs": [
        {
          "output_type": "stream",
          "name": "stdout",
          "text": [
            "+----+----+-----------------------------------+-----------+-------+\n",
            "|UF  |Ano |TipoCrime                          |Ocorrencias|Vitimas|\n",
            "+----+----+-----------------------------------+-----------+-------+\n",
            "|Acre|2016|Homicídio doloso                   |425        |354    |\n",
            "|Acre|2017|Homicídio doloso                   |221        |232    |\n",
            "|Acre|2017|Lesão corporal seguida de morte    |0          |3      |\n",
            "|Acre|2017|Roubo seguido de morte (latrocínio)|10         |15     |\n",
            "|Acre|2018|Homicídio doloso                   |396        |394    |\n",
            "|Acre|2018|Roubo seguido de morte (latrocínio)|20         |20     |\n",
            "|Acre|2019|Homicídio doloso                   |292        |298    |\n",
            "|Acre|2019|Lesão corporal seguida de morte    |2          |3      |\n",
            "|Acre|2019|Roubo seguido de morte (latrocínio)|14         |12     |\n",
            "|Acre|2020|Homicídio doloso                   |271        |273    |\n",
            "+----+----+-----------------------------------+-----------+-------+\n",
            "only showing top 10 rows\n",
            "\n"
          ]
        }
      ]
    },
    {
      "cell_type": "markdown",
      "metadata": {
        "id": "yLIPZ0zNbYbq"
      },
      "source": [
        "DATAFRAME 6"
      ]
    },
    {
      "cell_type": "code",
      "metadata": {
        "id": "fG9GtHhibbu6",
        "colab": {
          "base_uri": "https://localhost:8080/"
        },
        "outputId": "5ef382ec-7056-4bde-99c9-152c1c60db89"
      },
      "source": [
        "file_path_6 = 'gs://data_lake_ingest_data/1_input/Tabela_frequencia_escolar.xlsx'\n",
        "\n",
        "fs = gcsfs.GCSFileSystem(project='soulcode-projeto-final', token=serviceaccount)\n",
        "with fs.open(file_path_6):\n",
        "    data = pd.read_excel(file_path_6, header=0)\n",
        "\n",
        "    # Validando esquema, coluna e tipo de dado\n",
        "    schema = pa.DataFrameSchema(columns={\"Grandes Regiões, Unidades da Federação e Municípios das Capitais\": pa.Column(str, pa.Check(str)),\n",
        "                                         \"15 a 17 anos - 2019\": pa.Column(float, pa.Check(lambda s: s <= 100.0), nullable=True),\n",
        "                                         \"15 a 17 anos - 2018\": pa.Column(float, pa.Check(lambda s: s <= 100.0), nullable=True),\n",
        "                                         \"15 a 17 anos - 2017\": pa.Column(float, pa.Check(lambda s: s <= 100.0), nullable=True),\n",
        "                                         \"15 a 17 anos - 2016\": pa.Column(float, pa.Check(lambda s: s <= 100.0), nullable=True),                      \n",
        "                                         \"Media 15 a 17 anos\": pa.Column(float, pa.Check(lambda s: s <= 100.0), nullable=True),\n",
        "                                         \"18 a 24 anos - 2019\": pa.Column(float, pa.Check(lambda s: s <= 100.0), nullable=True),\n",
        "                                         \"18 a 24 anos - 2018\": pa.Column(float, pa.Check(lambda s: s <= 100.0), nullable=True),\n",
        "                                         \"18 a 24 anos - 2017\": pa.Column(float, pa.Check(lambda s: s <= 100.0), nullable=True),\n",
        "                                         \"18 a 24 anos - 2016\": pa.Column(float, pa.Check(lambda s: s <= 100.0), nullable=True),\n",
        "                                         \"média 18 a 24 anos\": pa.Column(float, pa.Check(lambda s: s <= 100.0), nullable=True),\n",
        "                                         \"25 anos ou mais - 2019\": pa.Column(float, pa.Check(lambda s: s <= 100.0), nullable=True),\n",
        "                                         \"25 anos ou mais - 2018\": pa.Column(float, pa.Check(lambda s: s <= 100.0), nullable=True),\n",
        "                                         \"25 anos ou mais - 2017\": pa.Column(float, pa.Check(lambda s: s <= 100.0), nullable=True),\n",
        "                                         \"25 anos ou mais - 2016\":  pa.Column(float, pa.Check(lambda s: s <= 100.0), nullable=True),\n",
        "                                         \"média 25 anos ou mais\": pa.Column(float, pa.Check(lambda s: s <= 100.0), nullable=True)\n",
        "                                        })\n",
        "    \n",
        "    schema.validate(data)\n",
        "    \n",
        "df_6 = spark.createDataFrame(data)\n",
        "df_6.dtypes\n",
        "df_6.show(10, truncate=False)"
      ],
      "execution_count": 173,
      "outputs": [
        {
          "output_type": "stream",
          "name": "stdout",
          "text": [
            "+----------------------------------------------------------------+-------------------+-------------------+-------------------+-------------------+------------------+-------------------+-------------------+-------------------+-------------------+------------------+----------------------+----------------------+----------------------+----------------------+---------------------+\n",
            "|Grandes Regiões, Unidades da Federação e Municípios das Capitais|15 a 17 anos - 2019|15 a 17 anos - 2018|15 a 17 anos - 2017|15 a 17 anos - 2016|Media 15 a 17 anos|18 a 24 anos - 2019|18 a 24 anos - 2018|18 a 24 anos - 2017|18 a 24 anos - 2016|média 18 a 24 anos|25 anos ou mais - 2019|25 anos ou mais - 2018|25 anos ou mais - 2017|25 anos ou mais - 2016|média 25 anos ou mais|\n",
            "+----------------------------------------------------------------+-------------------+-------------------+-------------------+-------------------+------------------+-------------------+-------------------+-------------------+-------------------+------------------+----------------------+----------------------+----------------------+----------------------+---------------------+\n",
            "|Brasil                                                          |89.17198948374096  |88.2426144204458   |86.56451335197876  |87.5617260467917   |87.8852108257393  |32.41407932745226  |34.53417795470805  |33.360253247817255 |34.17581270855951  |33.62108080963427 |4.504817075471089     |5.675049480395514     |5.8222092845937174    |6.05481441288333      |5.514222563335913    |\n",
            "|Norte                                                           |88.74982729136596  |87.13363699314166  |86.18634784748102  |86.23343843334908  |87.07581264133444 |33.277336088584065 |30.55755225551167  |31.889367675874244 |31.40075605450034  |31.781253018617576|5.300311202284845     |4.738200441644607     |4.829205200490404     |6.316555051054046     |5.2960679738684755   |\n",
            "|Rondônia                                                        |88.5758890715434   |87.61083310627495  |88.09353317895633  |86.80829519027922  |87.77213763676347 |31.917363776805303 |36.46044648717471  |42.381697360736936 |39.412875441641646 |37.543095766589644|5.696628237780432     |6.806092080969176     |8.094231628524204     |10.102827665601428    |7.67494490321881     |\n",
            "|Porto Velho                                                     |88.95162805125744  |82.5532772565588   |84.18183233290323  |86.43959488451544  |85.53158313130872 |38.26167802729192  |33.024090303693306 |35.08011605454825  |39.44302117520716  |36.45222639018516 |7.482369141571613     |8.496009939035124     |7.956949796455643     |10.15315072431738     |8.52211990034494     |\n",
            "|Acre                                                            |84.98448999182288  |87.17335055657942  |86.65851673769289  |86.68539677641571  |86.37543851562772 |33.834860833327035 |38.86751169841704  |42.36043012159184  |42.89214761645621  |39.488737567448034|6.9339672958134075    |10.321757609195592    |9.98524514543419      |10.493120889846796    |9.433522735072497    |\n",
            "|Rio Branco                                                      |89.48700493888884  |89.02443607460954  |88.65514377773752  |86.78655326192381  |88.48828451328993 |40.953092757007354 |35.33161594135511  |33.85527254656891  |37.52815436528177  |36.917033902553285|8.58802554333409      |6.065361513449571     |6.653244872336479     |7.2649711685479685    |7.142900774417027    |\n",
            "|Amazonas                                                        |89.76547201880656  |91.06624696075257  |89.65565625461282  |89.90948922869819  |90.09921611571754 |34.04713258673785  |39.777655049741256 |38.94960799636123  |43.309978882767055 |39.02109362890185 |5.863539597454009     |6.987240156830028     |7.74484294823958      |8.733538583447492     |7.332290321492778    |\n",
            "|Manaus                                                          |93.4987402962228   |88.23885635226223  |90.9353958471525   |89.61554496380046  |90.57213436485951 |41.619322253129916 |33.89560518017068  |35.50393057050049  |29.908410153855606 |35.231817039414175|6.806570271755239     |6.859381315725736     |7.801114826327577     |8.218642191160063     |7.421427151242154    |\n",
            "|Roraima                                                         |89.1004526688127   |88.37059144299052  |93.40389167840941  |89.97504279162725  |90.21249464545997 |33.567167131760826 |35.32500881762907  |38.389963345534085 |31.273686767894077 |34.638956515704514|7.144315842776105     |7.602230886099983     |9.025257516326919     |8.849161454321955     |8.15524142488124     |\n",
            "|Boa Vista                                                       |88.81605787744006  |88.16305243690425  |85.38031938726431  |88.54678096636826  |87.72655266699422 |35.76648127271526  |34.315334880080016 |32.11974886723801  |33.12867335823409  |33.832559594566845|7.992154471609433     |5.431108670511762     |5.3741899711590895    |5.192409319722039     |5.997465608250581    |\n",
            "+----------------------------------------------------------------+-------------------+-------------------+-------------------+-------------------+------------------+-------------------+-------------------+-------------------+-------------------+------------------+----------------------+----------------------+----------------------+----------------------+---------------------+\n",
            "only showing top 10 rows\n",
            "\n"
          ]
        }
      ]
    },
    {
      "cell_type": "markdown",
      "metadata": {
        "id": "q41tilhLbcwu"
      },
      "source": [
        "DATAFRAME 7"
      ]
    },
    {
      "cell_type": "code",
      "metadata": {
        "id": "zDjuvk6qbeVR",
        "colab": {
          "base_uri": "https://localhost:8080/"
        },
        "outputId": "39cddde1-7bfe-4a8f-c833-ce3718247cd9"
      },
      "source": [
        "file_path_7 = 'gs://data_lake_ingest_data/2_temp/temp_pandas_taxa_analfabetismo_normalizado.csv'\n",
        "\n",
        "fs = gcsfs.GCSFileSystem(project='soulcode-projeto-final', token=serviceaccount)\n",
        "with fs.open(file_path_7):\n",
        "    data = pd.read_csv(file_path_7, header=0)\n",
        "\n",
        "    # Validando esquema, coluna e tipo de dado\n",
        "    schema = pa.DataFrameSchema(columns={\"UF\": pa.Column(str, pa.Check(str), nullable=True),\n",
        "                                         \"Grupo_idade\": pa.Column(str, pa.Check(str), nullable=True),\n",
        "                                         \"TaxaAnalfabetismo2016\": pa.Column(float, pa.Check(lambda s: s <= 100.0), nullable=True),\n",
        "                                         \"TaxaAnalfabetismo2017\": pa.Column(float, pa.Check(lambda s: s <= 100.0), nullable=True),                      \n",
        "                                         \"TaxaAnalfabetismo2018\": pa.Column(float, pa.Check(lambda s: s <= 100.0), nullable=True),\n",
        "                                         \"TaxaAnalfabetismo2019\": pa.Column(float, pa.Check(lambda s: s <= 100.0), nullable=True),\n",
        "                                        })\n",
        "    \n",
        "    schema.validate(data)\n",
        "\n",
        "df_7 = spark.createDataFrame(data)\n",
        "df_7.dtypes\n",
        "df_7.show(10, truncate=False)"
      ],
      "execution_count": 174,
      "outputs": [
        {
          "output_type": "stream",
          "name": "stdout",
          "text": [
            "+---------+---------------+---------------------+---------------------+---------------------+---------------------+\n",
            "|UF       |Grupo_idade    |TaxaAnalfabetismo2016|TaxaAnalfabetismo2017|TaxaAnalfabetismo2018|TaxaAnalfabetismo2019|\n",
            "+---------+---------------+---------------------+---------------------+---------------------+---------------------+\n",
            "|Rondônia |15 anos ou mais|6.6                  |7.2                  |6.5                  |6.4                  |\n",
            "|Acre     |15 anos ou mais|13.1                 |12.1                 |12.1                 |11.7                 |\n",
            "|Amazonas |15 anos ou mais|6.9                  |6.1                  |5.8                  |5.4                  |\n",
            "|Roraima  |15 anos ou mais|6.6                  |6.0                  |6.0                  |5.0                  |\n",
            "|Pará     |15 anos ou mais|9.2                  |8.6                  |8.8                  |8.4                  |\n",
            "|Amapá    |15 anos ou mais|5.0                  |5.0                  |6.1                  |5.5                  |\n",
            "|Tocantins|15 anos ou mais|10.4                 |10.2                 |10.0                 |9.7                  |\n",
            "|Maranhão |15 anos ou mais|16.7                 |16.8                 |16.3                 |15.6                 |\n",
            "|Piauí    |15 anos ou mais|17.2                 |16.6                 |16.6                 |16.0                 |\n",
            "|Ceará    |15 anos ou mais|15.2                 |14.2                 |13.3                 |13.6                 |\n",
            "+---------+---------------+---------------------+---------------------+---------------------+---------------------+\n",
            "only showing top 10 rows\n",
            "\n"
          ]
        }
      ]
    },
    {
      "cell_type": "markdown",
      "metadata": {
        "id": "lsZ927gDOKDx"
      },
      "source": [
        "### NORMALIZANDO DATAFRAMES\n"
      ]
    },
    {
      "cell_type": "markdown",
      "metadata": {
        "id": "dLjq07hvfqKL"
      },
      "source": [
        "DATAFRAME 1"
      ]
    },
    {
      "cell_type": "code",
      "metadata": {
        "colab": {
          "base_uri": "https://localhost:8080/"
        },
        "id": "bAPe60SHVbP6",
        "outputId": "39364dd8-efd9-4bb0-ecce-41a3dca06f08"
      },
      "source": [
        "df_1 = df_1.drop('Estimativa_2021', 'Previsao2021Media')\n",
        "df_1 = df_1.withColumnRenamed('Media Anual', 'Estimativa_Despesa_2021')\n",
        "df_1 = df_1.withColumnRenamed('Previsao2021|Media', 'Previsao2021_Media')\n",
        "\n",
        "df_1 = df_1.withColumn(\"Despesas2017\", F.round(df_1.Despesas2016.cast(FloatType()), 3))\n",
        "df_1 = df_1.withColumn(\"Despesas2017\", F.round(df_1.Despesas2017.cast(FloatType()), 3))\n",
        "df_1 = df_1.withColumn(\"Despesas2018\", F.round(df_1.Despesas2018.cast(FloatType()), 3))\n",
        "df_1 = df_1.withColumn(\"Despesas2019\", F.round(df_1.Despesas2019.cast(FloatType()), 3))\n",
        "df_1 = df_1.withColumn(\"Despesas2020\", F.round(df_1.Despesas2020.cast(FloatType()), 3))\n",
        "df_1 = df_1.withColumn(\"Previsao2021_Media\", F.round(df_1.Previsao2021_Media.cast(FloatType()), 3))\n",
        "\n",
        "df_1.show()\n",
        "df_1.dtypes"
      ],
      "execution_count": 175,
      "outputs": [
        {
          "output_type": "stream",
          "name": "stdout",
          "text": [
            "+-------------------+---------------+------------+------------+------------+------------+---------+------------------+\n",
            "|                 UF|   Despesas2016|Despesas2017|Despesas2018|Despesas2019|Despesas2020|Variacao%|Previsao2021_Media|\n",
            "+-------------------+---------------+------------+------------+------------+------------+---------+------------------+\n",
            "|               Acre| 4.9853469586E8|4.98534688E8| 6.2735085E8| 6.9257018E8| 4.9375328E8|      8.5|       5.7611411E8|\n",
            "|              Amapá| 4.7532329175E8|4.75323296E8|4.89227968E8| 6.0636634E8| 7.5225248E8|     52.3|       5.6467942E8|\n",
            "|           Amazonas|1.60473221563E9|1.60473216E9|1.86266893E9| 2.1084599E9|2.10144666E9|     60.4|      1.85125286E9|\n",
            "|               Pará|2.55174076992E9|2.55174067E9|2.90320026E9|2.94344755E9|2.96655334E9|     58.0|      2.78897152E9|\n",
            "|           Rondônia| 8.7487402427E8| 8.7487405E8| 9.0325389E8| 8.5397101E8|  9.990439E8|    -14.7|       9.0540211E8|\n",
            "|            Roraima| 4.0893419687E8|4.08934208E8|4.05445792E8|2.88197952E8|  3.911784E8|     65.8|      3.86776064E8|\n",
            "|          Tocantins| 8.3988238046E8| 8.3988237E8| 9.3962675E8|1.11919014E9| 1.0597264E9|     24.6|       9.7141542E8|\n",
            "|            Alagoas| 1.1966407622E9|1.19664077E9| 1.2512288E9|1.15915878E9|1.35498624E9|     17.1|      1.24130688E9|\n",
            "|              Bahia|4.76059110341E9| 4.7605908E9| 4.6010271E9| 4.6824033E9| 4.3216635E9|      3.9|       4.5869522E9|\n",
            "|              Ceará|2.18831524988E9|2.18831514E9|2.76333952E9|2.84235981E9|3.04558259E9|     95.0|      2.64796646E9|\n",
            "|           Maranhão|1.59347206073E9|  1.593472E9|1.98031834E9|2.00365978E9|1.95438374E9|     69.0|      1.85932442E9|\n",
            "|            Paraíba|1.28681001041E9|1.28680998E9|1.35297152E9|1.38624051E9|1.41759168E9|     37.1|       1.3477641E9|\n",
            "|         Pernambuco| 2.6575977696E9| 2.6575977E9|2.97123149E9|2.98514534E9| 2.8801513E9|    -10.1|      2.86039987E9|\n",
            "|              Piauí| 8.0442947803E8|  8.044295E8| 7.9900038E8| 8.9329594E8| 7.8583181E8|    102.3|       8.1510688E8|\n",
            "|Rio Grande do Norte|1.21525679268E9|1.21525683E9|1.04573645E9| 1.2036841E9|1.03821837E9|      9.7|      1.09724262E9|\n",
            "|            Sergipe| 9.4215039402E8|  9.421504E8| 9.5607245E8| 9.8912838E8| 9.5678438E8|    -12.9|       9.5652723E8|\n",
            "|              Goiás|3.45590997203E9|3.45590989E9|3.64316083E9|3.83927014E9|3.19175603E9|     50.1|      3.44296806E9|\n",
            "|        Mato Grosso|2.08554143484E9|2.08554138E9|2.20407526E9| 2.4868759E9|2.57701018E9|     49.0|      2.29443072E9|\n",
            "| Mato Grosso do Sul|1.45952544927E9| 1.4595255E9|1.23386381E9| 1.2593687E9|1.24009766E9|    -12.8|      1.33601549E9|\n",
            "|   Distrito Federal| 8.1224744231E8| 8.1224742E8|  9.050064E8| 9.3198746E8| 9.7651283E8|     92.4|       9.0710912E8|\n",
            "+-------------------+---------------+------------+------------+------------+------------+---------+------------------+\n",
            "only showing top 20 rows\n",
            "\n"
          ]
        },
        {
          "output_type": "execute_result",
          "data": {
            "text/plain": [
              "[('UF', 'string'),\n",
              " ('Despesas2016', 'double'),\n",
              " ('Despesas2017', 'float'),\n",
              " ('Despesas2018', 'float'),\n",
              " ('Despesas2019', 'float'),\n",
              " ('Despesas2020', 'float'),\n",
              " ('Variacao%', 'double'),\n",
              " ('Previsao2021_Media', 'float')]"
            ]
          },
          "metadata": {},
          "execution_count": 175
        }
      ]
    },
    {
      "cell_type": "markdown",
      "metadata": {
        "id": "sv-IuSN46z40"
      },
      "source": [
        "DATAFRAME 4"
      ]
    },
    {
      "cell_type": "code",
      "metadata": {
        "colab": {
          "base_uri": "https://localhost:8080/"
        },
        "id": "SqMoqVUD6y2N",
        "outputId": "6cc492a3-23b3-49cd-c22d-7cc7bbc54d0f"
      },
      "source": [
        "df_4 = df_4.drop(\"CV (%)\")\n",
        "df_4 = df_4.withColumnRenamed(\"Média\", 'Media_Freq_Escolar')\\\n",
        ".orderBy(\"UF\")\n",
        "\n",
        "df_4.show(100, truncate=False)\n",
        "df_4.dtypes"
      ],
      "execution_count": 176,
      "outputs": [
        {
          "output_type": "stream",
          "name": "stdout",
          "text": [
            "+-------------------+------------------+----+\n",
            "|UF                 |Media_Freq_Escolar|Ano |\n",
            "+-------------------+------------------+----+\n",
            "|Acre               |10.6              |2016|\n",
            "|Acre               |11.1              |2019|\n",
            "|Acre               |10.9              |2018|\n",
            "|Acre               |10.8              |2017|\n",
            "|Alagoas            |10.4              |2018|\n",
            "|Alagoas            |10.0              |2017|\n",
            "|Alagoas            |9.7               |2016|\n",
            "|Alagoas            |10.4              |2019|\n",
            "|Amapá              |11.5              |2019|\n",
            "|Amapá              |11.3              |2018|\n",
            "|Amapá              |11.2              |2017|\n",
            "|Amapá              |11.1              |2016|\n",
            "|Amazonas           |10.8              |2017|\n",
            "|Amazonas           |11.2              |2019|\n",
            "|Amazonas           |10.5              |2016|\n",
            "|Amazonas           |10.9              |2018|\n",
            "|Bahia              |10.3              |2017|\n",
            "|Bahia              |10.4              |2016|\n",
            "|Bahia              |10.7              |2019|\n",
            "|Bahia              |10.4              |2018|\n",
            "|Ceará              |11.2              |2019|\n",
            "|Ceará              |10.6              |2016|\n",
            "|Ceará              |11.1              |2018|\n",
            "|Ceará              |10.8              |2017|\n",
            "|Distrito Federal   |11.9              |2016|\n",
            "|Distrito Federal   |12.6              |2019|\n",
            "|Distrito Federal   |12.6              |2018|\n",
            "|Distrito Federal   |12.3              |2017|\n",
            "|Espírito Santo     |11.6              |2017|\n",
            "|Espírito Santo     |11.6              |2019|\n",
            "|Espírito Santo     |11.6              |2018|\n",
            "|Espírito Santo     |11.4              |2016|\n",
            "|Goiás              |11.8              |2019|\n",
            "|Goiás              |11.4              |2016|\n",
            "|Goiás              |11.8              |2018|\n",
            "|Goiás              |11.6              |2017|\n",
            "|Maranhão           |10.8              |2019|\n",
            "|Maranhão           |10.5              |2017|\n",
            "|Maranhão           |10.6              |2018|\n",
            "|Maranhão           |10.2              |2016|\n",
            "|Mato Grosso        |11.7              |2019|\n",
            "|Mato Grosso        |11.2              |2016|\n",
            "|Mato Grosso        |11.5              |2018|\n",
            "|Mato Grosso        |11.3              |2017|\n",
            "|Mato Grosso do Sul |11.3              |2018|\n",
            "|Mato Grosso do Sul |11.3              |2019|\n",
            "|Mato Grosso do Sul |11.3              |2017|\n",
            "|Mato Grosso do Sul |11.0              |2016|\n",
            "|Minas Gerais       |11.6              |2019|\n",
            "|Minas Gerais       |11.4              |2016|\n",
            "|Minas Gerais       |11.5              |2018|\n",
            "|Minas Gerais       |11.4              |2017|\n",
            "|Paraná             |11.8              |2019|\n",
            "|Paraná             |11.7              |2018|\n",
            "|Paraná             |11.4              |2016|\n",
            "|Paraná             |11.5              |2017|\n",
            "|Paraíba            |10.8              |2019|\n",
            "|Paraíba            |10.4              |2016|\n",
            "|Paraíba            |10.6              |2018|\n",
            "|Paraíba            |10.6              |2017|\n",
            "|Pará               |10.3              |2017|\n",
            "|Pará               |10.2              |2016|\n",
            "|Pará               |10.5              |2019|\n",
            "|Pará               |10.5              |2018|\n",
            "|Pernambuco         |11.1              |2019|\n",
            "|Pernambuco         |11.0              |2018|\n",
            "|Pernambuco         |10.7              |2017|\n",
            "|Pernambuco         |10.5              |2016|\n",
            "|Piauí              |10.9              |2018|\n",
            "|Piauí              |10.7              |2017|\n",
            "|Piauí              |11.1              |2019|\n",
            "|Piauí              |10.5              |2016|\n",
            "|Rio Grande do Norte|11.0              |2019|\n",
            "|Rio Grande do Norte|10.9              |2018|\n",
            "|Rio Grande do Norte|10.9              |2017|\n",
            "|Rio Grande do Norte|10.8              |2016|\n",
            "|Rio Grande do Sul  |11.5              |2017|\n",
            "|Rio Grande do Sul  |11.6              |2018|\n",
            "|Rio Grande do Sul  |11.4              |2016|\n",
            "|Rio Grande do Sul  |11.7              |2019|\n",
            "|Rio de Janeiro     |11.9              |2019|\n",
            "|Rio de Janeiro     |11.8              |2018|\n",
            "|Rio de Janeiro     |11.5              |2017|\n",
            "|Rio de Janeiro     |11.4              |2016|\n",
            "|Rondônia           |11.0              |2018|\n",
            "|Rondônia           |10.8              |2017|\n",
            "|Rondônia           |11.3              |2019|\n",
            "|Rondônia           |10.4              |2016|\n",
            "|Roraima            |11.7              |2019|\n",
            "|Roraima            |11.6              |2018|\n",
            "|Roraima            |11.5              |2017|\n",
            "|Roraima            |11.0              |2016|\n",
            "|Santa Catarina     |12.0              |2018|\n",
            "|Santa Catarina     |11.9              |2017|\n",
            "|Santa Catarina     |11.6              |2016|\n",
            "|Santa Catarina     |12.0              |2019|\n",
            "|Sergipe            |10.5              |2019|\n",
            "|Sergipe            |10.3              |2018|\n",
            "|Sergipe            |10.6              |2017|\n",
            "|Sergipe            |10.2              |2016|\n",
            "+-------------------+------------------+----+\n",
            "only showing top 100 rows\n",
            "\n"
          ]
        },
        {
          "output_type": "execute_result",
          "data": {
            "text/plain": [
              "[('UF', 'string'), ('Media_Freq_Escolar', 'double'), ('Ano', 'bigint')]"
            ]
          },
          "metadata": {},
          "execution_count": 176
        }
      ]
    },
    {
      "cell_type": "markdown",
      "metadata": {
        "id": "5V-KKecgfw6R"
      },
      "source": [
        "DATAFRAME 6"
      ]
    },
    {
      "cell_type": "code",
      "metadata": {
        "colab": {
          "base_uri": "https://localhost:8080/"
        },
        "id": "jfQ55azXerU3",
        "outputId": "2ee5f651-ce75-43a1-e8b2-d08266aef587"
      },
      "source": [
        "# DROPANDO COLUNAS\n",
        "df_6 = df_6.drop('Unnamed: 0',\n",
        "                 '15 a 17 anos - 2019', \n",
        "                 '15 a 17 anos - 2018',\n",
        "                 '15 a 17 anos - 2017',\n",
        "                 '15 a 17 anos - 2016',\n",
        "                 '18 a 24 anos - 2019',\n",
        "                 '18 a 24 anos - 2018',\n",
        "                 '18 a 24 anos - 2017',\n",
        "                 '18 a 24 anos - 2016',\n",
        "                 '25 anos ou mais - 2019',\n",
        "                 '25 anos ou mais - 2018',\n",
        "                 '25 anos ou mais - 2017',\n",
        "                 '25 anos ou mais - 2016')\n",
        "\n",
        "# RENOMEANDO COLUNAS FAIXA DE IDADE\n",
        "df_6 = df_6.withColumnRenamed('Grandes Regiões, Unidades da Federação e Municípios das Capitais', 'UF')\n",
        "df_6 = df_6.withColumnRenamed('Media 15 a 17 anos', 'Media_Freq_15_a_17_anos')\n",
        "df_6 = df_6.withColumnRenamed('média 18 a 24 anos', 'Media_Freq_18_a_24_anos')\n",
        "df_6 = df_6.withColumnRenamed('média 25 anos ou mais', 'Media_Freq_25_anos_ou_mais')\n",
        "\n",
        "# df_6.show(1000, truncate=False)\n",
        "\n",
        "# FILTRO PARA REMOVER REGIÕES E CAPITAIS\n",
        "df_6 = df_6.filter(\n",
        "            (df_6.UF != \"Brasil\") & \n",
        "            (df_6.UF != \"Norte\") & \n",
        "            (df_6.UF != \"Nordeste\") &\n",
        "            (df_6.UF != \"Sudeste\") & \n",
        "            (df_6.UF != \"Sul\") &\n",
        "            (df_6.UF != \"Centro-Oeste\") &\n",
        "            (df_6.UF != \"Porto Velho\") &\n",
        "            (df_6.UF != \"Rio Branco\") &\n",
        "            (df_6.UF != \"Manaus\") &\n",
        "            (df_6.UF != \"Boa Vista\") &\n",
        "            (df_6.UF != \"Macapá\") &\n",
        "            (df_6.UF != \"Palmas\") &\n",
        "            (df_6.UF != \"São Luiz\") &\n",
        "            (df_6.UF != \"Teresina\") &\n",
        "            (df_6.UF != \"Fortaleza\") &\n",
        "            (df_6.UF != \"Natal\") &\n",
        "            (df_6.UF != \"joão Pessoa\") &\n",
        "            (df_6.UF != \"Recife\") &\n",
        "            (df_6.UF != \"Maceió\") &\n",
        "            (df_6.UF != \"Aracaju\") &\n",
        "            (df_6.UF != \"Salvador\") &\n",
        "            (df_6.UF != \"Belo Horizonte\") &\n",
        "            (df_6.UF != \"Vitória\") &\n",
        "            (df_6.UF != \"Curitiba\") &\n",
        "            (df_6.UF != \"Florianópolis\") &\n",
        "            (df_6.UF != \"Porto Alegre\") &\n",
        "            (df_6.UF != \"Campo Grande\") &\n",
        "            (df_6.UF != \"Cuiabá\") &\n",
        "            (df_6.UF != \"Goiânia\") &\n",
        "            (df_6.UF != \"Brasilia\") &\n",
        "            (df_6.Media_Freq_15_a_17_anos != 89.58849285882357) & # Rio de Janeiro\n",
        "            (df_6.Media_Freq_15_a_17_anos != 86.56596333926969) # São Paulo\n",
        "            )\\\n",
        "            .orderBy('UF', ascending=True)\n",
        "\n",
        "# # INCREMENTANDO TAXA DE EVASÃO\n",
        "# df_6 = df_6.withColumn('Evasao_11_a_14_anos', (df_5.Freq_11_a_14_anos - 100)) \n",
        "# df_6 = df_6.withColumn('Evasao_15_a_17_anos', (df_5.Freq_11_a_14_anos - 100))\n",
        "# df_6 = df_6.withColumn('Evasao_18_a_24_anos', (df_5.Freq_11_a_14_anos - 100))\n",
        "# df_6 = df_6.withColumn('Evasao_25_anos_ou_mais', (df_5.Freq_11_a_14_anos - 100))\n",
        "\n",
        "# CONVERTENDO VALORES EM PORCENTAGEM\n",
        "'''https://stackoverflow.com/questions/60673912/how-to-convert-number-into-percentage'''\n",
        "\n",
        "df_6 = df_6\\\n",
        ".withColumn(\"Media_Freq_15_a_17_anos\", F.concat((F.col(\"Media_Freq_15_a_17_anos\") * 1).cast(\"int\"), F.lit(' %')))\\\n",
        ".withColumn(\"Media_Freq_18_a_24_anos\", F.concat((F.col(\"Media_Freq_18_a_24_anos\") * 1).cast(\"int\"), F.lit(' %')))\\\n",
        ".withColumn(\"Media_Freq_25_anos_ou_mais\", F.concat((F.col(\"Media_Freq_25_anos_ou_mais\") * 1).cast(\"int\"), F.lit(' %')))\n",
        "# .withColumn(\"Media_Freq_Escolar\", F.concat((F.col(\"Media_Freq_Escolar\") * 1).cast(\"int\"), F.lit(' %')))\\\n",
        "# .withColumn(\"Evasao_11_a_14_anos\", F.concat((F.col(\"Evasao_11_a_14_anos\") * 1).cast(\"int\"), F.lit(' %')))\\\n",
        "# .withColumn(\"Evasao_15_a_17_anos\", F.concat((F.col(\"Evasao_15_a_17_anos\") * 1).cast(\"int\"), F.lit(' %')))\\\n",
        "# .withColumn(\"Evasao_18_a_24_anos\", F.concat((F.col(\"Evasao_18_a_24_anos\") * 1).cast(\"int\"), F.lit(' %')))\\\n",
        "# .withColumn(\"Evasao_25_anos_ou_mais\", F.concat((F.col(\"Evasao_25_anos_ou_mais\") * 1).cast(\"int\"), F.lit(' %')))\n",
        "\n",
        "# AJUSTANDO EXIBIÇÃO DO DATAFRAME\n",
        "df_6 = df_6.select('UF', \n",
        "                   'Media_Freq_15_a_17_anos', \n",
        "                #    'Evasao_11_a_14_anos',\n",
        "                   'Media_Freq_18_a_24_anos',\n",
        "                #    'Evasao_15_a_17_anos',\n",
        "                   'Media_Freq_25_anos_ou_mais',\n",
        "                #    'Evasao_18_a_24_anos',\n",
        "                #    'Freq_25_anos_ou_mais',\n",
        "                #    'Evasao_25_anos_ou_mais',\n",
        "                #    'Media_Freq_Escolar'\n",
        "               )\n",
        "\n",
        "df_6.show(1000)"
      ],
      "execution_count": 177,
      "outputs": [
        {
          "output_type": "stream",
          "name": "stdout",
          "text": [
            "+-------------------+-----------------------+-----------------------+--------------------------+\n",
            "|                 UF|Media_Freq_15_a_17_anos|Media_Freq_18_a_24_anos|Media_Freq_25_anos_ou_mais|\n",
            "+-------------------+-----------------------+-----------------------+--------------------------+\n",
            "|               Acre|                   86 %|                   39 %|                       9 %|\n",
            "|            Alagoas|                   85 %|                   35 %|                       4 %|\n",
            "|              Amapá|                   88 %|                   42 %|                       7 %|\n",
            "|           Amazonas|                   90 %|                   39 %|                       7 %|\n",
            "|              Bahia|                   90 %|                   43 %|                       7 %|\n",
            "|              Belém|                   89 %|                   40 %|                       6 %|\n",
            "|           Brasília|                   91 %|                   44 %|                       6 %|\n",
            "|              Ceará|                   88 %|                   33 %|                       5 %|\n",
            "|   Distrito Federal|                   91 %|                   44 %|                       6 %|\n",
            "|     Espírito Santo|                   92 %|                   47 %|                       6 %|\n",
            "|              Goiás|                   87 %|                   39 %|                       5 %|\n",
            "|        João Pessoa|                   84 %|                   32 %|                       4 %|\n",
            "|           Maranhão|                   87 %|                   35 %|                       6 %|\n",
            "|        Mato Grosso|                   90 %|                   39 %|                       7 %|\n",
            "| Mato Grosso do Sul|                   90 %|                   39 %|                       6 %|\n",
            "|       Minas Gerais|                   92 %|                   37 %|                       6 %|\n",
            "|             Paraná|                   87 %|                   41 %|                       5 %|\n",
            "|            Paraíba|                   90 %|                   44 %|                       6 %|\n",
            "|               Pará|                   90 %|                   39 %|                       6 %|\n",
            "|         Pernambuco|                   88 %|                   33 %|                       5 %|\n",
            "|              Piauí|                   94 %|                   42 %|                       6 %|\n",
            "|Rio Grande do Norte|                   92 %|                   41 %|                       5 %|\n",
            "|  Rio Grande do Sul|                   89 %|                   43 %|                       7 %|\n",
            "|     Rio de Janeiro|                   93 %|                   40 %|                       4 %|\n",
            "|           Rondônia|                   87 %|                   37 %|                       7 %|\n",
            "|            Roraima|                   90 %|                   34 %|                       8 %|\n",
            "|     Santa Catarina|                   92 %|                   44 %|                       6 %|\n",
            "|            Sergipe|                   91 %|                   41 %|                       5 %|\n",
            "|           São Luís|                   89 %|                   37 %|                       5 %|\n",
            "|          São Paulo|                   88 %|                   34 %|                       4 %|\n",
            "|          Tocantins|                   91 %|                   40 %|                       7 %|\n",
            "+-------------------+-----------------------+-----------------------+--------------------------+\n",
            "\n"
          ]
        }
      ]
    },
    {
      "cell_type": "markdown",
      "metadata": {
        "id": "SEWvGtHlf3eZ"
      },
      "source": [
        "DATAFRAME 7"
      ]
    },
    {
      "cell_type": "code",
      "metadata": {
        "colab": {
          "base_uri": "https://localhost:8080/"
        },
        "id": "S4Flsf5qzGHp",
        "outputId": "e16f360a-605c-4397-8cc7-9e877200ab21"
      },
      "source": [
        "# DATAFRAME 7\n",
        "df_7 = df_7.drop('Grupo_idade')\n",
        "df_7 = df_7.drop('Unnamed: 0')\n",
        "\n",
        "df_7 = df_7\\\n",
        ".withColumn(\"TaxaAnalfabetismo2016\", F.concat((F.col(\"TaxaAnalfabetismo2016\") * 1).cast(\"int\"), F.lit(' %')))\\\n",
        ".withColumn(\"TaxaAnalfabetismo2017\", F.concat((F.col(\"TaxaAnalfabetismo2017\") * 1).cast(\"int\"), F.lit(' %')))\\\n",
        ".withColumn(\"TaxaAnalfabetismo2018\", F.concat((F.col(\"TaxaAnalfabetismo2018\") * 1).cast(\"int\"), F.lit(' %')))\\\n",
        ".withColumn(\"TaxaAnalfabetismo2019\", F.concat((F.col(\"TaxaAnalfabetismo2019\") * 1).cast(\"int\"), F.lit(' %')))\n",
        "\n",
        "df_7.show()"
      ],
      "execution_count": 178,
      "outputs": [
        {
          "output_type": "stream",
          "name": "stdout",
          "text": [
            "+-------------------+---------------------+---------------------+---------------------+---------------------+\n",
            "|                 UF|TaxaAnalfabetismo2016|TaxaAnalfabetismo2017|TaxaAnalfabetismo2018|TaxaAnalfabetismo2019|\n",
            "+-------------------+---------------------+---------------------+---------------------+---------------------+\n",
            "|           Rondônia|                  6 %|                  7 %|                  6 %|                  6 %|\n",
            "|               Acre|                 13 %|                 12 %|                 12 %|                 11 %|\n",
            "|           Amazonas|                  6 %|                  6 %|                  5 %|                  5 %|\n",
            "|            Roraima|                  6 %|                  6 %|                  6 %|                  5 %|\n",
            "|               Pará|                  9 %|                  8 %|                  8 %|                  8 %|\n",
            "|              Amapá|                  5 %|                  5 %|                  6 %|                  5 %|\n",
            "|          Tocantins|                 10 %|                 10 %|                 10 %|                  9 %|\n",
            "|           Maranhão|                 16 %|                 16 %|                 16 %|                 15 %|\n",
            "|              Piauí|                 17 %|                 16 %|                 16 %|                 16 %|\n",
            "|              Ceará|                 15 %|                 14 %|                 13 %|                 13 %|\n",
            "|Rio Grande do Norte|                 14 %|                 13 %|                 12 %|                 13 %|\n",
            "|            Paraíba|                 16 %|                 16 %|                 16 %|                 16 %|\n",
            "|         Pernambuco|                 12 %|                 13 %|                 11 %|                 11 %|\n",
            "|            Alagoas|                 19 %|                 18 %|                 17 %|                 17 %|\n",
            "|            Sergipe|                 14 %|                 14 %|                 13 %|                 13 %|\n",
            "|              Bahia|                 13 %|                 12 %|                 12 %|                 12 %|\n",
            "|       Minas Gerais|                  6 %|                  6 %|                  5 %|                  5 %|\n",
            "|     Espírito Santo|                  6 %|                  5 %|                  5 %|                  5 %|\n",
            "|     Rio de Janeiro|                  2 %|                  2 %|                  2 %|                  2 %|\n",
            "|          São Paulo|                  2 %|                  2 %|                  2 %|                  2 %|\n",
            "+-------------------+---------------------+---------------------+---------------------+---------------------+\n",
            "only showing top 20 rows\n",
            "\n"
          ]
        }
      ]
    },
    {
      "cell_type": "markdown",
      "metadata": {
        "id": "Z-SnL3GEesv8"
      },
      "source": [
        "### CONSULTAS / AGREGANDO DADOS"
      ]
    },
    {
      "cell_type": "code",
      "metadata": {
        "id": "w2bgQFezOJDR",
        "colab": {
          "base_uri": "https://localhost:8080/"
        },
        "outputId": "fd02ffc2-6fd4-44a2-d305-97542968d019"
      },
      "source": [
        "# VISUALIZAR DATAFRAMES TRATADOS\n",
        "df_1.show(5, truncate=False)\n",
        "df_2.show(5, truncate=False)\n",
        "df_3.show(5, truncate=False)\n",
        "df_4.show(5, truncate=False)\n",
        "df_5.show(5, truncate=False)\n",
        "df_6.show(5, truncate=False)\n",
        "df_7.show(5, truncate=False)"
      ],
      "execution_count": 179,
      "outputs": [
        {
          "output_type": "stream",
          "name": "stdout",
          "text": [
            "+--------+---------------+------------+------------+------------+------------+---------+------------------+\n",
            "|UF      |Despesas2016   |Despesas2017|Despesas2018|Despesas2019|Despesas2020|Variacao%|Previsao2021_Media|\n",
            "+--------+---------------+------------+------------+------------+------------+---------+------------------+\n",
            "|Acre    |4.9853469586E8 |4.98534688E8|6.2735085E8 |6.9257018E8 |4.9375328E8 |8.5      |5.7611411E8       |\n",
            "|Amapá   |4.7532329175E8 |4.75323296E8|4.89227968E8|6.0636634E8 |7.5225248E8 |52.3     |5.6467942E8       |\n",
            "|Amazonas|1.60473221563E9|1.60473216E9|1.86266893E9|2.1084599E9 |2.10144666E9|60.4     |1.85125286E9      |\n",
            "|Pará    |2.55174076992E9|2.55174067E9|2.90320026E9|2.94344755E9|2.96655334E9|58.0     |2.78897152E9      |\n",
            "|Rondônia|8.7487402427E8 |8.7487405E8 |9.0325389E8 |8.5397101E8 |9.990439E8  |-14.7    |9.0540211E8       |\n",
            "+--------+---------------+------------+------------+------------+------------+---------+------------------+\n",
            "only showing top 5 rows\n",
            "\n",
            "+----+-------------------------------+----+-------+-----------+\n",
            "|UF  |TipoCrime                      |Ano |Mes    |Ocorrencias|\n",
            "+----+-------------------------------+----+-------+-----------+\n",
            "|Acre|Estupro                        |2021|janeiro|39         |\n",
            "|Acre|Furto de veículo               |2021|janeiro|55         |\n",
            "|Acre|Homicídio doloso               |2021|janeiro|14         |\n",
            "|Acre|Lesão corporal seguida de morte|2021|janeiro|0          |\n",
            "|Acre|Roubo a instituição financeira |2021|janeiro|0          |\n",
            "+----+-------------------------------+----+-------+-----------+\n",
            "only showing top 5 rows\n",
            "\n",
            "+----+----------------+----+---------+----------+-------+\n",
            "|UF  |TipoCrime       |Ano |Mes      |SexoVitima|Vitimas|\n",
            "+----+----------------+----+---------+----------+-------+\n",
            "|Acre|Homicídio doloso|2021|janeiro  |Feminino  |1      |\n",
            "|Acre|Homicídio doloso|2021|janeiro  |Masculino |13     |\n",
            "|Acre|Homicídio doloso|2021|janeiro  |Sexo NI   |0      |\n",
            "|Acre|Homicídio doloso|2021|fevereiro|Feminino  |4      |\n",
            "|Acre|Homicídio doloso|2021|fevereiro|Masculino |12     |\n",
            "+----+----------------+----+---------+----------+-------+\n",
            "only showing top 5 rows\n",
            "\n",
            "+-------+------------------+----+\n",
            "|UF     |Media_Freq_Escolar|Ano |\n",
            "+-------+------------------+----+\n",
            "|Acre   |10.9              |2018|\n",
            "|Acre   |10.6              |2016|\n",
            "|Acre   |10.8              |2017|\n",
            "|Acre   |11.1              |2019|\n",
            "|Alagoas|10.4              |2019|\n",
            "+-------+------------------+----+\n",
            "only showing top 5 rows\n",
            "\n",
            "+----+----+-----------------------------------+-----------+-------+\n",
            "|UF  |Ano |TipoCrime                          |Ocorrencias|Vitimas|\n",
            "+----+----+-----------------------------------+-----------+-------+\n",
            "|Acre|2016|Homicídio doloso                   |425        |354    |\n",
            "|Acre|2017|Homicídio doloso                   |221        |232    |\n",
            "|Acre|2017|Lesão corporal seguida de morte    |0          |3      |\n",
            "|Acre|2017|Roubo seguido de morte (latrocínio)|10         |15     |\n",
            "|Acre|2018|Homicídio doloso                   |396        |394    |\n",
            "+----+----+-----------------------------------+-----------+-------+\n",
            "only showing top 5 rows\n",
            "\n",
            "+--------+-----------------------+-----------------------+--------------------------+\n",
            "|UF      |Media_Freq_15_a_17_anos|Media_Freq_18_a_24_anos|Media_Freq_25_anos_ou_mais|\n",
            "+--------+-----------------------+-----------------------+--------------------------+\n",
            "|Acre    |86 %                   |39 %                   |9 %                       |\n",
            "|Alagoas |85 %                   |35 %                   |4 %                       |\n",
            "|Amapá   |88 %                   |42 %                   |7 %                       |\n",
            "|Amazonas|90 %                   |39 %                   |7 %                       |\n",
            "|Bahia   |90 %                   |43 %                   |7 %                       |\n",
            "+--------+-----------------------+-----------------------+--------------------------+\n",
            "only showing top 5 rows\n",
            "\n",
            "+--------+---------------------+---------------------+---------------------+---------------------+\n",
            "|UF      |TaxaAnalfabetismo2016|TaxaAnalfabetismo2017|TaxaAnalfabetismo2018|TaxaAnalfabetismo2019|\n",
            "+--------+---------------------+---------------------+---------------------+---------------------+\n",
            "|Rondônia|6 %                  |7 %                  |6 %                  |6 %                  |\n",
            "|Acre    |13 %                 |12 %                 |12 %                 |11 %                 |\n",
            "|Amazonas|6 %                  |6 %                  |5 %                  |5 %                  |\n",
            "|Roraima |6 %                  |6 %                  |6 %                  |5 %                  |\n",
            "|Pará    |9 %                  |8 %                  |8 %                  |8 %                  |\n",
            "+--------+---------------------+---------------------+---------------------+---------------------+\n",
            "only showing top 5 rows\n",
            "\n"
          ]
        }
      ]
    },
    {
      "cell_type": "markdown",
      "metadata": {
        "id": "nHFqf-0VAulA"
      },
      "source": [
        "JOINS"
      ]
    },
    {
      "cell_type": "code",
      "metadata": {
        "id": "vsswAo5erQl-",
        "colab": {
          "base_uri": "https://localhost:8080/"
        },
        "outputId": "4d596043-babc-4b49-a9dc-6b0da1861aa2"
      },
      "source": [
        "# AGREGAÇÃO 1 (JOIN 1, 2, 3)\n",
        "\n",
        "#AGRUPANDO VALORES DOS DATAFRAMES\n",
        "df_ins2 = df_2.groupBy('UF').sum('Ocorrencias').orderBy('UF')\n",
        "df_ins2.show(50, truncate=False)\n",
        "\n",
        "df_ins3 = df_3.groupBy('UF').sum('Vitimas').orderBy('UF')\n",
        "df_ins3.show(50, truncate=False)\n",
        "\n",
        "# ------------------------------------------------------------\n",
        "\n",
        "# JOIN 1\n",
        "# AGREGA OS VALORES TOTAIS DE OCORRENCIAS E VITIMAS\n",
        "\n",
        "df_join_1 = df_ins2.join(df_ins3, on=['UF'], how='inner')\\\n",
        ".select('UF', 'sum(Ocorrencias)', 'sum(Vitimas)')\\\n",
        ".orderBy(F.asc('UF'))\n",
        "\n",
        "df_join_1.show(50, False)\n",
        "\n",
        "# ------------------------------------------------------------\n",
        "\n",
        "# JOIN 2\n",
        "# AGREGA OS VALORES TOTAIS DE OCORRENCIAS, VITIMAS, MEDIA DE FREQ ESCOLAR\n",
        "\n",
        "df_6 = df_6.drop('Unnamed: 0')\n",
        "\n",
        "df_join_2 = df_join_1.join(df_6, on=['UF'], how='inner')\\\n",
        ".select('UF', 'sum(Ocorrencias)', 'sum(Vitimas)', 'Media_Freq_25_anos_ou_mais')\\\n",
        ".orderBy('UF', ascending=True)\n",
        "\n",
        "df_join_2.show(50, False)\n",
        "\n",
        "# ------------------------------------------------------------\n",
        "\n",
        "# JOIN 3\n",
        "# AGREGA OS VALORES TOTAIS DE DESPESAS GOVERNAMENTAIS, OCORRENCIAS, VITIMAS, MEDIA DE FREQ. ESCOLAR\n",
        "\n",
        "df_join_3 = df_join_2.join(df_1, on=['UF'], how='inner')\\\n",
        ".select('UF', 'Despesas2020', 'sum(Ocorrencias)', 'sum(Vitimas)', 'Media_Freq_25_anos_ou_mais')\\\n",
        ".orderBy(F.asc('UF'))\n",
        "\n",
        "df_join_3\\\n",
        ".orderBy(\"Despesas2020\", ascending=False)\\\n",
        ".show(50, False)\n",
        "\n",
        "df_join_3.dtypes"
      ],
      "execution_count": 180,
      "outputs": [
        {
          "output_type": "stream",
          "name": "stdout",
          "text": [
            "+-------------------+----------------+\n",
            "|UF                 |sum(Ocorrencias)|\n",
            "+-------------------+----------------+\n",
            "|Acre               |10569           |\n",
            "|Alagoas            |36240           |\n",
            "|Amapá              |9594            |\n",
            "|Amazonas           |42023           |\n",
            "|Bahia              |159173          |\n",
            "|Ceará              |109815          |\n",
            "|Distrito Federal   |60852           |\n",
            "|Espírito Santo     |71950           |\n",
            "|Goiás              |124737          |\n",
            "|Maranhão           |59384           |\n",
            "|Mato Grosso        |46055           |\n",
            "|Mato Grosso do Sul |38831           |\n",
            "|Minas Gerais       |216193          |\n",
            "|Paraná             |182637          |\n",
            "|Paraíba            |23523           |\n",
            "|Pará               |94224           |\n",
            "|Pernambuco         |161713          |\n",
            "|Piauí              |45802           |\n",
            "|Rio Grande do Norte|50289           |\n",
            "|Rio Grande do Sul  |208516          |\n",
            "|Rio de Janeiro     |422633          |\n",
            "|Rondônia           |33431           |\n",
            "|Roraima            |10191           |\n",
            "|Santa Catarina     |87944           |\n",
            "|Sergipe            |30428           |\n",
            "|São Paulo          |943818          |\n",
            "|Tocantins          |20532           |\n",
            "+-------------------+----------------+\n",
            "\n",
            "+-------------------+------------+\n",
            "|UF                 |sum(Vitimas)|\n",
            "+-------------------+------------+\n",
            "|Acre               |1731        |\n",
            "|Alagoas            |7800        |\n",
            "|Amapá              |1662        |\n",
            "|Amazonas           |6342        |\n",
            "|Bahia              |32769       |\n",
            "|Ceará              |20942       |\n",
            "|Distrito Federal   |2797        |\n",
            "|Espírito Santo     |6613        |\n",
            "|Goiás              |11286       |\n",
            "|Maranhão           |10281       |\n",
            "|Mato Grosso        |5332        |\n",
            "|Mato Grosso do Sul |2987        |\n",
            "|Minas Gerais       |18494       |\n",
            "|Paraná             |12076       |\n",
            "|Paraíba            |6499        |\n",
            "|Pará               |18439       |\n",
            "|Pernambuco         |22856       |\n",
            "|Piauí              |3617        |\n",
            "|Rio Grande do Norte|9258        |\n",
            "|Rio Grande do Sul  |13273       |\n",
            "|Rio de Janeiro     |25739       |\n",
            "|Rondônia           |2620        |\n",
            "|Roraima            |1228        |\n",
            "|Santa Catarina     |4689        |\n",
            "|Sergipe            |5431        |\n",
            "|São Paulo          |15909       |\n",
            "|Tocantins          |2194        |\n",
            "+-------------------+------------+\n",
            "\n",
            "+-------------------+----------------+------------+\n",
            "|UF                 |sum(Ocorrencias)|sum(Vitimas)|\n",
            "+-------------------+----------------+------------+\n",
            "|Acre               |10569           |1731        |\n",
            "|Alagoas            |36240           |7800        |\n",
            "|Amapá              |9594            |1662        |\n",
            "|Amazonas           |42023           |6342        |\n",
            "|Bahia              |159173          |32769       |\n",
            "|Ceará              |109815          |20942       |\n",
            "|Distrito Federal   |60852           |2797        |\n",
            "|Espírito Santo     |71950           |6613        |\n",
            "|Goiás              |124737          |11286       |\n",
            "|Maranhão           |59384           |10281       |\n",
            "|Mato Grosso        |46055           |5332        |\n",
            "|Mato Grosso do Sul |38831           |2987        |\n",
            "|Minas Gerais       |216193          |18494       |\n",
            "|Paraná             |182637          |12076       |\n",
            "|Paraíba            |23523           |6499        |\n",
            "|Pará               |94224           |18439       |\n",
            "|Pernambuco         |161713          |22856       |\n",
            "|Piauí              |45802           |3617        |\n",
            "|Rio Grande do Norte|50289           |9258        |\n",
            "|Rio Grande do Sul  |208516          |13273       |\n",
            "|Rio de Janeiro     |422633          |25739       |\n",
            "|Rondônia           |33431           |2620        |\n",
            "|Roraima            |10191           |1228        |\n",
            "|Santa Catarina     |87944           |4689        |\n",
            "|Sergipe            |30428           |5431        |\n",
            "|São Paulo          |943818          |15909       |\n",
            "|Tocantins          |20532           |2194        |\n",
            "+-------------------+----------------+------------+\n",
            "\n",
            "+-------------------+----------------+------------+--------------------------+\n",
            "|UF                 |sum(Ocorrencias)|sum(Vitimas)|Media_Freq_25_anos_ou_mais|\n",
            "+-------------------+----------------+------------+--------------------------+\n",
            "|Acre               |10569           |1731        |9 %                       |\n",
            "|Alagoas            |36240           |7800        |4 %                       |\n",
            "|Amapá              |9594            |1662        |7 %                       |\n",
            "|Amazonas           |42023           |6342        |7 %                       |\n",
            "|Bahia              |159173          |32769       |7 %                       |\n",
            "|Ceará              |109815          |20942       |5 %                       |\n",
            "|Distrito Federal   |60852           |2797        |6 %                       |\n",
            "|Espírito Santo     |71950           |6613        |6 %                       |\n",
            "|Goiás              |124737          |11286       |5 %                       |\n",
            "|Maranhão           |59384           |10281       |6 %                       |\n",
            "|Mato Grosso        |46055           |5332        |7 %                       |\n",
            "|Mato Grosso do Sul |38831           |2987        |6 %                       |\n",
            "|Minas Gerais       |216193          |18494       |6 %                       |\n",
            "|Paraná             |182637          |12076       |5 %                       |\n",
            "|Paraíba            |23523           |6499        |6 %                       |\n",
            "|Pará               |94224           |18439       |6 %                       |\n",
            "|Pernambuco         |161713          |22856       |5 %                       |\n",
            "|Piauí              |45802           |3617        |6 %                       |\n",
            "|Rio Grande do Norte|50289           |9258        |5 %                       |\n",
            "|Rio Grande do Sul  |208516          |13273       |7 %                       |\n",
            "|Rio de Janeiro     |422633          |25739       |4 %                       |\n",
            "|Rondônia           |33431           |2620        |7 %                       |\n",
            "|Roraima            |10191           |1228        |8 %                       |\n",
            "|Santa Catarina     |87944           |4689        |6 %                       |\n",
            "|Sergipe            |30428           |5431        |5 %                       |\n",
            "|São Paulo          |943818          |15909       |4 %                       |\n",
            "|Tocantins          |20532           |2194        |7 %                       |\n",
            "+-------------------+----------------+------------+--------------------------+\n",
            "\n",
            "+-------------------+-------------+----------------+------------+--------------------------+\n",
            "|UF                 |Despesas2020 |sum(Ocorrencias)|sum(Vitimas)|Media_Freq_25_anos_ou_mais|\n",
            "+-------------------+-------------+----------------+------------+--------------------------+\n",
            "|São Paulo          |1.19356518E10|943818          |15909       |4 %                       |\n",
            "|Rio de Janeiro     |9.4505636E9  |422633          |25739       |4 %                       |\n",
            "|Minas Gerais       |8.9872538E9  |216193          |18494       |6 %                       |\n",
            "|Rio Grande do Sul  |5.5307418E9  |208516          |13273       |7 %                       |\n",
            "|Bahia              |4.3216635E9  |159173          |32769       |7 %                       |\n",
            "|Paraná             |3.68700186E9 |182637          |12076       |5 %                       |\n",
            "|Goiás              |3.19175603E9 |124737          |11286       |5 %                       |\n",
            "|Ceará              |3.04558259E9 |109815          |20942       |5 %                       |\n",
            "|Pará               |2.96655334E9 |94224           |18439       |6 %                       |\n",
            "|Pernambuco         |2.8801513E9  |161713          |22856       |5 %                       |\n",
            "|Mato Grosso        |2.57701018E9 |46055           |5332        |7 %                       |\n",
            "|Santa Catarina     |2.40636365E9 |87944           |4689        |6 %                       |\n",
            "|Amazonas           |2.10144666E9 |42023           |6342        |7 %                       |\n",
            "|Maranhão           |1.95438374E9 |59384           |10281       |6 %                       |\n",
            "|Paraíba            |1.41759168E9 |23523           |6499        |6 %                       |\n",
            "|Espírito Santo     |1.40839846E9 |71950           |6613        |6 %                       |\n",
            "|Alagoas            |1.35498624E9 |36240           |7800        |4 %                       |\n",
            "|Mato Grosso do Sul |1.24009766E9 |38831           |2987        |6 %                       |\n",
            "|Tocantins          |1.0597264E9  |20532           |2194        |7 %                       |\n",
            "|Rio Grande do Norte|1.03821837E9 |50289           |9258        |5 %                       |\n",
            "|Rondônia           |9.990439E8   |33431           |2620        |7 %                       |\n",
            "|Distrito Federal   |9.7651283E8  |60852           |2797        |6 %                       |\n",
            "|Sergipe            |9.5678438E8  |30428           |5431        |5 %                       |\n",
            "|Piauí              |7.8583181E8  |45802           |3617        |6 %                       |\n",
            "|Amapá              |7.5225248E8  |9594            |1662        |7 %                       |\n",
            "|Acre               |4.9375328E8  |10569           |1731        |9 %                       |\n",
            "|Roraima            |3.911784E8   |10191           |1228        |8 %                       |\n",
            "+-------------------+-------------+----------------+------------+--------------------------+\n",
            "\n"
          ]
        },
        {
          "output_type": "execute_result",
          "data": {
            "text/plain": [
              "[('UF', 'string'),\n",
              " ('Despesas2020', 'float'),\n",
              " ('sum(Ocorrencias)', 'bigint'),\n",
              " ('sum(Vitimas)', 'bigint'),\n",
              " ('Media_Freq_25_anos_ou_mais', 'string')]"
            ]
          },
          "metadata": {},
          "execution_count": 180
        }
      ]
    },
    {
      "cell_type": "code",
      "metadata": {
        "id": "TofPZBof0Npu",
        "colab": {
          "base_uri": "https://localhost:8080/"
        },
        "outputId": "a17734b7-2157-4344-bcf6-2112b1a35d97"
      },
      "source": [
        "# AGREGAÇÃO 2 (JOIN 4)\n",
        "\n",
        "# JOIN 2\n",
        "# AGREGA OS VALORES TOTAIS DE OCORRENCIAS E VITIMAS POR ESTADO \n",
        "\n",
        "# ------------------------------------------------------------\n",
        "\n",
        "df_join_4 = df_6.join(df_7, on=['UF'], how='inner')\\\n",
        ".select('UF', \n",
        "        'Media_Freq_15_a_17_anos', \n",
        "        'Media_Freq_18_a_24_anos', \n",
        "        'Media_Freq_25_anos_ou_mais', \n",
        "        'TaxaAnalfabetismo2016', \n",
        "        'TaxaAnalfabetismo2017', \n",
        "        'TaxaAnalfabetismo2018', \n",
        "        'TaxaAnalfabetismo2019')\\\n",
        ".orderBy(F.asc('UF'))\n",
        "\n",
        "df_join_4.show()"
      ],
      "execution_count": 181,
      "outputs": [
        {
          "output_type": "stream",
          "name": "stdout",
          "text": [
            "+-------------------+-----------------------+-----------------------+--------------------------+---------------------+---------------------+---------------------+---------------------+\n",
            "|                 UF|Media_Freq_15_a_17_anos|Media_Freq_18_a_24_anos|Media_Freq_25_anos_ou_mais|TaxaAnalfabetismo2016|TaxaAnalfabetismo2017|TaxaAnalfabetismo2018|TaxaAnalfabetismo2019|\n",
            "+-------------------+-----------------------+-----------------------+--------------------------+---------------------+---------------------+---------------------+---------------------+\n",
            "|               Acre|                   86 %|                   39 %|                       9 %|                 13 %|                 12 %|                 12 %|                 11 %|\n",
            "|            Alagoas|                   85 %|                   35 %|                       4 %|                 19 %|                 18 %|                 17 %|                 17 %|\n",
            "|              Amapá|                   88 %|                   42 %|                       7 %|                  5 %|                  5 %|                  6 %|                  5 %|\n",
            "|           Amazonas|                   90 %|                   39 %|                       7 %|                  6 %|                  6 %|                  5 %|                  5 %|\n",
            "|              Bahia|                   90 %|                   43 %|                       7 %|                 13 %|                 12 %|                 12 %|                 12 %|\n",
            "|              Ceará|                   88 %|                   33 %|                       5 %|                 15 %|                 14 %|                 13 %|                 13 %|\n",
            "|   Distrito Federal|                   91 %|                   44 %|                       6 %|                  2 %|                  2 %|                  3 %|                  2 %|\n",
            "|     Espírito Santo|                   92 %|                   47 %|                       6 %|                  6 %|                  5 %|                  5 %|                  5 %|\n",
            "|              Goiás|                   87 %|                   39 %|                       5 %|                  6 %|                  5 %|                  5 %|                  5 %|\n",
            "|           Maranhão|                   87 %|                   35 %|                       6 %|                 16 %|                 16 %|                 16 %|                 15 %|\n",
            "|        Mato Grosso|                   90 %|                   39 %|                       7 %|                  6 %|                  6 %|                  7 %|                  6 %|\n",
            "| Mato Grosso do Sul|                   90 %|                   39 %|                       6 %|                  6 %|                  5 %|                  5 %|                  5 %|\n",
            "|       Minas Gerais|                   92 %|                   37 %|                       6 %|                  6 %|                  6 %|                  5 %|                  5 %|\n",
            "|             Paraná|                   87 %|                   41 %|                       5 %|                  4 %|                  4 %|                  5 %|                  4 %|\n",
            "|            Paraíba|                   90 %|                   44 %|                       6 %|                 16 %|                 16 %|                 16 %|                 16 %|\n",
            "|               Pará|                   90 %|                   39 %|                       6 %|                  9 %|                  8 %|                  8 %|                  8 %|\n",
            "|         Pernambuco|                   88 %|                   33 %|                       5 %|                 12 %|                 13 %|                 11 %|                 11 %|\n",
            "|              Piauí|                   94 %|                   42 %|                       6 %|                 17 %|                 16 %|                 16 %|                 16 %|\n",
            "|Rio Grande do Norte|                   92 %|                   41 %|                       5 %|                 14 %|                 13 %|                 12 %|                 13 %|\n",
            "|  Rio Grande do Sul|                   89 %|                   43 %|                       7 %|                  3 %|                  3 %|                  3 %|                  2 %|\n",
            "+-------------------+-----------------------+-----------------------+--------------------------+---------------------+---------------------+---------------------+---------------------+\n",
            "only showing top 20 rows\n",
            "\n"
          ]
        }
      ]
    },
    {
      "cell_type": "code",
      "metadata": {
        "id": "aWfPjmVJkZTR",
        "colab": {
          "base_uri": "https://localhost:8080/"
        },
        "outputId": "c4c4a94e-f7e7-4737-daa2-c7feabfc91aa"
      },
      "source": [
        "# AGREGAÇÃO 3 (JOIN 5)\n",
        "\n",
        "# AGRUPANDO VALORES DOS DATAFRAMES\n",
        "df_agg_1 = df_2.filter(df_2.Ano == 2020)\\\n",
        ".groupBy('UF').sum('Ocorrencias').alias('Ocorrencias_2020').orderBy('UF')\n",
        "\n",
        "df_agg_1.show()\n",
        "\n",
        "# ------------------------------------------------------------\n",
        "\n",
        "df_agg_2 = df_3.filter(df_3.Ano == 2020)\\\n",
        ".groupBy('UF').sum('Vitimas').alias('Vitimas_2020').orderBy('UF')\n",
        "\n",
        "df_agg_2.show()\n",
        "\n",
        "# ------------------------------------------------------------\n",
        "\n",
        "# AGREGANDO OS VALORES PELO ANO DE 2020\n",
        "\n",
        "df_join_5 = df_agg_1.join(df_agg_2, on=['UF'], how='inner')\\\n",
        ".select('UF', 'sum(Ocorrencias)', 'sum(Vitimas)')\\\n",
        ".orderBy('UF', ascending=True)\n",
        "\n",
        "df_join_5.show()\n",
        "\n",
        "# ------------------------------------------------------------\n",
        "\n",
        "df_join_2 = df_1.select('UF', 'Despesas2020')\n",
        "\n",
        "df_join_5 = df_join_5.join(df_join_2, on=['UF'], how='inner')\\\n",
        ".select('UF', \n",
        "        'sum(Ocorrencias)', \n",
        "        'sum(Vitimas)', \n",
        "        'Despesas2020')\n",
        "\n",
        "df_join_5 = df_join_5\\\n",
        ".withColumnRenamed('sum(Ocorrencias)', 'Ocorrencias_2020')\\\n",
        ".withColumnRenamed('sum(Vitimas)', 'Vitimas_2020')\\\n",
        ".withColumnRenamed('Despesas2020', 'Despesas_Gov_2020')\\\n",
        "\n",
        "df_join_5.show()"
      ],
      "execution_count": 182,
      "outputs": [
        {
          "output_type": "stream",
          "name": "stdout",
          "text": [
            "+-------------------+----------------+\n",
            "|                 UF|sum(Ocorrencias)|\n",
            "+-------------------+----------------+\n",
            "|               Acre|            1850|\n",
            "|            Alagoas|            5404|\n",
            "|              Amapá|             860|\n",
            "|           Amazonas|            5717|\n",
            "|              Bahia|           24392|\n",
            "|              Ceará|           19402|\n",
            "|   Distrito Federal|            8269|\n",
            "|     Espírito Santo|           13224|\n",
            "|              Goiás|           11868|\n",
            "|           Maranhão|            8356|\n",
            "|        Mato Grosso|            6466|\n",
            "| Mato Grosso do Sul|            5937|\n",
            "|       Minas Gerais|           27002|\n",
            "|             Paraná|           24872|\n",
            "|            Paraíba|            4822|\n",
            "|               Pará|           11824|\n",
            "|         Pernambuco|           23832|\n",
            "|              Piauí|            8015|\n",
            "|Rio Grande do Norte|            7976|\n",
            "|  Rio Grande do Sul|           25810|\n",
            "+-------------------+----------------+\n",
            "only showing top 20 rows\n",
            "\n",
            "+-------------------+------------+\n",
            "|                 UF|sum(Vitimas)|\n",
            "+-------------------+------------+\n",
            "|               Acre|         285|\n",
            "|            Alagoas|        1237|\n",
            "|              Amapá|         253|\n",
            "|           Amazonas|         985|\n",
            "|              Bahia|        5535|\n",
            "|              Ceará|        4039|\n",
            "|   Distrito Federal|         390|\n",
            "|     Espírito Santo|        1156|\n",
            "|              Goiás|        1574|\n",
            "|           Maranhão|        1950|\n",
            "|        Mato Grosso|         859|\n",
            "| Mato Grosso do Sul|         488|\n",
            "|       Minas Gerais|        2695|\n",
            "|             Paraná|        2090|\n",
            "|            Paraíba|        1159|\n",
            "|               Pará|        2333|\n",
            "|         Pernambuco|        3686|\n",
            "|              Piauí|         708|\n",
            "|Rio Grande do Norte|        1386|\n",
            "|  Rio Grande do Sul|        1906|\n",
            "+-------------------+------------+\n",
            "only showing top 20 rows\n",
            "\n",
            "+-------------------+----------------+------------+\n",
            "|                 UF|sum(Ocorrencias)|sum(Vitimas)|\n",
            "+-------------------+----------------+------------+\n",
            "|               Acre|            1850|         285|\n",
            "|            Alagoas|            5404|        1237|\n",
            "|              Amapá|             860|         253|\n",
            "|           Amazonas|            5717|         985|\n",
            "|              Bahia|           24392|        5535|\n",
            "|              Ceará|           19402|        4039|\n",
            "|   Distrito Federal|            8269|         390|\n",
            "|     Espírito Santo|           13224|        1156|\n",
            "|              Goiás|           11868|        1574|\n",
            "|           Maranhão|            8356|        1950|\n",
            "|        Mato Grosso|            6466|         859|\n",
            "| Mato Grosso do Sul|            5937|         488|\n",
            "|       Minas Gerais|           27002|        2695|\n",
            "|             Paraná|           24872|        2090|\n",
            "|            Paraíba|            4822|        1159|\n",
            "|               Pará|           11824|        2333|\n",
            "|         Pernambuco|           23832|        3686|\n",
            "|              Piauí|            8015|         708|\n",
            "|Rio Grande do Norte|            7976|        1386|\n",
            "|  Rio Grande do Sul|           25810|        1906|\n",
            "+-------------------+----------------+------------+\n",
            "only showing top 20 rows\n",
            "\n",
            "+-------------------+----------------+------------+-----------------+\n",
            "|                 UF|Ocorrencias_2020|Vitimas_2020|Despesas_Gov_2020|\n",
            "+-------------------+----------------+------------+-----------------+\n",
            "|               Acre|            1850|         285|      4.9375328E8|\n",
            "|            Alagoas|            5404|        1237|     1.35498624E9|\n",
            "|              Amapá|             860|         253|      7.5225248E8|\n",
            "|           Amazonas|            5717|         985|     2.10144666E9|\n",
            "|              Bahia|           24392|        5535|      4.3216635E9|\n",
            "|              Ceará|           19402|        4039|     3.04558259E9|\n",
            "|   Distrito Federal|            8269|         390|      9.7651283E8|\n",
            "|     Espírito Santo|           13224|        1156|     1.40839846E9|\n",
            "|              Goiás|           11868|        1574|     3.19175603E9|\n",
            "|           Maranhão|            8356|        1950|     1.95438374E9|\n",
            "|        Mato Grosso|            6466|         859|     2.57701018E9|\n",
            "| Mato Grosso do Sul|            5937|         488|     1.24009766E9|\n",
            "|       Minas Gerais|           27002|        2695|      8.9872538E9|\n",
            "|             Paraná|           24872|        2090|     3.68700186E9|\n",
            "|            Paraíba|            4822|        1159|     1.41759168E9|\n",
            "|               Pará|           11824|        2333|     2.96655334E9|\n",
            "|         Pernambuco|           23832|        3686|      2.8801513E9|\n",
            "|              Piauí|            8015|         708|      7.8583181E8|\n",
            "|Rio Grande do Norte|            7976|        1386|     1.03821837E9|\n",
            "|  Rio Grande do Sul|           25810|        1906|      5.5307418E9|\n",
            "+-------------------+----------------+------------+-----------------+\n",
            "only showing top 20 rows\n",
            "\n"
          ]
        }
      ]
    },
    {
      "cell_type": "code",
      "metadata": {
        "colab": {
          "base_uri": "https://localhost:8080/"
        },
        "id": "Ma36Mq8uEbxC",
        "outputId": "632d7691-2d4f-4656-ddb6-b274f376e876"
      },
      "source": [
        "# AGREGAÇÃO 4\n",
        "\n",
        "df_agg_4 = df_4\\\n",
        ".groupBy('UF', 'Ano').avg('Media_Freq_Escolar')\\\n",
        ".alias('Media_Freq_Escolar')\\\n",
        ".orderBy('UF', 'Ano')\n",
        "\n",
        "df_agg_4.show()"
      ],
      "execution_count": 183,
      "outputs": [
        {
          "output_type": "stream",
          "name": "stdout",
          "text": [
            "+--------+----+-----------------------+\n",
            "|      UF| Ano|avg(Media_Freq_Escolar)|\n",
            "+--------+----+-----------------------+\n",
            "|    Acre|2016|                   10.6|\n",
            "|    Acre|2017|                   10.8|\n",
            "|    Acre|2018|                   10.9|\n",
            "|    Acre|2019|                   11.1|\n",
            "| Alagoas|2016|                    9.7|\n",
            "| Alagoas|2017|                   10.0|\n",
            "| Alagoas|2018|                   10.4|\n",
            "| Alagoas|2019|                   10.4|\n",
            "|   Amapá|2016|                   11.1|\n",
            "|   Amapá|2017|                   11.2|\n",
            "|   Amapá|2018|                   11.3|\n",
            "|   Amapá|2019|                   11.5|\n",
            "|Amazonas|2016|                   10.5|\n",
            "|Amazonas|2017|                   10.8|\n",
            "|Amazonas|2018|                   10.9|\n",
            "|Amazonas|2019|                   11.2|\n",
            "|   Bahia|2016|                   10.4|\n",
            "|   Bahia|2017|                   10.3|\n",
            "|   Bahia|2018|                   10.4|\n",
            "|   Bahia|2019|                   10.7|\n",
            "+--------+----+-----------------------+\n",
            "only showing top 20 rows\n",
            "\n"
          ]
        }
      ]
    },
    {
      "cell_type": "markdown",
      "metadata": {
        "id": "8894hv-Gpfam"
      },
      "source": [
        "WINDOW FUNCTIONS RANKING"
      ]
    },
    {
      "cell_type": "code",
      "metadata": {
        "colab": {
          "base_uri": "https://localhost:8080/"
        },
        "id": "lpk-tMEv6sP7",
        "outputId": "df15142a-dc76-4cc8-bf18-f23397e7f04c"
      },
      "source": [
        "# ANALISANDO AS OCORRENCIAS DO ESTADO SP EM 2019\n",
        "\n",
        "df_2_consulta = df_2.groupby('UF', 'TipoCrime', 'Ano')\\\n",
        ".sum('Ocorrencias')\\\n",
        ".filter(\n",
        "    (df_2.UF == \"São Paulo\") & \n",
        "    (df_2.Ano == 2019))\\\n",
        ".orderBy('TipoCrime')\n",
        "\n",
        "# --------------------------------------------\n",
        "\n",
        "# RANKING DAS OCORRENCIAS\n",
        "w0 = Window.partitionBy(F.col('UF')).orderBy(F.desc('sum(Ocorrencias)'))\n",
        "\n",
        "df_2_consulta.withColumn('Ranking', F.row_number().over(w0))\\\n",
        ".show(truncate=False)"
      ],
      "execution_count": 184,
      "outputs": [
        {
          "output_type": "stream",
          "name": "stdout",
          "text": [
            "+---------+-----------------------------------+----+----------------+-------+\n",
            "|UF       |TipoCrime                          |Ano |sum(Ocorrencias)|Ranking|\n",
            "+---------+-----------------------------------+----+----------------+-------+\n",
            "|São Paulo|Furto de veículo                   |2019|84099           |1      |\n",
            "|São Paulo|Roubo de veículo                   |2019|46513           |2      |\n",
            "|São Paulo|Estupro                            |2019|11614           |3      |\n",
            "|São Paulo|Roubo de carga                     |2019|7325            |4      |\n",
            "|São Paulo|Tentativa de homicídio             |2019|3390            |5      |\n",
            "|São Paulo|Homicídio doloso                   |2019|2778            |6      |\n",
            "|São Paulo|Roubo seguido de morte (latrocínio)|2019|191             |7      |\n",
            "|São Paulo|Lesão corporal seguida de morte    |2019|99              |8      |\n",
            "|São Paulo|Roubo a instituição financeira     |2019|21              |9      |\n",
            "+---------+-----------------------------------+----+----------------+-------+\n",
            "\n"
          ]
        }
      ]
    },
    {
      "cell_type": "markdown",
      "metadata": {
        "id": "lYSQUkOqpkkm"
      },
      "source": [
        "STRUCT TYPE | UNION BY NAME"
      ]
    },
    {
      "cell_type": "code",
      "metadata": {
        "colab": {
          "base_uri": "https://localhost:8080/"
        },
        "id": "7ySur1R_FzeF",
        "outputId": "814b663d-7ee1-45e7-a405-702104c4000f"
      },
      "source": [
        "# CRIANDO DATAFRAME VAZIO\n",
        "\n",
        "esquema = (StructType([\n",
        "        StructField('UF', StringType(), True),\n",
        "        StructField('TipoCrime', StringType(), True),\n",
        "        StructField('Ano', IntegerType(), True),\n",
        "        StructField('Mes', StringType(), True),\n",
        "        StructField('SexoVitima', StringType(), True),\n",
        "        StructField('Vitimas', IntegerType(), True)\n",
        "    ])\n",
        ")\n",
        "\n",
        "df_3_consulta = spark.createDataFrame(data='', schema=esquema)\n",
        "df_3_consulta.printSchema()\n",
        "df_3_consulta.show()\n",
        "\n",
        "# UNINDO DF\n",
        "\n",
        "df_3_consulta.unionByName(df_3)\\\n",
        ".orderBy('Ano', ascending=False)\\\n",
        ".show(5, truncate=False)\n",
        "\n",
        "# --------------------------------------------\n",
        "\n",
        "# EXIBINDO AS QTD. DE VITIMAS DE CRIMES DO ESTADO RJ EM 2020 POR SEXO\n",
        "\n",
        "df_3_consulta = df_3.groupby('UF', 'TipoCrime', 'Ano', 'SexoVitima')\\\n",
        ".sum('Vitimas')\\\n",
        ".filter(\n",
        "    (df_3.UF == \"Rio de Janeiro\") &\n",
        "    (df_3.Ano == 2020) &\n",
        "    (df_3.SexoVitima == \"Feminino\"))\\\n",
        ".orderBy('TipoCrime')\n",
        "\n",
        "df_3_consulta.show(truncate=False)\n",
        "\n",
        "df_3_consulta = df_3.groupby('UF', 'TipoCrime', 'Ano', 'SexoVitima')\\\n",
        ".sum('Vitimas')\\\n",
        ".filter(\n",
        "    (df_3.UF == \"Rio de Janeiro\") &\n",
        "    (df_3.Ano == 2020) &\n",
        "    (df_3.SexoVitima == \"Masculino\"))\\\n",
        ".orderBy('TipoCrime')\n",
        "\n",
        "df_3_consulta.show(truncate=False)\n",
        "\n",
        "df_3_consulta = df_3.groupby('UF', 'TipoCrime', 'Ano', 'SexoVitima')\\\n",
        ".sum('Vitimas')\\\n",
        ".filter(\n",
        "    (df_3.UF == \"Rio de Janeiro\") &\n",
        "    (df_3.Ano == 2020) &\n",
        "    (df_3.SexoVitima == \"Sexo NI\"))\\\n",
        ".orderBy('TipoCrime')\n",
        "\n",
        "df_3_consulta.show(truncate=False)"
      ],
      "execution_count": 185,
      "outputs": [
        {
          "output_type": "stream",
          "name": "stdout",
          "text": [
            "root\n",
            " |-- UF: string (nullable = true)\n",
            " |-- TipoCrime: string (nullable = true)\n",
            " |-- Ano: integer (nullable = true)\n",
            " |-- Mes: string (nullable = true)\n",
            " |-- SexoVitima: string (nullable = true)\n",
            " |-- Vitimas: integer (nullable = true)\n",
            "\n",
            "+---+---------+---+---+----------+-------+\n",
            "| UF|TipoCrime|Ano|Mes|SexoVitima|Vitimas|\n",
            "+---+---------+---+---+----------+-------+\n",
            "+---+---------+---+---+----------+-------+\n",
            "\n",
            "+----+----------------+----+---------+----------+-------+\n",
            "|UF  |TipoCrime       |Ano |Mes      |SexoVitima|Vitimas|\n",
            "+----+----------------+----+---------+----------+-------+\n",
            "|Acre|Homicídio doloso|2021|janeiro  |Feminino  |1      |\n",
            "|Acre|Homicídio doloso|2021|janeiro  |Masculino |13     |\n",
            "|Acre|Homicídio doloso|2021|janeiro  |Sexo NI   |0      |\n",
            "|Acre|Homicídio doloso|2021|fevereiro|Feminino  |4      |\n",
            "|Acre|Homicídio doloso|2021|fevereiro|Masculino |12     |\n",
            "+----+----------------+----+---------+----------+-------+\n",
            "only showing top 5 rows\n",
            "\n",
            "+--------------+-----------------------------------+----+----------+------------+\n",
            "|UF            |TipoCrime                          |Ano |SexoVitima|sum(Vitimas)|\n",
            "+--------------+-----------------------------------+----+----------+------------+\n",
            "|Rio de Janeiro|Homicídio doloso                   |2020|Feminino  |274         |\n",
            "|Rio de Janeiro|Lesão corporal seguida de morte    |2020|Feminino  |6           |\n",
            "|Rio de Janeiro|Roubo seguido de morte (latrocínio)|2020|Feminino  |6           |\n",
            "+--------------+-----------------------------------+----+----------+------------+\n",
            "\n",
            "+--------------+-----------------------------------+----+----------+------------+\n",
            "|UF            |TipoCrime                          |Ano |SexoVitima|sum(Vitimas)|\n",
            "+--------------+-----------------------------------+----+----------+------------+\n",
            "|Rio de Janeiro|Homicídio doloso                   |2020|Masculino |3076        |\n",
            "|Rio de Janeiro|Lesão corporal seguida de morte    |2020|Masculino |25          |\n",
            "|Rio de Janeiro|Roubo seguido de morte (latrocínio)|2020|Masculino |80          |\n",
            "+--------------+-----------------------------------+----+----------+------------+\n",
            "\n",
            "+--------------+-----------------------------------+----+----------+------------+\n",
            "|UF            |TipoCrime                          |Ano |SexoVitima|sum(Vitimas)|\n",
            "+--------------+-----------------------------------+----+----------+------------+\n",
            "|Rio de Janeiro|Homicídio doloso                   |2020|Sexo NI   |182         |\n",
            "|Rio de Janeiro|Lesão corporal seguida de morte    |2020|Sexo NI   |0           |\n",
            "|Rio de Janeiro|Roubo seguido de morte (latrocínio)|2020|Sexo NI   |0           |\n",
            "+--------------+-----------------------------------+----+----------+------------+\n",
            "\n"
          ]
        }
      ]
    },
    {
      "cell_type": "markdown",
      "metadata": {
        "id": "JZQVT_sss3Rf"
      },
      "source": [
        "HEADER | AGGREGATE | SUM"
      ]
    },
    {
      "cell_type": "code",
      "metadata": {
        "colab": {
          "base_uri": "https://localhost:8080/"
        },
        "id": "cyui-5cpTgOT",
        "outputId": "0091093e-da4e-4fb7-b0ac-89780aff0bc5"
      },
      "source": [
        "# ALTERANDO CABEÇALHO\n",
        "\n",
        "file_path_1 = 'gs://data_lake_ingest_data/2_temp/temp_pandas_despesas_normalizado.csv'\n",
        "\n",
        "fs = gcsfs.GCSFileSystem(project='soulcode-projeto-final', token=serviceaccount)\n",
        "with fs.open(file_path_1):\n",
        "    data = pd.read_csv(file_path_1,\n",
        "                       sep=',', \n",
        "                       encoding='UTF-8',\n",
        "                       header=None)\n",
        "\n",
        "esquema=['UF', \n",
        "         'Desp_2016', \n",
        "         'Desp_2017', \n",
        "         'Desp_2018', \n",
        "         'Desp_2019', \n",
        "         'Desp_2020', \n",
        "         'Variacao_%', \n",
        "         'Previsao_2021_Media']\n",
        "\n",
        "df_1_consulta = spark.createDataFrame(data, schema=esquema, )\n",
        "\n",
        "df_1_consulta.show(5, truncate=False)\n",
        "\n",
        "# --------------------------------------------\n",
        "\n",
        "# AGREGANDO O TOTAL DE DESPESAS GOVERNAMENTAIS DO PARANA REFERENTES AOS ULTIMOS 3 ANOS\n",
        "\n",
        "df_1_consulta.select('UF', 'Desp_2018', 'Desp_2019', 'Desp_2020')\\\n",
        ".filter((df_1_consulta.UF == 'Paraná'))\\\n",
        ".groupBy('UF', 'Desp_2018', 'Desp_2019', 'Desp_2020')\\\n",
        ".agg(F.sum(df_1_consulta.Desp_2018 + \n",
        "           df_1_consulta.Desp_2019 + \n",
        "           df_1_consulta.Desp_2020).alias('PR_Despesas_Totais_Milhoes'))\\\n",
        ".show()"
      ],
      "execution_count": 186,
      "outputs": [
        {
          "output_type": "stream",
          "name": "stdout",
          "text": [
            "+--------+-------------+-------------+-------------+-------------+-------------+----------+-------------------+\n",
            "|UF      |Desp_2016    |Desp_2017    |Desp_2018    |Desp_2019    |Desp_2020    |Variacao_%|Previsao_2021_Media|\n",
            "+--------+-------------+-------------+-------------+-------------+-------------+----------+-------------------+\n",
            "|UF      |Despesas2016 |Despesas2017 |Despesas2018 |Despesas2019 |Despesas2020 |Variacao% |Previsao2021|Media |\n",
            "|Acre    |498534695.86 |568361392.44 |627350849.5  |692570200.34 |493753295.05 |8.5       |576114086.6380001  |\n",
            "|Amapá   |475323291.75 |500226894.86 |489227978.64 |606366325.29 |752252498.84 |52.3      |564679397.876      |\n",
            "|Amazonas|1604732215.63|1578956656.67|1862668906.56|2108459954.54|2101446656.49|60.4      |1851252877.9780002 |\n",
            "|Pará    |2551740769.92|2579915982.34|2903200194.44|2943447535.92|2966553398.06|58.0      |2788971576.136     |\n",
            "+--------+-------------+-------------+-------------+-------------+-------------+----------+-------------------+\n",
            "only showing top 5 rows\n",
            "\n",
            "+------+-------------+-------------+-------------+--------------------------+\n",
            "|    UF|    Desp_2018|    Desp_2019|    Desp_2020|PR_Despesas_Totais_Milhoes|\n",
            "+------+-------------+-------------+-------------+--------------------------+\n",
            "|Paraná|4159686904.16|3986054602.75|3687001806.21|      1.183274331311999...|\n",
            "+------+-------------+-------------+-------------+--------------------------+\n",
            "\n"
          ]
        }
      ]
    },
    {
      "cell_type": "markdown",
      "metadata": {
        "id": "DeID-8LSEBLn"
      },
      "source": [
        "FILTERS"
      ]
    },
    {
      "cell_type": "code",
      "metadata": {
        "colab": {
          "base_uri": "https://localhost:8080/"
        },
        "id": "UdnQjVNVDTjd",
        "outputId": "fdaccc26-e24a-449f-95cd-8040edfcd4dc"
      },
      "source": [
        "# FILTRANDO INTERVALOS\n",
        "\n",
        "# IGUAL A 90% E MAIOR QUE 20 %\n",
        "df_6.filter(\n",
        "    (df_6.Media_Freq_15_a_17_anos == '90 %') & \n",
        "    (df_6.Media_Freq_15_a_17_anos > '20 %'))\\\n",
        ".select('UF', 'Media_Freq_15_a_17_anos')\\\n",
        ".orderBy(F.desc('Media_Freq_15_a_17_anos'))\\\n",
        ".show(5, truncate=False)\n",
        "\n",
        "# IGUAL E MENOR A 40 % OU IGUAL E MAIOR QUE 20 %\n",
        "df_6.filter(\n",
        "    (df_6.Media_Freq_18_a_24_anos <= '40 %') |\n",
        "    (df_6.Media_Freq_18_a_24_anos >= '20 %'))\\\n",
        ".select('UF', 'Media_Freq_18_a_24_anos')\\\n",
        ".orderBy(F.desc('Media_Freq_18_a_24_anos'))\\\n",
        ".show(5, truncate=False)\n",
        "\n",
        "# IGUAL E MENOR QUE 20 % OU MAIOR QUE 8 %\n",
        "df_6.filter(\n",
        "    (df_6.Media_Freq_25_anos_ou_mais <= '20 %') |\n",
        "    (df_6.Media_Freq_25_anos_ou_mais > '8 %'))\\\n",
        ".select('UF', 'Media_Freq_25_anos_ou_mais')\\\n",
        ".orderBy(F.desc('Media_Freq_25_anos_ou_mais'))\\\n",
        ".show(5, truncate=False)"
      ],
      "execution_count": 187,
      "outputs": [
        {
          "output_type": "stream",
          "name": "stdout",
          "text": [
            "+--------+-----------------------+\n",
            "|UF      |Media_Freq_15_a_17_anos|\n",
            "+--------+-----------------------+\n",
            "|Amazonas|90 %                   |\n",
            "|Roraima |90 %                   |\n",
            "|Pará    |90 %                   |\n",
            "|Paraíba |90 %                   |\n",
            "|Bahia   |90 %                   |\n",
            "+--------+-----------------------+\n",
            "only showing top 5 rows\n",
            "\n",
            "+----------------+-----------------------+\n",
            "|UF              |Media_Freq_18_a_24_anos|\n",
            "+----------------+-----------------------+\n",
            "|Espírito Santo  |47 %                   |\n",
            "|Distrito Federal|44 %                   |\n",
            "|Paraíba         |44 %                   |\n",
            "|Brasília        |44 %                   |\n",
            "|Santa Catarina  |44 %                   |\n",
            "+----------------+-----------------------+\n",
            "only showing top 5 rows\n",
            "\n",
            "+----+--------------------------+\n",
            "|UF  |Media_Freq_25_anos_ou_mais|\n",
            "+----+--------------------------+\n",
            "|Acre|9 %                       |\n",
            "+----+--------------------------+\n",
            "\n"
          ]
        }
      ]
    },
    {
      "cell_type": "markdown",
      "metadata": {
        "id": "Zk-3mAb5hp6o"
      },
      "source": [
        "### EXPORTANDO DATAFRAMES"
      ]
    },
    {
      "cell_type": "markdown",
      "metadata": {
        "id": "-IDFVq6-ELQZ"
      },
      "source": [
        "DATAFRAME 1"
      ]
    },
    {
      "cell_type": "code",
      "metadata": {
        "id": "HCSOjqKkEKF8"
      },
      "source": [
        "# TRANSFORMARDO DATAFRAME PYSPAK EM PANDAS\n",
        "df_1 = df_1.toPandas()\n",
        "df_1.to_csv('temp_pyspark_tabela_despesas_gov_uf.csv')\n",
        "\n",
        "BUCKET_NAME= \"data_lake_ingest_data\"\n",
        "storage_client = storage.Client()\n",
        "bucket = storage_client.get_bucket(BUCKET_NAME)\n",
        "\n",
        "fileout = \"2_temp/temp_pyspark_tabela_despesas_gov_uf.csv\"\n",
        "destination_blob = bucket.blob(fileout)\n",
        "destination_blob.upload_from_filename('/content/temp_pyspark_tabela_despesas_gov_uf.csv')"
      ],
      "execution_count": 188,
      "outputs": []
    },
    {
      "cell_type": "markdown",
      "metadata": {
        "id": "G7dTr_PIh-__"
      },
      "source": [
        "DATAFRAME 3"
      ]
    },
    {
      "cell_type": "code",
      "metadata": {
        "id": "08dEuHD7hWZj"
      },
      "source": [
        "# TRANSFORMARDO DATAFRAME PYSPAK EM PANDAS\n",
        "df_3 = df_3.toPandas()\n",
        "df_3.to_csv('temp_pyspark_tabela_vitimas_sexo.csv')\n",
        "\n",
        "BUCKET_NAME= \"data_lake_ingest_data\"\n",
        "storage_client = storage.Client()\n",
        "bucket = storage_client.get_bucket(BUCKET_NAME)\n",
        "\n",
        "fileout = \"2_temp/temp_pyspark_tabela_vitimas_sexo.csv\"\n",
        "destination_blob = bucket.blob(fileout)\n",
        "destination_blob.upload_from_filename('/content/temp_pyspark_tabela_vitimas_sexo.csv')"
      ],
      "execution_count": 189,
      "outputs": []
    },
    {
      "cell_type": "markdown",
      "metadata": {
        "id": "PHuM1fvQiTTd"
      },
      "source": [
        "DATAFRAME 6"
      ]
    },
    {
      "cell_type": "code",
      "metadata": {
        "id": "jwYiwX7siSPl"
      },
      "source": [
        "# TRANSFORMARDO DATAFRAME PYSPAK EM PANDAS\n",
        "df_6 = df_6.toPandas()\n",
        "df_6.to_csv('temp_pyspark_tabela_frequencia_escolar_normalizado.csv')\n",
        "\n",
        "BUCKET_NAME= \"data_lake_ingest_data\"\n",
        "storage_client = storage.Client()\n",
        "bucket = storage_client.get_bucket(BUCKET_NAME)\n",
        "\n",
        "fileout = \"2_temp/temp_pyspark_tabela_frequencia_escolar_normalizado.csv\"\n",
        "destination_blob = bucket.blob(fileout)\n",
        "destination_blob.upload_from_filename('/content/temp_pyspark_tabela_frequencia_escolar_normalizado.csv')"
      ],
      "execution_count": 190,
      "outputs": []
    },
    {
      "cell_type": "markdown",
      "metadata": {
        "id": "L169p36gifZV"
      },
      "source": [
        "DATAFRAME 7"
      ]
    },
    {
      "cell_type": "code",
      "metadata": {
        "id": "_upJye6Lieu7"
      },
      "source": [
        "# TRANSFORMARDO DATAFRAME PYSPAK EM PANDAS\n",
        "df_7 = df_7.toPandas()\n",
        "df_7.to_csv('temp_pyspark_tabela_TaxaAnalfabetismo_normalizado.csv')\n",
        "\n",
        "BUCKET_NAME= \"data_lake_ingest_data\"\n",
        "storage_client = storage.Client()\n",
        "bucket = storage_client.get_bucket(BUCKET_NAME)\n",
        "\n",
        "fileout = \"2_temp/temp_pyspark_tabela_TaxaAnalfabetismo_normalizado.csv\"\n",
        "destination_blob = bucket.blob(fileout)\n",
        "destination_blob.upload_from_filename('/content/temp_pyspark_tabela_TaxaAnalfabetismo_normalizado.csv')"
      ],
      "execution_count": 191,
      "outputs": []
    },
    {
      "cell_type": "markdown",
      "metadata": {
        "id": "fAegpIHvioLe"
      },
      "source": [
        "JOINT AGREGAÇÃO 1"
      ]
    },
    {
      "cell_type": "code",
      "metadata": {
        "id": "m1TtKyZkipo4"
      },
      "source": [
        "# TRANSFORMARDO DATAFRAME PYSPAK EM PANDAS\n",
        "df_join_1 = df_join_1.toPandas()\n",
        "df_join_1.to_csv('temp_pyspark_agg_1_General_Data.csv')\n",
        "\n",
        "BUCKET_NAME= \"data_lake_ingest_data\"\n",
        "storage_client = storage.Client()\n",
        "bucket = storage_client.get_bucket(BUCKET_NAME)\n",
        "\n",
        "fileout = \"2_temp/temp_pyspark_agg_1_General_Data.csv\"\n",
        "destination_blob = bucket.blob(fileout)\n",
        "destination_blob.upload_from_filename('/content/temp_pyspark_agg_1_General_Data.csv')"
      ],
      "execution_count": 192,
      "outputs": []
    },
    {
      "cell_type": "markdown",
      "metadata": {
        "id": "dz2889XdiqDt"
      },
      "source": [
        "JOIN AGREGAÇÃO 2"
      ]
    },
    {
      "cell_type": "code",
      "metadata": {
        "id": "wYM5a6rPirXq"
      },
      "source": [
        "# TRANSFORMARDO DATAFRAME PYSPAK EM PANDAS\n",
        "df_join_4 = df_join_4.toPandas()\n",
        "df_join_4.to_csv('temp_pyspark_agg_2_Freq_Escolar_Taxa_Analfa.csv')\n",
        "\n",
        "BUCKET_NAME= \"data_lake_ingest_data\"\n",
        "storage_client = storage.Client()\n",
        "bucket = storage_client.get_bucket(BUCKET_NAME)\n",
        "\n",
        "fileout = \"2_temp/temp_pyspark_agg_2_Freq_Escolar_Taxa_Analfa.csv\"\n",
        "destination_blob = bucket.blob(fileout)\n",
        "destination_blob.upload_from_filename('/content/temp_pyspark_agg_2_Freq_Escolar_Taxa_Analfa.csv')"
      ],
      "execution_count": 193,
      "outputs": []
    },
    {
      "cell_type": "markdown",
      "metadata": {
        "id": "uojErZpTiAo7"
      },
      "source": [
        "JOIN AGREGAÇÃO 3"
      ]
    },
    {
      "cell_type": "code",
      "metadata": {
        "id": "7HoZBjiRiCz2"
      },
      "source": [
        "# TRANSFORMARDO DATAFRAME PYSPAK EM PANDAS\n",
        "df_join_5 = df_join_5.toPandas()\n",
        "df_join_5.to_csv('temp_pyspark_agg_3_general_data_2020.csv')\n",
        "\n",
        "BUCKET_NAME= \"data_lake_ingest_data\"\n",
        "storage_client = storage.Client()\n",
        "bucket = storage_client.get_bucket(BUCKET_NAME)\n",
        "\n",
        "fileout = \"2_temp/temp_pyspark_agg_3_general_data_2020.csv\"\n",
        "destination_blob = bucket.blob(fileout)\n",
        "destination_blob.upload_from_filename('/content/temp_pyspark_agg_3_general_data_2020.csv')"
      ],
      "execution_count": 194,
      "outputs": []
    },
    {
      "cell_type": "markdown",
      "metadata": {
        "id": "YEVe1o-RD02J"
      },
      "source": [
        "AGREGAÇÃO 4 (DATAFRAME 4)"
      ]
    },
    {
      "cell_type": "code",
      "metadata": {
        "id": "PBao-L4uD0sv"
      },
      "source": [
        "# TRANSFORMARDO DATAFRAME PYSPAK EM PANDAS\n",
        "df_agg_4 = df_agg_4.toPandas()\n",
        "df_agg_4.to_csv('temp_pyspark_agg_4_freq_escolar_normalizada.csv')\n",
        "\n",
        "BUCKET_NAME= \"data_lake_ingest_data\"\n",
        "storage_client = storage.Client()\n",
        "bucket = storage_client.get_bucket(BUCKET_NAME)\n",
        "\n",
        "fileout = \"2_temp/temp_pyspark_agg_4_freq_escolar_normalizada.csv\"\n",
        "destination_blob = bucket.blob(fileout)\n",
        "destination_blob.upload_from_filename('/content/temp_pyspark_agg_4_freq_escolar_normalizada.csv')"
      ],
      "execution_count": 195,
      "outputs": []
    },
    {
      "cell_type": "markdown",
      "metadata": {
        "id": "LGSrFAzXOmCC"
      },
      "source": [
        "# SPARKSQL"
      ]
    },
    {
      "cell_type": "markdown",
      "metadata": {
        "id": "Ng3u8XetO1jC"
      },
      "source": [
        "### INSTALANDO DEPENDECIAS"
      ]
    },
    {
      "cell_type": "code",
      "metadata": {
        "id": "VsfSMAAJPNjo"
      },
      "source": [
        "!pip install pyspark\n",
        "!pip install gcsfs"
      ],
      "execution_count": null,
      "outputs": []
    },
    {
      "cell_type": "markdown",
      "metadata": {
        "id": "5Bzw7Z2_PR4v"
      },
      "source": [
        "### IMPORTANDO BIBLIOTECAS, ABRINDO SPARKSESSION E CONFIGURANDO CHAVE DE SERVIÇO"
      ]
    },
    {
      "cell_type": "code",
      "metadata": {
        "id": "mdRAuDKhPR4w"
      },
      "source": [
        "from pyspark.sql import SparkSession\n",
        "from pyspark.sql.types import *\n",
        "from google.cloud import storage\n",
        "\n",
        "import pyspark\n",
        "import pyspark.sql.functions as F\n",
        "import gcsfs\n",
        "import pandas as pd"
      ],
      "execution_count": 67,
      "outputs": []
    },
    {
      "cell_type": "code",
      "metadata": {
        "colab": {
          "base_uri": "https://localhost:8080/"
        },
        "id": "lw702M39PR4x",
        "outputId": "1d7fc326-32d3-4ece-83f1-a1bb9a081297"
      },
      "source": [
        "spark = SparkSession.builder\\\n",
        ".master('local')\\\n",
        ".appName('Projeto_Final')\\\n",
        ".config('spark.ui.enable', 'true')\\\n",
        ".config('spark.ui.port', '4050')\\\n",
        ".getOrCreate()\n",
        "\n",
        "spark\n",
        "\n",
        "serviceaccount = '/content/soulcode-projeto-final-4b88bea6e07a.json'\n",
        "os.environ[\"GOOGLE_APPLICATION_CREDENTIALS\"] = serviceaccount\n",
        "\n",
        "spark"
      ],
      "execution_count": null,
      "outputs": [
        {
          "output_type": "execute_result",
          "data": {
            "text/html": [
              "\n",
              "            <div>\n",
              "                <p><b>SparkSession - in-memory</b></p>\n",
              "                \n",
              "        <div>\n",
              "            <p><b>SparkContext</b></p>\n",
              "\n",
              "            <p><a href=\"http://fdd9840039dd:4050\">Spark UI</a></p>\n",
              "\n",
              "            <dl>\n",
              "              <dt>Version</dt>\n",
              "                <dd><code>v3.2.0</code></dd>\n",
              "              <dt>Master</dt>\n",
              "                <dd><code>local</code></dd>\n",
              "              <dt>AppName</dt>\n",
              "                <dd><code>Projeto_Final</code></dd>\n",
              "            </dl>\n",
              "        </div>\n",
              "        \n",
              "            </div>\n",
              "        "
            ],
            "text/plain": [
              "<pyspark.sql.session.SparkSession at 0x7f3308bc7990>"
            ]
          },
          "metadata": {},
          "execution_count": 35
        }
      ]
    },
    {
      "cell_type": "markdown",
      "metadata": {
        "id": "_g1vWxfrPgy-"
      },
      "source": [
        "### LENDO DATAFRAME, CRIANDO VISUALIZAÇÕES TEMPORARIA E ANALISANDO DADOS"
      ]
    },
    {
      "cell_type": "markdown",
      "metadata": {
        "id": "ff21kUTXTt39"
      },
      "source": [
        "DATAFRAME 1"
      ]
    },
    {
      "cell_type": "code",
      "metadata": {
        "id": "W-oNo0BaPeYE",
        "colab": {
          "base_uri": "https://localhost:8080/"
        },
        "outputId": "7c3e0f72-5f90-41cd-814e-ae9529217178"
      },
      "source": [
        "# Lista de Dataframes\n",
        "file_path = ['',\n",
        "             'gs://data_lake_ingest_data/2_temp/temp_pandas_despesas_normalizado.csv', # df_1\n",
        "             'gs://data_lake_ingest_data/2_temp/temp_pandas_ocorrencias_normalizado.json', # df_2\n",
        "             'gs://data_lake_ingest_data/2_temp/temp_pandas_vitimas_normalizado.json', # df_3\n",
        "             'gs://data_lake_ingest_data/2_temp/temp_pandas_ocorrencia_vitimas_porAnoEstado.csv', # df_4\n",
        "             'gs://data_lake_ingest_data/2_temp/temp_pandas_taxa_analfabetismo_normalizado.csv', # df_5\n",
        "             'gs://data_lake_ingest_data/2_temp/temp_pyspark_agg_1_General_Data.csv', # df_6\n",
        "             'gs://data_lake_ingest_data/2_temp/temp_pyspark_agg_2_Freq_Escolar_Taxa_Analfa.csv', # df_7\n",
        "             'gs://data_lake_ingest_data/2_temp/temp_pyspark_agg_3_general_data_2020.csv', # df_8\n",
        "             'gs://data_lake_ingest_data/2_temp/temp_pyspark_agg_4_freq_escolar_normalizada.csv'] # df_9\n",
        "\n",
        "# Lendo dataframes dinâmicamente usando Python, Pandas e SQL\n",
        "for i in range(len(file_path)):\n",
        "\n",
        "    fs = gcsfs.GCSFileSystem(project='soulcode-projeto-final', token=serviceaccount)\n",
        "\n",
        "    if i > 0 and i < 12:\n",
        "        if \".csv\" in file_path[i]: # Lendo csv\n",
        "            with fs.open(file_path[i]):\n",
        "                data = pd.read_csv(file_path[i], sep=',', encoding='UTF-8', header=0)\n",
        "\n",
        "            # Criando visualização temporária SparkSQL\n",
        "            spark.createDataFrame(data).createOrReplaceTempView('df_'+str(i))\n",
        "        \n",
        "        elif \".json\" in file_path[i]: # Lendo json\n",
        "            with fs.open(file_path[i]): \n",
        "                data = pd.read_json(file_path[i], encoding='UTF-8')\n",
        "\n",
        "            # Criando visualização temporária SparkSQL\n",
        "            spark.createDataFrame(data).createOrReplaceTempView('df_'+str(i))\n",
        "\n",
        "        elif \".xlsx\" in file_path[i]: # Lendo xlsx\n",
        "            with fs.open(file_path[i]): \n",
        "                data = pd.read_excel(file_path[i])\n",
        "\n",
        "            # Criando visualização temporária SparkSQL\n",
        "            spark.createDataFrame(data).createOrReplaceTempView('df_'+str(i))\n",
        "\n",
        "    else:\n",
        "        continue\n",
        "\n",
        "# Verificando tipos de dados vindos do PySpark\n",
        "spark.sql(''' DESCRIBE df_1 ''').show()\n",
        "spark.sql(''' DESCRIBE df_2 ''').show()\n",
        "spark.sql(''' DESCRIBE df_3 ''').show()\n",
        "\n",
        "# Visualizando tabelas\n",
        "spark.sql('''\n",
        "        SELECT *\n",
        "        FROM df_1\n",
        "        LIMIT 10\n",
        "        '''    \n",
        "        ).show()\n",
        "\n",
        "spark.sql('''\n",
        "        SELECT *\n",
        "        FROM df_2\n",
        "        LIMIT 10\n",
        "        '''    \n",
        "        ).show()\n",
        "\n",
        "spark.sql('''\n",
        "        SELECT *\n",
        "        FROM df_3\n",
        "        LIMIT 10\n",
        "        '''    \n",
        "        ).show()\n",
        "\n",
        "spark.sql('''\n",
        "        SELECT *\n",
        "        FROM df_5\n",
        "        LIMIT 10\n",
        "        '''    \n",
        "        ).show()\n",
        "\n",
        "spark.sql('''\n",
        "        SELECT *\n",
        "        FROM df_6\n",
        "        LIMIT 10\n",
        "        '''    \n",
        "        ).show()\n",
        "\n",
        "spark.sql('''\n",
        "        SELECT *\n",
        "        FROM df_7\n",
        "        LIMIT 10\n",
        "        '''    \n",
        "        ).show()"
      ],
      "execution_count": 196,
      "outputs": [
        {
          "output_type": "stream",
          "name": "stdout",
          "text": [
            "+------------------+---------+-------+\n",
            "|          col_name|data_type|comment|\n",
            "+------------------+---------+-------+\n",
            "|                UF|   string|   null|\n",
            "|      Despesas2016|   double|   null|\n",
            "|      Despesas2017|   double|   null|\n",
            "|      Despesas2018|   double|   null|\n",
            "|      Despesas2019|   double|   null|\n",
            "|      Despesas2020|   double|   null|\n",
            "|         Variacao%|   double|   null|\n",
            "|Previsao2021|Media|   double|   null|\n",
            "+------------------+---------+-------+\n",
            "\n",
            "+-----------+---------+-------+\n",
            "|   col_name|data_type|comment|\n",
            "+-----------+---------+-------+\n",
            "|         UF|   string|   null|\n",
            "|  TipoCrime|   string|   null|\n",
            "|        Ano|   bigint|   null|\n",
            "|        Mes|   string|   null|\n",
            "|Ocorrencias|   bigint|   null|\n",
            "+-----------+---------+-------+\n",
            "\n",
            "+----------+---------+-------+\n",
            "|  col_name|data_type|comment|\n",
            "+----------+---------+-------+\n",
            "|        UF|   string|   null|\n",
            "| TipoCrime|   string|   null|\n",
            "|       Ano|   bigint|   null|\n",
            "|       Mes|   string|   null|\n",
            "|SexoVitima|   string|   null|\n",
            "|   Vitimas|   bigint|   null|\n",
            "+----------+---------+-------+\n",
            "\n",
            "+---------+---------------+---------------+---------------+---------------+---------------+---------+--------------------+\n",
            "|       UF|   Despesas2016|   Despesas2017|   Despesas2018|   Despesas2019|   Despesas2020|Variacao%|  Previsao2021|Media|\n",
            "+---------+---------------+---------------+---------------+---------------+---------------+---------+--------------------+\n",
            "|     Acre| 4.9853469586E8| 5.6836139244E8|  6.273508495E8| 6.9257020034E8| 4.9375329505E8|      8.5| 5.761140866380001E8|\n",
            "|    Amapá| 4.7532329175E8| 5.0022689486E8| 4.8922797864E8| 6.0636632529E8| 7.5225249884E8|     52.3| 5.646793978759999E8|\n",
            "| Amazonas|1.60473221563E9|1.57895665667E9|1.86266890656E9|2.10845995454E9|2.10144665649E9|     60.4|    1.851252877978E9|\n",
            "|     Pará|2.55174076992E9|2.57991598234E9|2.90320019444E9|2.94344753592E9|2.96655339806E9|     58.0|2.7889715761359997E9|\n",
            "| Rondônia| 8.7487402427E8| 8.9586766443E8| 9.0325385747E8| 8.5397099952E8| 9.9904393587E8|    -14.7| 9.054020963119999E8|\n",
            "|  Roraima| 4.0893419687E8| 4.4012392317E8| 4.0544580472E8| 2.8819794222E8| 3.9117839882E8|     65.8|      3.8677605316E8|\n",
            "|Tocantins| 8.3988238046E8| 8.9865165969E8| 9.3962672371E8|1.11919008567E9|1.05972641165E9|     24.6|     9.71415452236E8|\n",
            "|  Alagoas| 1.1966407622E9|1.24451957097E9|1.25122876611E9|1.15915881929E9| 1.3549862711E9|     17.1|    1.241306837934E9|\n",
            "|    Bahia|4.76059110341E9|4.56907640713E9|4.60102722773E9|4.68240335577E9|4.32166332723E9|      3.9| 4.586952284254001E9|\n",
            "|    Ceará|2.18831524988E9|2.40023478733E9| 2.7633394225E9|2.84235979374E9|3.04558266899E9|     95.0|    2.647966384488E9|\n",
            "+---------+---------------+---------------+---------------+---------------+---------------+---------+--------------------+\n",
            "\n",
            "+----+--------------------+----+---------+-----------+\n",
            "|  UF|           TipoCrime| Ano|      Mes|Ocorrencias|\n",
            "+----+--------------------+----+---------+-----------+\n",
            "|Acre|             Estupro|2021|  janeiro|         39|\n",
            "|Acre|    Furto de veículo|2021|  janeiro|         55|\n",
            "|Acre|    Homicídio doloso|2021|  janeiro|         14|\n",
            "|Acre|Lesão corporal se...|2021|  janeiro|          0|\n",
            "|Acre|Roubo a instituiç...|2021|  janeiro|          0|\n",
            "|Acre|      Roubo de carga|2021|  janeiro|          0|\n",
            "|Acre|    Roubo de veículo|2021|  janeiro|         99|\n",
            "|Acre|Roubo seguido de ...|2021|  janeiro|          1|\n",
            "|Acre|Tentativa de homi...|2021|  janeiro|         10|\n",
            "|Acre|             Estupro|2021|fevereiro|         23|\n",
            "+----+--------------------+----+---------+-----------+\n",
            "\n",
            "+----+----------------+----+---------+----------+-------+\n",
            "|  UF|       TipoCrime| Ano|      Mes|SexoVitima|Vitimas|\n",
            "+----+----------------+----+---------+----------+-------+\n",
            "|Acre|Homicídio doloso|2021|  janeiro|  Feminino|      1|\n",
            "|Acre|Homicídio doloso|2021|  janeiro| Masculino|     13|\n",
            "|Acre|Homicídio doloso|2021|  janeiro|   Sexo NI|      0|\n",
            "|Acre|Homicídio doloso|2021|fevereiro|  Feminino|      4|\n",
            "|Acre|Homicídio doloso|2021|fevereiro| Masculino|     12|\n",
            "|Acre|Homicídio doloso|2021|fevereiro|   Sexo NI|      0|\n",
            "|Acre|Homicídio doloso|2021|    março|  Feminino|      2|\n",
            "|Acre|Homicídio doloso|2021|    março| Masculino|     24|\n",
            "|Acre|Homicídio doloso|2021|    março|   Sexo NI|      0|\n",
            "|Acre|Homicídio doloso|2021|    abril|  Feminino|      2|\n",
            "+----+----------------+----+---------+----------+-------+\n",
            "\n",
            "+---------+---------------+---------------------+---------------------+---------------------+---------------------+\n",
            "|       UF|    Grupo_idade|TaxaAnalfabetismo2016|TaxaAnalfabetismo2017|TaxaAnalfabetismo2018|TaxaAnalfabetismo2019|\n",
            "+---------+---------------+---------------------+---------------------+---------------------+---------------------+\n",
            "| Rondônia|15 anos ou mais|                  6.6|                  7.2|                  6.5|                  6.4|\n",
            "|     Acre|15 anos ou mais|                 13.1|                 12.1|                 12.1|                 11.7|\n",
            "| Amazonas|15 anos ou mais|                  6.9|                  6.1|                  5.8|                  5.4|\n",
            "|  Roraima|15 anos ou mais|                  6.6|                  6.0|                  6.0|                  5.0|\n",
            "|     Pará|15 anos ou mais|                  9.2|                  8.6|                  8.8|                  8.4|\n",
            "|    Amapá|15 anos ou mais|                  5.0|                  5.0|                  6.1|                  5.5|\n",
            "|Tocantins|15 anos ou mais|                 10.4|                 10.2|                 10.0|                  9.7|\n",
            "| Maranhão|15 anos ou mais|                 16.7|                 16.8|                 16.3|                 15.6|\n",
            "|    Piauí|15 anos ou mais|                 17.2|                 16.6|                 16.6|                 16.0|\n",
            "|    Ceará|15 anos ou mais|                 15.2|                 14.2|                 13.3|                 13.6|\n",
            "+---------+---------------+---------------------+---------------------+---------------------+---------------------+\n",
            "\n",
            "+----------+----------------+----------------+------------+\n",
            "|Unnamed: 0|              UF|sum(Ocorrencias)|sum(Vitimas)|\n",
            "+----------+----------------+----------------+------------+\n",
            "|         0|            Acre|           10569|        1731|\n",
            "|         1|         Alagoas|           36240|        7800|\n",
            "|         2|           Amapá|            9594|        1662|\n",
            "|         3|        Amazonas|           42023|        6342|\n",
            "|         4|           Bahia|          159173|       32769|\n",
            "|         5|           Ceará|          109815|       20942|\n",
            "|         6|Distrito Federal|           60852|        2797|\n",
            "|         7|  Espírito Santo|           71950|        6613|\n",
            "|         8|           Goiás|          124737|       11286|\n",
            "|         9|        Maranhão|           59384|       10281|\n",
            "+----------+----------------+----------------+------------+\n",
            "\n",
            "+----------+----------------+-----------------------+-----------------------+--------------------------+---------------------+---------------------+---------------------+---------------------+\n",
            "|Unnamed: 0|              UF|Media_Freq_15_a_17_anos|Media_Freq_18_a_24_anos|Media_Freq_25_anos_ou_mais|TaxaAnalfabetismo2016|TaxaAnalfabetismo2017|TaxaAnalfabetismo2018|TaxaAnalfabetismo2019|\n",
            "+----------+----------------+-----------------------+-----------------------+--------------------------+---------------------+---------------------+---------------------+---------------------+\n",
            "|         0|            Acre|                   86 %|                   39 %|                       9 %|                 13 %|                 12 %|                 12 %|                 11 %|\n",
            "|         1|         Alagoas|                   85 %|                   35 %|                       4 %|                 19 %|                 18 %|                 17 %|                 17 %|\n",
            "|         2|           Amapá|                   88 %|                   42 %|                       7 %|                  5 %|                  5 %|                  6 %|                  5 %|\n",
            "|         3|        Amazonas|                   90 %|                   39 %|                       7 %|                  6 %|                  6 %|                  5 %|                  5 %|\n",
            "|         4|           Bahia|                   90 %|                   43 %|                       7 %|                 13 %|                 12 %|                 12 %|                 12 %|\n",
            "|         5|           Ceará|                   88 %|                   33 %|                       5 %|                 15 %|                 14 %|                 13 %|                 13 %|\n",
            "|         6|Distrito Federal|                   91 %|                   44 %|                       6 %|                  2 %|                  2 %|                  3 %|                  2 %|\n",
            "|         7|  Espírito Santo|                   92 %|                   47 %|                       6 %|                  6 %|                  5 %|                  5 %|                  5 %|\n",
            "|         8|           Goiás|                   87 %|                   39 %|                       5 %|                  6 %|                  5 %|                  5 %|                  5 %|\n",
            "|         9|        Maranhão|                   87 %|                   35 %|                       6 %|                 16 %|                 16 %|                 16 %|                 15 %|\n",
            "+----------+----------------+-----------------------+-----------------------+--------------------------+---------------------+---------------------+---------------------+---------------------+\n",
            "\n"
          ]
        }
      ]
    },
    {
      "cell_type": "markdown",
      "metadata": {
        "id": "RbIvpF6xB2Ge"
      },
      "source": [
        "### CONSULTAS"
      ]
    },
    {
      "cell_type": "markdown",
      "metadata": {
        "id": "nZd-S3c5ATU1"
      },
      "source": [
        "Total de ocorrencias criminais por Estado (nos anos de 2016 a 2021)\n",
        "\n"
      ]
    },
    {
      "cell_type": "code",
      "metadata": {
        "id": "XOO3m1BjAGM1",
        "colab": {
          "base_uri": "https://localhost:8080/"
        },
        "outputId": "9231be79-08d8-42c4-d759-fc83be1de2d2"
      },
      "source": [
        "spark.sql(\n",
        "'''\n",
        "SELECT UF, SUM(Ocorrencias) AS Total_Ocorrencias_por_estado\n",
        "FROM df_2\n",
        "GROUP BY UF\n",
        "ORDER BY UF ASC\n",
        "'''\n",
        ").show()"
      ],
      "execution_count": 126,
      "outputs": [
        {
          "output_type": "stream",
          "name": "stdout",
          "text": [
            "+-------------------+----------------------------+\n",
            "|                 UF|Total_Ocorrencias_por_estado|\n",
            "+-------------------+----------------------------+\n",
            "|               Acre|                       10569|\n",
            "|            Alagoas|                       36240|\n",
            "|              Amapá|                        9594|\n",
            "|           Amazonas|                       42023|\n",
            "|              Bahia|                      159173|\n",
            "|              Ceará|                      109815|\n",
            "|   Distrito Federal|                       60852|\n",
            "|     Espírito Santo|                       71950|\n",
            "|              Goiás|                      124737|\n",
            "|           Maranhão|                       59384|\n",
            "|        Mato Grosso|                       46055|\n",
            "| Mato Grosso do Sul|                       38831|\n",
            "|       Minas Gerais|                      216193|\n",
            "|             Paraná|                      182637|\n",
            "|            Paraíba|                       23523|\n",
            "|               Pará|                       94224|\n",
            "|         Pernambuco|                      161713|\n",
            "|              Piauí|                       45802|\n",
            "|Rio Grande do Norte|                       50289|\n",
            "|  Rio Grande do Sul|                      208516|\n",
            "+-------------------+----------------------------+\n",
            "only showing top 20 rows\n",
            "\n"
          ]
        }
      ]
    },
    {
      "cell_type": "markdown",
      "metadata": {
        "id": "nqygmYawA829"
      },
      "source": [
        "Soma da qtd. de vitimas por tipo de crime e sexo"
      ]
    },
    {
      "cell_type": "code",
      "metadata": {
        "id": "sPZ0J5KFA8jG",
        "colab": {
          "base_uri": "https://localhost:8080/"
        },
        "outputId": "41029a21-c792-479c-9afb-47fcc06dfd18"
      },
      "source": [
        "spark.sql(\n",
        "  \n",
        "'''\n",
        "SELECT TipoCrime, SexoVitima, SUM(Vitimas) AS SomaVitimas\n",
        "FROM df_3\n",
        "GROUP BY TipoCrime,SexoVitima\n",
        "ORDER BY TipoCrime\n",
        "'''\n",
        "\n",
        ").show(10, truncate=False)"
      ],
      "execution_count": 127,
      "outputs": [
        {
          "output_type": "stream",
          "name": "stdout",
          "text": [
            "+-----------------------------------+----------+-----------+\n",
            "|TipoCrime                          |SexoVitima|SomaVitimas|\n",
            "+-----------------------------------+----------+-----------+\n",
            "|Homicídio doloso                   |Masculino |228612     |\n",
            "|Homicídio doloso                   |Sexo NI   |8624       |\n",
            "|Homicídio doloso                   |Feminino  |20834      |\n",
            "|Lesão corporal seguida de morte    |Sexo NI   |305        |\n",
            "|Lesão corporal seguida de morte    |Feminino  |527        |\n",
            "|Lesão corporal seguida de morte    |Masculino |3663       |\n",
            "|Roubo seguido de morte (latrocínio)|Masculino |8786       |\n",
            "|Roubo seguido de morte (latrocínio)|Sexo NI   |457        |\n",
            "|Roubo seguido de morte (latrocínio)|Feminino  |1056       |\n",
            "+-----------------------------------+----------+-----------+\n",
            "\n"
          ]
        }
      ]
    },
    {
      "cell_type": "markdown",
      "metadata": {
        "id": "avQjG_BMlgDi"
      },
      "source": [
        "Comparando a quantidade de ocorrencias com taxa de analfabetismo"
      ]
    },
    {
      "cell_type": "code",
      "metadata": {
        "colab": {
          "base_uri": "https://localhost:8080/"
        },
        "id": "1ukqbnDWldsm",
        "outputId": "cc87188a-60d9-4977-c81c-8090f170a5bf"
      },
      "source": [
        "spark.sql(\n",
        "'''\n",
        "SELECT  df_4.UF AS Estado, \n",
        "        df_4.TipoCrime AS TipoCrime, \n",
        "        df_4.Ocorrencias AS Ocorrencias, \n",
        "        df_5.TaxaAnalfabetismo2019 AS Anafalbetismo\n",
        "FROM df_4 \n",
        "INNER JOIN df_5 \n",
        "ON (df_4.UF = df_5.UF)\n",
        "WHERE df_4.Ano = 2019\n",
        "'''\n",
        ").show(truncate=False)"
      ],
      "execution_count": 165,
      "outputs": [
        {
          "output_type": "stream",
          "name": "stdout",
          "text": [
            "+----------------+-----------------------------------+-----------+-------------+\n",
            "|Estado          |TipoCrime                          |Ocorrencias|Anafalbetismo|\n",
            "+----------------+-----------------------------------+-----------+-------------+\n",
            "|Acre            |Homicídio doloso                   |292        |11.7         |\n",
            "|Acre            |Lesão corporal seguida de morte    |2          |11.7         |\n",
            "|Acre            |Roubo seguido de morte (latrocínio)|14         |11.7         |\n",
            "|Alagoas         |Homicídio doloso                   |1028       |17.1         |\n",
            "|Alagoas         |Lesão corporal seguida de morte    |6          |17.1         |\n",
            "|Alagoas         |Roubo seguido de morte (latrocínio)|17         |17.1         |\n",
            "|Amapá           |Homicídio doloso                   |232        |5.5          |\n",
            "|Amapá           |Lesão corporal seguida de morte    |23         |5.5          |\n",
            "|Amapá           |Roubo seguido de morte (latrocínio)|15         |5.5          |\n",
            "|Amazonas        |Homicídio doloso                   |984        |5.4          |\n",
            "|Amazonas        |Lesão corporal seguida de morte    |23         |5.4          |\n",
            "|Amazonas        |Roubo seguido de morte (latrocínio)|46         |5.4          |\n",
            "|Bahia           |Homicídio doloso                   |4751       |12.9         |\n",
            "|Bahia           |Lesão corporal seguida de morte    |74         |12.9         |\n",
            "|Bahia           |Roubo seguido de morte (latrocínio)|139        |12.9         |\n",
            "|Ceará           |Homicídio doloso                   |2087       |13.6         |\n",
            "|Ceará           |Lesão corporal seguida de morte    |30         |13.6         |\n",
            "|Ceará           |Roubo seguido de morte (latrocínio)|36         |13.6         |\n",
            "|Distrito Federal|Homicídio doloso                   |372        |2.7          |\n",
            "|Distrito Federal|Lesão corporal seguida de morte    |4          |2.7          |\n",
            "+----------------+-----------------------------------+-----------+-------------+\n",
            "only showing top 20 rows\n",
            "\n"
          ]
        }
      ]
    },
    {
      "cell_type": "code",
      "metadata": {
        "colab": {
          "base_uri": "https://localhost:8080/"
        },
        "id": "XE_ky9FGQ31q",
        "outputId": "351cd0ee-2d68-4d4f-d718-cdca52dca939"
      },
      "source": [
        "spark.sql(\n",
        "    '''\n",
        "    SELECT *\n",
        "    FROM df_6\n",
        "    LIMIT 10\n",
        "    '''\n",
        ").show()"
      ],
      "execution_count": 166,
      "outputs": [
        {
          "output_type": "stream",
          "name": "stdout",
          "text": [
            "+----------+----------------+----------------+------------+\n",
            "|Unnamed: 0|              UF|sum(Ocorrencias)|sum(Vitimas)|\n",
            "+----------+----------------+----------------+------------+\n",
            "|         0|            Acre|           10569|        1731|\n",
            "|         1|         Alagoas|           36240|        7800|\n",
            "|         2|           Amapá|            9594|        1662|\n",
            "|         3|        Amazonas|           42023|        6342|\n",
            "|         4|           Bahia|          159173|       32769|\n",
            "|         5|           Ceará|          109815|       20942|\n",
            "|         6|Distrito Federal|           60852|        2797|\n",
            "|         7|  Espírito Santo|           71950|        6613|\n",
            "|         8|           Goiás|          124737|       11286|\n",
            "|         9|        Maranhão|           59384|       10281|\n",
            "+----------+----------------+----------------+------------+\n",
            "\n"
          ]
        }
      ]
    }
  ]
}