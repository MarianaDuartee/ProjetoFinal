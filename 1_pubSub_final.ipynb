{
  "nbformat": 4,
  "nbformat_minor": 0,
  "metadata": {
    "colab": {
      "name": "1_pubSub_final.ipynb",
      "provenance": [],
      "collapsed_sections": [],
      "include_colab_link": true
    },
    "kernelspec": {
      "display_name": "Python 3",
      "name": "python3"
    },
    "language_info": {
      "name": "python"
    }
  },
  "cells": [
    {
      "cell_type": "markdown",
      "metadata": {
        "id": "view-in-github",
        "colab_type": "text"
      },
      "source": [
        "<a href=\"https://colab.research.google.com/github/MarianaDuartee/ProjetoFinal/blob/main/1_pubSub_final.ipynb\" target=\"_parent\"><img src=\"https://colab.research.google.com/assets/colab-badge.svg\" alt=\"Open In Colab\"/></a>"
      ]
    },
    {
      "cell_type": "code",
      "metadata": {
        "id": "r2yUfbpxHmMR"
      },
      "source": [
        "!pip install google-cloud-pubsub\n",
        "!pip install fsspec\n",
        "!pip install gcsfs\n",
        "!pip install apache_beam[gcp]\n",
        "!pip install google-cloud-bigquery"
      ],
      "execution_count": null,
      "outputs": []
    },
    {
      "cell_type": "code",
      "metadata": {
        "id": "FEGAPAFZP8TJ"
      },
      "source": [
        "import csv\n",
        "import time\n",
        "import os\n",
        "\n",
        "import fsspec\n",
        "import gcsfs\n",
        "import pandas as pd\n",
        "\n",
        "import apache_beam as beam\n",
        "from apache_beam import window\n",
        "from apache_beam.options.pipeline_options import PipelineOptions\n",
        "from apache_beam import coders\n",
        "\n",
        "from google.cloud import pubsub_v1\n",
        "from google.cloud import storage\n",
        "from google.cloud import bigquery\n",
        "\n",
        "# Configurando conta de serviço\n",
        "service_account_key = r\"/content/soulcode-projeto-final-4b88bea6e07a.json\"\n",
        "os.environ[\"GOOGLE_APPLICATION_CREDENTIALS\"] = service_account_key"
      ],
      "execution_count": null,
      "outputs": []
    },
    {
      "cell_type": "markdown",
      "metadata": {
        "id": "H7GsFGaVR9D_"
      },
      "source": [
        "Produtor"
      ]
    },
    {
      "cell_type": "code",
      "metadata": {
        "id": "52f8-cY-IeaR"
      },
      "source": [
        "# Setando o tópico de entrada (ingestão)\n",
        "topico = 'projects/soulcode-projeto-final/topics/ingestor_dados'\n",
        "publisher = pubsub_v1.PublisherClient()\n",
        "\n",
        "entrada = r\"/content/2_temp_temp_pandas_total_pop_ano_uf.csv\"\n",
        "\n",
        "# Visualizando entrada dos dados\n",
        "with open(entrada, 'rb') as file:\n",
        "    for row in file:\n",
        "        print('Publicando no topico: ', topico)\n",
        "        publisher.publish(topico,row)\n",
        "        time.sleep(2)"
      ],
      "execution_count": null,
      "outputs": []
    },
    {
      "cell_type": "markdown",
      "metadata": {
        "id": "H8vIScqvR-8w"
      },
      "source": [
        "Consumidor"
      ]
    },
    {
      "cell_type": "code",
      "metadata": {
        "id": "WfZBtyqySAzq"
      },
      "source": [
        "# Função de ACK (Aceite)\n",
        "def monstrar_msg(mensagem):\n",
        "  print(('Mensagem: {}'.format(mensagem)))\n",
        "  mensagem.ack()\n",
        "\n",
        "# Setando a subscrição de saída\n",
        "subscription = 'projects/soulcode-projeto-final/subscriptions/consumidor_dados_violencia'\n",
        "subscriber = pubsub_v1.SubscriberClient()\n",
        "\n",
        "subscriber.subscribe(subscription,callback=monstrar_msg)\n",
        "\n",
        "while True:\n",
        "  time.sleep(2)"
      ],
      "execution_count": null,
      "outputs": []
    },
    {
      "cell_type": "markdown",
      "metadata": {
        "id": "wtc489LRXH0j"
      },
      "source": [
        "Template Stream"
      ]
    },
    {
      "cell_type": "code",
      "metadata": {
        "id": "W5dfP6BR36BD",
        "colab": {
          "base_uri": "https://localhost:8080/"
        },
        "outputId": "e73dfea1-98a8-4c74-c15d-5c1aa0d2e548"
      },
      "source": [
        "# Definindo a Pipeline\n",
        "pipeline_options = {\n",
        "    'project': 'soulcode-projeto-final' ,\n",
        "    'runner': 'DataflowRunner',\n",
        "    'region': 'southamerica-east1',\n",
        "    'staging_location': 'gs://data_lake_ingest_data/temp',\n",
        "    'temp_location': 'gs://data_lake_ingest_data/temp',\n",
        "    'template_location': 'gs://data_lake_ingest_data/template/data_streaming',\n",
        "    'save_main_session': True ,\n",
        "    'streaming' : True }\n",
        "\n",
        "pipeline_options = PipelineOptions.from_dictionary(pipeline_options)\n",
        "p1 = beam.Pipeline(options=pipeline_options)\n",
        "p1 = beam.Pipeline()\n",
        "\n",
        "path = 'gs://data_lake_ingest_data/1_input/Taxa_analfabetismo.csv'\n",
        "\n",
        "esquema = {str:'Unidade de Federação', \n",
        "           str:'Grupo de idade', \n",
        "           float:'2016', \n",
        "           float:'2017', \n",
        "           float:'2018', \n",
        "           float:'2019'}\n",
        "\n",
        "# realizando a leitura e tratativa dos dados (se necessário)\n",
        "mkt = (\n",
        "    p1\n",
        "    |\"Extrair os dados\" >> beam.io.ReadFromText(path, skip_header_lines=0, coder=coders.StrUtf8Coder())\n",
        "    |\"Window\" >> beam.WindowInto(window.SlidingWindows(10,5))\n",
        "    |'Separador' >> beam.Map(lambda record: record.split(','))\n",
        "    |\"Saida de dados\" >> beam.FlatMap(print)\n",
        "    |\"Gravar resultado\" >> beam.io.WriteToBigQuery(table='Teste_Beam_Apache',\n",
        "                                                   dataset='Teste',\n",
        "                                                   project='soulcode-projeto-final',\n",
        "                                                   schema=esquema,\n",
        "                                                   custom_gcs_temp_location='gs://data_lake_ingest_data/temp',\n",
        "                                                   create_disposition=bigquery.CreateDisposition.CREATE_IF_NEEDED,\n",
        "                                                   write_disposition=bigquery.WriteDisposition.WRITE_APPEND)\n",
        ")\n",
        "\n",
        "p1.run().wait_until_finish"
      ],
      "execution_count": 49,
      "outputs": [
        {
          "output_type": "stream",
          "name": "stderr",
          "text": [
            "/usr/local/lib/python3.7/dist-packages/apache_beam/io/gcp/bigquery.py:2103: BeamDeprecationWarning: options is deprecated since First stable release. References to <pipeline>.options will not be supported\n",
            "  is_streaming_pipeline = p.options.view_as(StandardOptions).streaming\n",
            "/usr/local/lib/python3.7/dist-packages/apache_beam/io/gcp/bigquery_file_loads.py:1112: BeamDeprecationWarning: options is deprecated since First stable release. References to <pipeline>.options will not be supported\n",
            "  temp_location = p.options.view_as(GoogleCloudOptions).temp_location\n",
            "WARNING:root:Make sure that locally built Python SDK docker image has Python 3.7 interpreter.\n"
          ]
        },
        {
          "output_type": "stream",
          "name": "stdout",
          "text": [
            "['\\ufeff\"Unidade da Federação\"', '\"Grupo de idade\"', '\"2016\"', '\"2017\"', '\"2018\"', '\"2019\"']\n",
            "['\"Rondônia\"', '\"15 anos ou mais\"', '\"6.6\"', '\"7.2\"', '\"6.5\"', '\"6.4\"']\n",
            "['\"Acre\"', '\"15 anos ou mais\"', '\"13.1\"', '\"12.1\"', '\"12.1\"', '\"11.7\"']\n",
            "['\"Amazonas\"', '\"15 anos ou mais\"', '\"6.9\"', '\"6.1\"', '\"5.8\"', '\"5.4\"']\n",
            "['\"Roraima\"', '\"15 anos ou mais\"', '\"6.6\"', '\"6.0\"', '\"6.0\"', '\"5.0\"']\n",
            "['\"Pará\"', '\"15 anos ou mais\"', '\"9.2\"', '\"8.6\"', '\"8.8\"', '\"8.4\"']\n",
            "['\"Amapá\"', '\"15 anos ou mais\"', '\"5.0\"', '\"5.0\"', '\"6.1\"', '\"5.5\"']\n",
            "['\"Tocantins\"', '\"15 anos ou mais\"', '\"10.4\"', '\"10.2\"', '\"10.0\"', '\"9.7\"']\n",
            "['\"Maranhão\"', '\"15 anos ou mais\"', '\"16.7\"', '\"16.8\"', '\"16.3\"', '\"15.6\"']\n",
            "['\"Piauí\"', '\"15 anos ou mais\"', '\"17.2\"', '\"16.6\"', '\"16.6\"', '\"16.0\"']\n",
            "['\"Ceará\"', '\"15 anos ou mais\"', '\"15.2\"', '\"14.2\"', '\"13.3\"', '\"13.6\"']\n",
            "['\"Rio Grande do Norte\"', '\"15 anos ou mais\"', '\"14.7\"', '\"13.5\"', '\"12.9\"', '\"13.4\"']\n",
            "['\"Paraíba\"', '\"15 anos ou mais\"', '\"16.3\"', '\"16.6\"', '\"16.1\"', '\"16.1\"']\n",
            "['\"Pernambuco\"', '\"15 anos ou mais\"', '\"12.8\"', '\"13.4\"', '\"11.9\"', '\"11.9\"']\n",
            "['\"Alagoas\"', '\"15 anos ou mais\"', '\"19.4\"', '\"18.3\"', '\"17.2\"', '\"17.1\"']\n",
            "['\"Sergipe\"', '\"15 anos ou mais\"', '\"14.7\"', '\"14.5\"', '\"13.9\"', '\"13.5\"']\n",
            "['\"Bahia\"', '\"15 anos ou mais\"', '\"13.0\"', '\"12.7\"', '\"12.7\"', '\"12.9\"']\n",
            "['\"Minas Gerais\"', '\"15 anos ou mais\"', '\"6.2\"', '\"6.0\"', '\"5.8\"', '\"5.5\"']\n",
            "['\"Espírito Santo\"', '\"15 anos ou mais\"', '\"6.2\"', '\"5.5\"', '\"5.5\"', '\"5.3\"']\n",
            "['\"Rio de Janeiro\"', '\"15 anos ou mais\"', '\"2.7\"', '\"2.5\"', '\"2.4\"', '\"2.1\"']\n",
            "['\"São Paulo\"', '\"15 anos ou mais\"', '\"2.8\"', '\"2.6\"', '\"2.6\"', '\"2.6\"']\n",
            "['\"Paraná\"', '\"15 anos ou mais\"', '\"4.5\"', '\"4.6\"', '\"5.0\"', '\"4.6\"']\n",
            "['\"Santa Catarina\"', '\"15 anos ou mais\"', '\"2.8\"', '\"2.6\"', '\"2.5\"', '\"2.3\"']\n",
            "['\"Rio Grande do Sul\"', '\"15 anos ou mais\"', '\"3.2\"', '\"3.0\"', '\"3.0\"', '\"2.6\"']\n",
            "['\"Mato Grosso do Sul\"', '\"15 anos ou mais\"', '\"6.3\"', '\"5.0\"', '\"5.0\"', '\"5.1\"']\n",
            "['\"Mato Grosso\"', '\"15 anos ou mais\"', '\"6.5\"', '\"6.5\"', '\"7.1\"', '\"6.2\"']\n",
            "['\"Goiás\"', '\"15 anos ou mais\"', '\"6.5\"', '\"5.9\"', '\"5.7\"', '\"5.1\"']\n",
            "['\"Distrito Federal\"', '\"15 anos ou mais\"', '\"2.6\"', '\"2.5\"', '\"3.1\"', '\"2.7\"']\n",
            "['']\n",
            "['']\n"
          ]
        },
        {
          "output_type": "execute_result",
          "data": {
            "text/plain": [
              "<bound method RunnerResult.wait_until_finish of <apache_beam.runners.portability.fn_api_runner.fn_runner.RunnerResult object at 0x7f1029a5e850>>"
            ]
          },
          "metadata": {},
          "execution_count": 49
        }
      ]
    },
    {
      "cell_type": "code",
      "metadata": {
        "id": "w82P1OAcXA68"
      },
      "source": [
        "pipeline_options = {\n",
        "    'project': 'soulcode-projeto-final' ,\n",
        "    'runner': 'DataflowRunner',\n",
        "    'region': 'southamerica-east1',\n",
        "    'staging_location': 'gs://data_lake_ingest_data/temporario',\n",
        "    'temp_location': 'gs://data_lake_ingest_data/temporario',\n",
        "    'template_location': 'gs://data_lake_ingest_data/template/data_streaming',\n",
        "    'save_main_session': True ,\n",
        "    'streaming' : True }\n",
        "\n",
        "pipeline_options = PipelineOptions.from_dictionary(pipeline_options)\n",
        "\n",
        "p1 = beam.Pipeline(options=pipeline_options)\n",
        "\n",
        "subscription = 'projects/soulcode-projeto-final/subscriptions/consumidor_dados_violencia'\n",
        "saida = 'projects/soulcode-projeto-final/topics/ingestor_dados_saida'\n",
        "\n",
        "class separar_linhas(beam.DoFn):\n",
        "  def process(self,record):\n",
        "    return [record.decode(\"utf-8\").split(',')]\n",
        "\n",
        "#class filtro(beam.DoFn):\n",
        " # def process(self,record):\n",
        "  #  if int(record[8]) > 0:\n",
        "   #   return [record]\n",
        "\n",
        "data = (\n",
        "    p1\n",
        "    |'Extrair os dados' >> beam.io.ReadFromText('/content/2_temp_temp_pandas_total_pop_ano_uf.csv', skip_header_lines=0)\n",
        "    |'Separador' >> beam.Map(lambda record: record.split(','))\n",
        "    | \"Window\" >> beam.WindowInto(window.SlidingWindows(10,5))\n",
        "    #|'Saida de dados' >> beam.Map(print)\n",
        "    \"Escrever no Tópico\" >> beam.io.WriteToPubSub(saida)\n",
        "    #|'Gravar resultado' >> beam.io.WriteToText('resultado.txt')\n",
        ")\n",
        "\n",
        "result = p1.run()\n",
        "result.wait_until_finish()"
      ],
      "execution_count": null,
      "outputs": []
    }
  ]
}