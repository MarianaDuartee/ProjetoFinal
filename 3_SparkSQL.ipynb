{
  "nbformat": 4,
  "nbformat_minor": 0,
  "metadata": {
    "colab": {
      "name": "3 - SparkSQL",
      "provenance": [],
      "collapsed_sections": [
        "sLNQ6L-pipfz",
        "gVf0cgZmq1Fh",
        "A1_gZQqNnv_x",
        "-Kz2TqlxoZNL"
      ],
      "include_colab_link": true
    },
    "kernelspec": {
      "name": "python3",
      "display_name": "Python 3"
    },
    "language_info": {
      "name": "python"
    }
  },
  "cells": [
    {
      "cell_type": "markdown",
      "metadata": {
        "id": "view-in-github",
        "colab_type": "text"
      },
      "source": [
        "<a href=\"https://colab.research.google.com/github/MarianaDuartee/ProjetoFinal/blob/main/3_SparkSQL.ipynb\" target=\"_parent\"><img src=\"https://colab.research.google.com/assets/colab-badge.svg\" alt=\"Open In Colab\"/></a>"
      ]
    },
    {
      "cell_type": "markdown",
      "metadata": {
        "id": "sLNQ6L-pipfz"
      },
      "source": [
        "##Instalando  dependencias"
      ]
    },
    {
      "cell_type": "code",
      "metadata": {
        "id": "HEe7035PZshu",
        "colab": {
          "base_uri": "https://localhost:8080/"
        },
        "outputId": "605c16f3-c83c-4690-e66a-d0383de7e32d"
      },
      "source": [
        "!pip install pyspark\n",
        "!pip install gcsfs\n",
        "!pip install pandas\n"
      ],
      "execution_count": 1,
      "outputs": [
        {
          "output_type": "stream",
          "name": "stdout",
          "text": [
            "Collecting pyspark\n",
            "  Downloading pyspark-3.2.0.tar.gz (281.3 MB)\n",
            "\u001b[K     |████████████████████████████████| 281.3 MB 39 kB/s \n",
            "\u001b[?25hCollecting py4j==0.10.9.2\n",
            "  Downloading py4j-0.10.9.2-py2.py3-none-any.whl (198 kB)\n",
            "\u001b[K     |████████████████████████████████| 198 kB 41.5 MB/s \n",
            "\u001b[?25hBuilding wheels for collected packages: pyspark\n",
            "  Building wheel for pyspark (setup.py) ... \u001b[?25l\u001b[?25hdone\n",
            "  Created wheel for pyspark: filename=pyspark-3.2.0-py2.py3-none-any.whl size=281805912 sha256=40cfb3e4a0c1022d16f132d542ff487c5609e3a58315123c5a7fa0d27ccdd6f4\n",
            "  Stored in directory: /root/.cache/pip/wheels/0b/de/d2/9be5d59d7331c6c2a7c1b6d1a4f463ce107332b1ecd4e80718\n",
            "Successfully built pyspark\n",
            "Installing collected packages: py4j, pyspark\n",
            "Successfully installed py4j-0.10.9.2 pyspark-3.2.0\n",
            "Collecting gcsfs\n",
            "  Downloading gcsfs-2021.11.1-py2.py3-none-any.whl (24 kB)\n",
            "Requirement already satisfied: google-auth>=1.2 in /usr/local/lib/python3.7/dist-packages (from gcsfs) (1.35.0)\n",
            "Requirement already satisfied: google-auth-oauthlib in /usr/local/lib/python3.7/dist-packages (from gcsfs) (0.4.6)\n",
            "Collecting aiohttp<4\n",
            "  Downloading aiohttp-3.8.1-cp37-cp37m-manylinux_2_5_x86_64.manylinux1_x86_64.manylinux_2_12_x86_64.manylinux2010_x86_64.whl (1.1 MB)\n",
            "\u001b[K     |████████████████████████████████| 1.1 MB 6.5 MB/s \n",
            "\u001b[?25hCollecting fsspec==2021.11.1\n",
            "  Downloading fsspec-2021.11.1-py3-none-any.whl (132 kB)\n",
            "\u001b[K     |████████████████████████████████| 132 kB 58.0 MB/s \n",
            "\u001b[?25hRequirement already satisfied: google-cloud-storage in /usr/local/lib/python3.7/dist-packages (from gcsfs) (1.18.1)\n",
            "Requirement already satisfied: decorator>4.1.2 in /usr/local/lib/python3.7/dist-packages (from gcsfs) (4.4.2)\n",
            "Requirement already satisfied: requests in /usr/local/lib/python3.7/dist-packages (from gcsfs) (2.23.0)\n",
            "Collecting asynctest==0.13.0\n",
            "  Downloading asynctest-0.13.0-py3-none-any.whl (26 kB)\n",
            "Collecting multidict<7.0,>=4.5\n",
            "  Downloading multidict-5.2.0-cp37-cp37m-manylinux_2_5_x86_64.manylinux1_x86_64.manylinux_2_12_x86_64.manylinux2010_x86_64.whl (160 kB)\n",
            "\u001b[K     |████████████████████████████████| 160 kB 52.5 MB/s \n",
            "\u001b[?25hRequirement already satisfied: typing-extensions>=3.7.4 in /usr/local/lib/python3.7/dist-packages (from aiohttp<4->gcsfs) (3.10.0.2)\n",
            "Requirement already satisfied: attrs>=17.3.0 in /usr/local/lib/python3.7/dist-packages (from aiohttp<4->gcsfs) (21.2.0)\n",
            "Collecting aiosignal>=1.1.2\n",
            "  Downloading aiosignal-1.2.0-py3-none-any.whl (8.2 kB)\n",
            "Collecting frozenlist>=1.1.1\n",
            "  Downloading frozenlist-1.2.0-cp37-cp37m-manylinux_2_5_x86_64.manylinux1_x86_64.manylinux_2_12_x86_64.manylinux2010_x86_64.whl (192 kB)\n",
            "\u001b[K     |████████████████████████████████| 192 kB 38.3 MB/s \n",
            "\u001b[?25hCollecting yarl<2.0,>=1.0\n",
            "  Downloading yarl-1.7.2-cp37-cp37m-manylinux_2_5_x86_64.manylinux1_x86_64.manylinux_2_12_x86_64.manylinux2010_x86_64.whl (271 kB)\n",
            "\u001b[K     |████████████████████████████████| 271 kB 57.2 MB/s \n",
            "\u001b[?25hRequirement already satisfied: charset-normalizer<3.0,>=2.0 in /usr/local/lib/python3.7/dist-packages (from aiohttp<4->gcsfs) (2.0.7)\n",
            "Collecting async-timeout<5.0,>=4.0.0a3\n",
            "  Downloading async_timeout-4.0.1-py3-none-any.whl (5.7 kB)\n",
            "Requirement already satisfied: six>=1.9.0 in /usr/local/lib/python3.7/dist-packages (from google-auth>=1.2->gcsfs) (1.15.0)\n",
            "Requirement already satisfied: pyasn1-modules>=0.2.1 in /usr/local/lib/python3.7/dist-packages (from google-auth>=1.2->gcsfs) (0.2.8)\n",
            "Requirement already satisfied: setuptools>=40.3.0 in /usr/local/lib/python3.7/dist-packages (from google-auth>=1.2->gcsfs) (57.4.0)\n",
            "Requirement already satisfied: cachetools<5.0,>=2.0.0 in /usr/local/lib/python3.7/dist-packages (from google-auth>=1.2->gcsfs) (4.2.4)\n",
            "Requirement already satisfied: rsa<5,>=3.1.4 in /usr/local/lib/python3.7/dist-packages (from google-auth>=1.2->gcsfs) (4.7.2)\n",
            "Requirement already satisfied: pyasn1<0.5.0,>=0.4.6 in /usr/local/lib/python3.7/dist-packages (from pyasn1-modules>=0.2.1->google-auth>=1.2->gcsfs) (0.4.8)\n",
            "Requirement already satisfied: idna>=2.0 in /usr/local/lib/python3.7/dist-packages (from yarl<2.0,>=1.0->aiohttp<4->gcsfs) (2.10)\n",
            "Requirement already satisfied: requests-oauthlib>=0.7.0 in /usr/local/lib/python3.7/dist-packages (from google-auth-oauthlib->gcsfs) (1.3.0)\n",
            "Requirement already satisfied: oauthlib>=3.0.0 in /usr/local/lib/python3.7/dist-packages (from requests-oauthlib>=0.7.0->google-auth-oauthlib->gcsfs) (3.1.1)\n",
            "Requirement already satisfied: certifi>=2017.4.17 in /usr/local/lib/python3.7/dist-packages (from requests->gcsfs) (2021.10.8)\n",
            "Requirement already satisfied: chardet<4,>=3.0.2 in /usr/local/lib/python3.7/dist-packages (from requests->gcsfs) (3.0.4)\n",
            "Requirement already satisfied: urllib3!=1.25.0,!=1.25.1,<1.26,>=1.21.1 in /usr/local/lib/python3.7/dist-packages (from requests->gcsfs) (1.24.3)\n",
            "Requirement already satisfied: google-resumable-media<0.5.0dev,>=0.3.1 in /usr/local/lib/python3.7/dist-packages (from google-cloud-storage->gcsfs) (0.4.1)\n",
            "Requirement already satisfied: google-cloud-core<2.0dev,>=1.0.0 in /usr/local/lib/python3.7/dist-packages (from google-cloud-storage->gcsfs) (1.0.3)\n",
            "Requirement already satisfied: google-api-core<2.0.0dev,>=1.14.0 in /usr/local/lib/python3.7/dist-packages (from google-cloud-core<2.0dev,>=1.0.0->google-cloud-storage->gcsfs) (1.26.3)\n",
            "Requirement already satisfied: packaging>=14.3 in /usr/local/lib/python3.7/dist-packages (from google-api-core<2.0.0dev,>=1.14.0->google-cloud-core<2.0dev,>=1.0.0->google-cloud-storage->gcsfs) (21.3)\n",
            "Requirement already satisfied: protobuf>=3.12.0 in /usr/local/lib/python3.7/dist-packages (from google-api-core<2.0.0dev,>=1.14.0->google-cloud-core<2.0dev,>=1.0.0->google-cloud-storage->gcsfs) (3.17.3)\n",
            "Requirement already satisfied: pytz in /usr/local/lib/python3.7/dist-packages (from google-api-core<2.0.0dev,>=1.14.0->google-cloud-core<2.0dev,>=1.0.0->google-cloud-storage->gcsfs) (2018.9)\n",
            "Requirement already satisfied: googleapis-common-protos<2.0dev,>=1.6.0 in /usr/local/lib/python3.7/dist-packages (from google-api-core<2.0.0dev,>=1.14.0->google-cloud-core<2.0dev,>=1.0.0->google-cloud-storage->gcsfs) (1.53.0)\n",
            "Requirement already satisfied: pyparsing!=3.0.5,>=2.0.2 in /usr/local/lib/python3.7/dist-packages (from packaging>=14.3->google-api-core<2.0.0dev,>=1.14.0->google-cloud-core<2.0dev,>=1.0.0->google-cloud-storage->gcsfs) (3.0.6)\n",
            "Installing collected packages: multidict, frozenlist, yarl, asynctest, async-timeout, aiosignal, fsspec, aiohttp, gcsfs\n",
            "Successfully installed aiohttp-3.8.1 aiosignal-1.2.0 async-timeout-4.0.1 asynctest-0.13.0 frozenlist-1.2.0 fsspec-2021.11.1 gcsfs-2021.11.1 multidict-5.2.0 yarl-1.7.2\n",
            "Requirement already satisfied: pandas in /usr/local/lib/python3.7/dist-packages (1.1.5)\n",
            "Requirement already satisfied: numpy>=1.15.4 in /usr/local/lib/python3.7/dist-packages (from pandas) (1.19.5)\n",
            "Requirement already satisfied: python-dateutil>=2.7.3 in /usr/local/lib/python3.7/dist-packages (from pandas) (2.8.2)\n",
            "Requirement already satisfied: pytz>=2017.2 in /usr/local/lib/python3.7/dist-packages (from pandas) (2018.9)\n",
            "Requirement already satisfied: six>=1.5 in /usr/local/lib/python3.7/dist-packages (from python-dateutil>=2.7.3->pandas) (1.15.0)\n"
          ]
        }
      ]
    },
    {
      "cell_type": "markdown",
      "metadata": {
        "id": "gVf0cgZmq1Fh"
      },
      "source": [
        "##Importando dataframes, bibliotecas e abrindo Sparksession"
      ]
    },
    {
      "cell_type": "code",
      "metadata": {
        "id": "X16h-urOnkKs"
      },
      "source": [
        "from pyspark.sql import SparkSession\n",
        "from pyspark import SQLContext\n",
        "from google.cloud import storage\n",
        "from pyspark.sql.types import *\n",
        "from pyspark.sql.types import DateType\n",
        "\n",
        "import pyspark\n",
        "import pyspark.sql.functions as F\n",
        "import os\n",
        "import gcsfs\n",
        "import pandas as pd"
      ],
      "execution_count": 2,
      "outputs": []
    },
    {
      "cell_type": "markdown",
      "metadata": {
        "id": "A1_gZQqNnv_x"
      },
      "source": [
        "##Criando uma conexão Spark e configurando chave de serviço\n",
        "\n"
      ]
    },
    {
      "cell_type": "code",
      "metadata": {
        "id": "CqwU082-i67b"
      },
      "source": [
        "spark = SparkSession.builder\\\n",
        ".master('local')\\\n",
        ".appName('Projeto_Final')\\\n",
        ".config('spark.ui.enable', 'true')\\\n",
        ".config('spark.ui.port', '4050')\\\n",
        ".getOrCreate()\n",
        "\n",
        "spark\n",
        "\n",
        "serviceaccount = '/content/soulcode-projeto-final-4b88bea6e07a.json'\n",
        "os.environ[\"GOOGLE_APPLICATION_CREDENTIALS\"] = serviceaccount"
      ],
      "execution_count": 6,
      "outputs": []
    },
    {
      "cell_type": "markdown",
      "metadata": {
        "id": "-Kz2TqlxoZNL"
      },
      "source": [
        "## Dataframes exportados do PySpark"
      ]
    },
    {
      "cell_type": "code",
      "metadata": {
        "colab": {
          "base_uri": "https://localhost:8080/"
        },
        "id": "IXaGg3JL8X3b",
        "outputId": "6de3312d-bf40-4132-ffb5-cdf5fd56db14"
      },
      "source": [
        "# Lista de Dataframes\n",
        "file_path = ['',\n",
        "             'gs://data_lake_ingest_data/2_temp/temp_pandas_despesas_normalizado.csv', # df_1\n",
        "             'gs://data_lake_ingest_data/2_temp/temp_pandas_ocorrencias_normalizado.json', # df_2\n",
        "             'gs://data_lake_ingest_data/2_temp/temp_pandas_vitimas_normalizado.json', # df_3\n",
        "             'gs://data_lake_ingest_data/2_temp/temp_pandas_ocorrencia_vitimas_porAnoEstado.csv', # df_4\n",
        "             'gs://data_lake_ingest_data/2_temp/temp_pandas_taxa_analfabetismo_normalizado.csv', # df_5\n",
        "             'gs://data_lake_ingest_data/2_temp/temp_pyspark_agg_1_General_Data.csv', # df_6\n",
        "             'gs://data_lake_ingest_data/2_temp/temp_pyspark_agg_2_Freq_Escolar_Taxa_Analfa.csv', # df_7\n",
        "             'gs://data_lake_ingest_data/2_temp/temp_pyspark_agg_3_general_data_2020.csv', # df_8\n",
        "             'gs://data_lake_ingest_data/2_temp/temp_pyspark_agg_4_freq_escolar_normalizada.csv', # df_9\n",
        "             'gs://data_lake_ingest_data/2_temp/temp_pyspark_tabela_frequencia_escolar_normalizado.csv'] # df_10\n",
        "\n",
        "# Lendo dataframes dinâmicamente usando Python, Pandas e SQL\n",
        "for i in range(len(file_path)):\n",
        "\n",
        "    fs = gcsfs.GCSFileSystem(project='soulcode-projeto-final', token=serviceaccount)\n",
        "\n",
        "    if i > 0 and i < 12:\n",
        "        if \".csv\" in file_path[i]: # Lendo csv\n",
        "            with fs.open(file_path[i]):\n",
        "                data = pd.read_csv(file_path[i], sep=',', encoding='UTF-8', header=0)\n",
        "\n",
        "            # Criando visualização temporária SparkSQL\n",
        "            spark.createDataFrame(data).createOrReplaceTempView('df_'+str(i))\n",
        "        \n",
        "        elif \".json\" in file_path[i]: # Lendo json\n",
        "            with fs.open(file_path[i]): \n",
        "                data = pd.read_json(file_path[i], encoding='UTF-8')\n",
        "\n",
        "            # Criando visualização temporária SparkSQL\n",
        "            spark.createDataFrame(data).createOrReplaceTempView('df_'+str(i))\n",
        "\n",
        "        elif \".xlsx\" in file_path[i]: # Lendo xlsx\n",
        "            with fs.open(file_path[i]): \n",
        "                data = pd.read_excel(file_path[i])\n",
        "\n",
        "            # Criando visualização temporária SparkSQL\n",
        "            spark.createDataFrame(data).createOrReplaceTempView('df_'+str(i))\n",
        "\n",
        "    else:\n",
        "        continue\n",
        "\n",
        "# Verificando tipos de dados vindos do PySpark\n",
        "spark.sql(''' DESCRIBE df_1 ''').show()\n",
        "spark.sql(''' DESCRIBE df_2 ''').show()\n",
        "spark.sql(''' DESCRIBE df_3 ''').show()\n",
        "\n",
        "# Visualizando tabelas\n",
        "spark.sql('''\n",
        "        SELECT *\n",
        "        FROM df_1\n",
        "        LIMIT 10\n",
        "        '''    \n",
        "        ).show()\n",
        "\n",
        "spark.sql('''\n",
        "        SELECT *\n",
        "        FROM df_2\n",
        "        LIMIT 10\n",
        "        '''    \n",
        "        ).show()\n",
        "\n",
        "spark.sql('''\n",
        "        SELECT *\n",
        "        FROM df_3\n",
        "        LIMIT 10\n",
        "        '''    \n",
        "        ).show()\n",
        "\n",
        "spark.sql('''\n",
        "        SELECT *\n",
        "        FROM df_5\n",
        "        LIMIT 10\n",
        "        '''    \n",
        "        ).show()\n",
        "\n",
        "spark.sql('''\n",
        "        SELECT *\n",
        "        FROM df_6\n",
        "        LIMIT 10\n",
        "        '''    \n",
        "        ).show()\n",
        "\n",
        "spark.sql('''\n",
        "        SELECT *\n",
        "        FROM df_7\n",
        "        LIMIT 10\n",
        "        '''    \n",
        "        ).show()"
      ],
      "execution_count": 31,
      "outputs": [
        {
          "output_type": "stream",
          "name": "stdout",
          "text": [
            "+------------------+---------+-------+\n",
            "|          col_name|data_type|comment|\n",
            "+------------------+---------+-------+\n",
            "|                UF|   string|   null|\n",
            "|      Despesas2016|   double|   null|\n",
            "|      Despesas2017|   double|   null|\n",
            "|      Despesas2018|   double|   null|\n",
            "|      Despesas2019|   double|   null|\n",
            "|      Despesas2020|   double|   null|\n",
            "|         Variacao%|   double|   null|\n",
            "|Previsao2021|Media|   double|   null|\n",
            "+------------------+---------+-------+\n",
            "\n",
            "+-----------+---------+-------+\n",
            "|   col_name|data_type|comment|\n",
            "+-----------+---------+-------+\n",
            "|         UF|   string|   null|\n",
            "|  TipoCrime|   string|   null|\n",
            "|        Ano|   bigint|   null|\n",
            "|        Mes|   string|   null|\n",
            "|Ocorrencias|   bigint|   null|\n",
            "+-----------+---------+-------+\n",
            "\n",
            "+----------+---------+-------+\n",
            "|  col_name|data_type|comment|\n",
            "+----------+---------+-------+\n",
            "|        UF|   string|   null|\n",
            "| TipoCrime|   string|   null|\n",
            "|       Ano|   bigint|   null|\n",
            "|       Mes|   string|   null|\n",
            "|SexoVitima|   string|   null|\n",
            "|   Vitimas|   bigint|   null|\n",
            "+----------+---------+-------+\n",
            "\n",
            "+---------+---------------+---------------+---------------+---------------+---------------+---------+--------------------+\n",
            "|       UF|   Despesas2016|   Despesas2017|   Despesas2018|   Despesas2019|   Despesas2020|Variacao%|  Previsao2021|Media|\n",
            "+---------+---------------+---------------+---------------+---------------+---------------+---------+--------------------+\n",
            "|     Acre| 4.9853469586E8| 5.6836139244E8|  6.273508495E8| 6.9257020034E8| 4.9375329505E8|      8.5| 5.761140866380001E8|\n",
            "|    Amapá| 4.7532329175E8| 5.0022689486E8| 4.8922797864E8| 6.0636632529E8| 7.5225249884E8|     52.3| 5.646793978759999E8|\n",
            "| Amazonas|1.60473221563E9|1.57895665667E9|1.86266890656E9|2.10845995454E9|2.10144665649E9|     60.4|    1.851252877978E9|\n",
            "|     Pará|2.55174076992E9|2.57991598234E9|2.90320019444E9|2.94344753592E9|2.96655339806E9|     58.0|2.7889715761359997E9|\n",
            "| Rondônia| 8.7487402427E8| 8.9586766443E8| 9.0325385747E8| 8.5397099952E8| 9.9904393587E8|    -14.7| 9.054020963119999E8|\n",
            "|  Roraima| 4.0893419687E8| 4.4012392317E8| 4.0544580472E8| 2.8819794222E8| 3.9117839882E8|     65.8|      3.8677605316E8|\n",
            "|Tocantins| 8.3988238046E8| 8.9865165969E8| 9.3962672371E8|1.11919008567E9|1.05972641165E9|     24.6|     9.71415452236E8|\n",
            "|  Alagoas| 1.1966407622E9|1.24451957097E9|1.25122876611E9|1.15915881929E9| 1.3549862711E9|     17.1|    1.241306837934E9|\n",
            "|    Bahia|4.76059110341E9|4.56907640713E9|4.60102722773E9|4.68240335577E9|4.32166332723E9|      3.9| 4.586952284254001E9|\n",
            "|    Ceará|2.18831524988E9|2.40023478733E9| 2.7633394225E9|2.84235979374E9|3.04558266899E9|     95.0|    2.647966384488E9|\n",
            "+---------+---------------+---------------+---------------+---------------+---------------+---------+--------------------+\n",
            "\n",
            "+----+--------------------+----+---------+-----------+\n",
            "|  UF|           TipoCrime| Ano|      Mes|Ocorrencias|\n",
            "+----+--------------------+----+---------+-----------+\n",
            "|Acre|             Estupro|2021|  janeiro|         39|\n",
            "|Acre|    Furto de veículo|2021|  janeiro|         55|\n",
            "|Acre|    Homicídio doloso|2021|  janeiro|         14|\n",
            "|Acre|Lesão corporal se...|2021|  janeiro|          0|\n",
            "|Acre|Roubo a instituiç...|2021|  janeiro|          0|\n",
            "|Acre|      Roubo de carga|2021|  janeiro|          0|\n",
            "|Acre|    Roubo de veículo|2021|  janeiro|         99|\n",
            "|Acre|Roubo seguido de ...|2021|  janeiro|          1|\n",
            "|Acre|Tentativa de homi...|2021|  janeiro|         10|\n",
            "|Acre|             Estupro|2021|fevereiro|         23|\n",
            "+----+--------------------+----+---------+-----------+\n",
            "\n",
            "+----+----------------+----+---------+----------+-------+\n",
            "|  UF|       TipoCrime| Ano|      Mes|SexoVitima|Vitimas|\n",
            "+----+----------------+----+---------+----------+-------+\n",
            "|Acre|Homicídio doloso|2021|  janeiro|  Feminino|      1|\n",
            "|Acre|Homicídio doloso|2021|  janeiro| Masculino|     13|\n",
            "|Acre|Homicídio doloso|2021|  janeiro|   Sexo NI|      0|\n",
            "|Acre|Homicídio doloso|2021|fevereiro|  Feminino|      4|\n",
            "|Acre|Homicídio doloso|2021|fevereiro| Masculino|     12|\n",
            "|Acre|Homicídio doloso|2021|fevereiro|   Sexo NI|      0|\n",
            "|Acre|Homicídio doloso|2021|    março|  Feminino|      2|\n",
            "|Acre|Homicídio doloso|2021|    março| Masculino|     24|\n",
            "|Acre|Homicídio doloso|2021|    março|   Sexo NI|      0|\n",
            "|Acre|Homicídio doloso|2021|    abril|  Feminino|      2|\n",
            "+----+----------------+----+---------+----------+-------+\n",
            "\n",
            "+---------+---------------+---------------------+---------------------+---------------------+---------------------+\n",
            "|       UF|    Grupo_idade|TaxaAnalfabetismo2016|TaxaAnalfabetismo2017|TaxaAnalfabetismo2018|TaxaAnalfabetismo2019|\n",
            "+---------+---------------+---------------------+---------------------+---------------------+---------------------+\n",
            "| Rondônia|15 anos ou mais|                  6.6|                  7.2|                  6.5|                  6.4|\n",
            "|     Acre|15 anos ou mais|                 13.1|                 12.1|                 12.1|                 11.7|\n",
            "| Amazonas|15 anos ou mais|                  6.9|                  6.1|                  5.8|                  5.4|\n",
            "|  Roraima|15 anos ou mais|                  6.6|                  6.0|                  6.0|                  5.0|\n",
            "|     Pará|15 anos ou mais|                  9.2|                  8.6|                  8.8|                  8.4|\n",
            "|    Amapá|15 anos ou mais|                  5.0|                  5.0|                  6.1|                  5.5|\n",
            "|Tocantins|15 anos ou mais|                 10.4|                 10.2|                 10.0|                  9.7|\n",
            "| Maranhão|15 anos ou mais|                 16.7|                 16.8|                 16.3|                 15.6|\n",
            "|    Piauí|15 anos ou mais|                 17.2|                 16.6|                 16.6|                 16.0|\n",
            "|    Ceará|15 anos ou mais|                 15.2|                 14.2|                 13.3|                 13.6|\n",
            "+---------+---------------+---------------------+---------------------+---------------------+---------------------+\n",
            "\n",
            "+----------+----------------+----------------+------------+\n",
            "|Unnamed: 0|              UF|sum(Ocorrencias)|sum(Vitimas)|\n",
            "+----------+----------------+----------------+------------+\n",
            "|         0|            Acre|           10569|        1731|\n",
            "|         1|         Alagoas|           36240|        7800|\n",
            "|         2|           Amapá|            9594|        1662|\n",
            "|         3|        Amazonas|           42023|        6342|\n",
            "|         4|           Bahia|          159173|       32769|\n",
            "|         5|           Ceará|          109815|       20942|\n",
            "|         6|Distrito Federal|           60852|        2797|\n",
            "|         7|  Espírito Santo|           71950|        6613|\n",
            "|         8|           Goiás|          124737|       11286|\n",
            "|         9|        Maranhão|           59384|       10281|\n",
            "+----------+----------------+----------------+------------+\n",
            "\n",
            "+----------+----------------+-----------------------+-----------------------+--------------------------+---------------------+---------------------+---------------------+---------------------+\n",
            "|Unnamed: 0|              UF|Media_Freq_15_a_17_anos|Media_Freq_18_a_24_anos|Media_Freq_25_anos_ou_mais|TaxaAnalfabetismo2016|TaxaAnalfabetismo2017|TaxaAnalfabetismo2018|TaxaAnalfabetismo2019|\n",
            "+----------+----------------+-----------------------+-----------------------+--------------------------+---------------------+---------------------+---------------------+---------------------+\n",
            "|         0|            Acre|                   86 %|                   39 %|                       9 %|                 13 %|                 12 %|                 12 %|                 11 %|\n",
            "|         1|         Alagoas|                   85 %|                   35 %|                       4 %|                 19 %|                 18 %|                 17 %|                 17 %|\n",
            "|         2|           Amapá|                   88 %|                   42 %|                       7 %|                  5 %|                  5 %|                  6 %|                  5 %|\n",
            "|         3|        Amazonas|                   90 %|                   39 %|                       7 %|                  6 %|                  6 %|                  5 %|                  5 %|\n",
            "|         4|           Bahia|                   90 %|                   43 %|                       7 %|                 13 %|                 12 %|                 12 %|                 12 %|\n",
            "|         5|           Ceará|                   88 %|                   33 %|                       5 %|                 15 %|                 14 %|                 13 %|                 13 %|\n",
            "|         6|Distrito Federal|                   91 %|                   44 %|                       6 %|                  2 %|                  2 %|                  3 %|                  2 %|\n",
            "|         7|  Espírito Santo|                   92 %|                   47 %|                       6 %|                  6 %|                  5 %|                  5 %|                  5 %|\n",
            "|         8|           Goiás|                   87 %|                   39 %|                       5 %|                  6 %|                  5 %|                  5 %|                  5 %|\n",
            "|         9|        Maranhão|                   87 %|                   35 %|                       6 %|                 16 %|                 16 %|                 16 %|                 15 %|\n",
            "+----------+----------------+-----------------------+-----------------------+--------------------------+---------------------+---------------------+---------------------+---------------------+\n",
            "\n"
          ]
        }
      ]
    },
    {
      "cell_type": "markdown",
      "metadata": {
        "id": "BZCGZwUaCnmU"
      },
      "source": [
        "Separar as planilhas e alterar o arquivo da planilha 6. Acrescentar planilha 7"
      ]
    },
    {
      "cell_type": "markdown",
      "metadata": {
        "id": "OlxgusTt7wh7"
      },
      "source": [
        "##Realizando algumas analises no SparkSQL"
      ]
    },
    {
      "cell_type": "markdown",
      "metadata": {
        "id": "axlQ6L4f6kWu"
      },
      "source": [
        "Total de ocorrencias criminais por Estado (nos anos de 2016 a 2021) Está correto 2021??? De quando foi essa analise?"
      ]
    },
    {
      "cell_type": "code",
      "metadata": {
        "id": "7rxo5m-qR4bj",
        "colab": {
          "base_uri": "https://localhost:8080/"
        },
        "outputId": "54638e46-f0fe-4da3-c97e-751b4e6f4d77"
      },
      "source": [
        "spark.sql(\n",
        "'''\n",
        "SELECT UF, SUM(Ocorrencias) AS Total_Ocorrencias_por_estado\n",
        "FROM df_2\n",
        "GROUP BY UF\n",
        "ORDER BY UF ASC\n",
        "'''\n",
        ").show()\n"
      ],
      "execution_count": 32,
      "outputs": [
        {
          "output_type": "stream",
          "name": "stdout",
          "text": [
            "+-------------------+----------------------------+\n",
            "|                 UF|Total_Ocorrencias_por_estado|\n",
            "+-------------------+----------------------------+\n",
            "|               Acre|                       10569|\n",
            "|            Alagoas|                       36240|\n",
            "|              Amapá|                        9594|\n",
            "|           Amazonas|                       42023|\n",
            "|              Bahia|                      159173|\n",
            "|              Ceará|                      109815|\n",
            "|   Distrito Federal|                       60852|\n",
            "|     Espírito Santo|                       71950|\n",
            "|              Goiás|                      124737|\n",
            "|           Maranhão|                       59384|\n",
            "|        Mato Grosso|                       46055|\n",
            "| Mato Grosso do Sul|                       38831|\n",
            "|       Minas Gerais|                      216193|\n",
            "|             Paraná|                      182637|\n",
            "|            Paraíba|                       23523|\n",
            "|               Pará|                       94224|\n",
            "|         Pernambuco|                      161713|\n",
            "|              Piauí|                       45802|\n",
            "|Rio Grande do Norte|                       50289|\n",
            "|  Rio Grande do Sul|                      208516|\n",
            "+-------------------+----------------------------+\n",
            "only showing top 20 rows\n",
            "\n"
          ]
        }
      ]
    },
    {
      "cell_type": "markdown",
      "metadata": {
        "id": "t1ZWzcfo3TXP"
      },
      "source": [
        "Quantidade de vitimas do sexo feminino por tipo de crime"
      ]
    },
    {
      "cell_type": "code",
      "metadata": {
        "colab": {
          "base_uri": "https://localhost:8080/"
        },
        "id": "IfxY9irC3vaK",
        "outputId": "7354c0fa-9346-42ef-9834-63749eecec96"
      },
      "source": [
        "spark.sql(\n",
        "  \n",
        "'''\n",
        "SELECT TipoCrime,\n",
        "COUNT (Vitimas) AS Feminino\n",
        "FROM df_3\n",
        "WHERE SexoVitima = 'Feminino'\n",
        "GROUP BY TipoCrime\n",
        "'''\n",
        "\n",
        ").show()"
      ],
      "execution_count": 33,
      "outputs": [
        {
          "output_type": "stream",
          "name": "stdout",
          "text": [
            "+--------------------+--------+\n",
            "|           TipoCrime|Feminino|\n",
            "+--------------------+--------+\n",
            "|Roubo seguido de ...|    1380|\n",
            "|    Homicídio doloso|    1715|\n",
            "|Lesão corporal se...|    1300|\n",
            "+--------------------+--------+\n",
            "\n"
          ]
        }
      ]
    },
    {
      "cell_type": "markdown",
      "metadata": {
        "id": "DJ-SelFiW8md"
      },
      "source": [
        "Quantidade de vitimas do sexo maculino por tipo de crime"
      ]
    },
    {
      "cell_type": "code",
      "metadata": {
        "id": "E8wX0QR8W-78",
        "colab": {
          "base_uri": "https://localhost:8080/"
        },
        "outputId": "d675f2f9-12d0-41ef-ae6e-f885296eba3b"
      },
      "source": [
        "spark.sql(\n",
        "  \n",
        "'''\n",
        "SELECT TipoCrime, \n",
        "COUNT (Vitimas) AS Masculino\n",
        "FROM df_3\n",
        "WHERE SexoVitima = 'Masculino'\n",
        "GROUP BY TipoCrime\n",
        "'''\n",
        "\n",
        ").show()"
      ],
      "execution_count": 34,
      "outputs": [
        {
          "output_type": "stream",
          "name": "stdout",
          "text": [
            "+--------------------+---------+\n",
            "|           TipoCrime|Masculino|\n",
            "+--------------------+---------+\n",
            "|Roubo seguido de ...|     1640|\n",
            "|    Homicídio doloso|     1746|\n",
            "|Lesão corporal se...|     1513|\n",
            "+--------------------+---------+\n",
            "\n"
          ]
        }
      ]
    },
    {
      "cell_type": "markdown",
      "metadata": {
        "id": "B3YIsDrxJU4q"
      },
      "source": [
        "Somando a quantidade de vitimas por sexo e tipo de crime\n"
      ]
    },
    {
      "cell_type": "code",
      "metadata": {
        "colab": {
          "base_uri": "https://localhost:8080/"
        },
        "id": "V70fmKlmZ6yj",
        "outputId": "3a47849b-9380-4f7b-fff6-7663aec51cbb"
      },
      "source": [
        "spark.sql(\n",
        "  \n",
        "'''\n",
        "SELECT TipoCrime, SexoVitima, SUM(Vitimas) AS SomaVitimas\n",
        "FROM df_3\n",
        "GROUP BY TipoCrime,SexoVitima\n",
        "ORDER BY TipoCrime\n",
        "'''\n",
        "\n",
        ").show(10)"
      ],
      "execution_count": 35,
      "outputs": [
        {
          "output_type": "stream",
          "name": "stdout",
          "text": [
            "+--------------------+----------+-----------+\n",
            "|           TipoCrime|SexoVitima|SomaVitimas|\n",
            "+--------------------+----------+-----------+\n",
            "|    Homicídio doloso| Masculino|     228612|\n",
            "|    Homicídio doloso|   Sexo NI|       8624|\n",
            "|    Homicídio doloso|  Feminino|      20834|\n",
            "|Lesão corporal se...|   Sexo NI|        305|\n",
            "|Lesão corporal se...|  Feminino|        527|\n",
            "|Lesão corporal se...| Masculino|       3663|\n",
            "|Roubo seguido de ...| Masculino|       8786|\n",
            "|Roubo seguido de ...|   Sexo NI|        457|\n",
            "|Roubo seguido de ...|  Feminino|       1056|\n",
            "+--------------------+----------+-----------+\n",
            "\n"
          ]
        }
      ]
    },
    {
      "cell_type": "markdown",
      "metadata": {
        "id": "yP8hvnOXJEA_"
      },
      "source": [
        "\n",
        "\n",
        "Comparando a quantidade de ocorrencias com taxa de analfabetismo\n",
        "\n",
        "\n"
      ]
    },
    {
      "cell_type": "code",
      "metadata": {
        "id": "FogfxZWikL-l",
        "colab": {
          "base_uri": "https://localhost:8080/"
        },
        "outputId": "aa4c89c3-8f4a-4be9-826c-a7fd242a9dbf"
      },
      "source": [
        "spark.sql(\n",
        "'''\n",
        "SELECT  df_4.UF AS Estado, \n",
        "        df_4.TipoCrime AS TipoCrime, \n",
        "        df_4.Ocorrencias AS Ocorrencias, \n",
        "        df_5.TaxaAnalfabetismo2019 AS Anafalbetismo\n",
        "FROM df_4\n",
        "INNER JOIN df_5\n",
        "ON (df_4.UF = df_5.UF)\n",
        "WHERE df_4.Ano = 2019\n",
        "'''\n",
        ").show(truncate=False)"
      ],
      "execution_count": 36,
      "outputs": [
        {
          "output_type": "stream",
          "name": "stdout",
          "text": [
            "+----------------+-----------------------------------+-----------+-------------+\n",
            "|Estado          |TipoCrime                          |Ocorrencias|Anafalbetismo|\n",
            "+----------------+-----------------------------------+-----------+-------------+\n",
            "|Acre            |Homicídio doloso                   |292        |11.7         |\n",
            "|Acre            |Lesão corporal seguida de morte    |2          |11.7         |\n",
            "|Acre            |Roubo seguido de morte (latrocínio)|14         |11.7         |\n",
            "|Alagoas         |Homicídio doloso                   |1028       |17.1         |\n",
            "|Alagoas         |Lesão corporal seguida de morte    |6          |17.1         |\n",
            "|Alagoas         |Roubo seguido de morte (latrocínio)|17         |17.1         |\n",
            "|Amapá           |Homicídio doloso                   |232        |5.5          |\n",
            "|Amapá           |Lesão corporal seguida de morte    |23         |5.5          |\n",
            "|Amapá           |Roubo seguido de morte (latrocínio)|15         |5.5          |\n",
            "|Amazonas        |Homicídio doloso                   |984        |5.4          |\n",
            "|Amazonas        |Lesão corporal seguida de morte    |23         |5.4          |\n",
            "|Amazonas        |Roubo seguido de morte (latrocínio)|46         |5.4          |\n",
            "|Bahia           |Homicídio doloso                   |4751       |12.9         |\n",
            "|Bahia           |Lesão corporal seguida de morte    |74         |12.9         |\n",
            "|Bahia           |Roubo seguido de morte (latrocínio)|139        |12.9         |\n",
            "|Ceará           |Homicídio doloso                   |2087       |13.6         |\n",
            "|Ceará           |Lesão corporal seguida de morte    |30         |13.6         |\n",
            "|Ceará           |Roubo seguido de morte (latrocínio)|36         |13.6         |\n",
            "|Distrito Federal|Homicídio doloso                   |372        |2.7          |\n",
            "|Distrito Federal|Lesão corporal seguida de morte    |4          |2.7          |\n",
            "+----------------+-----------------------------------+-----------+-------------+\n",
            "only showing top 20 rows\n",
            "\n"
          ]
        }
      ]
    },
    {
      "cell_type": "markdown",
      "metadata": {
        "id": "awarcaKnMtOt"
      },
      "source": [
        "Comparando a quantidade de ocorrencias de 2019 com frequencia escolar com idade acima de 20 anos\n"
      ]
    },
    {
      "cell_type": "code",
      "metadata": {
        "id": "KW5B29lP18HV",
        "colab": {
          "base_uri": "https://localhost:8080/"
        },
        "outputId": "6e6324f7-206d-49c5-c149-ba6a986727f5"
      },
      "source": [
        "spark.sql(\n",
        "'''\n",
        "SELECT  df_4.UF AS Estado, \n",
        "        df_4.TipoCrime AS TipoCrime, \n",
        "        df_4.Ocorrencias AS Ocorrencias, \n",
        "        df_10.Media_Freq_25_anos_ou_mais AS Freq_2016a2019\n",
        "FROM df_4\n",
        "INNER JOIN df_10\n",
        "ON (df_4.UF = df_10.UF)\n",
        "WHERE df_4.Ano = 2019\n",
        "'''\n",
        ").show()"
      ],
      "execution_count": 37,
      "outputs": [
        {
          "output_type": "stream",
          "name": "stdout",
          "text": [
            "+----------------+--------------------+-----------+--------------+\n",
            "|          Estado|           TipoCrime|Ocorrencias|Freq_2016a2019|\n",
            "+----------------+--------------------+-----------+--------------+\n",
            "|            Acre|    Homicídio doloso|        292|           9 %|\n",
            "|            Acre|Lesão corporal se...|          2|           9 %|\n",
            "|            Acre|Roubo seguido de ...|         14|           9 %|\n",
            "|         Alagoas|    Homicídio doloso|       1028|           4 %|\n",
            "|         Alagoas|Lesão corporal se...|          6|           4 %|\n",
            "|         Alagoas|Roubo seguido de ...|         17|           4 %|\n",
            "|           Amapá|    Homicídio doloso|        232|           7 %|\n",
            "|           Amapá|Lesão corporal se...|         23|           7 %|\n",
            "|           Amapá|Roubo seguido de ...|         15|           7 %|\n",
            "|        Amazonas|    Homicídio doloso|        984|           7 %|\n",
            "|        Amazonas|Lesão corporal se...|         23|           7 %|\n",
            "|        Amazonas|Roubo seguido de ...|         46|           7 %|\n",
            "|           Bahia|    Homicídio doloso|       4751|           7 %|\n",
            "|           Bahia|Lesão corporal se...|         74|           7 %|\n",
            "|           Bahia|Roubo seguido de ...|        139|           7 %|\n",
            "|           Ceará|    Homicídio doloso|       2087|           5 %|\n",
            "|           Ceará|Lesão corporal se...|         30|           5 %|\n",
            "|           Ceará|Roubo seguido de ...|         36|           5 %|\n",
            "|Distrito Federal|    Homicídio doloso|        372|           6 %|\n",
            "|Distrito Federal|Lesão corporal se...|          4|           6 %|\n",
            "+----------------+--------------------+-----------+--------------+\n",
            "only showing top 20 rows\n",
            "\n"
          ]
        }
      ]
    },
    {
      "cell_type": "markdown",
      "metadata": {
        "id": "j30nNWArONib"
      },
      "source": [
        "Comparando o numero de ocorrencias com valor investido para segurança publica no ano de 2019"
      ]
    },
    {
      "cell_type": "code",
      "metadata": {
        "colab": {
          "base_uri": "https://localhost:8080/"
        },
        "id": "AfsXSuvAOS8e",
        "outputId": "50cb47f2-f638-4ebe-da76-3f9ac5324a60"
      },
      "source": [
        "spark.sql(\n",
        "'''\n",
        "SELECT  df_4.UF AS Estado, \n",
        "        df_4.TipoCrime AS TipoCrime, \n",
        "        df_4.Ocorrencias AS Ocorrencias, \n",
        "        df_1.Despesas2019 AS Investimento\n",
        "FROM df_1 \n",
        "INNER JOIN df_4\n",
        "ON (df_4.UF = df_1.UF)\n",
        "WHERE df_4.Ano = 2019\n",
        "'''\n",
        ").show(10)"
      ],
      "execution_count": 38,
      "outputs": [
        {
          "output_type": "stream",
          "name": "stdout",
          "text": [
            "+--------+--------------------+-----------+---------------+\n",
            "|  Estado|           TipoCrime|Ocorrencias|   Investimento|\n",
            "+--------+--------------------+-----------+---------------+\n",
            "|    Acre|    Homicídio doloso|        292| 6.9257020034E8|\n",
            "|    Acre|Lesão corporal se...|          2| 6.9257020034E8|\n",
            "|    Acre|Roubo seguido de ...|         14| 6.9257020034E8|\n",
            "| Alagoas|    Homicídio doloso|       1028|1.15915881929E9|\n",
            "| Alagoas|Lesão corporal se...|          6|1.15915881929E9|\n",
            "| Alagoas|Roubo seguido de ...|         17|1.15915881929E9|\n",
            "|   Amapá|    Homicídio doloso|        232| 6.0636632529E8|\n",
            "|   Amapá|Lesão corporal se...|         23| 6.0636632529E8|\n",
            "|   Amapá|Roubo seguido de ...|         15| 6.0636632529E8|\n",
            "|Amazonas|    Homicídio doloso|        984|2.10845995454E9|\n",
            "+--------+--------------------+-----------+---------------+\n",
            "only showing top 10 rows\n",
            "\n"
          ]
        }
      ]
    },
    {
      "cell_type": "markdown",
      "metadata": {
        "id": "zKeXLGwAdyXM"
      },
      "source": [
        "Ranking a taxa de anafalbetismo por estado"
      ]
    },
    {
      "cell_type": "code",
      "metadata": {
        "colab": {
          "base_uri": "https://localhost:8080/"
        },
        "id": "8K6PQ065TK8Q",
        "outputId": "cd8c1d5e-16cd-4770-89fa-becd9f287609"
      },
      "source": [
        "spark.sql(\n",
        "'''\n",
        "SELECT UF, TaxaAnalfabetismo2019,\n",
        "RANK() OVER (ORDER BY TaxaAnalfabetismo2019 DESC) AS Rank\n",
        "FROM df_7\n",
        "'''\n",
        ").show(27)\n"
      ],
      "execution_count": 39,
      "outputs": [
        {
          "output_type": "stream",
          "name": "stdout",
          "text": [
            "+-------------------+---------------------+----+\n",
            "|                 UF|TaxaAnalfabetismo2019|Rank|\n",
            "+-------------------+---------------------+----+\n",
            "|          Tocantins|                  9 %|   1|\n",
            "|               Pará|                  8 %|   2|\n",
            "|        Mato Grosso|                  6 %|   3|\n",
            "|           Rondônia|                  6 %|   3|\n",
            "|              Amapá|                  5 %|   5|\n",
            "|           Amazonas|                  5 %|   5|\n",
            "|     Espírito Santo|                  5 %|   5|\n",
            "|              Goiás|                  5 %|   5|\n",
            "| Mato Grosso do Sul|                  5 %|   5|\n",
            "|       Minas Gerais|                  5 %|   5|\n",
            "|            Roraima|                  5 %|   5|\n",
            "|             Paraná|                  4 %|  12|\n",
            "|   Distrito Federal|                  2 %|  13|\n",
            "|  Rio Grande do Sul|                  2 %|  13|\n",
            "|     Rio de Janeiro|                  2 %|  13|\n",
            "|     Santa Catarina|                  2 %|  13|\n",
            "|          São Paulo|                  2 %|  13|\n",
            "|            Alagoas|                 17 %|  18|\n",
            "|            Paraíba|                 16 %|  19|\n",
            "|              Piauí|                 16 %|  19|\n",
            "|           Maranhão|                 15 %|  21|\n",
            "|              Ceará|                 13 %|  22|\n",
            "|Rio Grande do Norte|                 13 %|  22|\n",
            "|            Sergipe|                 13 %|  22|\n",
            "|              Bahia|                 12 %|  25|\n",
            "|               Acre|                 11 %|  26|\n",
            "|         Pernambuco|                 11 %|  26|\n",
            "+-------------------+---------------------+----+\n",
            "\n"
          ]
        }
      ]
    }
  ]
}