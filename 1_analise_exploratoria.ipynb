{
  "nbformat": 4,
  "nbformat_minor": 0,
  "metadata": {
    "colab": {
      "name": "1_analise_exploratoria.ipynb",
      "provenance": [],
      "collapsed_sections": [],
      "authorship_tag": "ABX9TyNZw2gmKOWmYQiuF8ln8mF+",
      "include_colab_link": true
    },
    "kernelspec": {
      "name": "python3",
      "display_name": "Python 3"
    },
    "language_info": {
      "name": "python"
    }
  },
  "cells": [
    {
      "cell_type": "markdown",
      "metadata": {
        "id": "view-in-github",
        "colab_type": "text"
      },
      "source": [
        "<a href=\"https://colab.research.google.com/github/MarianaDuartee/ProjetoFinal/blob/main/1_analise_exploratoria.ipynb\" target=\"_parent\"><img src=\"https://colab.research.google.com/assets/colab-badge.svg\" alt=\"Open In Colab\"/></a>"
      ]
    },
    {
      "cell_type": "code",
      "metadata": {
        "id": "xa4Ug5MpmHgG"
      },
      "source": [
        "pip install fsspec"
      ],
      "execution_count": null,
      "outputs": []
    },
    {
      "cell_type": "code",
      "metadata": {
        "id": "HK-G3ULimMKK"
      },
      "source": [
        "pip install gcsfs"
      ],
      "execution_count": null,
      "outputs": []
    },
    {
      "cell_type": "code",
      "metadata": {
        "id": "DF9kYJitY4nU"
      },
      "source": [
        "import pandas as pd\n",
        "import os"
      ],
      "execution_count": 3,
      "outputs": []
    },
    {
      "cell_type": "code",
      "metadata": {
        "id": "D0rrcAVg7Njf",
        "colab": {
          "base_uri": "https://localhost:8080/",
          "height": 1000
        },
        "outputId": "5c29282e-79f9-4fcc-937c-ee035d846456"
      },
      "source": [
        "\n",
        "from google.cloud import storage\n",
        "serviceaccount = '/content/soulcode-projeto-final-4b88bea6e07a.json'\n",
        "os.environ[\"GOOGLE_APPLICATION_CREDENTIALS\"] = serviceaccount\n",
        "\n",
        "df = pd.read_csv('gs://data_lake_ingest_data/2_temp/Ocorrencias_Vitimas_Frequencia',sep=',')\n",
        "df"
      ],
      "execution_count": null,
      "outputs": [
        {
          "output_type": "execute_result",
          "data": {
            "text/html": [
              "<div>\n",
              "<style scoped>\n",
              "    .dataframe tbody tr th:only-of-type {\n",
              "        vertical-align: middle;\n",
              "    }\n",
              "\n",
              "    .dataframe tbody tr th {\n",
              "        vertical-align: top;\n",
              "    }\n",
              "\n",
              "    .dataframe thead th {\n",
              "        text-align: right;\n",
              "    }\n",
              "</style>\n",
              "<table border=\"1\" class=\"dataframe\">\n",
              "  <thead>\n",
              "    <tr style=\"text-align: right;\">\n",
              "      <th></th>\n",
              "      <th>UF</th>\n",
              "      <th>TotalOcorrencias</th>\n",
              "      <th>TotalVitimas</th>\n",
              "      <th>Media_Freq_15_a_17_anos</th>\n",
              "      <th>Media_Freq_18_a_24_anos</th>\n",
              "      <th>Media_Freq_25_anos_ou_mais</th>\n",
              "    </tr>\n",
              "  </thead>\n",
              "  <tbody>\n",
              "    <tr>\n",
              "      <th>0</th>\n",
              "      <td>Acre</td>\n",
              "      <td>308</td>\n",
              "      <td>313</td>\n",
              "      <td>0.86</td>\n",
              "      <td>0.39</td>\n",
              "      <td>0.09</td>\n",
              "    </tr>\n",
              "    <tr>\n",
              "      <th>1</th>\n",
              "      <td>Alagoas</td>\n",
              "      <td>1051</td>\n",
              "      <td>1094</td>\n",
              "      <td>0.85</td>\n",
              "      <td>0.35</td>\n",
              "      <td>0.04</td>\n",
              "    </tr>\n",
              "    <tr>\n",
              "      <th>2</th>\n",
              "      <td>Amapá</td>\n",
              "      <td>270</td>\n",
              "      <td>273</td>\n",
              "      <td>0.88</td>\n",
              "      <td>0.42</td>\n",
              "      <td>0.07</td>\n",
              "    </tr>\n",
              "    <tr>\n",
              "      <th>3</th>\n",
              "      <td>Amazonas</td>\n",
              "      <td>1053</td>\n",
              "      <td>1064</td>\n",
              "      <td>0.90</td>\n",
              "      <td>0.39</td>\n",
              "      <td>0.07</td>\n",
              "    </tr>\n",
              "    <tr>\n",
              "      <th>4</th>\n",
              "      <td>Bahia</td>\n",
              "      <td>4964</td>\n",
              "      <td>5219</td>\n",
              "      <td>0.90</td>\n",
              "      <td>0.43</td>\n",
              "      <td>0.07</td>\n",
              "    </tr>\n",
              "    <tr>\n",
              "      <th>5</th>\n",
              "      <td>Ceará</td>\n",
              "      <td>2153</td>\n",
              "      <td>2257</td>\n",
              "      <td>0.88</td>\n",
              "      <td>0.33</td>\n",
              "      <td>0.05</td>\n",
              "    </tr>\n",
              "    <tr>\n",
              "      <th>6</th>\n",
              "      <td>Distrito Federal</td>\n",
              "      <td>400</td>\n",
              "      <td>410</td>\n",
              "      <td>0.91</td>\n",
              "      <td>0.44</td>\n",
              "      <td>0.06</td>\n",
              "    </tr>\n",
              "    <tr>\n",
              "      <th>7</th>\n",
              "      <td>Espírito Santo</td>\n",
              "      <td>974</td>\n",
              "      <td>1023</td>\n",
              "      <td>0.92</td>\n",
              "      <td>0.47</td>\n",
              "      <td>0.06</td>\n",
              "    </tr>\n",
              "    <tr>\n",
              "      <th>8</th>\n",
              "      <td>Goiás</td>\n",
              "      <td>1699</td>\n",
              "      <td>1756</td>\n",
              "      <td>0.87</td>\n",
              "      <td>0.39</td>\n",
              "      <td>0.05</td>\n",
              "    </tr>\n",
              "    <tr>\n",
              "      <th>9</th>\n",
              "      <td>Maranhão</td>\n",
              "      <td>1485</td>\n",
              "      <td>1483</td>\n",
              "      <td>0.87</td>\n",
              "      <td>0.35</td>\n",
              "      <td>0.06</td>\n",
              "    </tr>\n",
              "    <tr>\n",
              "      <th>10</th>\n",
              "      <td>Mato Grosso</td>\n",
              "      <td>834</td>\n",
              "      <td>865</td>\n",
              "      <td>0.90</td>\n",
              "      <td>0.39</td>\n",
              "      <td>0.07</td>\n",
              "    </tr>\n",
              "    <tr>\n",
              "      <th>11</th>\n",
              "      <td>Mato Grosso do Sul</td>\n",
              "      <td>432</td>\n",
              "      <td>493</td>\n",
              "      <td>0.90</td>\n",
              "      <td>0.39</td>\n",
              "      <td>0.06</td>\n",
              "    </tr>\n",
              "    <tr>\n",
              "      <th>12</th>\n",
              "      <td>Minas Gerais</td>\n",
              "      <td>2756</td>\n",
              "      <td>2833</td>\n",
              "      <td>0.92</td>\n",
              "      <td>0.37</td>\n",
              "      <td>0.06</td>\n",
              "    </tr>\n",
              "    <tr>\n",
              "      <th>13</th>\n",
              "      <td>Paraná</td>\n",
              "      <td>1815</td>\n",
              "      <td>1931</td>\n",
              "      <td>0.87</td>\n",
              "      <td>0.41</td>\n",
              "      <td>0.05</td>\n",
              "    </tr>\n",
              "    <tr>\n",
              "      <th>14</th>\n",
              "      <td>Paraíba</td>\n",
              "      <td>943</td>\n",
              "      <td>951</td>\n",
              "      <td>0.90</td>\n",
              "      <td>0.44</td>\n",
              "      <td>0.06</td>\n",
              "    </tr>\n",
              "    <tr>\n",
              "      <th>15</th>\n",
              "      <td>Pará</td>\n",
              "      <td>2695</td>\n",
              "      <td>2871</td>\n",
              "      <td>0.90</td>\n",
              "      <td>0.39</td>\n",
              "      <td>0.06</td>\n",
              "    </tr>\n",
              "    <tr>\n",
              "      <th>16</th>\n",
              "      <td>Pernambuco</td>\n",
              "      <td>3338</td>\n",
              "      <td>3464</td>\n",
              "      <td>0.88</td>\n",
              "      <td>0.33</td>\n",
              "      <td>0.05</td>\n",
              "    </tr>\n",
              "    <tr>\n",
              "      <th>17</th>\n",
              "      <td>Piauí</td>\n",
              "      <td>597</td>\n",
              "      <td>592</td>\n",
              "      <td>0.94</td>\n",
              "      <td>0.42</td>\n",
              "      <td>0.06</td>\n",
              "    </tr>\n",
              "    <tr>\n",
              "      <th>18</th>\n",
              "      <td>Rio Grande do Norte</td>\n",
              "      <td>1285</td>\n",
              "      <td>1342</td>\n",
              "      <td>0.92</td>\n",
              "      <td>0.41</td>\n",
              "      <td>0.05</td>\n",
              "    </tr>\n",
              "    <tr>\n",
              "      <th>19</th>\n",
              "      <td>Rio Grande do Sul</td>\n",
              "      <td>1790</td>\n",
              "      <td>1914</td>\n",
              "      <td>0.89</td>\n",
              "      <td>0.43</td>\n",
              "      <td>0.07</td>\n",
              "    </tr>\n",
              "    <tr>\n",
              "      <th>20</th>\n",
              "      <td>Rio de Janeiro</td>\n",
              "      <td>3816</td>\n",
              "      <td>4155</td>\n",
              "      <td>0.89</td>\n",
              "      <td>0.33</td>\n",
              "      <td>0.04</td>\n",
              "    </tr>\n",
              "    <tr>\n",
              "      <th>21</th>\n",
              "      <td>Rondônia</td>\n",
              "      <td>401</td>\n",
              "      <td>407</td>\n",
              "      <td>0.87</td>\n",
              "      <td>0.37</td>\n",
              "      <td>0.07</td>\n",
              "    </tr>\n",
              "    <tr>\n",
              "      <th>22</th>\n",
              "      <td>Roraima</td>\n",
              "      <td>224</td>\n",
              "      <td>199</td>\n",
              "      <td>0.90</td>\n",
              "      <td>0.34</td>\n",
              "      <td>0.08</td>\n",
              "    </tr>\n",
              "    <tr>\n",
              "      <th>23</th>\n",
              "      <td>Santa Catarina</td>\n",
              "      <td>699</td>\n",
              "      <td>737</td>\n",
              "      <td>0.92</td>\n",
              "      <td>0.44</td>\n",
              "      <td>0.06</td>\n",
              "    </tr>\n",
              "    <tr>\n",
              "      <th>24</th>\n",
              "      <td>Sergipe</td>\n",
              "      <td>809</td>\n",
              "      <td>830</td>\n",
              "      <td>0.91</td>\n",
              "      <td>0.41</td>\n",
              "      <td>0.05</td>\n",
              "    </tr>\n",
              "    <tr>\n",
              "      <th>25</th>\n",
              "      <td>São Paulo</td>\n",
              "      <td>3068</td>\n",
              "      <td>3200</td>\n",
              "      <td>0.86</td>\n",
              "      <td>0.34</td>\n",
              "      <td>0.04</td>\n",
              "    </tr>\n",
              "    <tr>\n",
              "      <th>26</th>\n",
              "      <td>Tocantins</td>\n",
              "      <td>326</td>\n",
              "      <td>381</td>\n",
              "      <td>0.91</td>\n",
              "      <td>0.40</td>\n",
              "      <td>0.07</td>\n",
              "    </tr>\n",
              "  </tbody>\n",
              "</table>\n",
              "</div>"
            ],
            "text/plain": [
              "                     UF  ...  Media_Freq_25_anos_ou_mais\n",
              "0                  Acre  ...                        0.09\n",
              "1               Alagoas  ...                        0.04\n",
              "2                 Amapá  ...                        0.07\n",
              "3              Amazonas  ...                        0.07\n",
              "4                 Bahia  ...                        0.07\n",
              "5                 Ceará  ...                        0.05\n",
              "6      Distrito Federal  ...                        0.06\n",
              "7        Espírito Santo  ...                        0.06\n",
              "8                 Goiás  ...                        0.05\n",
              "9              Maranhão  ...                        0.06\n",
              "10          Mato Grosso  ...                        0.07\n",
              "11   Mato Grosso do Sul  ...                        0.06\n",
              "12         Minas Gerais  ...                        0.06\n",
              "13               Paraná  ...                        0.05\n",
              "14              Paraíba  ...                        0.06\n",
              "15                 Pará  ...                        0.06\n",
              "16           Pernambuco  ...                        0.05\n",
              "17                Piauí  ...                        0.06\n",
              "18  Rio Grande do Norte  ...                        0.05\n",
              "19    Rio Grande do Sul  ...                        0.07\n",
              "20       Rio de Janeiro  ...                        0.04\n",
              "21             Rondônia  ...                        0.07\n",
              "22              Roraima  ...                        0.08\n",
              "23       Santa Catarina  ...                        0.06\n",
              "24              Sergipe  ...                        0.05\n",
              "25            São Paulo  ...                        0.04\n",
              "26            Tocantins  ...                        0.07\n",
              "\n",
              "[27 rows x 6 columns]"
            ]
          },
          "metadata": {},
          "execution_count": 5
        }
      ]
    },
    {
      "cell_type": "markdown",
      "metadata": {
        "id": "5i2VQzY48Z1j"
      },
      "source": [
        "Queremos investigar a relação entre o número de ocorrência com as frequências de pessoas que vão a alguma instituição de ensino"
      ]
    },
    {
      "cell_type": "code",
      "metadata": {
        "id": "8NDhq2-8mcla"
      },
      "source": [
        "import numpy as np\n",
        "from scipy import stats\n",
        "import matplotlib.pyplot as plt\n",
        "\n",
        "import seaborn; seaborn.set()\n",
        "import seaborn as sns\n",
        "\n",
        "\n",
        "%matplotlib inline"
      ],
      "execution_count": 4,
      "outputs": []
    },
    {
      "cell_type": "code",
      "metadata": {
        "colab": {
          "base_uri": "https://localhost:8080/"
        },
        "id": "IvFnI9rSodCh",
        "outputId": "344b9934-bfc5-41f9-964e-aa1758eab978"
      },
      "source": [
        "df['TotalOcorrencias'].describe()"
      ],
      "execution_count": null,
      "outputs": [
        {
          "output_type": "execute_result",
          "data": {
            "text/plain": [
              "count      27.000000\n",
              "mean     1488.333333\n",
              "std      1236.662910\n",
              "min       224.000000\n",
              "25%       514.500000\n",
              "50%      1051.000000\n",
              "75%      1984.000000\n",
              "max      4964.000000\n",
              "Name: TotalOcorrencias, dtype: float64"
            ]
          },
          "metadata": {},
          "execution_count": 9
        }
      ]
    },
    {
      "cell_type": "code",
      "metadata": {
        "colab": {
          "base_uri": "https://localhost:8080/"
        },
        "id": "nDZ8rNfSokvS",
        "outputId": "95a4f47c-d6db-4d53-f6a9-8cea801fb282"
      },
      "source": [
        "df['Media_Freq_15_a_17_anos'].describe()"
      ],
      "execution_count": null,
      "outputs": [
        {
          "output_type": "execute_result",
          "data": {
            "text/plain": [
              "count    27.000000\n",
              "mean      0.893333\n",
              "std       0.022361\n",
              "min       0.850000\n",
              "25%       0.875000\n",
              "50%       0.900000\n",
              "75%       0.910000\n",
              "max       0.940000\n",
              "Name: Media_Freq_15_a_17_anos, dtype: float64"
            ]
          },
          "metadata": {},
          "execution_count": 10
        }
      ]
    },
    {
      "cell_type": "code",
      "metadata": {
        "colab": {
          "base_uri": "https://localhost:8080/",
          "height": 513
        },
        "id": "hTXUBo6hmzHd",
        "outputId": "ca086f14-0353-4edd-b91b-a7b3f98dc44d"
      },
      "source": [
        "corr = df.corr()\n",
        "#Plot Correlation Matrix using Matplotlib\n",
        "plt.figure(figsize=(7, 5))\n",
        "plt.imshow(corr, cmap='Blues', interpolation='none', aspect='auto')\n",
        "plt.colorbar()\n",
        "plt.xticks(range(len(corr)), corr.columns, rotation='vertical')\n",
        "plt.yticks(range(len(corr)), corr.columns);\n",
        "plt.suptitle('Correlation between variables', fontsize=15, fontweight='bold')\n",
        "plt.grid(False)\n",
        "plt.show()"
      ],
      "execution_count": null,
      "outputs": [
        {
          "output_type": "display_data",
          "data": {
            "image/png": "[encoded data removed]",
            "text/plain": [
              "<Figure size 504x360 with 2 Axes>"
            ]
          },
          "metadata": {
            "needs_background": "light"
          }
        }
      ]
    },
    {
      "cell_type": "markdown",
      "metadata": {
        "id": "U845fIn21iAb"
      },
      "source": [
        "*  ρ = 0,9 a 1 (positivo ou negativo): correlação muito forte;\n",
        "*  ρ = 0,7 a 09 (positivo ou negativo): correlação forte;\n",
        "*  ρ = 0,5 a 0,7 (positivo ou negativo): correlação moderada;\n",
        "*  ρ = 0,3 a 0,5 (positivo ou negativo): correlação fraca;\n",
        "*  ρ = 0 a 0,3 (positivo ou negativo): não possui correlação."
      ]
    },
    {
      "cell_type": "code",
      "metadata": {
        "colab": {
          "base_uri": "https://localhost:8080/",
          "height": 226
        },
        "id": "cRa4vHLznGXZ",
        "outputId": "68ae16e7-637f-4d96-ed35-7cc5eb2bc35c"
      },
      "source": [
        "df.corr(\"pearson\")"
      ],
      "execution_count": null,
      "outputs": [
        {
          "output_type": "execute_result",
          "data": {
            "text/html": [
              "<div>\n",
              "<style scoped>\n",
              "    .dataframe tbody tr th:only-of-type {\n",
              "        vertical-align: middle;\n",
              "    }\n",
              "\n",
              "    .dataframe tbody tr th {\n",
              "        vertical-align: top;\n",
              "    }\n",
              "\n",
              "    .dataframe thead th {\n",
              "        text-align: right;\n",
              "    }\n",
              "</style>\n",
              "<table border=\"1\" class=\"dataframe\">\n",
              "  <thead>\n",
              "    <tr style=\"text-align: right;\">\n",
              "      <th></th>\n",
              "      <th>TotalOcorrencias</th>\n",
              "      <th>TotalVitimas</th>\n",
              "      <th>Media_Freq_15_a_17_anos</th>\n",
              "      <th>Media_Freq_18_a_24_anos</th>\n",
              "      <th>Media_Freq_25_anos_ou_mais</th>\n",
              "    </tr>\n",
              "  </thead>\n",
              "  <tbody>\n",
              "    <tr>\n",
              "      <th>TotalOcorrencias</th>\n",
              "      <td>1.000000</td>\n",
              "      <td>0.999504</td>\n",
              "      <td>-0.138337</td>\n",
              "      <td>-0.309076</td>\n",
              "      <td>-0.410559</td>\n",
              "    </tr>\n",
              "    <tr>\n",
              "      <th>TotalVitimas</th>\n",
              "      <td>0.999504</td>\n",
              "      <td>1.000000</td>\n",
              "      <td>-0.136732</td>\n",
              "      <td>-0.306257</td>\n",
              "      <td>-0.413316</td>\n",
              "    </tr>\n",
              "    <tr>\n",
              "      <th>Media_Freq_15_a_17_anos</th>\n",
              "      <td>-0.138337</td>\n",
              "      <td>-0.136732</td>\n",
              "      <td>1.000000</td>\n",
              "      <td>0.529551</td>\n",
              "      <td>0.142278</td>\n",
              "    </tr>\n",
              "    <tr>\n",
              "      <th>Media_Freq_18_a_24_anos</th>\n",
              "      <td>-0.309076</td>\n",
              "      <td>-0.306257</td>\n",
              "      <td>0.529551</td>\n",
              "      <td>1.000000</td>\n",
              "      <td>0.292215</td>\n",
              "    </tr>\n",
              "    <tr>\n",
              "      <th>Media_Freq_25_anos_ou_mais</th>\n",
              "      <td>-0.410559</td>\n",
              "      <td>-0.413316</td>\n",
              "      <td>0.142278</td>\n",
              "      <td>0.292215</td>\n",
              "      <td>1.000000</td>\n",
              "    </tr>\n",
              "  </tbody>\n",
              "</table>\n",
              "</div>"
            ],
            "text/plain": [
              "                            TotalOcorrencias  ...  Media_Freq_25_anos_ou_mais\n",
              "TotalOcorrencias                    1.000000  ...                   -0.410559\n",
              "TotalVitimas                        0.999504  ...                   -0.413316\n",
              "Media_Freq_15_a_17_anos            -0.138337  ...                    0.142278\n",
              "Media_Freq_18_a_24_anos            -0.309076  ...                    0.292215\n",
              "Media_Freq_25_anos_ou_mais         -0.410559  ...                    1.000000\n",
              "\n",
              "[5 rows x 5 columns]"
            ]
          },
          "metadata": {},
          "execution_count": 12
        }
      ]
    },
    {
      "cell_type": "code",
      "metadata": {
        "colab": {
          "base_uri": "https://localhost:8080/",
          "height": 226
        },
        "id": "d6m7fb5B1WyJ",
        "outputId": "be2e3fe4-9762-4bcd-ca3b-2ae2e40772a6"
      },
      "source": [
        "df.corr(\"spearman\")"
      ],
      "execution_count": null,
      "outputs": [
        {
          "output_type": "execute_result",
          "data": {
            "text/html": [
              "<div>\n",
              "<style scoped>\n",
              "    .dataframe tbody tr th:only-of-type {\n",
              "        vertical-align: middle;\n",
              "    }\n",
              "\n",
              "    .dataframe tbody tr th {\n",
              "        vertical-align: top;\n",
              "    }\n",
              "\n",
              "    .dataframe thead th {\n",
              "        text-align: right;\n",
              "    }\n",
              "</style>\n",
              "<table border=\"1\" class=\"dataframe\">\n",
              "  <thead>\n",
              "    <tr style=\"text-align: right;\">\n",
              "      <th></th>\n",
              "      <th>TotalOcorrencias</th>\n",
              "      <th>TotalVitimas</th>\n",
              "      <th>Media_Freq_15_a_17_anos</th>\n",
              "      <th>Media_Freq_18_a_24_anos</th>\n",
              "      <th>Media_Freq_25_anos_ou_mais</th>\n",
              "    </tr>\n",
              "  </thead>\n",
              "  <tbody>\n",
              "    <tr>\n",
              "      <th>TotalOcorrencias</th>\n",
              "      <td>1.000000</td>\n",
              "      <td>0.998168</td>\n",
              "      <td>-0.183128</td>\n",
              "      <td>-0.310471</td>\n",
              "      <td>-0.549472</td>\n",
              "    </tr>\n",
              "    <tr>\n",
              "      <th>TotalVitimas</th>\n",
              "      <td>0.998168</td>\n",
              "      <td>1.000000</td>\n",
              "      <td>-0.188077</td>\n",
              "      <td>-0.301548</td>\n",
              "      <td>-0.567156</td>\n",
              "    </tr>\n",
              "    <tr>\n",
              "      <th>Media_Freq_15_a_17_anos</th>\n",
              "      <td>-0.183128</td>\n",
              "      <td>-0.188077</td>\n",
              "      <td>1.000000</td>\n",
              "      <td>0.534619</td>\n",
              "      <td>0.157288</td>\n",
              "    </tr>\n",
              "    <tr>\n",
              "      <th>Media_Freq_18_a_24_anos</th>\n",
              "      <td>-0.310471</td>\n",
              "      <td>-0.301548</td>\n",
              "      <td>0.534619</td>\n",
              "      <td>1.000000</td>\n",
              "      <td>0.287607</td>\n",
              "    </tr>\n",
              "    <tr>\n",
              "      <th>Media_Freq_25_anos_ou_mais</th>\n",
              "      <td>-0.549472</td>\n",
              "      <td>-0.567156</td>\n",
              "      <td>0.157288</td>\n",
              "      <td>0.287607</td>\n",
              "      <td>1.000000</td>\n",
              "    </tr>\n",
              "  </tbody>\n",
              "</table>\n",
              "</div>"
            ],
            "text/plain": [
              "                            TotalOcorrencias  ...  Media_Freq_25_anos_ou_mais\n",
              "TotalOcorrencias                    1.000000  ...                   -0.549472\n",
              "TotalVitimas                        0.998168  ...                   -0.567156\n",
              "Media_Freq_15_a_17_anos            -0.183128  ...                    0.157288\n",
              "Media_Freq_18_a_24_anos            -0.310471  ...                    0.287607\n",
              "Media_Freq_25_anos_ou_mais         -0.549472  ...                    1.000000\n",
              "\n",
              "[5 rows x 5 columns]"
            ]
          },
          "metadata": {},
          "execution_count": 13
        }
      ]
    },
    {
      "cell_type": "markdown",
      "metadata": {
        "id": "DnT7AGrI85lx"
      },
      "source": [
        "Concluimos que não há correlação entre as variáveis 'TotalOcorrencias' e 'Media_freq'"
      ]
    },
    {
      "cell_type": "markdown",
      "metadata": {
        "id": "Nmh13Ob-IvqJ"
      },
      "source": [
        "==================================================="
      ]
    },
    {
      "cell_type": "markdown",
      "metadata": {
        "id": "K-3ZUCJbG_n6"
      },
      "source": [
        "* Em 2018 foi sancionada a Lei nº 13.675/2018. Sistema Único de Segurança Pública (SUSP).\n",
        "\n",
        "* O SUSP garante a integração de dados, prevê políticas que melhorem a qualidade de vida dos agentes de segurança e o enfrentamento à criminalidade violenta, além de efetivar o repasse de recursos do Fundo Nacional de Segurança Pública destinados aos estados, ao Distrito Federal e aos municípios.\n",
        "\n",
        "* Através do uso de teste de hipótese vamos verificar se ouve alteração no número de ocorrência de crimes após a aplicação da lei"
      ]
    },
    {
      "cell_type": "code",
      "metadata": {
        "colab": {
          "base_uri": "https://localhost:8080/",
          "height": 424
        },
        "id": "LQwp63vv9IVJ",
        "outputId": "518509f1-262a-4142-a993-076938dba856"
      },
      "source": [
        "serviceaccount = '/content/soulcode-projeto-final-4b88bea6e07a.json'\n",
        "os.environ[\"GOOGLE_APPLICATION_CREDENTIALS\"] = serviceaccount\n",
        "\n",
        "df_2 = pd.read_json('gs://data_lake_ingest_data/2_temp/temp_pandas_ocorrencias_normalizado.json')\n",
        "df_2"
      ],
      "execution_count": 35,
      "outputs": [
        {
          "output_type": "execute_result",
          "data": {
            "text/html": [
              "<div>\n",
              "<style scoped>\n",
              "    .dataframe tbody tr th:only-of-type {\n",
              "        vertical-align: middle;\n",
              "    }\n",
              "\n",
              "    .dataframe tbody tr th {\n",
              "        vertical-align: top;\n",
              "    }\n",
              "\n",
              "    .dataframe thead th {\n",
              "        text-align: right;\n",
              "    }\n",
              "</style>\n",
              "<table border=\"1\" class=\"dataframe\">\n",
              "  <thead>\n",
              "    <tr style=\"text-align: right;\">\n",
              "      <th></th>\n",
              "      <th>UF</th>\n",
              "      <th>TipoCrime</th>\n",
              "      <th>Ano</th>\n",
              "      <th>Mes</th>\n",
              "      <th>Ocorrencias</th>\n",
              "    </tr>\n",
              "  </thead>\n",
              "  <tbody>\n",
              "    <tr>\n",
              "      <th>0</th>\n",
              "      <td>Acre</td>\n",
              "      <td>Estupro</td>\n",
              "      <td>2021</td>\n",
              "      <td>janeiro</td>\n",
              "      <td>39</td>\n",
              "    </tr>\n",
              "    <tr>\n",
              "      <th>1</th>\n",
              "      <td>Acre</td>\n",
              "      <td>Furto de veículo</td>\n",
              "      <td>2021</td>\n",
              "      <td>janeiro</td>\n",
              "      <td>55</td>\n",
              "    </tr>\n",
              "    <tr>\n",
              "      <th>2</th>\n",
              "      <td>Acre</td>\n",
              "      <td>Homicídio doloso</td>\n",
              "      <td>2021</td>\n",
              "      <td>janeiro</td>\n",
              "      <td>14</td>\n",
              "    </tr>\n",
              "    <tr>\n",
              "      <th>3</th>\n",
              "      <td>Acre</td>\n",
              "      <td>Lesão corporal seguida de morte</td>\n",
              "      <td>2021</td>\n",
              "      <td>janeiro</td>\n",
              "      <td>0</td>\n",
              "    </tr>\n",
              "    <tr>\n",
              "      <th>4</th>\n",
              "      <td>Acre</td>\n",
              "      <td>Roubo a instituição financeira</td>\n",
              "      <td>2021</td>\n",
              "      <td>janeiro</td>\n",
              "      <td>0</td>\n",
              "    </tr>\n",
              "    <tr>\n",
              "      <th>...</th>\n",
              "      <td>...</td>\n",
              "      <td>...</td>\n",
              "      <td>...</td>\n",
              "      <td>...</td>\n",
              "      <td>...</td>\n",
              "    </tr>\n",
              "    <tr>\n",
              "      <th>15890</th>\n",
              "      <td>Tocantins</td>\n",
              "      <td>Roubo a instituição financeira</td>\n",
              "      <td>2016</td>\n",
              "      <td>dezembro</td>\n",
              "      <td>0</td>\n",
              "    </tr>\n",
              "    <tr>\n",
              "      <th>15891</th>\n",
              "      <td>Tocantins</td>\n",
              "      <td>Roubo de carga</td>\n",
              "      <td>2016</td>\n",
              "      <td>dezembro</td>\n",
              "      <td>1</td>\n",
              "    </tr>\n",
              "    <tr>\n",
              "      <th>15892</th>\n",
              "      <td>Tocantins</td>\n",
              "      <td>Roubo de veículo</td>\n",
              "      <td>2016</td>\n",
              "      <td>dezembro</td>\n",
              "      <td>63</td>\n",
              "    </tr>\n",
              "    <tr>\n",
              "      <th>15893</th>\n",
              "      <td>Tocantins</td>\n",
              "      <td>Roubo seguido de morte (latrocínio)</td>\n",
              "      <td>2016</td>\n",
              "      <td>dezembro</td>\n",
              "      <td>3</td>\n",
              "    </tr>\n",
              "    <tr>\n",
              "      <th>15894</th>\n",
              "      <td>Tocantins</td>\n",
              "      <td>Tentativa de homicídio</td>\n",
              "      <td>2016</td>\n",
              "      <td>dezembro</td>\n",
              "      <td>14</td>\n",
              "    </tr>\n",
              "  </tbody>\n",
              "</table>\n",
              "<p>15895 rows × 5 columns</p>\n",
              "</div>"
            ],
            "text/plain": [
              "              UF                            TipoCrime  ...       Mes Ocorrencias\n",
              "0           Acre                              Estupro  ...   janeiro          39\n",
              "1           Acre                     Furto de veículo  ...   janeiro          55\n",
              "2           Acre                     Homicídio doloso  ...   janeiro          14\n",
              "3           Acre      Lesão corporal seguida de morte  ...   janeiro           0\n",
              "4           Acre       Roubo a instituição financeira  ...   janeiro           0\n",
              "...          ...                                  ...  ...       ...         ...\n",
              "15890  Tocantins       Roubo a instituição financeira  ...  dezembro           0\n",
              "15891  Tocantins                       Roubo de carga  ...  dezembro           1\n",
              "15892  Tocantins                     Roubo de veículo  ...  dezembro          63\n",
              "15893  Tocantins  Roubo seguido de morte (latrocínio)  ...  dezembro           3\n",
              "15894  Tocantins               Tentativa de homicídio  ...  dezembro          14\n",
              "\n",
              "[15895 rows x 5 columns]"
            ]
          },
          "metadata": {},
          "execution_count": 35
        }
      ]
    },
    {
      "cell_type": "code",
      "metadata": {
        "colab": {
          "base_uri": "https://localhost:8080/"
        },
        "id": "OG6di5D95hfi",
        "outputId": "b4abe921-a3f7-4d55-fcca-d3836f9a784d"
      },
      "source": [
        "df_2['TipoCrime'].unique()"
      ],
      "execution_count": 36,
      "outputs": [
        {
          "output_type": "execute_result",
          "data": {
            "text/plain": [
              "array(['Estupro', 'Furto de veículo', 'Homicídio doloso',\n",
              "       'Lesão corporal seguida de morte',\n",
              "       'Roubo a instituição financeira', 'Roubo de carga',\n",
              "       'Roubo de veículo', 'Roubo seguido de morte (latrocínio)',\n",
              "       'Tentativa de homicídio'], dtype=object)"
            ]
          },
          "metadata": {},
          "execution_count": 36
        }
      ]
    },
    {
      "cell_type": "code",
      "metadata": {
        "id": "YUD26Ml859c9"
      },
      "source": [
        "filter_tipo_crime = df_2.TipoCrime.isin(['Estupro', 'Homicídio doloso', 'Roubo seguido de morte (latrocínio)', 'Tentativa de homicídio'])"
      ],
      "execution_count": 37,
      "outputs": []
    },
    {
      "cell_type": "code",
      "metadata": {
        "id": "8cOjybUv6WLF"
      },
      "source": [
        "df_2 = df_2.loc[filter_tipo_crime]"
      ],
      "execution_count": 39,
      "outputs": []
    },
    {
      "cell_type": "code",
      "metadata": {
        "colab": {
          "base_uri": "https://localhost:8080/"
        },
        "id": "9E9NNcHjP9do",
        "outputId": "4fef4301-e244-41c4-d95e-de782b47921a"
      },
      "source": [
        "df_2['Mes'].unique()"
      ],
      "execution_count": 40,
      "outputs": [
        {
          "output_type": "execute_result",
          "data": {
            "text/plain": [
              "array(['janeiro', 'fevereiro', 'março', 'abril', 'maio', 'junho', 'julho',\n",
              "       'agosto', 'setembro', 'outubro', 'novembro', 'dezembro'],\n",
              "      dtype=object)"
            ]
          },
          "metadata": {},
          "execution_count": 40
        }
      ]
    },
    {
      "cell_type": "code",
      "metadata": {
        "id": "b7OgBEXk9i0k"
      },
      "source": [
        "df_2['Mes'] = df_2['Mes'].map({'janeiro': '01_janeiro', 'fevereiro': '02_fevereiro', 'março': '03_março', 'abril': '04_abril', 'maio': '05_maio', 'junho': '06_junho', 'julho': '07_julho', 'agosto': '08_agosto', 'setembro': '09_setembro', 'outubro': '10_outubro', 'novembro': '11_novembro', 'dezembro': '12_dezembro'})"
      ],
      "execution_count": 41,
      "outputs": []
    },
    {
      "cell_type": "code",
      "metadata": {
        "colab": {
          "base_uri": "https://localhost:8080/",
          "height": 206
        },
        "id": "FrJK9gxA-fUM",
        "outputId": "9cd629de-39aa-4312-b0e1-0a55b4eee017"
      },
      "source": [
        "df_2.head()"
      ],
      "execution_count": 42,
      "outputs": [
        {
          "output_type": "execute_result",
          "data": {
            "text/html": [
              "<div>\n",
              "<style scoped>\n",
              "    .dataframe tbody tr th:only-of-type {\n",
              "        vertical-align: middle;\n",
              "    }\n",
              "\n",
              "    .dataframe tbody tr th {\n",
              "        vertical-align: top;\n",
              "    }\n",
              "\n",
              "    .dataframe thead th {\n",
              "        text-align: right;\n",
              "    }\n",
              "</style>\n",
              "<table border=\"1\" class=\"dataframe\">\n",
              "  <thead>\n",
              "    <tr style=\"text-align: right;\">\n",
              "      <th></th>\n",
              "      <th>UF</th>\n",
              "      <th>TipoCrime</th>\n",
              "      <th>Ano</th>\n",
              "      <th>Mes</th>\n",
              "      <th>Ocorrencias</th>\n",
              "    </tr>\n",
              "  </thead>\n",
              "  <tbody>\n",
              "    <tr>\n",
              "      <th>0</th>\n",
              "      <td>Acre</td>\n",
              "      <td>Estupro</td>\n",
              "      <td>2021</td>\n",
              "      <td>01_janeiro</td>\n",
              "      <td>39</td>\n",
              "    </tr>\n",
              "    <tr>\n",
              "      <th>2</th>\n",
              "      <td>Acre</td>\n",
              "      <td>Homicídio doloso</td>\n",
              "      <td>2021</td>\n",
              "      <td>01_janeiro</td>\n",
              "      <td>14</td>\n",
              "    </tr>\n",
              "    <tr>\n",
              "      <th>7</th>\n",
              "      <td>Acre</td>\n",
              "      <td>Roubo seguido de morte (latrocínio)</td>\n",
              "      <td>2021</td>\n",
              "      <td>01_janeiro</td>\n",
              "      <td>1</td>\n",
              "    </tr>\n",
              "    <tr>\n",
              "      <th>8</th>\n",
              "      <td>Acre</td>\n",
              "      <td>Tentativa de homicídio</td>\n",
              "      <td>2021</td>\n",
              "      <td>01_janeiro</td>\n",
              "      <td>10</td>\n",
              "    </tr>\n",
              "    <tr>\n",
              "      <th>9</th>\n",
              "      <td>Acre</td>\n",
              "      <td>Estupro</td>\n",
              "      <td>2021</td>\n",
              "      <td>02_fevereiro</td>\n",
              "      <td>23</td>\n",
              "    </tr>\n",
              "  </tbody>\n",
              "</table>\n",
              "</div>"
            ],
            "text/plain": [
              "     UF                            TipoCrime   Ano           Mes  Ocorrencias\n",
              "0  Acre                              Estupro  2021    01_janeiro           39\n",
              "2  Acre                     Homicídio doloso  2021    01_janeiro           14\n",
              "7  Acre  Roubo seguido de morte (latrocínio)  2021    01_janeiro            1\n",
              "8  Acre               Tentativa de homicídio  2021    01_janeiro           10\n",
              "9  Acre                              Estupro  2021  02_fevereiro           23"
            ]
          },
          "metadata": {},
          "execution_count": 42
        }
      ]
    },
    {
      "cell_type": "code",
      "metadata": {
        "id": "0XA_3nlPGof-"
      },
      "source": [
        "ocorrencia_antes = df_2.loc[(df_2['Ano'] < 2018)]"
      ],
      "execution_count": 43,
      "outputs": []
    },
    {
      "cell_type": "code",
      "metadata": {
        "id": "5qmOz0pIPR7e"
      },
      "source": [
        "mes_antes = df_2.Mes.isin(['01_janeiro', '02_fevereiro', '03_março', '04_abril', '05_maio'])"
      ],
      "execution_count": 44,
      "outputs": []
    },
    {
      "cell_type": "code",
      "metadata": {
        "id": "Cia1XSlIK7UM"
      },
      "source": [
        "ano_2018 = df_2.Ano == 2018"
      ],
      "execution_count": 45,
      "outputs": []
    },
    {
      "cell_type": "code",
      "metadata": {
        "id": "2__5KPD4OPCP"
      },
      "source": [
        "ocrr_2018_antes = df_2.loc[ano_2018 & mes_antes]"
      ],
      "execution_count": 46,
      "outputs": []
    },
    {
      "cell_type": "code",
      "metadata": {
        "colab": {
          "base_uri": "https://localhost:8080/",
          "height": 424
        },
        "id": "LsMkD_sWP5fY",
        "outputId": "6a182cf6-bd79-4b45-cc5a-169dafc8c0fe"
      },
      "source": [
        "ocrr_2018_antes"
      ],
      "execution_count": 47,
      "outputs": [
        {
          "output_type": "execute_result",
          "data": {
            "text/html": [
              "<div>\n",
              "<style scoped>\n",
              "    .dataframe tbody tr th:only-of-type {\n",
              "        vertical-align: middle;\n",
              "    }\n",
              "\n",
              "    .dataframe tbody tr th {\n",
              "        vertical-align: top;\n",
              "    }\n",
              "\n",
              "    .dataframe thead th {\n",
              "        text-align: right;\n",
              "    }\n",
              "</style>\n",
              "<table border=\"1\" class=\"dataframe\">\n",
              "  <thead>\n",
              "    <tr style=\"text-align: right;\">\n",
              "      <th></th>\n",
              "      <th>UF</th>\n",
              "      <th>TipoCrime</th>\n",
              "      <th>Ano</th>\n",
              "      <th>Mes</th>\n",
              "      <th>Ocorrencias</th>\n",
              "    </tr>\n",
              "  </thead>\n",
              "  <tbody>\n",
              "    <tr>\n",
              "      <th>7208</th>\n",
              "      <td>Acre</td>\n",
              "      <td>Estupro</td>\n",
              "      <td>2018</td>\n",
              "      <td>01_janeiro</td>\n",
              "      <td>14</td>\n",
              "    </tr>\n",
              "    <tr>\n",
              "      <th>7210</th>\n",
              "      <td>Acre</td>\n",
              "      <td>Homicídio doloso</td>\n",
              "      <td>2018</td>\n",
              "      <td>01_janeiro</td>\n",
              "      <td>51</td>\n",
              "    </tr>\n",
              "    <tr>\n",
              "      <th>7215</th>\n",
              "      <td>Acre</td>\n",
              "      <td>Roubo seguido de morte (latrocínio)</td>\n",
              "      <td>2018</td>\n",
              "      <td>01_janeiro</td>\n",
              "      <td>2</td>\n",
              "    </tr>\n",
              "    <tr>\n",
              "      <th>7216</th>\n",
              "      <td>Acre</td>\n",
              "      <td>Tentativa de homicídio</td>\n",
              "      <td>2018</td>\n",
              "      <td>01_janeiro</td>\n",
              "      <td>8</td>\n",
              "    </tr>\n",
              "    <tr>\n",
              "      <th>7217</th>\n",
              "      <td>Acre</td>\n",
              "      <td>Estupro</td>\n",
              "      <td>2018</td>\n",
              "      <td>02_fevereiro</td>\n",
              "      <td>20</td>\n",
              "    </tr>\n",
              "    <tr>\n",
              "      <th>...</th>\n",
              "      <td>...</td>\n",
              "      <td>...</td>\n",
              "      <td>...</td>\n",
              "      <td>...</td>\n",
              "      <td>...</td>\n",
              "    </tr>\n",
              "    <tr>\n",
              "      <th>10045</th>\n",
              "      <td>Tocantins</td>\n",
              "      <td>Tentativa de homicídio</td>\n",
              "      <td>2018</td>\n",
              "      <td>04_abril</td>\n",
              "      <td>28</td>\n",
              "    </tr>\n",
              "    <tr>\n",
              "      <th>10046</th>\n",
              "      <td>Tocantins</td>\n",
              "      <td>Estupro</td>\n",
              "      <td>2018</td>\n",
              "      <td>05_maio</td>\n",
              "      <td>81</td>\n",
              "    </tr>\n",
              "    <tr>\n",
              "      <th>10048</th>\n",
              "      <td>Tocantins</td>\n",
              "      <td>Homicídio doloso</td>\n",
              "      <td>2018</td>\n",
              "      <td>05_maio</td>\n",
              "      <td>19</td>\n",
              "    </tr>\n",
              "    <tr>\n",
              "      <th>10053</th>\n",
              "      <td>Tocantins</td>\n",
              "      <td>Roubo seguido de morte (latrocínio)</td>\n",
              "      <td>2018</td>\n",
              "      <td>05_maio</td>\n",
              "      <td>1</td>\n",
              "    </tr>\n",
              "    <tr>\n",
              "      <th>10054</th>\n",
              "      <td>Tocantins</td>\n",
              "      <td>Tentativa de homicídio</td>\n",
              "      <td>2018</td>\n",
              "      <td>05_maio</td>\n",
              "      <td>29</td>\n",
              "    </tr>\n",
              "  </tbody>\n",
              "</table>\n",
              "<p>540 rows × 5 columns</p>\n",
              "</div>"
            ],
            "text/plain": [
              "              UF  ... Ocorrencias\n",
              "7208        Acre  ...          14\n",
              "7210        Acre  ...          51\n",
              "7215        Acre  ...           2\n",
              "7216        Acre  ...           8\n",
              "7217        Acre  ...          20\n",
              "...          ...  ...         ...\n",
              "10045  Tocantins  ...          28\n",
              "10046  Tocantins  ...          81\n",
              "10048  Tocantins  ...          19\n",
              "10053  Tocantins  ...           1\n",
              "10054  Tocantins  ...          29\n",
              "\n",
              "[540 rows x 5 columns]"
            ]
          },
          "metadata": {},
          "execution_count": 47
        }
      ]
    },
    {
      "cell_type": "code",
      "metadata": {
        "id": "9JVZ2IUjJxw4"
      },
      "source": [
        "ocrr_antes_merge = pd.concat([ocrr_2018_antes, ocorrencia_antes])"
      ],
      "execution_count": 48,
      "outputs": []
    },
    {
      "cell_type": "code",
      "metadata": {
        "colab": {
          "base_uri": "https://localhost:8080/",
          "height": 424
        },
        "id": "4oXDJuuYJyeq",
        "outputId": "67ceccbf-d5cd-4267-f622-a5705ddefe27"
      },
      "source": [
        "ocrr_antes_merge"
      ],
      "execution_count": 49,
      "outputs": [
        {
          "output_type": "execute_result",
          "data": {
            "text/html": [
              "<div>\n",
              "<style scoped>\n",
              "    .dataframe tbody tr th:only-of-type {\n",
              "        vertical-align: middle;\n",
              "    }\n",
              "\n",
              "    .dataframe tbody tr th {\n",
              "        vertical-align: top;\n",
              "    }\n",
              "\n",
              "    .dataframe thead th {\n",
              "        text-align: right;\n",
              "    }\n",
              "</style>\n",
              "<table border=\"1\" class=\"dataframe\">\n",
              "  <thead>\n",
              "    <tr style=\"text-align: right;\">\n",
              "      <th></th>\n",
              "      <th>UF</th>\n",
              "      <th>TipoCrime</th>\n",
              "      <th>Ano</th>\n",
              "      <th>Mes</th>\n",
              "      <th>Ocorrencias</th>\n",
              "    </tr>\n",
              "  </thead>\n",
              "  <tbody>\n",
              "    <tr>\n",
              "      <th>7208</th>\n",
              "      <td>Acre</td>\n",
              "      <td>Estupro</td>\n",
              "      <td>2018</td>\n",
              "      <td>01_janeiro</td>\n",
              "      <td>14</td>\n",
              "    </tr>\n",
              "    <tr>\n",
              "      <th>7210</th>\n",
              "      <td>Acre</td>\n",
              "      <td>Homicídio doloso</td>\n",
              "      <td>2018</td>\n",
              "      <td>01_janeiro</td>\n",
              "      <td>51</td>\n",
              "    </tr>\n",
              "    <tr>\n",
              "      <th>7215</th>\n",
              "      <td>Acre</td>\n",
              "      <td>Roubo seguido de morte (latrocínio)</td>\n",
              "      <td>2018</td>\n",
              "      <td>01_janeiro</td>\n",
              "      <td>2</td>\n",
              "    </tr>\n",
              "    <tr>\n",
              "      <th>7216</th>\n",
              "      <td>Acre</td>\n",
              "      <td>Tentativa de homicídio</td>\n",
              "      <td>2018</td>\n",
              "      <td>01_janeiro</td>\n",
              "      <td>8</td>\n",
              "    </tr>\n",
              "    <tr>\n",
              "      <th>7217</th>\n",
              "      <td>Acre</td>\n",
              "      <td>Estupro</td>\n",
              "      <td>2018</td>\n",
              "      <td>02_fevereiro</td>\n",
              "      <td>20</td>\n",
              "    </tr>\n",
              "    <tr>\n",
              "      <th>...</th>\n",
              "      <td>...</td>\n",
              "      <td>...</td>\n",
              "      <td>...</td>\n",
              "      <td>...</td>\n",
              "      <td>...</td>\n",
              "    </tr>\n",
              "    <tr>\n",
              "      <th>15885</th>\n",
              "      <td>Tocantins</td>\n",
              "      <td>Tentativa de homicídio</td>\n",
              "      <td>2016</td>\n",
              "      <td>11_novembro</td>\n",
              "      <td>26</td>\n",
              "    </tr>\n",
              "    <tr>\n",
              "      <th>15886</th>\n",
              "      <td>Tocantins</td>\n",
              "      <td>Estupro</td>\n",
              "      <td>2016</td>\n",
              "      <td>12_dezembro</td>\n",
              "      <td>36</td>\n",
              "    </tr>\n",
              "    <tr>\n",
              "      <th>15888</th>\n",
              "      <td>Tocantins</td>\n",
              "      <td>Homicídio doloso</td>\n",
              "      <td>2016</td>\n",
              "      <td>12_dezembro</td>\n",
              "      <td>31</td>\n",
              "    </tr>\n",
              "    <tr>\n",
              "      <th>15893</th>\n",
              "      <td>Tocantins</td>\n",
              "      <td>Roubo seguido de morte (latrocínio)</td>\n",
              "      <td>2016</td>\n",
              "      <td>12_dezembro</td>\n",
              "      <td>3</td>\n",
              "    </tr>\n",
              "    <tr>\n",
              "      <th>15894</th>\n",
              "      <td>Tocantins</td>\n",
              "      <td>Tentativa de homicídio</td>\n",
              "      <td>2016</td>\n",
              "      <td>12_dezembro</td>\n",
              "      <td>14</td>\n",
              "    </tr>\n",
              "  </tbody>\n",
              "</table>\n",
              "<p>3132 rows × 5 columns</p>\n",
              "</div>"
            ],
            "text/plain": [
              "              UF  ... Ocorrencias\n",
              "7208        Acre  ...          14\n",
              "7210        Acre  ...          51\n",
              "7215        Acre  ...           2\n",
              "7216        Acre  ...           8\n",
              "7217        Acre  ...          20\n",
              "...          ...  ...         ...\n",
              "15885  Tocantins  ...          26\n",
              "15886  Tocantins  ...          36\n",
              "15888  Tocantins  ...          31\n",
              "15893  Tocantins  ...           3\n",
              "15894  Tocantins  ...          14\n",
              "\n",
              "[3132 rows x 5 columns]"
            ]
          },
          "metadata": {},
          "execution_count": 49
        }
      ]
    },
    {
      "cell_type": "code",
      "metadata": {
        "id": "pI1Zq9Fv71BD"
      },
      "source": [
        "ocrr_antes_merge = ocrr_antes_merge.sort_values(['Ano', 'Mes'])"
      ],
      "execution_count": 51,
      "outputs": []
    },
    {
      "cell_type": "code",
      "metadata": {
        "colab": {
          "base_uri": "https://localhost:8080/",
          "height": 424
        },
        "id": "QQhqBTGG_G4n",
        "outputId": "1fbf6484-ba00-49bf-8c5d-ee68293cf28a"
      },
      "source": [
        "ocrr_antes_merge"
      ],
      "execution_count": 52,
      "outputs": [
        {
          "output_type": "execute_result",
          "data": {
            "text/html": [
              "<div>\n",
              "<style scoped>\n",
              "    .dataframe tbody tr th:only-of-type {\n",
              "        vertical-align: middle;\n",
              "    }\n",
              "\n",
              "    .dataframe tbody tr th {\n",
              "        vertical-align: top;\n",
              "    }\n",
              "\n",
              "    .dataframe thead th {\n",
              "        text-align: right;\n",
              "    }\n",
              "</style>\n",
              "<table border=\"1\" class=\"dataframe\">\n",
              "  <thead>\n",
              "    <tr style=\"text-align: right;\">\n",
              "      <th></th>\n",
              "      <th>UF</th>\n",
              "      <th>TipoCrime</th>\n",
              "      <th>Ano</th>\n",
              "      <th>Mes</th>\n",
              "      <th>Ocorrencias</th>\n",
              "    </tr>\n",
              "  </thead>\n",
              "  <tbody>\n",
              "    <tr>\n",
              "      <th>13011</th>\n",
              "      <td>Acre</td>\n",
              "      <td>Estupro</td>\n",
              "      <td>2016</td>\n",
              "      <td>01_janeiro</td>\n",
              "      <td>1</td>\n",
              "    </tr>\n",
              "    <tr>\n",
              "      <th>13013</th>\n",
              "      <td>Acre</td>\n",
              "      <td>Homicídio doloso</td>\n",
              "      <td>2016</td>\n",
              "      <td>01_janeiro</td>\n",
              "      <td>18</td>\n",
              "    </tr>\n",
              "    <tr>\n",
              "      <th>13018</th>\n",
              "      <td>Acre</td>\n",
              "      <td>Roubo seguido de morte (latrocínio)</td>\n",
              "      <td>2016</td>\n",
              "      <td>01_janeiro</td>\n",
              "      <td>1</td>\n",
              "    </tr>\n",
              "    <tr>\n",
              "      <th>13019</th>\n",
              "      <td>Acre</td>\n",
              "      <td>Tentativa de homicídio</td>\n",
              "      <td>2016</td>\n",
              "      <td>01_janeiro</td>\n",
              "      <td>1</td>\n",
              "    </tr>\n",
              "    <tr>\n",
              "      <th>13119</th>\n",
              "      <td>Alagoas</td>\n",
              "      <td>Estupro</td>\n",
              "      <td>2016</td>\n",
              "      <td>01_janeiro</td>\n",
              "      <td>48</td>\n",
              "    </tr>\n",
              "    <tr>\n",
              "      <th>...</th>\n",
              "      <td>...</td>\n",
              "      <td>...</td>\n",
              "      <td>...</td>\n",
              "      <td>...</td>\n",
              "      <td>...</td>\n",
              "    </tr>\n",
              "    <tr>\n",
              "      <th>9946</th>\n",
              "      <td>Sergipe</td>\n",
              "      <td>Tentativa de homicídio</td>\n",
              "      <td>2018</td>\n",
              "      <td>05_maio</td>\n",
              "      <td>33</td>\n",
              "    </tr>\n",
              "    <tr>\n",
              "      <th>10046</th>\n",
              "      <td>Tocantins</td>\n",
              "      <td>Estupro</td>\n",
              "      <td>2018</td>\n",
              "      <td>05_maio</td>\n",
              "      <td>81</td>\n",
              "    </tr>\n",
              "    <tr>\n",
              "      <th>10048</th>\n",
              "      <td>Tocantins</td>\n",
              "      <td>Homicídio doloso</td>\n",
              "      <td>2018</td>\n",
              "      <td>05_maio</td>\n",
              "      <td>19</td>\n",
              "    </tr>\n",
              "    <tr>\n",
              "      <th>10053</th>\n",
              "      <td>Tocantins</td>\n",
              "      <td>Roubo seguido de morte (latrocínio)</td>\n",
              "      <td>2018</td>\n",
              "      <td>05_maio</td>\n",
              "      <td>1</td>\n",
              "    </tr>\n",
              "    <tr>\n",
              "      <th>10054</th>\n",
              "      <td>Tocantins</td>\n",
              "      <td>Tentativa de homicídio</td>\n",
              "      <td>2018</td>\n",
              "      <td>05_maio</td>\n",
              "      <td>29</td>\n",
              "    </tr>\n",
              "  </tbody>\n",
              "</table>\n",
              "<p>3132 rows × 5 columns</p>\n",
              "</div>"
            ],
            "text/plain": [
              "              UF                            TipoCrime  ...         Mes Ocorrencias\n",
              "13011       Acre                              Estupro  ...  01_janeiro           1\n",
              "13013       Acre                     Homicídio doloso  ...  01_janeiro          18\n",
              "13018       Acre  Roubo seguido de morte (latrocínio)  ...  01_janeiro           1\n",
              "13019       Acre               Tentativa de homicídio  ...  01_janeiro           1\n",
              "13119    Alagoas                              Estupro  ...  01_janeiro          48\n",
              "...          ...                                  ...  ...         ...         ...\n",
              "9946     Sergipe               Tentativa de homicídio  ...     05_maio          33\n",
              "10046  Tocantins                              Estupro  ...     05_maio          81\n",
              "10048  Tocantins                     Homicídio doloso  ...     05_maio          19\n",
              "10053  Tocantins  Roubo seguido de morte (latrocínio)  ...     05_maio           1\n",
              "10054  Tocantins               Tentativa de homicídio  ...     05_maio          29\n",
              "\n",
              "[3132 rows x 5 columns]"
            ]
          },
          "metadata": {},
          "execution_count": 52
        }
      ]
    },
    {
      "cell_type": "code",
      "metadata": {
        "id": "mv1s9BrNLjlB"
      },
      "source": [
        "ocrr_depois = df_2.loc[(df_2['Ano'] > 2018)]"
      ],
      "execution_count": 53,
      "outputs": []
    },
    {
      "cell_type": "code",
      "metadata": {
        "id": "loe6s--tRb3F"
      },
      "source": [
        "mes_depois = df_2.Mes.isin(['07_julho','08_agosto', '09_setembro', '10_outubro', '11_novembro', '12_dezembro'])"
      ],
      "execution_count": 54,
      "outputs": []
    },
    {
      "cell_type": "code",
      "metadata": {
        "id": "grv16lBvRmQb"
      },
      "source": [
        "ocrr_2018_depois = df_2.loc[ano_2018 & mes_depois]"
      ],
      "execution_count": 55,
      "outputs": []
    },
    {
      "cell_type": "code",
      "metadata": {
        "id": "8fi9pJXIRusA"
      },
      "source": [
        "ocrr_depois_merge = pd.concat([ocrr_2018_depois, ocrr_depois])"
      ],
      "execution_count": 56,
      "outputs": []
    },
    {
      "cell_type": "code",
      "metadata": {
        "id": "9w8socJpAE-e"
      },
      "source": [
        "ocrr_depois_merge = ocrr_depois_merge.sort_values(['Ano', 'Mes'])"
      ],
      "execution_count": 59,
      "outputs": []
    },
    {
      "cell_type": "code",
      "metadata": {
        "colab": {
          "base_uri": "https://localhost:8080/",
          "height": 424
        },
        "id": "9tzCJK7TR1L8",
        "outputId": "222a7e12-62ae-4c2e-f3a4-5af597072df7"
      },
      "source": [
        "ocrr_depois_merge"
      ],
      "execution_count": 60,
      "outputs": [
        {
          "output_type": "execute_result",
          "data": {
            "text/html": [
              "<div>\n",
              "<style scoped>\n",
              "    .dataframe tbody tr th:only-of-type {\n",
              "        vertical-align: middle;\n",
              "    }\n",
              "\n",
              "    .dataframe tbody tr th {\n",
              "        vertical-align: top;\n",
              "    }\n",
              "\n",
              "    .dataframe thead th {\n",
              "        text-align: right;\n",
              "    }\n",
              "</style>\n",
              "<table border=\"1\" class=\"dataframe\">\n",
              "  <thead>\n",
              "    <tr style=\"text-align: right;\">\n",
              "      <th></th>\n",
              "      <th>UF</th>\n",
              "      <th>TipoCrime</th>\n",
              "      <th>Ano</th>\n",
              "      <th>Mes</th>\n",
              "      <th>Ocorrencias</th>\n",
              "    </tr>\n",
              "  </thead>\n",
              "  <tbody>\n",
              "    <tr>\n",
              "      <th>7262</th>\n",
              "      <td>Acre</td>\n",
              "      <td>Estupro</td>\n",
              "      <td>2018</td>\n",
              "      <td>07_julho</td>\n",
              "      <td>16</td>\n",
              "    </tr>\n",
              "    <tr>\n",
              "      <th>7264</th>\n",
              "      <td>Acre</td>\n",
              "      <td>Homicídio doloso</td>\n",
              "      <td>2018</td>\n",
              "      <td>07_julho</td>\n",
              "      <td>51</td>\n",
              "    </tr>\n",
              "    <tr>\n",
              "      <th>7269</th>\n",
              "      <td>Acre</td>\n",
              "      <td>Roubo seguido de morte (latrocínio)</td>\n",
              "      <td>2018</td>\n",
              "      <td>07_julho</td>\n",
              "      <td>0</td>\n",
              "    </tr>\n",
              "    <tr>\n",
              "      <th>7270</th>\n",
              "      <td>Acre</td>\n",
              "      <td>Tentativa de homicídio</td>\n",
              "      <td>2018</td>\n",
              "      <td>07_julho</td>\n",
              "      <td>11</td>\n",
              "    </tr>\n",
              "    <tr>\n",
              "      <th>7370</th>\n",
              "      <td>Alagoas</td>\n",
              "      <td>Estupro</td>\n",
              "      <td>2018</td>\n",
              "      <td>07_julho</td>\n",
              "      <td>34</td>\n",
              "    </tr>\n",
              "    <tr>\n",
              "      <th>...</th>\n",
              "      <td>...</td>\n",
              "      <td>...</td>\n",
              "      <td>...</td>\n",
              "      <td>...</td>\n",
              "      <td>...</td>\n",
              "    </tr>\n",
              "    <tr>\n",
              "      <th>1386</th>\n",
              "      <td>Sergipe</td>\n",
              "      <td>Tentativa de homicídio</td>\n",
              "      <td>2021</td>\n",
              "      <td>06_junho</td>\n",
              "      <td>72</td>\n",
              "    </tr>\n",
              "    <tr>\n",
              "      <th>1432</th>\n",
              "      <td>Tocantins</td>\n",
              "      <td>Estupro</td>\n",
              "      <td>2021</td>\n",
              "      <td>06_junho</td>\n",
              "      <td>62</td>\n",
              "    </tr>\n",
              "    <tr>\n",
              "      <th>1434</th>\n",
              "      <td>Tocantins</td>\n",
              "      <td>Homicídio doloso</td>\n",
              "      <td>2021</td>\n",
              "      <td>06_junho</td>\n",
              "      <td>24</td>\n",
              "    </tr>\n",
              "    <tr>\n",
              "      <th>1439</th>\n",
              "      <td>Tocantins</td>\n",
              "      <td>Roubo seguido de morte (latrocínio)</td>\n",
              "      <td>2021</td>\n",
              "      <td>06_junho</td>\n",
              "      <td>1</td>\n",
              "    </tr>\n",
              "    <tr>\n",
              "      <th>1440</th>\n",
              "      <td>Tocantins</td>\n",
              "      <td>Tentativa de homicídio</td>\n",
              "      <td>2021</td>\n",
              "      <td>06_junho</td>\n",
              "      <td>22</td>\n",
              "    </tr>\n",
              "  </tbody>\n",
              "</table>\n",
              "<p>3871 rows × 5 columns</p>\n",
              "</div>"
            ],
            "text/plain": [
              "             UF                            TipoCrime  ...       Mes Ocorrencias\n",
              "7262       Acre                              Estupro  ...  07_julho          16\n",
              "7264       Acre                     Homicídio doloso  ...  07_julho          51\n",
              "7269       Acre  Roubo seguido de morte (latrocínio)  ...  07_julho           0\n",
              "7270       Acre               Tentativa de homicídio  ...  07_julho          11\n",
              "7370    Alagoas                              Estupro  ...  07_julho          34\n",
              "...         ...                                  ...  ...       ...         ...\n",
              "1386    Sergipe               Tentativa de homicídio  ...  06_junho          72\n",
              "1432  Tocantins                              Estupro  ...  06_junho          62\n",
              "1434  Tocantins                     Homicídio doloso  ...  06_junho          24\n",
              "1439  Tocantins  Roubo seguido de morte (latrocínio)  ...  06_junho           1\n",
              "1440  Tocantins               Tentativa de homicídio  ...  06_junho          22\n",
              "\n",
              "[3871 rows x 5 columns]"
            ]
          },
          "metadata": {},
          "execution_count": 60
        }
      ]
    },
    {
      "cell_type": "code",
      "metadata": {
        "colab": {
          "base_uri": "https://localhost:8080/",
          "height": 424
        },
        "id": "w5-Q9ZmyUbmc",
        "outputId": "f5d6c2ff-e787-4241-d6e8-ec8cebacae1b"
      },
      "source": [
        "def estrati_estado (data,uf):\n",
        "  estado = data.UF.isin([uf])\n",
        "  return estado\n",
        "\n",
        "df_2.loc[estrati_estado(df_2,'Acre')]"
      ],
      "execution_count": 61,
      "outputs": [
        {
          "output_type": "execute_result",
          "data": {
            "text/html": [
              "<div>\n",
              "<style scoped>\n",
              "    .dataframe tbody tr th:only-of-type {\n",
              "        vertical-align: middle;\n",
              "    }\n",
              "\n",
              "    .dataframe tbody tr th {\n",
              "        vertical-align: top;\n",
              "    }\n",
              "\n",
              "    .dataframe thead th {\n",
              "        text-align: right;\n",
              "    }\n",
              "</style>\n",
              "<table border=\"1\" class=\"dataframe\">\n",
              "  <thead>\n",
              "    <tr style=\"text-align: right;\">\n",
              "      <th></th>\n",
              "      <th>UF</th>\n",
              "      <th>TipoCrime</th>\n",
              "      <th>Ano</th>\n",
              "      <th>Mes</th>\n",
              "      <th>Ocorrencias</th>\n",
              "    </tr>\n",
              "  </thead>\n",
              "  <tbody>\n",
              "    <tr>\n",
              "      <th>0</th>\n",
              "      <td>Acre</td>\n",
              "      <td>Estupro</td>\n",
              "      <td>2021</td>\n",
              "      <td>01_janeiro</td>\n",
              "      <td>39</td>\n",
              "    </tr>\n",
              "    <tr>\n",
              "      <th>2</th>\n",
              "      <td>Acre</td>\n",
              "      <td>Homicídio doloso</td>\n",
              "      <td>2021</td>\n",
              "      <td>01_janeiro</td>\n",
              "      <td>14</td>\n",
              "    </tr>\n",
              "    <tr>\n",
              "      <th>7</th>\n",
              "      <td>Acre</td>\n",
              "      <td>Roubo seguido de morte (latrocínio)</td>\n",
              "      <td>2021</td>\n",
              "      <td>01_janeiro</td>\n",
              "      <td>1</td>\n",
              "    </tr>\n",
              "    <tr>\n",
              "      <th>8</th>\n",
              "      <td>Acre</td>\n",
              "      <td>Tentativa de homicídio</td>\n",
              "      <td>2021</td>\n",
              "      <td>01_janeiro</td>\n",
              "      <td>10</td>\n",
              "    </tr>\n",
              "    <tr>\n",
              "      <th>9</th>\n",
              "      <td>Acre</td>\n",
              "      <td>Estupro</td>\n",
              "      <td>2021</td>\n",
              "      <td>02_fevereiro</td>\n",
              "      <td>23</td>\n",
              "    </tr>\n",
              "    <tr>\n",
              "      <th>...</th>\n",
              "      <td>...</td>\n",
              "      <td>...</td>\n",
              "      <td>...</td>\n",
              "      <td>...</td>\n",
              "      <td>...</td>\n",
              "    </tr>\n",
              "    <tr>\n",
              "      <th>13109</th>\n",
              "      <td>Acre</td>\n",
              "      <td>Tentativa de homicídio</td>\n",
              "      <td>2016</td>\n",
              "      <td>11_novembro</td>\n",
              "      <td>0</td>\n",
              "    </tr>\n",
              "    <tr>\n",
              "      <th>13110</th>\n",
              "      <td>Acre</td>\n",
              "      <td>Estupro</td>\n",
              "      <td>2016</td>\n",
              "      <td>12_dezembro</td>\n",
              "      <td>4</td>\n",
              "    </tr>\n",
              "    <tr>\n",
              "      <th>13112</th>\n",
              "      <td>Acre</td>\n",
              "      <td>Homicídio doloso</td>\n",
              "      <td>2016</td>\n",
              "      <td>12_dezembro</td>\n",
              "      <td>142</td>\n",
              "    </tr>\n",
              "    <tr>\n",
              "      <th>13117</th>\n",
              "      <td>Acre</td>\n",
              "      <td>Roubo seguido de morte (latrocínio)</td>\n",
              "      <td>2016</td>\n",
              "      <td>12_dezembro</td>\n",
              "      <td>4</td>\n",
              "    </tr>\n",
              "    <tr>\n",
              "      <th>13118</th>\n",
              "      <td>Acre</td>\n",
              "      <td>Tentativa de homicídio</td>\n",
              "      <td>2016</td>\n",
              "      <td>12_dezembro</td>\n",
              "      <td>0</td>\n",
              "    </tr>\n",
              "  </tbody>\n",
              "</table>\n",
              "<p>264 rows × 5 columns</p>\n",
              "</div>"
            ],
            "text/plain": [
              "         UF                            TipoCrime  ...           Mes Ocorrencias\n",
              "0      Acre                              Estupro  ...    01_janeiro          39\n",
              "2      Acre                     Homicídio doloso  ...    01_janeiro          14\n",
              "7      Acre  Roubo seguido de morte (latrocínio)  ...    01_janeiro           1\n",
              "8      Acre               Tentativa de homicídio  ...    01_janeiro          10\n",
              "9      Acre                              Estupro  ...  02_fevereiro          23\n",
              "...     ...                                  ...  ...           ...         ...\n",
              "13109  Acre               Tentativa de homicídio  ...   11_novembro           0\n",
              "13110  Acre                              Estupro  ...   12_dezembro           4\n",
              "13112  Acre                     Homicídio doloso  ...   12_dezembro         142\n",
              "13117  Acre  Roubo seguido de morte (latrocínio)  ...   12_dezembro           4\n",
              "13118  Acre               Tentativa de homicídio  ...   12_dezembro           0\n",
              "\n",
              "[264 rows x 5 columns]"
            ]
          },
          "metadata": {},
          "execution_count": 61
        }
      ]
    },
    {
      "cell_type": "code",
      "metadata": {
        "colab": {
          "base_uri": "https://localhost:8080/"
        },
        "id": "KQglb03yWred",
        "outputId": "5f515fff-a55f-4034-c8e2-a31f077230fb"
      },
      "source": [
        "df_2['UF'].unique()"
      ],
      "execution_count": 62,
      "outputs": [
        {
          "output_type": "execute_result",
          "data": {
            "text/plain": [
              "array(['Acre', 'Alagoas', 'Amapá', 'Amazonas', 'Bahia', 'Ceará',\n",
              "       'Distrito Federal', 'Espírito Santo', 'Goiás', 'Maranhão',\n",
              "       'Mato Grosso', 'Mato Grosso do Sul', 'Minas Gerais', 'Pará',\n",
              "       'Paraíba', 'Paraná', 'Pernambuco', 'Piauí', 'Rio de Janeiro',\n",
              "       'Rio Grande do Norte', 'Rio Grande do Sul', 'Rondônia', 'Roraima',\n",
              "       'Santa Catarina', 'São Paulo', 'Sergipe', 'Tocantins'],\n",
              "      dtype=object)"
            ]
          },
          "metadata": {},
          "execution_count": 62
        }
      ]
    },
    {
      "cell_type": "code",
      "metadata": {
        "colab": {
          "base_uri": "https://localhost:8080/"
        },
        "id": "MpJyrd0lR1eg",
        "outputId": "d6722793-5efd-41c2-9aab-daa99ea78ec3"
      },
      "source": [
        "ocrr_antes_merge['Ocorrencias'].describe()"
      ],
      "execution_count": 63,
      "outputs": [
        {
          "output_type": "execute_result",
          "data": {
            "text/plain": [
              "count    3132.000000\n",
              "mean      111.404853\n",
              "std       144.709589\n",
              "min         0.000000\n",
              "25%        12.000000\n",
              "50%        55.000000\n",
              "75%       145.000000\n",
              "max      1185.000000\n",
              "Name: Ocorrencias, dtype: float64"
            ]
          },
          "metadata": {},
          "execution_count": 63
        }
      ]
    },
    {
      "cell_type": "code",
      "metadata": {
        "colab": {
          "base_uri": "https://localhost:8080/"
        },
        "id": "woJlBc-gSDV3",
        "outputId": "289c581d-c419-41c1-f666-cca941791d5a"
      },
      "source": [
        "ocrr_depois_merge['Ocorrencias'].describe()"
      ],
      "execution_count": 64,
      "outputs": [
        {
          "output_type": "execute_result",
          "data": {
            "text/plain": [
              "count    3871.000000\n",
              "mean       96.951692\n",
              "std       134.353312\n",
              "min         0.000000\n",
              "25%        11.000000\n",
              "50%        51.000000\n",
              "75%       131.000000\n",
              "max      1306.000000\n",
              "Name: Ocorrencias, dtype: float64"
            ]
          },
          "metadata": {},
          "execution_count": 64
        }
      ]
    },
    {
      "cell_type": "code",
      "metadata": {
        "colab": {
          "base_uri": "https://localhost:8080/",
          "height": 285
        },
        "id": "xK_UBwUGSElj",
        "outputId": "e8985bee-e4c3-4a44-ea92-450821482a45"
      },
      "source": [
        "ocrr_antes_merge[ocrr_antes_merge['Ocorrencias'] > 0]['Ocorrencias'].plot(kind='box')"
      ],
      "execution_count": null,
      "outputs": [
        {
          "output_type": "execute_result",
          "data": {
            "text/plain": [
              "<matplotlib.axes._subplots.AxesSubplot at 0x7f0968441790>"
            ]
          },
          "metadata": {},
          "execution_count": 80
        },
        {
          "output_type": "display_data",
          "data": {
            "image/png": "[encoded data removed]",
            "text/plain": [
              "<Figure size 432x288 with 1 Axes>"
            ]
          },
          "metadata": {
            "needs_background": "light"
          }
        }
      ]
    },
    {
      "cell_type": "code",
      "metadata": {
        "colab": {
          "base_uri": "https://localhost:8080/",
          "height": 285
        },
        "id": "f9h9YAYGSg2I",
        "outputId": "87d47f7b-0fb6-48d0-c123-69c4e11b0b96"
      },
      "source": [
        "ocrr_depois_merge[ocrr_depois_merge['Ocorrencias'] > 0]['Ocorrencias'].plot(kind='box')"
      ],
      "execution_count": null,
      "outputs": [
        {
          "output_type": "execute_result",
          "data": {
            "text/plain": [
              "<matplotlib.axes._subplots.AxesSubplot at 0x7f09694aba90>"
            ]
          },
          "metadata": {},
          "execution_count": 81
        },
        {
          "output_type": "display_data",
          "data": {
            "image/png": "[encoded data removed]",
            "text/plain": [
              "<Figure size 432x288 with 1 Axes>"
            ]
          },
          "metadata": {
            "needs_background": "light"
          }
        }
      ]
    },
    {
      "cell_type": "markdown",
      "metadata": {
        "id": "JAz5MTY7SvC5"
      },
      "source": [
        "\n",
        "\n",
        "*   H0: O número de ocorrências não diminuiu depois da Lei\n",
        "*   H1: O número de ocorrências diminuiu depois da Lei\n",
        "\n"
      ]
    },
    {
      "cell_type": "code",
      "metadata": {
        "id": "KWXUXpuzWxn4"
      },
      "source": [
        "arr_estados = ['Acre', 'Alagoas', 'Amapá', 'Amazonas', 'Bahia', 'Ceará',\n",
        "       'Distrito Federal', 'Espírito Santo', 'Goiás', 'Maranhão',\n",
        "       'Mato Grosso', 'Mato Grosso do Sul', 'Minas Gerais', 'Pará',\n",
        "       'Paraíba', 'Paraná', 'Pernambuco', 'Piauí', 'Rio de Janeiro',\n",
        "       'Rio Grande do Norte', 'Rio Grande do Sul', 'Rondônia', 'Roraima',\n",
        "       'Santa Catarina', 'São Paulo', 'Sergipe', 'Tocantins']"
      ],
      "execution_count": 65,
      "outputs": []
    },
    {
      "cell_type": "code",
      "metadata": {
        "id": "jf_G4NtYWWC0"
      },
      "source": [
        "ocrr_antes_merge_estado = ocrr_antes_merge.loc[estrati_estado(ocrr_antes_merge,'Acre')]"
      ],
      "execution_count": 66,
      "outputs": []
    },
    {
      "cell_type": "code",
      "metadata": {
        "colab": {
          "base_uri": "https://localhost:8080/"
        },
        "id": "dz4LDTMzSo2B",
        "outputId": "749f0e5d-b8de-4556-d185-0540f3a0c6c3"
      },
      "source": [
        "stats.shapiro(ocrr_antes_merge_estado['Ocorrencias'].dropna())\n"
      ],
      "execution_count": 67,
      "outputs": [
        {
          "output_type": "execute_result",
          "data": {
            "text/plain": [
              "(0.5837048292160034, 1.3187804033403964e-16)"
            ]
          },
          "metadata": {},
          "execution_count": 67
        }
      ]
    },
    {
      "cell_type": "code",
      "metadata": {
        "id": "hI5Bix0EWlt5"
      },
      "source": [
        "def lista_pvalue(df):\n",
        "  lista_p_valor = []\n",
        "  for i in arr_estados:\n",
        "    ocrr_antes_merge_estado = df.loc[estrati_estado(df,i)]\n",
        "    #print(\"Estado\", i)\n",
        "    #print(stats.shapiro(ocrr_antes_merge_estado['Ocorrencias'].dropna()))\n",
        "    shapiro_test = stats.shapiro(ocrr_antes_merge_estado['Ocorrencias'])\n",
        "    #print(shapiro_test[1])\n",
        "    lista_p_valor.append(shapiro_test[1])\n",
        "    #print(\"---------------\")\n",
        "  return lista_p_valor"
      ],
      "execution_count": 68,
      "outputs": []
    },
    {
      "cell_type": "code",
      "metadata": {
        "colab": {
          "base_uri": "https://localhost:8080/"
        },
        "id": "3igVNs43bgxc",
        "outputId": "e3c3fc02-3268-41c1-f100-0b6c406a9d92"
      },
      "source": [
        "lista_pvalue(ocrr_antes_merge)"
      ],
      "execution_count": 69,
      "outputs": [
        {
          "output_type": "execute_result",
          "data": {
            "text/plain": [
              "[1.3187804033403964e-16,\n",
              " 8.849267629784663e-08,\n",
              " 3.7699282984249294e-05,\n",
              " 8.850430077700366e-08,\n",
              " 2.2734776905508625e-07,\n",
              " 7.869296325679898e-09,\n",
              " 1.3709517361348844e-06,\n",
              " 1.3880904425889184e-08,\n",
              " 8.180183641570693e-09,\n",
              " 4.8716669880377594e-06,\n",
              " 3.7331581381749857e-08,\n",
              " 3.553251417542924e-07,\n",
              " 2.0653808974202548e-07,\n",
              " 1.9767051639973943e-07,\n",
              " 1.4257668656814104e-10,\n",
              " 1.2447487485189868e-10,\n",
              " 1.169546703749802e-05,\n",
              " 4.834848521539925e-09,\n",
              " 1.4566531574694563e-12,\n",
              " 2.2307819687891837e-15,\n",
              " 1.3974490684631746e-06,\n",
              " 2.0312304513936397e-06,\n",
              " 6.364126602420583e-05,\n",
              " 1.2925475800784625e-07,\n",
              " 7.600574059019038e-10,\n",
              " 6.931760708539514e-06,\n",
              " 1.5744803022244014e-05]"
            ]
          },
          "metadata": {},
          "execution_count": 69
        }
      ]
    },
    {
      "cell_type": "code",
      "metadata": {
        "id": "8NY5RLNtXjk2",
        "colab": {
          "base_uri": "https://localhost:8080/"
        },
        "outputId": "103fe281-0f3c-4b66-8c33-57730be5e26c"
      },
      "source": [
        "lista_pvalue(ocrr_depois_merge)"
      ],
      "execution_count": 70,
      "outputs": [
        {
          "output_type": "execute_result",
          "data": {
            "text/plain": [
              "[6.684597337880405e-06,\n",
              " 4.3484360503498465e-06,\n",
              " 8.113588592095766e-06,\n",
              " 2.0520321442063505e-08,\n",
              " 7.517317044403171e-07,\n",
              " 2.348067056345826e-07,\n",
              " 2.6189543405052973e-06,\n",
              " 4.081095426045067e-07,\n",
              " 1.0005255290934656e-08,\n",
              " 2.570203889717959e-07,\n",
              " 1.4861345221106603e-07,\n",
              " 6.507597238858409e-10,\n",
              " 1.4001267345520318e-07,\n",
              " 6.368680374180258e-07,\n",
              " 7.650729008656931e-12,\n",
              " 6.44894565266646e-13,\n",
              " 4.230593653176129e-10,\n",
              " 8.951867580542228e-10,\n",
              " 1.564622875704913e-10,\n",
              " 8.018657786379446e-12,\n",
              " 5.193207357478968e-07,\n",
              " 6.11860787103069e-06,\n",
              " 7.894548303966076e-08,\n",
              " 5.785440748695692e-07,\n",
              " 4.849039464231708e-13,\n",
              " 4.839013634239109e-09,\n",
              " 1.4303752323030494e-05]"
            ]
          },
          "metadata": {},
          "execution_count": 70
        }
      ]
    },
    {
      "cell_type": "code",
      "metadata": {
        "colab": {
          "base_uri": "https://localhost:8080/",
          "height": 896
        },
        "id": "fY1OwATYbwnm",
        "outputId": "6260d266-87f4-476b-ec99-290fac37d9de"
      },
      "source": [
        "data_pvalue = {'UF': arr_estados, 'pvalue_antes': lista_pvalue(ocrr_antes_merge), 'pvalue_depois': lista_pvalue(ocrr_depois_merge)}\n",
        "df_pvalue = pd.DataFrame(data=data_pvalue)\n",
        "df_pvalue"
      ],
      "execution_count": 71,
      "outputs": [
        {
          "output_type": "execute_result",
          "data": {
            "text/html": [
              "<div>\n",
              "<style scoped>\n",
              "    .dataframe tbody tr th:only-of-type {\n",
              "        vertical-align: middle;\n",
              "    }\n",
              "\n",
              "    .dataframe tbody tr th {\n",
              "        vertical-align: top;\n",
              "    }\n",
              "\n",
              "    .dataframe thead th {\n",
              "        text-align: right;\n",
              "    }\n",
              "</style>\n",
              "<table border=\"1\" class=\"dataframe\">\n",
              "  <thead>\n",
              "    <tr style=\"text-align: right;\">\n",
              "      <th></th>\n",
              "      <th>UF</th>\n",
              "      <th>pvalue_antes</th>\n",
              "      <th>pvalue_depois</th>\n",
              "    </tr>\n",
              "  </thead>\n",
              "  <tbody>\n",
              "    <tr>\n",
              "      <th>0</th>\n",
              "      <td>Acre</td>\n",
              "      <td>1.318780e-16</td>\n",
              "      <td>6.684597e-06</td>\n",
              "    </tr>\n",
              "    <tr>\n",
              "      <th>1</th>\n",
              "      <td>Alagoas</td>\n",
              "      <td>8.849268e-08</td>\n",
              "      <td>4.348436e-06</td>\n",
              "    </tr>\n",
              "    <tr>\n",
              "      <th>2</th>\n",
              "      <td>Amapá</td>\n",
              "      <td>3.769928e-05</td>\n",
              "      <td>8.113589e-06</td>\n",
              "    </tr>\n",
              "    <tr>\n",
              "      <th>3</th>\n",
              "      <td>Amazonas</td>\n",
              "      <td>8.850430e-08</td>\n",
              "      <td>2.052032e-08</td>\n",
              "    </tr>\n",
              "    <tr>\n",
              "      <th>4</th>\n",
              "      <td>Bahia</td>\n",
              "      <td>2.273478e-07</td>\n",
              "      <td>7.517317e-07</td>\n",
              "    </tr>\n",
              "    <tr>\n",
              "      <th>5</th>\n",
              "      <td>Ceará</td>\n",
              "      <td>7.869296e-09</td>\n",
              "      <td>2.348067e-07</td>\n",
              "    </tr>\n",
              "    <tr>\n",
              "      <th>6</th>\n",
              "      <td>Distrito Federal</td>\n",
              "      <td>1.370952e-06</td>\n",
              "      <td>2.618954e-06</td>\n",
              "    </tr>\n",
              "    <tr>\n",
              "      <th>7</th>\n",
              "      <td>Espírito Santo</td>\n",
              "      <td>1.388090e-08</td>\n",
              "      <td>4.081095e-07</td>\n",
              "    </tr>\n",
              "    <tr>\n",
              "      <th>8</th>\n",
              "      <td>Goiás</td>\n",
              "      <td>8.180184e-09</td>\n",
              "      <td>1.000526e-08</td>\n",
              "    </tr>\n",
              "    <tr>\n",
              "      <th>9</th>\n",
              "      <td>Maranhão</td>\n",
              "      <td>4.871667e-06</td>\n",
              "      <td>2.570204e-07</td>\n",
              "    </tr>\n",
              "    <tr>\n",
              "      <th>10</th>\n",
              "      <td>Mato Grosso</td>\n",
              "      <td>3.733158e-08</td>\n",
              "      <td>1.486135e-07</td>\n",
              "    </tr>\n",
              "    <tr>\n",
              "      <th>11</th>\n",
              "      <td>Mato Grosso do Sul</td>\n",
              "      <td>3.553251e-07</td>\n",
              "      <td>6.507597e-10</td>\n",
              "    </tr>\n",
              "    <tr>\n",
              "      <th>12</th>\n",
              "      <td>Minas Gerais</td>\n",
              "      <td>2.065381e-07</td>\n",
              "      <td>1.400127e-07</td>\n",
              "    </tr>\n",
              "    <tr>\n",
              "      <th>13</th>\n",
              "      <td>Pará</td>\n",
              "      <td>1.976705e-07</td>\n",
              "      <td>6.368680e-07</td>\n",
              "    </tr>\n",
              "    <tr>\n",
              "      <th>14</th>\n",
              "      <td>Paraíba</td>\n",
              "      <td>1.425767e-10</td>\n",
              "      <td>7.650729e-12</td>\n",
              "    </tr>\n",
              "    <tr>\n",
              "      <th>15</th>\n",
              "      <td>Paraná</td>\n",
              "      <td>1.244749e-10</td>\n",
              "      <td>6.448946e-13</td>\n",
              "    </tr>\n",
              "    <tr>\n",
              "      <th>16</th>\n",
              "      <td>Pernambuco</td>\n",
              "      <td>1.169547e-05</td>\n",
              "      <td>4.230594e-10</td>\n",
              "    </tr>\n",
              "    <tr>\n",
              "      <th>17</th>\n",
              "      <td>Piauí</td>\n",
              "      <td>4.834849e-09</td>\n",
              "      <td>8.951868e-10</td>\n",
              "    </tr>\n",
              "    <tr>\n",
              "      <th>18</th>\n",
              "      <td>Rio de Janeiro</td>\n",
              "      <td>1.456653e-12</td>\n",
              "      <td>1.564623e-10</td>\n",
              "    </tr>\n",
              "    <tr>\n",
              "      <th>19</th>\n",
              "      <td>Rio Grande do Norte</td>\n",
              "      <td>2.230782e-15</td>\n",
              "      <td>8.018658e-12</td>\n",
              "    </tr>\n",
              "    <tr>\n",
              "      <th>20</th>\n",
              "      <td>Rio Grande do Sul</td>\n",
              "      <td>1.397449e-06</td>\n",
              "      <td>5.193207e-07</td>\n",
              "    </tr>\n",
              "    <tr>\n",
              "      <th>21</th>\n",
              "      <td>Rondônia</td>\n",
              "      <td>2.031230e-06</td>\n",
              "      <td>6.118608e-06</td>\n",
              "    </tr>\n",
              "    <tr>\n",
              "      <th>22</th>\n",
              "      <td>Roraima</td>\n",
              "      <td>6.364127e-05</td>\n",
              "      <td>7.894548e-08</td>\n",
              "    </tr>\n",
              "    <tr>\n",
              "      <th>23</th>\n",
              "      <td>Santa Catarina</td>\n",
              "      <td>1.292548e-07</td>\n",
              "      <td>5.785441e-07</td>\n",
              "    </tr>\n",
              "    <tr>\n",
              "      <th>24</th>\n",
              "      <td>São Paulo</td>\n",
              "      <td>7.600574e-10</td>\n",
              "      <td>4.849039e-13</td>\n",
              "    </tr>\n",
              "    <tr>\n",
              "      <th>25</th>\n",
              "      <td>Sergipe</td>\n",
              "      <td>6.931761e-06</td>\n",
              "      <td>4.839014e-09</td>\n",
              "    </tr>\n",
              "    <tr>\n",
              "      <th>26</th>\n",
              "      <td>Tocantins</td>\n",
              "      <td>1.574480e-05</td>\n",
              "      <td>1.430375e-05</td>\n",
              "    </tr>\n",
              "  </tbody>\n",
              "</table>\n",
              "</div>"
            ],
            "text/plain": [
              "                     UF  pvalue_antes  pvalue_depois\n",
              "0                  Acre  1.318780e-16   6.684597e-06\n",
              "1               Alagoas  8.849268e-08   4.348436e-06\n",
              "2                 Amapá  3.769928e-05   8.113589e-06\n",
              "3              Amazonas  8.850430e-08   2.052032e-08\n",
              "4                 Bahia  2.273478e-07   7.517317e-07\n",
              "5                 Ceará  7.869296e-09   2.348067e-07\n",
              "6      Distrito Federal  1.370952e-06   2.618954e-06\n",
              "7        Espírito Santo  1.388090e-08   4.081095e-07\n",
              "8                 Goiás  8.180184e-09   1.000526e-08\n",
              "9              Maranhão  4.871667e-06   2.570204e-07\n",
              "10          Mato Grosso  3.733158e-08   1.486135e-07\n",
              "11   Mato Grosso do Sul  3.553251e-07   6.507597e-10\n",
              "12         Minas Gerais  2.065381e-07   1.400127e-07\n",
              "13                 Pará  1.976705e-07   6.368680e-07\n",
              "14              Paraíba  1.425767e-10   7.650729e-12\n",
              "15               Paraná  1.244749e-10   6.448946e-13\n",
              "16           Pernambuco  1.169547e-05   4.230594e-10\n",
              "17                Piauí  4.834849e-09   8.951868e-10\n",
              "18       Rio de Janeiro  1.456653e-12   1.564623e-10\n",
              "19  Rio Grande do Norte  2.230782e-15   8.018658e-12\n",
              "20    Rio Grande do Sul  1.397449e-06   5.193207e-07\n",
              "21             Rondônia  2.031230e-06   6.118608e-06\n",
              "22              Roraima  6.364127e-05   7.894548e-08\n",
              "23       Santa Catarina  1.292548e-07   5.785441e-07\n",
              "24            São Paulo  7.600574e-10   4.849039e-13\n",
              "25              Sergipe  6.931761e-06   4.839014e-09\n",
              "26            Tocantins  1.574480e-05   1.430375e-05"
            ]
          },
          "metadata": {},
          "execution_count": 71
        }
      ]
    },
    {
      "cell_type": "code",
      "metadata": {
        "colab": {
          "base_uri": "https://localhost:8080/"
        },
        "id": "iqT3j27UcrAl",
        "outputId": "6d1e8c7b-a846-4791-e440-c28a39520802"
      },
      "source": [
        "for i in df_pvalue['pvalue_antes']:\n",
        "  if i > 0.05:\n",
        "    print(\"Nornal\")\n",
        "  else:\n",
        "    print(\"Não normal\")"
      ],
      "execution_count": 72,
      "outputs": [
        {
          "output_type": "stream",
          "name": "stdout",
          "text": [
            "Não normal\n",
            "Não normal\n",
            "Não normal\n",
            "Não normal\n",
            "Não normal\n",
            "Não normal\n",
            "Não normal\n",
            "Não normal\n",
            "Não normal\n",
            "Não normal\n",
            "Não normal\n",
            "Não normal\n",
            "Não normal\n",
            "Não normal\n",
            "Não normal\n",
            "Não normal\n",
            "Não normal\n",
            "Não normal\n",
            "Não normal\n",
            "Não normal\n",
            "Não normal\n",
            "Não normal\n",
            "Não normal\n",
            "Não normal\n",
            "Não normal\n",
            "Não normal\n",
            "Não normal\n"
          ]
        }
      ]
    },
    {
      "cell_type": "code",
      "metadata": {
        "colab": {
          "base_uri": "https://localhost:8080/"
        },
        "id": "eu2iR3irfVIF",
        "outputId": "783b2b3f-30c2-484d-f8c8-06b09159fd4a"
      },
      "source": [
        "for i in df_pvalue['pvalue_depois']:\n",
        "  if i > 0.05:\n",
        "    print(\"Nornal\")\n",
        "  else:\n",
        "    print(\"Não normal\")"
      ],
      "execution_count": 73,
      "outputs": [
        {
          "output_type": "stream",
          "name": "stdout",
          "text": [
            "Não normal\n",
            "Não normal\n",
            "Não normal\n",
            "Não normal\n",
            "Não normal\n",
            "Não normal\n",
            "Não normal\n",
            "Não normal\n",
            "Não normal\n",
            "Não normal\n",
            "Não normal\n",
            "Não normal\n",
            "Não normal\n",
            "Não normal\n",
            "Não normal\n",
            "Não normal\n",
            "Não normal\n",
            "Não normal\n",
            "Não normal\n",
            "Não normal\n",
            "Não normal\n",
            "Não normal\n",
            "Não normal\n",
            "Não normal\n",
            "Não normal\n",
            "Não normal\n",
            "Não normal\n"
          ]
        }
      ]
    },
    {
      "cell_type": "markdown",
      "metadata": {
        "id": "c2uX89xgfqhr"
      },
      "source": [
        "mann-whitney test"
      ]
    },
    {
      "cell_type": "code",
      "metadata": {
        "colab": {
          "base_uri": "https://localhost:8080/"
        },
        "id": "T-akWoFdfcs7",
        "outputId": "a566ce7a-4240-486a-c25a-c58df250364c"
      },
      "source": [
        "from scipy.stats import wilcoxon\n",
        "arr_man_whit_pvalue = []\n",
        "for i in arr_estados:\n",
        "    ocrr_antes_merge_estado = ocrr_antes_merge.loc[estrati_estado(ocrr_antes_merge,i)]\n",
        "    ocrr_depois_merge_estado = ocrr_depois_merge.loc[estrati_estado(ocrr_depois_merge,i)]\n",
        "    print(\"Estado\", i)\n",
        "    #print(stats.shapiro(ocrr_antes_merge_estado['Ocorrencias'].dropna()))\n",
        "    #shapiro_test = wilcoxon(ocrr_antes_merge['Ocorrencias'])\n",
        "    shapiro_test, pvalor = stats.mannwhitneyu(ocrr_antes_merge_estado['Ocorrencias'], ocrr_depois_merge_estado['Ocorrencias'], alternative='less')\n",
        "    print(shapiro_test)\n",
        "    print(pvalor)\n",
        "    arr_man_whit_pvalue.append(pvalor)\n",
        "    print(\"---------------\")\n",
        "  \n"
      ],
      "execution_count": 74,
      "outputs": [
        {
          "output_type": "stream",
          "name": "stdout",
          "text": [
            "Estado Acre\n",
            "5739.5\n",
            "6.905539252542011e-06\n",
            "---------------\n",
            "Estado Alagoas\n",
            "9761.0\n",
            "0.9947518488744151\n",
            "---------------\n",
            "Estado Amapá\n",
            "8954.5\n",
            "0.9679809225090497\n",
            "---------------\n",
            "Estado Amazonas\n",
            "9171.0\n",
            "0.9130662676806887\n",
            "---------------\n",
            "Estado Bahia\n",
            "9808.5\n",
            "0.992184209926556\n",
            "---------------\n",
            "Estado Ceará\n",
            "9074.0\n",
            "0.8847283614065966\n",
            "---------------\n",
            "Estado Distrito Federal\n",
            "10100.5\n",
            "0.9981516459871536\n",
            "---------------\n",
            "Estado Espírito Santo\n",
            "8596.5\n",
            "0.6578350580745616\n",
            "---------------\n",
            "Estado Goiás\n",
            "10372.0\n",
            "0.999737192132378\n",
            "---------------\n",
            "Estado Maranhão\n",
            "8773.5\n",
            "0.7581179043667705\n",
            "---------------\n",
            "Estado Mato Grosso\n",
            "10281.0\n",
            "0.9993175022822893\n",
            "---------------\n",
            "Estado Mato Grosso do Sul\n",
            "9528.0\n",
            "0.9746107650453337\n",
            "---------------\n",
            "Estado Minas Gerais\n",
            "10906.5\n",
            "0.9999887891941731\n",
            "---------------\n",
            "Estado Pará\n",
            "9706.5\n",
            "0.9877168843413098\n",
            "---------------\n",
            "Estado Paraíba\n",
            "9549.5\n",
            "0.9766126255747303\n",
            "---------------\n",
            "Estado Paraná\n",
            "8408.5\n",
            "0.5760707793795175\n",
            "---------------\n",
            "Estado Pernambuco\n",
            "9559.0\n",
            "0.9774377437666696\n",
            "---------------\n",
            "Estado Piauí\n",
            "9246.0\n",
            "0.9311928835752212\n",
            "---------------\n",
            "Estado Rio de Janeiro\n",
            "10914.5\n",
            "0.9999894243098572\n",
            "---------------\n",
            "Estado Rio Grande do Norte\n",
            "7220.5\n",
            "0.04426537268417517\n",
            "---------------\n",
            "Estado Rio Grande do Sul\n",
            "10809.0\n",
            "0.9999772349343223\n",
            "---------------\n",
            "Estado Rondônia\n",
            "9672.0\n",
            "0.9920337734809741\n",
            "---------------\n",
            "Estado Roraima\n",
            "7906.0\n",
            "0.2296522096060079\n",
            "---------------\n",
            "Estado Santa Catarina\n",
            "9006.0\n",
            "0.8612947618383991\n",
            "---------------\n",
            "Estado São Paulo\n",
            "9951.0\n",
            "0.996019605146654\n",
            "---------------\n",
            "Estado Sergipe\n",
            "8966.5\n",
            "0.8462918173228867\n",
            "---------------\n",
            "Estado Tocantins\n",
            "7072.5\n",
            "0.020754096442838352\n",
            "---------------\n"
          ]
        }
      ]
    },
    {
      "cell_type": "code",
      "metadata": {
        "colab": {
          "base_uri": "https://localhost:8080/",
          "height": 896
        },
        "id": "EQxwFOPxqLw8",
        "outputId": "eb7824e5-6ab3-44dc-b9e4-20771423933a"
      },
      "source": [
        "data_pvalue_man_whit = {'UF': arr_estados, 'pvalue_mann_whitney': arr_man_whit_pvalue}\n",
        "df_pvalue_mann_whit = pd.DataFrame(data=data_pvalue_man_whit)\n",
        "df_pvalue_mann_whit\n"
      ],
      "execution_count": 75,
      "outputs": [
        {
          "output_type": "execute_result",
          "data": {
            "text/html": [
              "<div>\n",
              "<style scoped>\n",
              "    .dataframe tbody tr th:only-of-type {\n",
              "        vertical-align: middle;\n",
              "    }\n",
              "\n",
              "    .dataframe tbody tr th {\n",
              "        vertical-align: top;\n",
              "    }\n",
              "\n",
              "    .dataframe thead th {\n",
              "        text-align: right;\n",
              "    }\n",
              "</style>\n",
              "<table border=\"1\" class=\"dataframe\">\n",
              "  <thead>\n",
              "    <tr style=\"text-align: right;\">\n",
              "      <th></th>\n",
              "      <th>UF</th>\n",
              "      <th>pvalue_mann_whitney</th>\n",
              "    </tr>\n",
              "  </thead>\n",
              "  <tbody>\n",
              "    <tr>\n",
              "      <th>0</th>\n",
              "      <td>Acre</td>\n",
              "      <td>0.000007</td>\n",
              "    </tr>\n",
              "    <tr>\n",
              "      <th>1</th>\n",
              "      <td>Alagoas</td>\n",
              "      <td>0.994752</td>\n",
              "    </tr>\n",
              "    <tr>\n",
              "      <th>2</th>\n",
              "      <td>Amapá</td>\n",
              "      <td>0.967981</td>\n",
              "    </tr>\n",
              "    <tr>\n",
              "      <th>3</th>\n",
              "      <td>Amazonas</td>\n",
              "      <td>0.913066</td>\n",
              "    </tr>\n",
              "    <tr>\n",
              "      <th>4</th>\n",
              "      <td>Bahia</td>\n",
              "      <td>0.992184</td>\n",
              "    </tr>\n",
              "    <tr>\n",
              "      <th>5</th>\n",
              "      <td>Ceará</td>\n",
              "      <td>0.884728</td>\n",
              "    </tr>\n",
              "    <tr>\n",
              "      <th>6</th>\n",
              "      <td>Distrito Federal</td>\n",
              "      <td>0.998152</td>\n",
              "    </tr>\n",
              "    <tr>\n",
              "      <th>7</th>\n",
              "      <td>Espírito Santo</td>\n",
              "      <td>0.657835</td>\n",
              "    </tr>\n",
              "    <tr>\n",
              "      <th>8</th>\n",
              "      <td>Goiás</td>\n",
              "      <td>0.999737</td>\n",
              "    </tr>\n",
              "    <tr>\n",
              "      <th>9</th>\n",
              "      <td>Maranhão</td>\n",
              "      <td>0.758118</td>\n",
              "    </tr>\n",
              "    <tr>\n",
              "      <th>10</th>\n",
              "      <td>Mato Grosso</td>\n",
              "      <td>0.999318</td>\n",
              "    </tr>\n",
              "    <tr>\n",
              "      <th>11</th>\n",
              "      <td>Mato Grosso do Sul</td>\n",
              "      <td>0.974611</td>\n",
              "    </tr>\n",
              "    <tr>\n",
              "      <th>12</th>\n",
              "      <td>Minas Gerais</td>\n",
              "      <td>0.999989</td>\n",
              "    </tr>\n",
              "    <tr>\n",
              "      <th>13</th>\n",
              "      <td>Pará</td>\n",
              "      <td>0.987717</td>\n",
              "    </tr>\n",
              "    <tr>\n",
              "      <th>14</th>\n",
              "      <td>Paraíba</td>\n",
              "      <td>0.976613</td>\n",
              "    </tr>\n",
              "    <tr>\n",
              "      <th>15</th>\n",
              "      <td>Paraná</td>\n",
              "      <td>0.576071</td>\n",
              "    </tr>\n",
              "    <tr>\n",
              "      <th>16</th>\n",
              "      <td>Pernambuco</td>\n",
              "      <td>0.977438</td>\n",
              "    </tr>\n",
              "    <tr>\n",
              "      <th>17</th>\n",
              "      <td>Piauí</td>\n",
              "      <td>0.931193</td>\n",
              "    </tr>\n",
              "    <tr>\n",
              "      <th>18</th>\n",
              "      <td>Rio de Janeiro</td>\n",
              "      <td>0.999989</td>\n",
              "    </tr>\n",
              "    <tr>\n",
              "      <th>19</th>\n",
              "      <td>Rio Grande do Norte</td>\n",
              "      <td>0.044265</td>\n",
              "    </tr>\n",
              "    <tr>\n",
              "      <th>20</th>\n",
              "      <td>Rio Grande do Sul</td>\n",
              "      <td>0.999977</td>\n",
              "    </tr>\n",
              "    <tr>\n",
              "      <th>21</th>\n",
              "      <td>Rondônia</td>\n",
              "      <td>0.992034</td>\n",
              "    </tr>\n",
              "    <tr>\n",
              "      <th>22</th>\n",
              "      <td>Roraima</td>\n",
              "      <td>0.229652</td>\n",
              "    </tr>\n",
              "    <tr>\n",
              "      <th>23</th>\n",
              "      <td>Santa Catarina</td>\n",
              "      <td>0.861295</td>\n",
              "    </tr>\n",
              "    <tr>\n",
              "      <th>24</th>\n",
              "      <td>São Paulo</td>\n",
              "      <td>0.996020</td>\n",
              "    </tr>\n",
              "    <tr>\n",
              "      <th>25</th>\n",
              "      <td>Sergipe</td>\n",
              "      <td>0.846292</td>\n",
              "    </tr>\n",
              "    <tr>\n",
              "      <th>26</th>\n",
              "      <td>Tocantins</td>\n",
              "      <td>0.020754</td>\n",
              "    </tr>\n",
              "  </tbody>\n",
              "</table>\n",
              "</div>"
            ],
            "text/plain": [
              "                     UF  pvalue_mann_whitney\n",
              "0                  Acre             0.000007\n",
              "1               Alagoas             0.994752\n",
              "2                 Amapá             0.967981\n",
              "3              Amazonas             0.913066\n",
              "4                 Bahia             0.992184\n",
              "5                 Ceará             0.884728\n",
              "6      Distrito Federal             0.998152\n",
              "7        Espírito Santo             0.657835\n",
              "8                 Goiás             0.999737\n",
              "9              Maranhão             0.758118\n",
              "10          Mato Grosso             0.999318\n",
              "11   Mato Grosso do Sul             0.974611\n",
              "12         Minas Gerais             0.999989\n",
              "13                 Pará             0.987717\n",
              "14              Paraíba             0.976613\n",
              "15               Paraná             0.576071\n",
              "16           Pernambuco             0.977438\n",
              "17                Piauí             0.931193\n",
              "18       Rio de Janeiro             0.999989\n",
              "19  Rio Grande do Norte             0.044265\n",
              "20    Rio Grande do Sul             0.999977\n",
              "21             Rondônia             0.992034\n",
              "22              Roraima             0.229652\n",
              "23       Santa Catarina             0.861295\n",
              "24            São Paulo             0.996020\n",
              "25              Sergipe             0.846292\n",
              "26            Tocantins             0.020754"
            ]
          },
          "metadata": {},
          "execution_count": 75
        }
      ]
    },
    {
      "cell_type": "code",
      "metadata": {
        "colab": {
          "base_uri": "https://localhost:8080/"
        },
        "id": "6GrxFE-hBoS6",
        "outputId": "6c90f3e6-93a3-4732-da60-7814fcd37b4a"
      },
      "source": [
        "arr_result = []\n",
        "for i in df_pvalue_mann_whit['pvalue_mann_whitney']:\n",
        "  if i > 0.05:\n",
        "    print(\"Falha em rejeitar\")\n",
        "    arr_result.append(1)\n",
        "  else:\n",
        "    print(\"Rejeita\")\n",
        "    arr_result.append(0)"
      ],
      "execution_count": 77,
      "outputs": [
        {
          "output_type": "stream",
          "name": "stdout",
          "text": [
            "Rejeita\n",
            "Falha em rejeitar\n",
            "Falha em rejeitar\n",
            "Falha em rejeitar\n",
            "Falha em rejeitar\n",
            "Falha em rejeitar\n",
            "Falha em rejeitar\n",
            "Falha em rejeitar\n",
            "Falha em rejeitar\n",
            "Falha em rejeitar\n",
            "Falha em rejeitar\n",
            "Falha em rejeitar\n",
            "Falha em rejeitar\n",
            "Falha em rejeitar\n",
            "Falha em rejeitar\n",
            "Falha em rejeitar\n",
            "Falha em rejeitar\n",
            "Falha em rejeitar\n",
            "Falha em rejeitar\n",
            "Rejeita\n",
            "Falha em rejeitar\n",
            "Falha em rejeitar\n",
            "Falha em rejeitar\n",
            "Falha em rejeitar\n",
            "Falha em rejeitar\n",
            "Falha em rejeitar\n",
            "Rejeita\n"
          ]
        }
      ]
    },
    {
      "cell_type": "code",
      "metadata": {
        "colab": {
          "base_uri": "https://localhost:8080/",
          "height": 896
        },
        "id": "yJPt5YItBwEb",
        "outputId": "13a7679b-82f6-4d97-f06b-530b79c0ac6f"
      },
      "source": [
        "data_eficacia = {'UF': arr_estados, 'eficacia_da_lei': arr_result}\n",
        "df_eficacia_lei = pd.DataFrame(data=data_eficacia)\n",
        "df_eficacia_lei\n"
      ],
      "execution_count": 79,
      "outputs": [
        {
          "output_type": "execute_result",
          "data": {
            "text/html": [
              "<div>\n",
              "<style scoped>\n",
              "    .dataframe tbody tr th:only-of-type {\n",
              "        vertical-align: middle;\n",
              "    }\n",
              "\n",
              "    .dataframe tbody tr th {\n",
              "        vertical-align: top;\n",
              "    }\n",
              "\n",
              "    .dataframe thead th {\n",
              "        text-align: right;\n",
              "    }\n",
              "</style>\n",
              "<table border=\"1\" class=\"dataframe\">\n",
              "  <thead>\n",
              "    <tr style=\"text-align: right;\">\n",
              "      <th></th>\n",
              "      <th>UF</th>\n",
              "      <th>eficacia_da_lei</th>\n",
              "    </tr>\n",
              "  </thead>\n",
              "  <tbody>\n",
              "    <tr>\n",
              "      <th>0</th>\n",
              "      <td>Acre</td>\n",
              "      <td>0</td>\n",
              "    </tr>\n",
              "    <tr>\n",
              "      <th>1</th>\n",
              "      <td>Alagoas</td>\n",
              "      <td>1</td>\n",
              "    </tr>\n",
              "    <tr>\n",
              "      <th>2</th>\n",
              "      <td>Amapá</td>\n",
              "      <td>1</td>\n",
              "    </tr>\n",
              "    <tr>\n",
              "      <th>3</th>\n",
              "      <td>Amazonas</td>\n",
              "      <td>1</td>\n",
              "    </tr>\n",
              "    <tr>\n",
              "      <th>4</th>\n",
              "      <td>Bahia</td>\n",
              "      <td>1</td>\n",
              "    </tr>\n",
              "    <tr>\n",
              "      <th>5</th>\n",
              "      <td>Ceará</td>\n",
              "      <td>1</td>\n",
              "    </tr>\n",
              "    <tr>\n",
              "      <th>6</th>\n",
              "      <td>Distrito Federal</td>\n",
              "      <td>1</td>\n",
              "    </tr>\n",
              "    <tr>\n",
              "      <th>7</th>\n",
              "      <td>Espírito Santo</td>\n",
              "      <td>1</td>\n",
              "    </tr>\n",
              "    <tr>\n",
              "      <th>8</th>\n",
              "      <td>Goiás</td>\n",
              "      <td>1</td>\n",
              "    </tr>\n",
              "    <tr>\n",
              "      <th>9</th>\n",
              "      <td>Maranhão</td>\n",
              "      <td>1</td>\n",
              "    </tr>\n",
              "    <tr>\n",
              "      <th>10</th>\n",
              "      <td>Mato Grosso</td>\n",
              "      <td>1</td>\n",
              "    </tr>\n",
              "    <tr>\n",
              "      <th>11</th>\n",
              "      <td>Mato Grosso do Sul</td>\n",
              "      <td>1</td>\n",
              "    </tr>\n",
              "    <tr>\n",
              "      <th>12</th>\n",
              "      <td>Minas Gerais</td>\n",
              "      <td>1</td>\n",
              "    </tr>\n",
              "    <tr>\n",
              "      <th>13</th>\n",
              "      <td>Pará</td>\n",
              "      <td>1</td>\n",
              "    </tr>\n",
              "    <tr>\n",
              "      <th>14</th>\n",
              "      <td>Paraíba</td>\n",
              "      <td>1</td>\n",
              "    </tr>\n",
              "    <tr>\n",
              "      <th>15</th>\n",
              "      <td>Paraná</td>\n",
              "      <td>1</td>\n",
              "    </tr>\n",
              "    <tr>\n",
              "      <th>16</th>\n",
              "      <td>Pernambuco</td>\n",
              "      <td>1</td>\n",
              "    </tr>\n",
              "    <tr>\n",
              "      <th>17</th>\n",
              "      <td>Piauí</td>\n",
              "      <td>1</td>\n",
              "    </tr>\n",
              "    <tr>\n",
              "      <th>18</th>\n",
              "      <td>Rio de Janeiro</td>\n",
              "      <td>1</td>\n",
              "    </tr>\n",
              "    <tr>\n",
              "      <th>19</th>\n",
              "      <td>Rio Grande do Norte</td>\n",
              "      <td>0</td>\n",
              "    </tr>\n",
              "    <tr>\n",
              "      <th>20</th>\n",
              "      <td>Rio Grande do Sul</td>\n",
              "      <td>1</td>\n",
              "    </tr>\n",
              "    <tr>\n",
              "      <th>21</th>\n",
              "      <td>Rondônia</td>\n",
              "      <td>1</td>\n",
              "    </tr>\n",
              "    <tr>\n",
              "      <th>22</th>\n",
              "      <td>Roraima</td>\n",
              "      <td>1</td>\n",
              "    </tr>\n",
              "    <tr>\n",
              "      <th>23</th>\n",
              "      <td>Santa Catarina</td>\n",
              "      <td>1</td>\n",
              "    </tr>\n",
              "    <tr>\n",
              "      <th>24</th>\n",
              "      <td>São Paulo</td>\n",
              "      <td>1</td>\n",
              "    </tr>\n",
              "    <tr>\n",
              "      <th>25</th>\n",
              "      <td>Sergipe</td>\n",
              "      <td>1</td>\n",
              "    </tr>\n",
              "    <tr>\n",
              "      <th>26</th>\n",
              "      <td>Tocantins</td>\n",
              "      <td>0</td>\n",
              "    </tr>\n",
              "  </tbody>\n",
              "</table>\n",
              "</div>"
            ],
            "text/plain": [
              "                     UF  eficacia_da_lei\n",
              "0                  Acre                0\n",
              "1               Alagoas                1\n",
              "2                 Amapá                1\n",
              "3              Amazonas                1\n",
              "4                 Bahia                1\n",
              "5                 Ceará                1\n",
              "6      Distrito Federal                1\n",
              "7        Espírito Santo                1\n",
              "8                 Goiás                1\n",
              "9              Maranhão                1\n",
              "10          Mato Grosso                1\n",
              "11   Mato Grosso do Sul                1\n",
              "12         Minas Gerais                1\n",
              "13                 Pará                1\n",
              "14              Paraíba                1\n",
              "15               Paraná                1\n",
              "16           Pernambuco                1\n",
              "17                Piauí                1\n",
              "18       Rio de Janeiro                1\n",
              "19  Rio Grande do Norte                0\n",
              "20    Rio Grande do Sul                1\n",
              "21             Rondônia                1\n",
              "22              Roraima                1\n",
              "23       Santa Catarina                1\n",
              "24            São Paulo                1\n",
              "25              Sergipe                1\n",
              "26            Tocantins                0"
            ]
          },
          "metadata": {},
          "execution_count": 79
        }
      ]
    },
    {
      "cell_type": "code",
      "metadata": {
        "id": "4MPTxap5Hy-p"
      },
      "source": [
        "from google.cloud import storage\n",
        "import os\n",
        "serviceAccount = '/content/soulcode-projeto-final-4b88bea6e07a.json'\n",
        "os.environ['GOOGLE_APPLICATION_CREDENTIALS'] = serviceAccount\n",
        "\n",
        "\n",
        "client = storage.Client()\n",
        "bucket = client.get_bucket('data_lake_ingest_data')\n",
        "    \n",
        "bucket.blob('2_temp/temp_df_eficacia_lei').upload_from_string(df_eficacia_lei.to_csv(), 'text/csv')"
      ],
      "execution_count": 80,
      "outputs": []
    }
  ]
}